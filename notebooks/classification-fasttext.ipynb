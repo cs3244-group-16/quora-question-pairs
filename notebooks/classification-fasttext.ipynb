{
 "cells": [
  {
   "cell_type": "code",
   "execution_count": 1,
   "id": "108563b4-a890-4ea2-bc8c-dac2cb540950",
   "metadata": {},
   "outputs": [],
   "source": [
    "from os.path import join\n",
    "\n",
    "import pandas as pd\n",
    "import numpy as np\n",
    "import matplotlib.pyplot as plt\n",
    "from tqdm.notebook import tqdm\n",
    "\n",
    "from nltk.tokenize import word_tokenize\n",
    "from fasttext import load_model \n",
    "from sklearn.model_selection import train_test_split\n",
    "from sklearn.metrics import classification_report, accuracy_score\n",
    "\n",
    "import torch\n",
    "import torch.nn as nn\n",
    "import torch.nn.functional as F\n",
    "import torch.optim as optim\n",
    "from torch.utils.data import Dataset, DataLoader, ConcatDataset\n",
    "\n",
    "device = 'cuda' if torch.cuda.is_available() else 'cpu'\n",
    "\n",
    "import warnings\n",
    "warnings.simplefilter(action='ignore', category=FutureWarning)"
   ]
  },
  {
   "cell_type": "code",
   "execution_count": 2,
   "id": "83b8138a-2f8d-4f4f-963e-0b28dc2d1bb8",
   "metadata": {},
   "outputs": [],
   "source": [
    "np.random.seed(42)"
   ]
  },
  {
   "cell_type": "markdown",
   "id": "7ffec287-0798-4596-b287-8e91c507ae62",
   "metadata": {},
   "source": [
    "# Prepare data"
   ]
  },
  {
   "cell_type": "code",
   "execution_count": 3,
   "id": "b3109179-16a8-4d4b-b36f-9abf969304ae",
   "metadata": {},
   "outputs": [],
   "source": [
    "DATA_DIR = join('..', 'data', 'raw')\n",
    "MODEL_DIR = join('..', 'models')"
   ]
  },
  {
   "cell_type": "code",
   "execution_count": 4,
   "id": "bd0093b9-e405-4999-a9a9-333a49979e30",
   "metadata": {},
   "outputs": [],
   "source": [
    "fasttext_model = load_model(join(MODEL_DIR, 'pretrained', 'cc.en.300.bin'))"
   ]
  },
  {
   "cell_type": "code",
   "execution_count": 5,
   "id": "20dc4c3f-2cff-438b-9c92-00d5ad983526",
   "metadata": {},
   "outputs": [],
   "source": [
    "train_full_df = pd.read_csv(join(DATA_DIR, 'train.tsv'), sep='\\t')\n",
    "test_df = pd.read_csv(join(DATA_DIR, 'dev.tsv'), sep='\\t')\n",
    "train_df, dev_df = train_test_split(train_full_df, test_size=0.1, random_state=42)"
   ]
  },
  {
   "cell_type": "code",
   "execution_count": 6,
   "id": "e78b805f-b322-4b5a-b58d-24ee63eb2040",
   "metadata": {},
   "outputs": [
    {
     "data": {
      "text/plain": [
       "(300,)"
      ]
     },
     "execution_count": 6,
     "metadata": {},
     "output_type": "execute_result"
    }
   ],
   "source": [
    "fasttext_model.get_word_vector('hi').shape"
   ]
  },
  {
   "cell_type": "code",
   "execution_count": 7,
   "id": "2e20b7d6-a949-497d-bd7e-0c999d1808cb",
   "metadata": {},
   "outputs": [
    {
     "data": {
      "text/plain": [
       "(300,)"
      ]
     },
     "execution_count": 7,
     "metadata": {},
     "output_type": "execute_result"
    }
   ],
   "source": [
    "fasttext_model.get_sentence_vector(\"What's your name?\").shape"
   ]
  },
  {
   "cell_type": "code",
   "execution_count": 8,
   "id": "97f288c2-5bd1-48ca-bfa0-7637d9076cc0",
   "metadata": {},
   "outputs": [],
   "source": [
    "train_df = train_df.fillna(\"\")\n",
    "dev_df = dev_df.fillna(\"\")\n",
    "test_df = test_df.fillna(\"\")"
   ]
  },
  {
   "cell_type": "code",
   "execution_count": 9,
   "id": "121f15cb-f6c4-4fa3-9d35-8957c08e4fed",
   "metadata": {},
   "outputs": [],
   "source": [
    "def get_X_y(df):\n",
    "    X = df[['question1', 'question2']]\n",
    "    X['question1'] = X['question1'].str.replace('\\n', '', regex=True)\n",
    "    X['question2'] = X['question2'].str.replace('\\n', '', regex=True)\n",
    "\n",
    "    X['q1_embeds'] = X['question1'].apply(lambda x: fasttext_model.get_sentence_vector(x.lower().strip()))\n",
    "    X['q2_embeds'] = X['question2'].apply(lambda x: fasttext_model.get_sentence_vector(x.lower().strip()))\n",
    "    X = X[['q1_embeds', 'q2_embeds']]\n",
    "\n",
    "    y = df['is_duplicate']\n",
    "    y = torch.tensor(y.values, dtype=torch.float32)\n",
    "    \n",
    "    return X, y"
   ]
  },
  {
   "cell_type": "code",
   "execution_count": 10,
   "id": "9f135b6c-185f-489c-808f-2ae0ce347cb1",
   "metadata": {},
   "outputs": [
    {
     "name": "stderr",
     "output_type": "stream",
     "text": [
      "/opt/conda/lib/python3.7/site-packages/ipykernel_launcher.py:3: SettingWithCopyWarning: \n",
      "A value is trying to be set on a copy of a slice from a DataFrame.\n",
      "Try using .loc[row_indexer,col_indexer] = value instead\n",
      "\n",
      "See the caveats in the documentation: https://pandas.pydata.org/pandas-docs/stable/user_guide/indexing.html#returning-a-view-versus-a-copy\n",
      "  This is separate from the ipykernel package so we can avoid doing imports until\n",
      "/opt/conda/lib/python3.7/site-packages/ipykernel_launcher.py:4: SettingWithCopyWarning: \n",
      "A value is trying to be set on a copy of a slice from a DataFrame.\n",
      "Try using .loc[row_indexer,col_indexer] = value instead\n",
      "\n",
      "See the caveats in the documentation: https://pandas.pydata.org/pandas-docs/stable/user_guide/indexing.html#returning-a-view-versus-a-copy\n",
      "  after removing the cwd from sys.path.\n",
      "/opt/conda/lib/python3.7/site-packages/ipykernel_launcher.py:6: SettingWithCopyWarning: \n",
      "A value is trying to be set on a copy of a slice from a DataFrame.\n",
      "Try using .loc[row_indexer,col_indexer] = value instead\n",
      "\n",
      "See the caveats in the documentation: https://pandas.pydata.org/pandas-docs/stable/user_guide/indexing.html#returning-a-view-versus-a-copy\n",
      "  \n",
      "/opt/conda/lib/python3.7/site-packages/ipykernel_launcher.py:7: SettingWithCopyWarning: \n",
      "A value is trying to be set on a copy of a slice from a DataFrame.\n",
      "Try using .loc[row_indexer,col_indexer] = value instead\n",
      "\n",
      "See the caveats in the documentation: https://pandas.pydata.org/pandas-docs/stable/user_guide/indexing.html#returning-a-view-versus-a-copy\n",
      "  import sys\n"
     ]
    }
   ],
   "source": [
    "X_train, y_train = get_X_y(train_df)\n",
    "X_val, y_val = get_X_y(dev_df)\n",
    "X_test, y_test = get_X_y(test_df)"
   ]
  },
  {
   "cell_type": "markdown",
   "id": "cd70e8f2-3073-44e2-88e2-f7a4ad366c0b",
   "metadata": {},
   "source": [
    "# FCN with FastText sentence embedding"
   ]
  },
  {
   "cell_type": "code",
   "execution_count": 11,
   "id": "700c5632-3f43-4eca-8769-a9f21d05ef59",
   "metadata": {},
   "outputs": [],
   "source": [
    "class CustomDataset(Dataset):\n",
    "\n",
    "    def __init__(self, question_embeddings, labels):\n",
    "        self.question_embeddings = question_embeddings\n",
    "        self.labels = labels\n",
    "\n",
    "    def __len__(self):\n",
    "        return len(self.question_embeddings)\n",
    "\n",
    "    def __getitem__(self, idx):\n",
    "        q1_embed, q2_embed = self.question_embeddings.iloc[idx]\n",
    "        x = torch.cat((torch.from_numpy(q1_embed), torch.from_numpy(q2_embed)), 0)\n",
    "        return x.to(device), self.labels[idx].to(device)\n",
    "\n",
    "\n",
    "class FCN(nn.Module):\n",
    "\n",
    "    def __init__(self, input_dim, num_layers, hidden_dim, dropout=0):\n",
    "        super(FCN, self).__init__()\n",
    "        \n",
    "        self.fcs = nn.ModuleList(\n",
    "            [nn.Linear(input_dim, hidden_dim)]\n",
    "            + [nn.Sequential(\n",
    "                nn.Linear(hidden_dim, hidden_dim),\n",
    "                nn.ReLU(),\n",
    "                nn.Dropout(p=dropout)\n",
    "              ) \n",
    "              for _ in range(num_layers - 2)]\n",
    "            + [nn.Linear(hidden_dim, 1)]\n",
    "        )\n",
    "        \n",
    "        self.sigmoid = nn.Sigmoid()\n",
    "\n",
    "    def forward(self, x):\n",
    "        for fc in self.fcs[:-1]:\n",
    "            x = fc(x)\n",
    "        x = self.fcs[-1](x)\n",
    "        return self.sigmoid(x)"
   ]
  },
  {
   "cell_type": "code",
   "execution_count": 66,
   "id": "270d41be-8fc0-4a8d-82a6-06d093874ad0",
   "metadata": {},
   "outputs": [],
   "source": [
    "def train(\n",
    "    model, criterion, optimizer, train_loader, val_loader,\n",
    "    num_epochs=10, early_stopping_patience=None, device='cuda'\n",
    "):\n",
    "    \n",
    "    def validate(model):\n",
    "        model.eval()\n",
    "        total_loss, sample_count = 0, 0\n",
    "        with torch.no_grad():\n",
    "            for (questions, labels) in val_loader:\n",
    "                outputs = model(questions)\n",
    "                loss = criterion(outputs.view(-1), labels)\n",
    "                total_loss += loss.item()\n",
    "                sample_count += labels.size(0)\n",
    "        average_loss = total_loss / sample_count\n",
    "        return average_loss\n",
    "    \n",
    "    best_loss = np.inf\n",
    "    consecutive_no_improvement = 0\n",
    "    \n",
    "    model.to(device)\n",
    "    \n",
    "    for epoch in range(num_epochs):\n",
    "        model.train()  \n",
    "        total_loss, sample_counts = 0, 0\n",
    "        for (questions, labels) in tqdm(train_loader, desc=f\"Epoch {epoch+1}/{num_epochs}\"):\n",
    "            questions, labels = questions.to(device), labels.to(device)\n",
    "            optimizer.zero_grad()\n",
    "            outputs = model(questions)\n",
    "            loss = criterion(outputs.view(-1), labels)\n",
    "            total_loss += loss.item()\n",
    "            sample_counts += labels.size(0)\n",
    "            loss.backward()\n",
    "            optimizer.step()\n",
    "            \n",
    "        val_loss = validate(model)\n",
    "        print(f\"Epoch {epoch+1}: train loss = {(total_loss / sample_counts):.4f}; val loss = {val_loss:.4f}\")\n",
    "        \n",
    "        if val_loss < best_loss:\n",
    "            best_loss = val_loss\n",
    "            consecutive_no_improvement = 0\n",
    "        else:\n",
    "            consecutive_no_improvement += 1\n",
    "            \n",
    "        if early_stopping_patience and consecutive_no_improvement >= early_stopping_patience:\n",
    "            print(f\"Early stopping after {epoch + 1} epochs with no improvement.\")\n",
    "            break\n",
    "            \n",
    "    return model\n",
    "\n",
    "\n",
    "def evaluate(model, train_loader, val_loader, print_report=False, device='cuda'):\n",
    "    model.eval()\n",
    "    model.to(device)\n",
    "    def get_predictions_and_labels(loader):\n",
    "        predictions = []\n",
    "        true_labels = []\n",
    "        for questions, labels in loader:\n",
    "            questions, labels = questions.to(device), labels.to(device)\n",
    "            outputs = model(questions)\n",
    "            predicted = (outputs > 0.5).float().view(-1)\n",
    "            predictions.extend(predicted.cpu().numpy())\n",
    "            true_labels.extend(labels.cpu().numpy())\n",
    "        return predictions, true_labels\n",
    "\n",
    "    if print_report:\n",
    "        train_predictions, train_labels = get_predictions_and_labels(train_loader)\n",
    "        print(\"Train Classification Report:\")\n",
    "        print(classification_report(train_labels, train_predictions, zero_division=1))\n",
    "\n",
    "        val_predictions, val_labels = get_predictions_and_labels(val_loader)\n",
    "        print(\"Validation Classification Report:\")\n",
    "        print(classification_report(val_labels, val_predictions, zero_division=1))\n",
    "    else: \n",
    "        val_predictions, val_labels = get_predictions_and_labels(val_loader)\n",
    "    return accuracy_score(val_labels, val_predictions)\n",
    "\n",
    "\n",
    "def train_full(model, criterion, optimizer, full_train_dataloader, num_epochs=10, device='cuda'):\n",
    "    model.to(device)\n",
    "    for epoch in range(num_epochs):\n",
    "        model.train()  \n",
    "        total_loss, sample_counts = 0, 0\n",
    "        for (questions, labels) in tqdm(full_train_dataloader, desc=f\"Epoch {epoch+1}/{num_epochs}\"):\n",
    "            questions, labels = questions.to(device), labels.to(device)\n",
    "            optimizer.zero_grad()\n",
    "            outputs = model(questions)\n",
    "            loss = criterion(outputs.view(-1), labels)\n",
    "            total_loss += loss.item()\n",
    "            sample_counts += labels.size(0)\n",
    "            loss.backward()\n",
    "            optimizer.step()\n",
    "        print(f\"Epoch {epoch+1}: train loss = {(total_loss / sample_counts):.4f}\")\n",
    "    return model\n",
    "\n",
    "\n",
    "def test_eval(model, full_train_dataloader, test_loader, device='cuda'):\n",
    "    model.eval()\n",
    "    model.to(device)\n",
    "    def get_predictions_and_labels(loader):\n",
    "        predictions = []\n",
    "        true_labels = []\n",
    "        for questions, labels in loader:\n",
    "            questions, labels = questions.to(device), labels.to(device)\n",
    "            outputs = model(questions)\n",
    "            predicted = (outputs > 0.5).float().view(-1)\n",
    "            predictions.extend(predicted.cpu().numpy())\n",
    "            true_labels.extend(labels.cpu().numpy())\n",
    "        return predictions, true_labels\n",
    "\n",
    "    full_train_predictions, full_train_labels = get_predictions_and_labels(full_train_dataloader)\n",
    "    print(\"Train Classification Report:\")\n",
    "    print(classification_report(full_train_labels, full_train_predictions, zero_division=1))\n",
    "\n",
    "    test_predictions, test_labels = get_predictions_and_labels(test_loader)\n",
    "    print(\"Test Classification Report:\")\n",
    "    print(classification_report(test_labels, test_predictions, zero_division=1))\n",
    "    print(f\"Train accuracy = {accuracy_score(full_train_labels, full_train_predictions)}\")\n",
    "    print(f\"Test accuracy = {accuracy_score(test_labels, test_predictions)}\")"
   ]
  },
  {
   "cell_type": "code",
   "execution_count": 23,
   "id": "eae4dadd-8e10-46f3-baf1-16b0714ed967",
   "metadata": {},
   "outputs": [],
   "source": [
    "batch_size = 512\n",
    "\n",
    "train_dataset = CustomDataset(X_train, y_train)\n",
    "train_loader = DataLoader(train_dataset, batch_size=batch_size, shuffle=True)\n",
    "\n",
    "val_dataset = CustomDataset(X_val, y_val)\n",
    "val_loader = DataLoader(val_dataset, batch_size=batch_size, shuffle=True)\n",
    "\n",
    "test_dataset = CustomDataset(X_test, y_test)\n",
    "test_loader = DataLoader(test_dataset, batch_size=batch_size, shuffle=True)\n",
    "\n",
    "full_train_dataset = ConcatDataset([train_dataset, val_dataset])\n",
    "full_train_dataloader = DataLoader(full_train_dataset, batch_size=batch_size, shuffle=True)"
   ]
  },
  {
   "cell_type": "code",
   "execution_count": 16,
   "id": "e099a3bb-cca2-4f74-9f7c-ec84aa464e33",
   "metadata": {},
   "outputs": [
    {
     "data": {
      "application/vnd.jupyter.widget-view+json": {
       "model_id": "8b10d9f442e74f5ab625a14d2f51da67",
       "version_major": 2,
       "version_minor": 0
      },
      "text/plain": [
       "Epoch 1/10:   0%|          | 0/640 [00:00<?, ?it/s]"
      ]
     },
     "metadata": {},
     "output_type": "display_data"
    },
    {
     "name": "stdout",
     "output_type": "stream",
     "text": [
      "Epoch 1: train loss = 0.0011; val loss = 0.0010\n"
     ]
    },
    {
     "data": {
      "application/vnd.jupyter.widget-view+json": {
       "model_id": "bda65f2c62d9490a96b60a8b3d86dbe0",
       "version_major": 2,
       "version_minor": 0
      },
      "text/plain": [
       "Epoch 2/10:   0%|          | 0/640 [00:00<?, ?it/s]"
      ]
     },
     "metadata": {},
     "output_type": "display_data"
    },
    {
     "name": "stdout",
     "output_type": "stream",
     "text": [
      "Epoch 2: train loss = 0.0010; val loss = 0.0010\n"
     ]
    },
    {
     "data": {
      "application/vnd.jupyter.widget-view+json": {
       "model_id": "95e0f03405b341d892ba1680546076b7",
       "version_major": 2,
       "version_minor": 0
      },
      "text/plain": [
       "Epoch 3/10:   0%|          | 0/640 [00:00<?, ?it/s]"
      ]
     },
     "metadata": {},
     "output_type": "display_data"
    },
    {
     "name": "stdout",
     "output_type": "stream",
     "text": [
      "Epoch 3: train loss = 0.0010; val loss = 0.0010\n"
     ]
    },
    {
     "data": {
      "application/vnd.jupyter.widget-view+json": {
       "model_id": "99c8ae5e87af4f9b87bdc4db5c10ccf5",
       "version_major": 2,
       "version_minor": 0
      },
      "text/plain": [
       "Epoch 4/10:   0%|          | 0/640 [00:00<?, ?it/s]"
      ]
     },
     "metadata": {},
     "output_type": "display_data"
    },
    {
     "name": "stdout",
     "output_type": "stream",
     "text": [
      "Epoch 4: train loss = 0.0009; val loss = 0.0009\n"
     ]
    },
    {
     "data": {
      "application/vnd.jupyter.widget-view+json": {
       "model_id": "400c0a4827f846bcb3084afbd8425cd9",
       "version_major": 2,
       "version_minor": 0
      },
      "text/plain": [
       "Epoch 5/10:   0%|          | 0/640 [00:00<?, ?it/s]"
      ]
     },
     "metadata": {},
     "output_type": "display_data"
    },
    {
     "name": "stdout",
     "output_type": "stream",
     "text": [
      "Epoch 5: train loss = 0.0009; val loss = 0.0009\n"
     ]
    },
    {
     "data": {
      "application/vnd.jupyter.widget-view+json": {
       "model_id": "4621133bb0f545d2a13c1e84c7618dba",
       "version_major": 2,
       "version_minor": 0
      },
      "text/plain": [
       "Epoch 6/10:   0%|          | 0/640 [00:00<?, ?it/s]"
      ]
     },
     "metadata": {},
     "output_type": "display_data"
    },
    {
     "name": "stdout",
     "output_type": "stream",
     "text": [
      "Epoch 6: train loss = 0.0009; val loss = 0.0009\n"
     ]
    },
    {
     "data": {
      "application/vnd.jupyter.widget-view+json": {
       "model_id": "26b8f7bdda0a45dab2c2e908c98229fa",
       "version_major": 2,
       "version_minor": 0
      },
      "text/plain": [
       "Epoch 7/10:   0%|          | 0/640 [00:00<?, ?it/s]"
      ]
     },
     "metadata": {},
     "output_type": "display_data"
    },
    {
     "name": "stdout",
     "output_type": "stream",
     "text": [
      "Epoch 7: train loss = 0.0008; val loss = 0.0009\n"
     ]
    },
    {
     "data": {
      "application/vnd.jupyter.widget-view+json": {
       "model_id": "95860b3b748d4a97a2fff9ffa8816421",
       "version_major": 2,
       "version_minor": 0
      },
      "text/plain": [
       "Epoch 8/10:   0%|          | 0/640 [00:00<?, ?it/s]"
      ]
     },
     "metadata": {},
     "output_type": "display_data"
    },
    {
     "name": "stdout",
     "output_type": "stream",
     "text": [
      "Epoch 8: train loss = 0.0008; val loss = 0.0009\n"
     ]
    },
    {
     "data": {
      "application/vnd.jupyter.widget-view+json": {
       "model_id": "366e3bd92bec47b09d4b58d0a074d9ed",
       "version_major": 2,
       "version_minor": 0
      },
      "text/plain": [
       "Epoch 9/10:   0%|          | 0/640 [00:00<?, ?it/s]"
      ]
     },
     "metadata": {},
     "output_type": "display_data"
    },
    {
     "name": "stdout",
     "output_type": "stream",
     "text": [
      "Epoch 9: train loss = 0.0008; val loss = 0.0009\n"
     ]
    },
    {
     "data": {
      "application/vnd.jupyter.widget-view+json": {
       "model_id": "142fc8240fa047e98495ccf6183eb516",
       "version_major": 2,
       "version_minor": 0
      },
      "text/plain": [
       "Epoch 10/10:   0%|          | 0/640 [00:00<?, ?it/s]"
      ]
     },
     "metadata": {},
     "output_type": "display_data"
    },
    {
     "name": "stdout",
     "output_type": "stream",
     "text": [
      "Epoch 10: train loss = 0.0008; val loss = 0.0009\n"
     ]
    }
   ],
   "source": [
    "model = FCN(input_dim=600, num_layers=4, hidden_dim=300)\n",
    "criterion = nn.BCELoss()\n",
    "optimizer = optim.Adam(model.parameters(), lr=0.001)\n",
    "\n",
    "model = train(\n",
    "    model, criterion, optimizer, train_loader, val_loader, \n",
    "    num_epochs=10, early_stopping_patience=2)"
   ]
  },
  {
   "cell_type": "code",
   "execution_count": 17,
   "id": "96a9d788-3497-459b-bb1e-a72d016ba5d7",
   "metadata": {},
   "outputs": [
    {
     "name": "stdout",
     "output_type": "stream",
     "text": [
      "Train Classification Report:\n",
      "              precision    recall  f1-score   support\n",
      "\n",
      "         0.0       0.83      0.89      0.86    206401\n",
      "         1.0       0.78      0.70      0.74    121060\n",
      "\n",
      "    accuracy                           0.82    327461\n",
      "   macro avg       0.81      0.79      0.80    327461\n",
      "weighted avg       0.81      0.82      0.81    327461\n",
      "\n",
      "Validation Classification Report:\n",
      "              precision    recall  f1-score   support\n",
      "\n",
      "         0.0       0.81      0.87      0.84     23067\n",
      "         1.0       0.74      0.66      0.69     13318\n",
      "\n",
      "    accuracy                           0.79     36385\n",
      "   macro avg       0.78      0.76      0.77     36385\n",
      "weighted avg       0.79      0.79      0.79     36385\n",
      "\n"
     ]
    },
    {
     "data": {
      "text/plain": [
       "0.7892538133846365"
      ]
     },
     "execution_count": 17,
     "metadata": {},
     "output_type": "execute_result"
    }
   ],
   "source": [
    "evaluate(model, train_loader, val_loader, print_report=True)"
   ]
  },
  {
   "cell_type": "code",
   "execution_count": 18,
   "id": "bd879e9d-3da8-42ff-b0ee-90be90deeefa",
   "metadata": {},
   "outputs": [
    {
     "name": "stdout",
     "output_type": "stream",
     "text": [
      "{'num_layers': 2, 'hidden_dim': 100, 'dropout': 0, 'lr': 0.001}\n"
     ]
    },
    {
     "data": {
      "application/vnd.jupyter.widget-view+json": {
       "model_id": "fb51af0d1b5d43d1bb1d16dfc257a2e1",
       "version_major": 2,
       "version_minor": 0
      },
      "text/plain": [
       "Epoch 1/10:   0%|          | 0/640 [00:00<?, ?it/s]"
      ]
     },
     "metadata": {},
     "output_type": "display_data"
    },
    {
     "name": "stdout",
     "output_type": "stream",
     "text": [
      "Epoch 1: train loss = 0.0012; val loss = 0.0011\n"
     ]
    },
    {
     "data": {
      "application/vnd.jupyter.widget-view+json": {
       "model_id": "b68809f717b943df93f7d6d78b013062",
       "version_major": 2,
       "version_minor": 0
      },
      "text/plain": [
       "Epoch 2/10:   0%|          | 0/640 [00:00<?, ?it/s]"
      ]
     },
     "metadata": {},
     "output_type": "display_data"
    },
    {
     "name": "stdout",
     "output_type": "stream",
     "text": [
      "Epoch 2: train loss = 0.0011; val loss = 0.0011\n"
     ]
    },
    {
     "data": {
      "application/vnd.jupyter.widget-view+json": {
       "model_id": "b0dcac617cca4c99983b22ffbb57d2a5",
       "version_major": 2,
       "version_minor": 0
      },
      "text/plain": [
       "Epoch 3/10:   0%|          | 0/640 [00:00<?, ?it/s]"
      ]
     },
     "metadata": {},
     "output_type": "display_data"
    },
    {
     "name": "stdout",
     "output_type": "stream",
     "text": [
      "Epoch 3: train loss = 0.0011; val loss = 0.0011\n"
     ]
    },
    {
     "data": {
      "application/vnd.jupyter.widget-view+json": {
       "model_id": "9f24785dec8540daa4589d4e123eb29b",
       "version_major": 2,
       "version_minor": 0
      },
      "text/plain": [
       "Epoch 4/10:   0%|          | 0/640 [00:00<?, ?it/s]"
      ]
     },
     "metadata": {},
     "output_type": "display_data"
    },
    {
     "name": "stdout",
     "output_type": "stream",
     "text": [
      "Epoch 4: train loss = 0.0011; val loss = 0.0011\n"
     ]
    },
    {
     "data": {
      "application/vnd.jupyter.widget-view+json": {
       "model_id": "b262d959ff1a4774ba5e22aeb7924210",
       "version_major": 2,
       "version_minor": 0
      },
      "text/plain": [
       "Epoch 5/10:   0%|          | 0/640 [00:00<?, ?it/s]"
      ]
     },
     "metadata": {},
     "output_type": "display_data"
    },
    {
     "name": "stdout",
     "output_type": "stream",
     "text": [
      "Epoch 5: train loss = 0.0011; val loss = 0.0011\n"
     ]
    },
    {
     "data": {
      "application/vnd.jupyter.widget-view+json": {
       "model_id": "5f0f3057a49e4317b4b713c82984dbd7",
       "version_major": 2,
       "version_minor": 0
      },
      "text/plain": [
       "Epoch 6/10:   0%|          | 0/640 [00:00<?, ?it/s]"
      ]
     },
     "metadata": {},
     "output_type": "display_data"
    },
    {
     "name": "stdout",
     "output_type": "stream",
     "text": [
      "Epoch 6: train loss = 0.0011; val loss = 0.0011\n"
     ]
    },
    {
     "data": {
      "application/vnd.jupyter.widget-view+json": {
       "model_id": "c730bc96cdb24743be555a2d4aa71075",
       "version_major": 2,
       "version_minor": 0
      },
      "text/plain": [
       "Epoch 7/10:   0%|          | 0/640 [00:00<?, ?it/s]"
      ]
     },
     "metadata": {},
     "output_type": "display_data"
    },
    {
     "name": "stdout",
     "output_type": "stream",
     "text": [
      "Epoch 7: train loss = 0.0011; val loss = 0.0012\n"
     ]
    },
    {
     "data": {
      "application/vnd.jupyter.widget-view+json": {
       "model_id": "4c8ade2a444f4e5ba2d1b20a49e51776",
       "version_major": 2,
       "version_minor": 0
      },
      "text/plain": [
       "Epoch 8/10:   0%|          | 0/640 [00:00<?, ?it/s]"
      ]
     },
     "metadata": {},
     "output_type": "display_data"
    },
    {
     "name": "stdout",
     "output_type": "stream",
     "text": [
      "Epoch 8: train loss = 0.0011; val loss = 0.0011\n",
      "Early stopping after 8 epochs with no improvement.\n",
      "{'num_layers': 2, 'hidden_dim': 100, 'dropout': 0.5, 'lr': 0.001}\n"
     ]
    },
    {
     "data": {
      "application/vnd.jupyter.widget-view+json": {
       "model_id": "b2c9aa08dd894d11bc0dc8039d467355",
       "version_major": 2,
       "version_minor": 0
      },
      "text/plain": [
       "Epoch 1/10:   0%|          | 0/640 [00:00<?, ?it/s]"
      ]
     },
     "metadata": {},
     "output_type": "display_data"
    },
    {
     "name": "stdout",
     "output_type": "stream",
     "text": [
      "Epoch 1: train loss = 0.0012; val loss = 0.0012\n"
     ]
    },
    {
     "data": {
      "application/vnd.jupyter.widget-view+json": {
       "model_id": "f93d1074061a4a71a8c747342b00e1ab",
       "version_major": 2,
       "version_minor": 0
      },
      "text/plain": [
       "Epoch 2/10:   0%|          | 0/640 [00:00<?, ?it/s]"
      ]
     },
     "metadata": {},
     "output_type": "display_data"
    },
    {
     "name": "stdout",
     "output_type": "stream",
     "text": [
      "Epoch 2: train loss = 0.0011; val loss = 0.0011\n"
     ]
    },
    {
     "data": {
      "application/vnd.jupyter.widget-view+json": {
       "model_id": "308f361259274a40877c1179683cf45e",
       "version_major": 2,
       "version_minor": 0
      },
      "text/plain": [
       "Epoch 3/10:   0%|          | 0/640 [00:00<?, ?it/s]"
      ]
     },
     "metadata": {},
     "output_type": "display_data"
    },
    {
     "name": "stdout",
     "output_type": "stream",
     "text": [
      "Epoch 3: train loss = 0.0011; val loss = 0.0011\n"
     ]
    },
    {
     "data": {
      "application/vnd.jupyter.widget-view+json": {
       "model_id": "381fc895055f4365884c9a022f84f93c",
       "version_major": 2,
       "version_minor": 0
      },
      "text/plain": [
       "Epoch 4/10:   0%|          | 0/640 [00:00<?, ?it/s]"
      ]
     },
     "metadata": {},
     "output_type": "display_data"
    },
    {
     "name": "stdout",
     "output_type": "stream",
     "text": [
      "Epoch 4: train loss = 0.0011; val loss = 0.0011\n"
     ]
    },
    {
     "data": {
      "application/vnd.jupyter.widget-view+json": {
       "model_id": "8f43f5f8bef14d87b021740c3a5c264e",
       "version_major": 2,
       "version_minor": 0
      },
      "text/plain": [
       "Epoch 5/10:   0%|          | 0/640 [00:00<?, ?it/s]"
      ]
     },
     "metadata": {},
     "output_type": "display_data"
    },
    {
     "name": "stdout",
     "output_type": "stream",
     "text": [
      "Epoch 5: train loss = 0.0011; val loss = 0.0011\n",
      "Early stopping after 5 epochs with no improvement.\n",
      "{'num_layers': 4, 'hidden_dim': 300, 'dropout': 0.5, 'lr': 0.001}\n"
     ]
    },
    {
     "data": {
      "application/vnd.jupyter.widget-view+json": {
       "model_id": "b1d18df2ea2e4fccad76f847565aeb6d",
       "version_major": 2,
       "version_minor": 0
      },
      "text/plain": [
       "Epoch 1/10:   0%|          | 0/640 [00:00<?, ?it/s]"
      ]
     },
     "metadata": {},
     "output_type": "display_data"
    },
    {
     "name": "stdout",
     "output_type": "stream",
     "text": [
      "Epoch 1: train loss = 0.0011; val loss = 0.0011\n"
     ]
    },
    {
     "data": {
      "application/vnd.jupyter.widget-view+json": {
       "model_id": "0809032ed967446c967e580511e8d68b",
       "version_major": 2,
       "version_minor": 0
      },
      "text/plain": [
       "Epoch 2/10:   0%|          | 0/640 [00:00<?, ?it/s]"
      ]
     },
     "metadata": {},
     "output_type": "display_data"
    },
    {
     "name": "stdout",
     "output_type": "stream",
     "text": [
      "Epoch 2: train loss = 0.0010; val loss = 0.0010\n"
     ]
    },
    {
     "data": {
      "application/vnd.jupyter.widget-view+json": {
       "model_id": "f3d4ac68555442919549add6205508db",
       "version_major": 2,
       "version_minor": 0
      },
      "text/plain": [
       "Epoch 3/10:   0%|          | 0/640 [00:00<?, ?it/s]"
      ]
     },
     "metadata": {},
     "output_type": "display_data"
    },
    {
     "name": "stdout",
     "output_type": "stream",
     "text": [
      "Epoch 3: train loss = 0.0010; val loss = 0.0010\n"
     ]
    },
    {
     "data": {
      "application/vnd.jupyter.widget-view+json": {
       "model_id": "67ca41025b834cf8abfd2ce0a43b0375",
       "version_major": 2,
       "version_minor": 0
      },
      "text/plain": [
       "Epoch 4/10:   0%|          | 0/640 [00:00<?, ?it/s]"
      ]
     },
     "metadata": {},
     "output_type": "display_data"
    },
    {
     "name": "stdout",
     "output_type": "stream",
     "text": [
      "Epoch 4: train loss = 0.0010; val loss = 0.0010\n"
     ]
    },
    {
     "data": {
      "application/vnd.jupyter.widget-view+json": {
       "model_id": "ec88595d6d614870adc8d7067e468954",
       "version_major": 2,
       "version_minor": 0
      },
      "text/plain": [
       "Epoch 5/10:   0%|          | 0/640 [00:00<?, ?it/s]"
      ]
     },
     "metadata": {},
     "output_type": "display_data"
    },
    {
     "name": "stdout",
     "output_type": "stream",
     "text": [
      "Epoch 5: train loss = 0.0009; val loss = 0.0009\n"
     ]
    },
    {
     "data": {
      "application/vnd.jupyter.widget-view+json": {
       "model_id": "3e80063f32734075ae43d5c379af8e75",
       "version_major": 2,
       "version_minor": 0
      },
      "text/plain": [
       "Epoch 6/10:   0%|          | 0/640 [00:00<?, ?it/s]"
      ]
     },
     "metadata": {},
     "output_type": "display_data"
    },
    {
     "name": "stdout",
     "output_type": "stream",
     "text": [
      "Epoch 6: train loss = 0.0009; val loss = 0.0009\n"
     ]
    },
    {
     "data": {
      "application/vnd.jupyter.widget-view+json": {
       "model_id": "e47a5f3d246944da891ae1f4b8766f71",
       "version_major": 2,
       "version_minor": 0
      },
      "text/plain": [
       "Epoch 7/10:   0%|          | 0/640 [00:00<?, ?it/s]"
      ]
     },
     "metadata": {},
     "output_type": "display_data"
    },
    {
     "name": "stdout",
     "output_type": "stream",
     "text": [
      "Epoch 7: train loss = 0.0009; val loss = 0.0009\n"
     ]
    },
    {
     "data": {
      "application/vnd.jupyter.widget-view+json": {
       "model_id": "68d7a414e67c437d8164c0470425b259",
       "version_major": 2,
       "version_minor": 0
      },
      "text/plain": [
       "Epoch 8/10:   0%|          | 0/640 [00:00<?, ?it/s]"
      ]
     },
     "metadata": {},
     "output_type": "display_data"
    },
    {
     "name": "stdout",
     "output_type": "stream",
     "text": [
      "Epoch 8: train loss = 0.0009; val loss = 0.0009\n"
     ]
    },
    {
     "data": {
      "application/vnd.jupyter.widget-view+json": {
       "model_id": "10c3a0638855491ca3523ced9f0bd736",
       "version_major": 2,
       "version_minor": 0
      },
      "text/plain": [
       "Epoch 9/10:   0%|          | 0/640 [00:00<?, ?it/s]"
      ]
     },
     "metadata": {},
     "output_type": "display_data"
    },
    {
     "name": "stdout",
     "output_type": "stream",
     "text": [
      "Epoch 9: train loss = 0.0009; val loss = 0.0009\n"
     ]
    },
    {
     "data": {
      "application/vnd.jupyter.widget-view+json": {
       "model_id": "0d7ec33295dd4daa86c96321afdacea4",
       "version_major": 2,
       "version_minor": 0
      },
      "text/plain": [
       "Epoch 10/10:   0%|          | 0/640 [00:00<?, ?it/s]"
      ]
     },
     "metadata": {},
     "output_type": "display_data"
    },
    {
     "name": "stdout",
     "output_type": "stream",
     "text": [
      "Epoch 10: train loss = 0.0009; val loss = 0.0009\n"
     ]
    }
   ],
   "source": [
    "# hyper-param tuning\n",
    "\n",
    "hyperparams_set = [\n",
    "    {'num_layers':2, 'hidden_dim':100, 'dropout':0, 'lr':0.001},\n",
    "    {'num_layers':2, 'hidden_dim':100, 'dropout':0.5, 'lr':0.001},\n",
    "    {'num_layers':4, 'hidden_dim':300, 'dropout':0.5, 'lr':0.001},\n",
    "]\n",
    "\n",
    "best_val_acc, best_config = 0, None\n",
    "\n",
    "for config in hyperparams_set:\n",
    "    print(config)\n",
    "    \n",
    "    model = FCN(\n",
    "        input_dim=600, num_layers=config['num_layers'], \n",
    "        hidden_dim=config['hidden_dim'], dropout=config['dropout']\n",
    "    )\n",
    "    criterion = nn.BCELoss()\n",
    "    optimizer = torch.optim.Adam(model.parameters(), lr=config['lr'])\n",
    "    \n",
    "    model = train(model, criterion, optimizer, train_loader, val_loader, \n",
    "                  num_epochs=10, early_stopping_patience=2)    \n",
    "    \n",
    "    val_acc = evaluate(model, print_report=False)\n",
    "    if val_acc > best_val_acc:\n",
    "        best_val_acc = val_acc\n",
    "        best_config = config"
   ]
  },
  {
   "cell_type": "code",
   "execution_count": 19,
   "id": "0b4bf3ad-379b-487b-89f8-2f56ef921585",
   "metadata": {},
   "outputs": [
    {
     "name": "stdout",
     "output_type": "stream",
     "text": [
      "{'num_layers': 4, 'hidden_dim': 300, 'dropout': 0.5, 'lr': 0.001} 0.7849938161330219\n"
     ]
    }
   ],
   "source": [
    "print(best_config, best_val_acc)"
   ]
  },
  {
   "cell_type": "code",
   "execution_count": 16,
   "id": "ff0516c2-ff2a-4cad-a7ac-e6882e2f019d",
   "metadata": {},
   "outputs": [
    {
     "name": "stdout",
     "output_type": "stream",
     "text": [
      "{'num_layers': 4, 'hidden_dim': 300, 'dropout': 0.5, 'lr': 0.1}\n"
     ]
    },
    {
     "data": {
      "application/vnd.jupyter.widget-view+json": {
       "model_id": "056c46f69a594997b7c916a54ecd0eb9",
       "version_major": 2,
       "version_minor": 0
      },
      "text/plain": [
       "Epoch 1/10:   0%|          | 0/640 [00:00<?, ?it/s]"
      ]
     },
     "metadata": {},
     "output_type": "display_data"
    },
    {
     "name": "stdout",
     "output_type": "stream",
     "text": [
      "Epoch 1: train loss = 0.0721; val loss = 0.0726\n"
     ]
    },
    {
     "data": {
      "application/vnd.jupyter.widget-view+json": {
       "model_id": "4add3ead2ea146018d2c3484a4400600",
       "version_major": 2,
       "version_minor": 0
      },
      "text/plain": [
       "Epoch 2/10:   0%|          | 0/640 [00:00<?, ?it/s]"
      ]
     },
     "metadata": {},
     "output_type": "display_data"
    },
    {
     "name": "stdout",
     "output_type": "stream",
     "text": [
      "Epoch 2: train loss = 0.0723; val loss = 0.0723\n"
     ]
    },
    {
     "data": {
      "application/vnd.jupyter.widget-view+json": {
       "model_id": "04d505c87eda40719afd24ca3ddfbeef",
       "version_major": 2,
       "version_minor": 0
      },
      "text/plain": [
       "Epoch 3/10:   0%|          | 0/640 [00:00<?, ?it/s]"
      ]
     },
     "metadata": {},
     "output_type": "display_data"
    },
    {
     "name": "stdout",
     "output_type": "stream",
     "text": [
      "Epoch 3: train loss = 0.0722; val loss = 0.0722\n"
     ]
    },
    {
     "data": {
      "application/vnd.jupyter.widget-view+json": {
       "model_id": "f632220b102f44ceae88983f2ef5ba81",
       "version_major": 2,
       "version_minor": 0
      },
      "text/plain": [
       "Epoch 4/10:   0%|          | 0/640 [00:00<?, ?it/s]"
      ]
     },
     "metadata": {},
     "output_type": "display_data"
    },
    {
     "name": "stdout",
     "output_type": "stream",
     "text": [
      "Epoch 4: train loss = 0.0723; val loss = 0.0724\n"
     ]
    },
    {
     "data": {
      "application/vnd.jupyter.widget-view+json": {
       "model_id": "14a8096bfe27434ba3768718b62c725f",
       "version_major": 2,
       "version_minor": 0
      },
      "text/plain": [
       "Epoch 5/10:   0%|          | 0/640 [00:00<?, ?it/s]"
      ]
     },
     "metadata": {},
     "output_type": "display_data"
    },
    {
     "name": "stdout",
     "output_type": "stream",
     "text": [
      "Epoch 5: train loss = 0.0722; val loss = 0.0720\n"
     ]
    },
    {
     "data": {
      "application/vnd.jupyter.widget-view+json": {
       "model_id": "718dd5b4d0a243b2b144edac4a1c360a",
       "version_major": 2,
       "version_minor": 0
      },
      "text/plain": [
       "Epoch 6/10:   0%|          | 0/640 [00:00<?, ?it/s]"
      ]
     },
     "metadata": {},
     "output_type": "display_data"
    },
    {
     "name": "stdout",
     "output_type": "stream",
     "text": [
      "Epoch 6: train loss = 0.0722; val loss = 0.0724\n"
     ]
    },
    {
     "data": {
      "application/vnd.jupyter.widget-view+json": {
       "model_id": "75dc9d87e6c54563be648a8b9ba51a92",
       "version_major": 2,
       "version_minor": 0
      },
      "text/plain": [
       "Epoch 7/10:   0%|          | 0/640 [00:00<?, ?it/s]"
      ]
     },
     "metadata": {},
     "output_type": "display_data"
    },
    {
     "name": "stdout",
     "output_type": "stream",
     "text": [
      "Epoch 7: train loss = 0.0723; val loss = 0.0722\n",
      "Early stopping after 7 epochs with no improvement.\n",
      "{'num_layers': 4, 'hidden_dim': 300, 'dropout': 0.5, 'lr': 0.01}\n"
     ]
    },
    {
     "data": {
      "application/vnd.jupyter.widget-view+json": {
       "model_id": "0822eb73efa64484a6441f78dea78723",
       "version_major": 2,
       "version_minor": 0
      },
      "text/plain": [
       "Epoch 1/10:   0%|          | 0/640 [00:00<?, ?it/s]"
      ]
     },
     "metadata": {},
     "output_type": "display_data"
    },
    {
     "name": "stdout",
     "output_type": "stream",
     "text": [
      "Epoch 1: train loss = 0.0011; val loss = 0.0011\n"
     ]
    },
    {
     "data": {
      "application/vnd.jupyter.widget-view+json": {
       "model_id": "679a05cfb0274299b59ffd1c6cdfc6fb",
       "version_major": 2,
       "version_minor": 0
      },
      "text/plain": [
       "Epoch 2/10:   0%|          | 0/640 [00:00<?, ?it/s]"
      ]
     },
     "metadata": {},
     "output_type": "display_data"
    },
    {
     "name": "stdout",
     "output_type": "stream",
     "text": [
      "Epoch 2: train loss = 0.0011; val loss = 0.0011\n"
     ]
    },
    {
     "data": {
      "application/vnd.jupyter.widget-view+json": {
       "model_id": "647b88b520204998a592612265cdada3",
       "version_major": 2,
       "version_minor": 0
      },
      "text/plain": [
       "Epoch 3/10:   0%|          | 0/640 [00:00<?, ?it/s]"
      ]
     },
     "metadata": {},
     "output_type": "display_data"
    },
    {
     "name": "stdout",
     "output_type": "stream",
     "text": [
      "Epoch 3: train loss = 0.0011; val loss = 0.0011\n"
     ]
    },
    {
     "data": {
      "application/vnd.jupyter.widget-view+json": {
       "model_id": "cb59a9487b6341298a8921f2cc49b5e0",
       "version_major": 2,
       "version_minor": 0
      },
      "text/plain": [
       "Epoch 4/10:   0%|          | 0/640 [00:00<?, ?it/s]"
      ]
     },
     "metadata": {},
     "output_type": "display_data"
    },
    {
     "name": "stdout",
     "output_type": "stream",
     "text": [
      "Epoch 4: train loss = 0.0011; val loss = 0.0011\n"
     ]
    },
    {
     "data": {
      "application/vnd.jupyter.widget-view+json": {
       "model_id": "8eabd5ff5a0a4ebaa34e6a3932bb1b97",
       "version_major": 2,
       "version_minor": 0
      },
      "text/plain": [
       "Epoch 5/10:   0%|          | 0/640 [00:00<?, ?it/s]"
      ]
     },
     "metadata": {},
     "output_type": "display_data"
    },
    {
     "name": "stdout",
     "output_type": "stream",
     "text": [
      "Epoch 5: train loss = 0.0011; val loss = 0.0011\n"
     ]
    },
    {
     "data": {
      "application/vnd.jupyter.widget-view+json": {
       "model_id": "945f5a74d9894a6389e914560fe4e8ad",
       "version_major": 2,
       "version_minor": 0
      },
      "text/plain": [
       "Epoch 6/10:   0%|          | 0/640 [00:00<?, ?it/s]"
      ]
     },
     "metadata": {},
     "output_type": "display_data"
    },
    {
     "name": "stdout",
     "output_type": "stream",
     "text": [
      "Epoch 6: train loss = 0.0011; val loss = 0.0011\n"
     ]
    },
    {
     "data": {
      "application/vnd.jupyter.widget-view+json": {
       "model_id": "7579f1b9a537416792f9045b99daf32b",
       "version_major": 2,
       "version_minor": 0
      },
      "text/plain": [
       "Epoch 7/10:   0%|          | 0/640 [00:00<?, ?it/s]"
      ]
     },
     "metadata": {},
     "output_type": "display_data"
    },
    {
     "name": "stdout",
     "output_type": "stream",
     "text": [
      "Epoch 7: train loss = 0.0011; val loss = 0.0011\n",
      "Early stopping after 7 epochs with no improvement.\n",
      "{'num_layers': 4, 'hidden_dim': 300, 'dropout': 0.5, 'lr': 0.0001}\n"
     ]
    },
    {
     "data": {
      "application/vnd.jupyter.widget-view+json": {
       "model_id": "5fcc13a50a0648488aa96f0be37c9a9e",
       "version_major": 2,
       "version_minor": 0
      },
      "text/plain": [
       "Epoch 1/10:   0%|          | 0/640 [00:00<?, ?it/s]"
      ]
     },
     "metadata": {},
     "output_type": "display_data"
    },
    {
     "name": "stdout",
     "output_type": "stream",
     "text": [
      "Epoch 1: train loss = 0.0012; val loss = 0.0011\n"
     ]
    },
    {
     "data": {
      "application/vnd.jupyter.widget-view+json": {
       "model_id": "a6f3241b09ee45af964d2288072a0277",
       "version_major": 2,
       "version_minor": 0
      },
      "text/plain": [
       "Epoch 2/10:   0%|          | 0/640 [00:00<?, ?it/s]"
      ]
     },
     "metadata": {},
     "output_type": "display_data"
    },
    {
     "name": "stdout",
     "output_type": "stream",
     "text": [
      "Epoch 2: train loss = 0.0011; val loss = 0.0011\n"
     ]
    },
    {
     "data": {
      "application/vnd.jupyter.widget-view+json": {
       "model_id": "7aead5cc855446ef9b7db51711a7d41e",
       "version_major": 2,
       "version_minor": 0
      },
      "text/plain": [
       "Epoch 3/10:   0%|          | 0/640 [00:00<?, ?it/s]"
      ]
     },
     "metadata": {},
     "output_type": "display_data"
    },
    {
     "name": "stdout",
     "output_type": "stream",
     "text": [
      "Epoch 3: train loss = 0.0011; val loss = 0.0011\n"
     ]
    },
    {
     "data": {
      "application/vnd.jupyter.widget-view+json": {
       "model_id": "36ff06225c3446a0bba6217412616f85",
       "version_major": 2,
       "version_minor": 0
      },
      "text/plain": [
       "Epoch 4/10:   0%|          | 0/640 [00:00<?, ?it/s]"
      ]
     },
     "metadata": {},
     "output_type": "display_data"
    },
    {
     "name": "stdout",
     "output_type": "stream",
     "text": [
      "Epoch 4: train loss = 0.0011; val loss = 0.0011\n"
     ]
    },
    {
     "data": {
      "application/vnd.jupyter.widget-view+json": {
       "model_id": "3c5f5246adcc490ca48093c9c9c7c83a",
       "version_major": 2,
       "version_minor": 0
      },
      "text/plain": [
       "Epoch 5/10:   0%|          | 0/640 [00:00<?, ?it/s]"
      ]
     },
     "metadata": {},
     "output_type": "display_data"
    },
    {
     "name": "stdout",
     "output_type": "stream",
     "text": [
      "Epoch 5: train loss = 0.0011; val loss = 0.0011\n"
     ]
    },
    {
     "data": {
      "application/vnd.jupyter.widget-view+json": {
       "model_id": "c357489ff198446c98819effcc06d8d9",
       "version_major": 2,
       "version_minor": 0
      },
      "text/plain": [
       "Epoch 6/10:   0%|          | 0/640 [00:00<?, ?it/s]"
      ]
     },
     "metadata": {},
     "output_type": "display_data"
    },
    {
     "name": "stdout",
     "output_type": "stream",
     "text": [
      "Epoch 6: train loss = 0.0011; val loss = 0.0010\n"
     ]
    },
    {
     "data": {
      "application/vnd.jupyter.widget-view+json": {
       "model_id": "5844d4a403d44f7aa1169f790c671292",
       "version_major": 2,
       "version_minor": 0
      },
      "text/plain": [
       "Epoch 7/10:   0%|          | 0/640 [00:00<?, ?it/s]"
      ]
     },
     "metadata": {},
     "output_type": "display_data"
    },
    {
     "name": "stdout",
     "output_type": "stream",
     "text": [
      "Epoch 7: train loss = 0.0010; val loss = 0.0010\n"
     ]
    },
    {
     "data": {
      "application/vnd.jupyter.widget-view+json": {
       "model_id": "3abd0b9c864b4297ad608824012b933c",
       "version_major": 2,
       "version_minor": 0
      },
      "text/plain": [
       "Epoch 8/10:   0%|          | 0/640 [00:00<?, ?it/s]"
      ]
     },
     "metadata": {},
     "output_type": "display_data"
    },
    {
     "name": "stdout",
     "output_type": "stream",
     "text": [
      "Epoch 8: train loss = 0.0010; val loss = 0.0010\n"
     ]
    },
    {
     "data": {
      "application/vnd.jupyter.widget-view+json": {
       "model_id": "743a9def47454e26a4b5e24ac9457a75",
       "version_major": 2,
       "version_minor": 0
      },
      "text/plain": [
       "Epoch 9/10:   0%|          | 0/640 [00:00<?, ?it/s]"
      ]
     },
     "metadata": {},
     "output_type": "display_data"
    },
    {
     "name": "stdout",
     "output_type": "stream",
     "text": [
      "Epoch 9: train loss = 0.0010; val loss = 0.0010\n"
     ]
    },
    {
     "data": {
      "application/vnd.jupyter.widget-view+json": {
       "model_id": "590d7a78ee084363a28c8bc0eb0819f1",
       "version_major": 2,
       "version_minor": 0
      },
      "text/plain": [
       "Epoch 10/10:   0%|          | 0/640 [00:00<?, ?it/s]"
      ]
     },
     "metadata": {},
     "output_type": "display_data"
    },
    {
     "name": "stdout",
     "output_type": "stream",
     "text": [
      "Epoch 10: train loss = 0.0010; val loss = 0.0010\n"
     ]
    }
   ],
   "source": [
    "hyperparams_set = [\n",
    "    {'num_layers':4, 'hidden_dim':300, 'dropout':0.5, 'lr':0.1},\n",
    "    {'num_layers':4, 'hidden_dim':300, 'dropout':0.5, 'lr':0.01},\n",
    "    {'num_layers':4, 'hidden_dim':300, 'dropout':0.5, 'lr':0.0001},\n",
    "]\n",
    "\n",
    "best_val_acc, best_config = 0, None\n",
    "for config in hyperparams_set:\n",
    "    print(config)\n",
    "    \n",
    "    model = FCN(\n",
    "        input_dim=600, num_layers=config['num_layers'], \n",
    "        hidden_dim=config['hidden_dim'], dropout=config['dropout']\n",
    "    )\n",
    "    criterion = nn.BCELoss()\n",
    "    optimizer = torch.optim.Adam(model.parameters(), lr=config['lr'])\n",
    "    \n",
    "    model = train(model, criterion, optimizer, train_loader, val_loader,\n",
    "                  num_epochs=10, early_stopping_patience=2)    \n",
    "    \n",
    "    val_acc = evaluate(model, train_loader, val_loader, print_report=False)\n",
    "    if val_acc > best_val_acc:\n",
    "        best_val_acc = val_acc\n",
    "        best_config = config"
   ]
  },
  {
   "cell_type": "code",
   "execution_count": 17,
   "id": "d05cf8bb-84c0-42f0-b882-ffbb04f41f38",
   "metadata": {},
   "outputs": [
    {
     "data": {
      "text/plain": [
       "({'num_layers': 4, 'hidden_dim': 300, 'dropout': 0.5, 'lr': 0.0001},\n",
       " 0.74767074343823)"
      ]
     },
     "execution_count": 17,
     "metadata": {},
     "output_type": "execute_result"
    }
   ],
   "source": [
    "best_config, best_val_acc"
   ]
  },
  {
   "cell_type": "code",
   "execution_count": 20,
   "id": "94852bc0-459c-4e57-9a1d-4c1183ca5854",
   "metadata": {},
   "outputs": [
    {
     "data": {
      "application/vnd.jupyter.widget-view+json": {
       "model_id": "90a2fcb3b21443d0b16428775bc38a66",
       "version_major": 2,
       "version_minor": 0
      },
      "text/plain": [
       "Epoch 1/10:   0%|          | 0/711 [00:00<?, ?it/s]"
      ]
     },
     "metadata": {},
     "output_type": "display_data"
    },
    {
     "name": "stdout",
     "output_type": "stream",
     "text": [
      "Epoch 1: train loss = 0.0011\n"
     ]
    },
    {
     "data": {
      "application/vnd.jupyter.widget-view+json": {
       "model_id": "82fc9e9c26894a559c48c5b0a1733d20",
       "version_major": 2,
       "version_minor": 0
      },
      "text/plain": [
       "Epoch 2/10:   0%|          | 0/711 [00:00<?, ?it/s]"
      ]
     },
     "metadata": {},
     "output_type": "display_data"
    },
    {
     "name": "stdout",
     "output_type": "stream",
     "text": [
      "Epoch 2: train loss = 0.0010\n"
     ]
    },
    {
     "data": {
      "application/vnd.jupyter.widget-view+json": {
       "model_id": "32b68fe68a044a00b62c58bb2eef801a",
       "version_major": 2,
       "version_minor": 0
      },
      "text/plain": [
       "Epoch 3/10:   0%|          | 0/711 [00:00<?, ?it/s]"
      ]
     },
     "metadata": {},
     "output_type": "display_data"
    },
    {
     "name": "stdout",
     "output_type": "stream",
     "text": [
      "Epoch 3: train loss = 0.0010\n"
     ]
    },
    {
     "data": {
      "application/vnd.jupyter.widget-view+json": {
       "model_id": "7b4430d72bd14a4698e039f1cea94e67",
       "version_major": 2,
       "version_minor": 0
      },
      "text/plain": [
       "Epoch 4/10:   0%|          | 0/711 [00:00<?, ?it/s]"
      ]
     },
     "metadata": {},
     "output_type": "display_data"
    },
    {
     "name": "stdout",
     "output_type": "stream",
     "text": [
      "Epoch 4: train loss = 0.0010\n"
     ]
    },
    {
     "data": {
      "application/vnd.jupyter.widget-view+json": {
       "model_id": "962cbf83f59243b496688e82dcaa84f3",
       "version_major": 2,
       "version_minor": 0
      },
      "text/plain": [
       "Epoch 5/10:   0%|          | 0/711 [00:00<?, ?it/s]"
      ]
     },
     "metadata": {},
     "output_type": "display_data"
    },
    {
     "name": "stdout",
     "output_type": "stream",
     "text": [
      "Epoch 5: train loss = 0.0009\n"
     ]
    },
    {
     "data": {
      "application/vnd.jupyter.widget-view+json": {
       "model_id": "4e0caf17079d48dd8777d51b09cab277",
       "version_major": 2,
       "version_minor": 0
      },
      "text/plain": [
       "Epoch 6/10:   0%|          | 0/711 [00:00<?, ?it/s]"
      ]
     },
     "metadata": {},
     "output_type": "display_data"
    },
    {
     "name": "stdout",
     "output_type": "stream",
     "text": [
      "Epoch 6: train loss = 0.0009\n"
     ]
    },
    {
     "data": {
      "application/vnd.jupyter.widget-view+json": {
       "model_id": "2da9e3fda1eb4a67854f829a111c0a04",
       "version_major": 2,
       "version_minor": 0
      },
      "text/plain": [
       "Epoch 7/10:   0%|          | 0/711 [00:00<?, ?it/s]"
      ]
     },
     "metadata": {},
     "output_type": "display_data"
    },
    {
     "name": "stdout",
     "output_type": "stream",
     "text": [
      "Epoch 7: train loss = 0.0009\n"
     ]
    },
    {
     "data": {
      "application/vnd.jupyter.widget-view+json": {
       "model_id": "fa18f8f2f7dc42ef8ce44c7e8dae2647",
       "version_major": 2,
       "version_minor": 0
      },
      "text/plain": [
       "Epoch 8/10:   0%|          | 0/711 [00:00<?, ?it/s]"
      ]
     },
     "metadata": {},
     "output_type": "display_data"
    },
    {
     "name": "stdout",
     "output_type": "stream",
     "text": [
      "Epoch 8: train loss = 0.0009\n"
     ]
    },
    {
     "data": {
      "application/vnd.jupyter.widget-view+json": {
       "model_id": "5994293c2a9a45f7b0d91ff052b4d293",
       "version_major": 2,
       "version_minor": 0
      },
      "text/plain": [
       "Epoch 9/10:   0%|          | 0/711 [00:00<?, ?it/s]"
      ]
     },
     "metadata": {},
     "output_type": "display_data"
    },
    {
     "name": "stdout",
     "output_type": "stream",
     "text": [
      "Epoch 9: train loss = 0.0009\n"
     ]
    },
    {
     "data": {
      "application/vnd.jupyter.widget-view+json": {
       "model_id": "0957e05a0f06434881dff7ef2e865c8d",
       "version_major": 2,
       "version_minor": 0
      },
      "text/plain": [
       "Epoch 10/10:   0%|          | 0/711 [00:00<?, ?it/s]"
      ]
     },
     "metadata": {},
     "output_type": "display_data"
    },
    {
     "name": "stdout",
     "output_type": "stream",
     "text": [
      "Epoch 10: train loss = 0.0009\n"
     ]
    }
   ],
   "source": [
    "# retrain and full train + val set, evaluate on test set\n",
    "\n",
    "model = FCN(input_dim=600, num_layers=4, hidden_dim=300, dropout=0.5)\n",
    "criterion = nn.BCELoss()\n",
    "optimizer = torch.optim.Adam(model.parameters(), lr=0.001)\n",
    "\n",
    "model = train_full(model, criterion, optimizer, full_train_dataloader, num_epochs=10)    "
   ]
  },
  {
   "cell_type": "code",
   "execution_count": 24,
   "id": "317d3344-aaac-40e8-ac2f-e6847a1aa5a7",
   "metadata": {},
   "outputs": [
    {
     "name": "stdout",
     "output_type": "stream",
     "text": [
      "Train Classification Report:\n",
      "              precision    recall  f1-score   support\n",
      "\n",
      "         0.0       0.82      0.87      0.84    229468\n",
      "         1.0       0.75      0.68      0.71    134378\n",
      "\n",
      "    accuracy                           0.80    363846\n",
      "   macro avg       0.79      0.77      0.78    363846\n",
      "weighted avg       0.80      0.80      0.80    363846\n",
      "\n",
      "Test Classification Report:\n",
      "              precision    recall  f1-score   support\n",
      "\n",
      "         0.0       0.81      0.85      0.83     25545\n",
      "         1.0       0.72      0.66      0.69     14885\n",
      "\n",
      "    accuracy                           0.78     40430\n",
      "   macro avg       0.76      0.75      0.76     40430\n",
      "weighted avg       0.78      0.78      0.78     40430\n",
      "\n",
      "Train accuracy = 0.797708371124047\n",
      "Test accuracy = 0.7794212218649518\n"
     ]
    }
   ],
   "source": [
    "test_eval(model, full_train_dataloader, test_loader)"
   ]
  },
  {
   "cell_type": "code",
   "execution_count": 25,
   "id": "950c882f-c51d-49fe-b86e-b64af60bd7eb",
   "metadata": {},
   "outputs": [
    {
     "name": "stdout",
     "output_type": "stream",
     "text": [
      "Train Classification Report:\n",
      "              precision    recall  f1-score   support\n",
      "\n",
      "         0.0       0.82      0.86      0.84    206401\n",
      "         1.0       0.75      0.68      0.71    121060\n",
      "\n",
      "    accuracy                           0.80    327461\n",
      "   macro avg       0.79      0.77      0.78    327461\n",
      "weighted avg       0.79      0.80      0.80    327461\n",
      "\n",
      "Validation Classification Report:\n",
      "              precision    recall  f1-score   support\n",
      "\n",
      "         0.0       0.83      0.87      0.85     23067\n",
      "         1.0       0.75      0.69      0.72     13318\n",
      "\n",
      "    accuracy                           0.80     36385\n",
      "   macro avg       0.79      0.78      0.78     36385\n",
      "weighted avg       0.80      0.80      0.80     36385\n",
      "\n"
     ]
    },
    {
     "data": {
      "text/plain": [
       "0.8014291603682836"
      ]
     },
     "execution_count": 25,
     "metadata": {},
     "output_type": "execute_result"
    }
   ],
   "source": [
    "evaluate(model, train_loader, val_loader, print_report=True)"
   ]
  }
 ],
 "metadata": {
  "kernelspec": {
   "display_name": "Python 3",
   "language": "python",
   "name": "python3"
  },
  "language_info": {
   "codemirror_mode": {
    "name": "ipython",
    "version": 3
   },
   "file_extension": ".py",
   "mimetype": "text/x-python",
   "name": "python",
   "nbconvert_exporter": "python",
   "pygments_lexer": "ipython3",
   "version": "3.7.12"
  }
 },
 "nbformat": 4,
 "nbformat_minor": 5
}
