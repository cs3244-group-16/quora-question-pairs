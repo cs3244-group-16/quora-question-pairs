{
 "cells": [
  {
   "cell_type": "markdown",
   "metadata": {
    "id": "rFS1owk0g0MP"
   },
   "source": [
    "# Data Preprocessing & Analysis"
   ]
  },
  {
   "cell_type": "markdown",
   "metadata": {
    "id": "6Z-DcOnFx2mK"
   },
   "source": [
    "### Importing Packages"
   ]
  },
  {
   "cell_type": "code",
   "execution_count": 143,
   "metadata": {
    "id": "toV1B_yKjkga"
   },
   "outputs": [],
   "source": [
    "from os.path import join\n",
    "\n",
    "import pandas as pd\n",
    "import numpy as np\n",
    "import matplotlib.pyplot as plt\n",
    "import seaborn as sns\n",
    "\n",
    "from wordcloud import WordCloud\n",
    "\n",
    "import re\n",
    "import string\n",
    "from nltk.corpus import stopwords\n",
    "\n",
    "import nltk\n",
    "from nltk.tokenize import word_tokenize\n",
    "\n",
    "from sklearn.model_selection import train_test_split\n",
    "\n",
    "from sklearn.feature_extraction.text import TfidfVectorizer\n",
    "from joblib import dump, load\n",
    "\n",
    "from sklearn.metrics import accuracy_score, classification_report\n",
    "\n",
    "from sklearn.linear_model import LogisticRegression\n",
    "from sklearn.model_selection import GridSearchCV\n",
    "from sklearn.neighbors import KNeighborsClassifier"
   ]
  },
  {
   "cell_type": "markdown",
   "metadata": {
    "id": "lT9wtmZsx7i2"
   },
   "source": [
    "### Importing the Dataset"
   ]
  },
  {
   "cell_type": "code",
   "execution_count": 2,
   "metadata": {},
   "outputs": [],
   "source": [
    "DATA_DIR = join('..', 'data', 'glue')"
   ]
  },
  {
   "cell_type": "markdown",
   "metadata": {},
   "source": [
    "#### Train Dataset"
   ]
  },
  {
   "cell_type": "code",
   "execution_count": 3,
   "metadata": {
    "id": "ljR4OS38nF-n"
   },
   "outputs": [
    {
     "data": {
      "text/html": [
       "<div>\n",
       "<style scoped>\n",
       "    .dataframe tbody tr th:only-of-type {\n",
       "        vertical-align: middle;\n",
       "    }\n",
       "\n",
       "    .dataframe tbody tr th {\n",
       "        vertical-align: top;\n",
       "    }\n",
       "\n",
       "    .dataframe thead th {\n",
       "        text-align: right;\n",
       "    }\n",
       "</style>\n",
       "<table border=\"1\" class=\"dataframe\">\n",
       "  <thead>\n",
       "    <tr style=\"text-align: right;\">\n",
       "      <th></th>\n",
       "      <th>id</th>\n",
       "      <th>qid1</th>\n",
       "      <th>qid2</th>\n",
       "      <th>question1</th>\n",
       "      <th>question2</th>\n",
       "      <th>is_duplicate</th>\n",
       "    </tr>\n",
       "  </thead>\n",
       "  <tbody>\n",
       "    <tr>\n",
       "      <th>0</th>\n",
       "      <td>133273</td>\n",
       "      <td>213221</td>\n",
       "      <td>213222</td>\n",
       "      <td>How is the life of a math student? Could you d...</td>\n",
       "      <td>Which level of prepration is enough for the ex...</td>\n",
       "      <td>0</td>\n",
       "    </tr>\n",
       "    <tr>\n",
       "      <th>1</th>\n",
       "      <td>402555</td>\n",
       "      <td>536040</td>\n",
       "      <td>536041</td>\n",
       "      <td>How do I control my horny emotions?</td>\n",
       "      <td>How do you control your horniness?</td>\n",
       "      <td>1</td>\n",
       "    </tr>\n",
       "    <tr>\n",
       "      <th>2</th>\n",
       "      <td>360472</td>\n",
       "      <td>364011</td>\n",
       "      <td>490273</td>\n",
       "      <td>What causes stool color to change to yellow?</td>\n",
       "      <td>What can cause stool to come out as little balls?</td>\n",
       "      <td>0</td>\n",
       "    </tr>\n",
       "    <tr>\n",
       "      <th>3</th>\n",
       "      <td>150662</td>\n",
       "      <td>155721</td>\n",
       "      <td>7256</td>\n",
       "      <td>What can one do after MBBS?</td>\n",
       "      <td>What do i do after my MBBS ?</td>\n",
       "      <td>1</td>\n",
       "    </tr>\n",
       "    <tr>\n",
       "      <th>4</th>\n",
       "      <td>183004</td>\n",
       "      <td>279958</td>\n",
       "      <td>279959</td>\n",
       "      <td>Where can I find a power outlet for my laptop ...</td>\n",
       "      <td>Would a second airport in Sydney, Australia be...</td>\n",
       "      <td>0</td>\n",
       "    </tr>\n",
       "  </tbody>\n",
       "</table>\n",
       "</div>"
      ],
      "text/plain": [
       "       id    qid1    qid2                                          question1  \\\n",
       "0  133273  213221  213222  How is the life of a math student? Could you d...   \n",
       "1  402555  536040  536041                How do I control my horny emotions?   \n",
       "2  360472  364011  490273       What causes stool color to change to yellow?   \n",
       "3  150662  155721    7256                        What can one do after MBBS?   \n",
       "4  183004  279958  279959  Where can I find a power outlet for my laptop ...   \n",
       "\n",
       "                                           question2  is_duplicate  \n",
       "0  Which level of prepration is enough for the ex...             0  \n",
       "1                 How do you control your horniness?             1  \n",
       "2  What can cause stool to come out as little balls?             0  \n",
       "3                       What do i do after my MBBS ?             1  \n",
       "4  Would a second airport in Sydney, Australia be...             0  "
      ]
     },
     "execution_count": 3,
     "metadata": {},
     "output_type": "execute_result"
    }
   ],
   "source": [
    "train_full_df = pd.read_csv(join(DATA_DIR, 'train.tsv'), sep='\\t')\n",
    "train_full_df.head()"
   ]
  },
  {
   "cell_type": "code",
   "execution_count": 4,
   "metadata": {
    "colab": {
     "base_uri": "https://localhost:8080/"
    },
    "id": "NdKfRjuRRgkZ",
    "outputId": "03953f3f-f024-49b3-c147-d2e362621104"
   },
   "outputs": [
    {
     "name": "stdout",
     "output_type": "stream",
     "text": [
      "Initial dataframe has 363846 rows.\n",
      "Dataframe has 0 null rows.\n",
      "Dataframe has 363846 rows after removing null values.\n"
     ]
    }
   ],
   "source": [
    "def remove_nulls(df):\n",
    "    print(f\"Initial dataframe has {len(df)} rows.\")\n",
    "    null_rows = df[df.isnull().values.any(1)]\n",
    "    print(f\"Dataframe has {len(null_rows)} null rows.\")\n",
    "    df = df.dropna(how='any')\n",
    "    print(f\"Dataframe has {len(df)} rows after removing null values.\")\n",
    "    return df\n",
    "\n",
    "train_full_df = remove_nulls(train_full_df)"
   ]
  },
  {
   "cell_type": "code",
   "execution_count": 5,
   "metadata": {},
   "outputs": [
    {
     "data": {
      "text/plain": [
       "(363846, 6)"
      ]
     },
     "execution_count": 5,
     "metadata": {},
     "output_type": "execute_result"
    }
   ],
   "source": [
    "train_full_df.shape"
   ]
  },
  {
   "cell_type": "code",
   "execution_count": 6,
   "metadata": {
    "colab": {
     "base_uri": "https://localhost:8080/"
    },
    "id": "8c49d7JvnNdp",
    "outputId": "889b43eb-260b-4cee-ec65-376500bb6873"
   },
   "outputs": [
    {
     "data": {
      "text/plain": [
       "363846"
      ]
     },
     "execution_count": 6,
     "metadata": {},
     "output_type": "execute_result"
    }
   ],
   "source": [
    "num_samples = len(train_full_df)\n",
    "num_samples"
   ]
  },
  {
   "cell_type": "markdown",
   "metadata": {},
   "source": [
    "#### Test Dataset"
   ]
  },
  {
   "cell_type": "code",
   "execution_count": 7,
   "metadata": {},
   "outputs": [
    {
     "data": {
      "text/html": [
       "<div>\n",
       "<style scoped>\n",
       "    .dataframe tbody tr th:only-of-type {\n",
       "        vertical-align: middle;\n",
       "    }\n",
       "\n",
       "    .dataframe tbody tr th {\n",
       "        vertical-align: top;\n",
       "    }\n",
       "\n",
       "    .dataframe thead th {\n",
       "        text-align: right;\n",
       "    }\n",
       "</style>\n",
       "<table border=\"1\" class=\"dataframe\">\n",
       "  <thead>\n",
       "    <tr style=\"text-align: right;\">\n",
       "      <th></th>\n",
       "      <th>id</th>\n",
       "      <th>qid1</th>\n",
       "      <th>qid2</th>\n",
       "      <th>question1</th>\n",
       "      <th>question2</th>\n",
       "      <th>is_duplicate</th>\n",
       "    </tr>\n",
       "  </thead>\n",
       "  <tbody>\n",
       "    <tr>\n",
       "      <th>0</th>\n",
       "      <td>201359</td>\n",
       "      <td>303345</td>\n",
       "      <td>303346</td>\n",
       "      <td>Why are African-Americans so beautiful?</td>\n",
       "      <td>Why are hispanics so beautiful?</td>\n",
       "      <td>0</td>\n",
       "    </tr>\n",
       "    <tr>\n",
       "      <th>1</th>\n",
       "      <td>263843</td>\n",
       "      <td>69383</td>\n",
       "      <td>380476</td>\n",
       "      <td>I want to pursue PhD in Computer Science about...</td>\n",
       "      <td>I handle social media for a non-profit. Should...</td>\n",
       "      <td>0</td>\n",
       "    </tr>\n",
       "    <tr>\n",
       "      <th>2</th>\n",
       "      <td>172974</td>\n",
       "      <td>266948</td>\n",
       "      <td>175089</td>\n",
       "      <td>Is there a reason why we should travel alone?</td>\n",
       "      <td>What are some reasons to travel alone?</td>\n",
       "      <td>1</td>\n",
       "    </tr>\n",
       "    <tr>\n",
       "      <th>3</th>\n",
       "      <td>15329</td>\n",
       "      <td>29298</td>\n",
       "      <td>29299</td>\n",
       "      <td>Why are people so obsessed with having a girlf...</td>\n",
       "      <td>How can a single male have a child?</td>\n",
       "      <td>0</td>\n",
       "    </tr>\n",
       "    <tr>\n",
       "      <th>4</th>\n",
       "      <td>209794</td>\n",
       "      <td>314169</td>\n",
       "      <td>314170</td>\n",
       "      <td>What are some good baby girl names starting wi...</td>\n",
       "      <td>What are some good baby girl names starting wi...</td>\n",
       "      <td>0</td>\n",
       "    </tr>\n",
       "  </tbody>\n",
       "</table>\n",
       "</div>"
      ],
      "text/plain": [
       "       id    qid1    qid2                                          question1  \\\n",
       "0  201359  303345  303346            Why are African-Americans so beautiful?   \n",
       "1  263843   69383  380476  I want to pursue PhD in Computer Science about...   \n",
       "2  172974  266948  175089      Is there a reason why we should travel alone?   \n",
       "3   15329   29298   29299  Why are people so obsessed with having a girlf...   \n",
       "4  209794  314169  314170  What are some good baby girl names starting wi...   \n",
       "\n",
       "                                           question2  is_duplicate  \n",
       "0                    Why are hispanics so beautiful?             0  \n",
       "1  I handle social media for a non-profit. Should...             0  \n",
       "2             What are some reasons to travel alone?             1  \n",
       "3                How can a single male have a child?             0  \n",
       "4  What are some good baby girl names starting wi...             0  "
      ]
     },
     "execution_count": 7,
     "metadata": {},
     "output_type": "execute_result"
    }
   ],
   "source": [
    "test_df = pd.read_csv(join(DATA_DIR, 'dev.tsv'), sep='\\t')\n",
    "test_df.head()"
   ]
  },
  {
   "cell_type": "code",
   "execution_count": 8,
   "metadata": {
    "scrolled": true
   },
   "outputs": [
    {
     "data": {
      "text/plain": [
       "(40430, 6)"
      ]
     },
     "execution_count": 8,
     "metadata": {},
     "output_type": "execute_result"
    }
   ],
   "source": [
    "test_df.shape"
   ]
  },
  {
   "cell_type": "markdown",
   "metadata": {},
   "source": [
    "#### Train and Dev Dataset"
   ]
  },
  {
   "cell_type": "code",
   "execution_count": 9,
   "metadata": {},
   "outputs": [],
   "source": [
    "train_df, dev_df = train_test_split(train_full_df, test_size=0.1, random_state=42)"
   ]
  },
  {
   "cell_type": "code",
   "execution_count": 10,
   "metadata": {},
   "outputs": [
    {
     "data": {
      "text/plain": [
       "(327461, 36385)"
      ]
     },
     "execution_count": 10,
     "metadata": {},
     "output_type": "execute_result"
    }
   ],
   "source": [
    "len(train_df), len(dev_df)"
   ]
  },
  {
   "cell_type": "code",
   "execution_count": 11,
   "metadata": {
    "scrolled": true
   },
   "outputs": [
    {
     "data": {
      "text/html": [
       "<div>\n",
       "<style scoped>\n",
       "    .dataframe tbody tr th:only-of-type {\n",
       "        vertical-align: middle;\n",
       "    }\n",
       "\n",
       "    .dataframe tbody tr th {\n",
       "        vertical-align: top;\n",
       "    }\n",
       "\n",
       "    .dataframe thead th {\n",
       "        text-align: right;\n",
       "    }\n",
       "</style>\n",
       "<table border=\"1\" class=\"dataframe\">\n",
       "  <thead>\n",
       "    <tr style=\"text-align: right;\">\n",
       "      <th></th>\n",
       "      <th>id</th>\n",
       "      <th>qid1</th>\n",
       "      <th>qid2</th>\n",
       "      <th>question1</th>\n",
       "      <th>question2</th>\n",
       "      <th>is_duplicate</th>\n",
       "    </tr>\n",
       "  </thead>\n",
       "  <tbody>\n",
       "    <tr>\n",
       "      <th>80519</th>\n",
       "      <td>51432</td>\n",
       "      <td>91228</td>\n",
       "      <td>91229</td>\n",
       "      <td>Which topic is the most followed in Quora?</td>\n",
       "      <td>What topic on Quora has the most followers?</td>\n",
       "      <td>1</td>\n",
       "    </tr>\n",
       "    <tr>\n",
       "      <th>349125</th>\n",
       "      <td>52249</td>\n",
       "      <td>92541</td>\n",
       "      <td>92542</td>\n",
       "      <td>What does it feel like to have sex with a rela...</td>\n",
       "      <td>Is it possible to eat more than you weigh?</td>\n",
       "      <td>0</td>\n",
       "    </tr>\n",
       "    <tr>\n",
       "      <th>126605</th>\n",
       "      <td>135176</td>\n",
       "      <td>215925</td>\n",
       "      <td>215926</td>\n",
       "      <td>Can I get back my best friend?</td>\n",
       "      <td>How do I get back to my best friend as my lover?</td>\n",
       "      <td>0</td>\n",
       "    </tr>\n",
       "    <tr>\n",
       "      <th>6008</th>\n",
       "      <td>184003</td>\n",
       "      <td>281230</td>\n",
       "      <td>281231</td>\n",
       "      <td>Are there solar systems that act like a double...</td>\n",
       "      <td>As a Navy SEAL do you feel as if people are af...</td>\n",
       "      <td>0</td>\n",
       "    </tr>\n",
       "    <tr>\n",
       "      <th>292788</th>\n",
       "      <td>5971</td>\n",
       "      <td>11714</td>\n",
       "      <td>11715</td>\n",
       "      <td>Why are there only few magnets?</td>\n",
       "      <td>Why is there only few magnets?</td>\n",
       "      <td>1</td>\n",
       "    </tr>\n",
       "  </tbody>\n",
       "</table>\n",
       "</div>"
      ],
      "text/plain": [
       "            id    qid1    qid2  \\\n",
       "80519    51432   91228   91229   \n",
       "349125   52249   92541   92542   \n",
       "126605  135176  215925  215926   \n",
       "6008    184003  281230  281231   \n",
       "292788    5971   11714   11715   \n",
       "\n",
       "                                                question1  \\\n",
       "80519          Which topic is the most followed in Quora?   \n",
       "349125  What does it feel like to have sex with a rela...   \n",
       "126605                     Can I get back my best friend?   \n",
       "6008    Are there solar systems that act like a double...   \n",
       "292788                    Why are there only few magnets?   \n",
       "\n",
       "                                                question2  is_duplicate  \n",
       "80519         What topic on Quora has the most followers?             1  \n",
       "349125         Is it possible to eat more than you weigh?             0  \n",
       "126605   How do I get back to my best friend as my lover?             0  \n",
       "6008    As a Navy SEAL do you feel as if people are af...             0  \n",
       "292788                     Why is there only few magnets?             1  "
      ]
     },
     "execution_count": 11,
     "metadata": {},
     "output_type": "execute_result"
    }
   ],
   "source": [
    "train_df.head()"
   ]
  },
  {
   "cell_type": "code",
   "execution_count": 12,
   "metadata": {},
   "outputs": [
    {
     "data": {
      "text/html": [
       "<div>\n",
       "<style scoped>\n",
       "    .dataframe tbody tr th:only-of-type {\n",
       "        vertical-align: middle;\n",
       "    }\n",
       "\n",
       "    .dataframe tbody tr th {\n",
       "        vertical-align: top;\n",
       "    }\n",
       "\n",
       "    .dataframe thead th {\n",
       "        text-align: right;\n",
       "    }\n",
       "</style>\n",
       "<table border=\"1\" class=\"dataframe\">\n",
       "  <thead>\n",
       "    <tr style=\"text-align: right;\">\n",
       "      <th></th>\n",
       "      <th>id</th>\n",
       "      <th>qid1</th>\n",
       "      <th>qid2</th>\n",
       "      <th>question1</th>\n",
       "      <th>question2</th>\n",
       "      <th>is_duplicate</th>\n",
       "    </tr>\n",
       "  </thead>\n",
       "  <tbody>\n",
       "    <tr>\n",
       "      <th>215130</th>\n",
       "      <td>328831</td>\n",
       "      <td>455423</td>\n",
       "      <td>455424</td>\n",
       "      <td>Why do some people think that having a baby is...</td>\n",
       "      <td>Why is having a baby a blessing?</td>\n",
       "      <td>1</td>\n",
       "    </tr>\n",
       "    <tr>\n",
       "      <th>234600</th>\n",
       "      <td>41794</td>\n",
       "      <td>75402</td>\n",
       "      <td>75403</td>\n",
       "      <td>How vulnerable are paratroopers on their desce...</td>\n",
       "      <td>Are conventional paratroopers obsolete?</td>\n",
       "      <td>0</td>\n",
       "    </tr>\n",
       "    <tr>\n",
       "      <th>118406</th>\n",
       "      <td>184181</td>\n",
       "      <td>56834</td>\n",
       "      <td>281459</td>\n",
       "      <td>Examples of sole proprietorship? The</td>\n",
       "      <td>How are sole proprietorships started?</td>\n",
       "      <td>0</td>\n",
       "    </tr>\n",
       "    <tr>\n",
       "      <th>284746</th>\n",
       "      <td>61939</td>\n",
       "      <td>50127</td>\n",
       "      <td>69389</td>\n",
       "      <td>Why don't I get answers for some of my questio...</td>\n",
       "      <td>Why do some questions get more answers here in...</td>\n",
       "      <td>1</td>\n",
       "    </tr>\n",
       "    <tr>\n",
       "      <th>300683</th>\n",
       "      <td>352765</td>\n",
       "      <td>481723</td>\n",
       "      <td>13812</td>\n",
       "      <td>Do Kashmiris wants to join Pakistan?</td>\n",
       "      <td>Do the people of Kashmir want to join Pakistan...</td>\n",
       "      <td>0</td>\n",
       "    </tr>\n",
       "  </tbody>\n",
       "</table>\n",
       "</div>"
      ],
      "text/plain": [
       "            id    qid1    qid2  \\\n",
       "215130  328831  455423  455424   \n",
       "234600   41794   75402   75403   \n",
       "118406  184181   56834  281459   \n",
       "284746   61939   50127   69389   \n",
       "300683  352765  481723   13812   \n",
       "\n",
       "                                                question1  \\\n",
       "215130  Why do some people think that having a baby is...   \n",
       "234600  How vulnerable are paratroopers on their desce...   \n",
       "118406               Examples of sole proprietorship? The   \n",
       "284746  Why don't I get answers for some of my questio...   \n",
       "300683               Do Kashmiris wants to join Pakistan?   \n",
       "\n",
       "                                                question2  is_duplicate  \n",
       "215130                   Why is having a baby a blessing?             1  \n",
       "234600            Are conventional paratroopers obsolete?             0  \n",
       "118406              How are sole proprietorships started?             0  \n",
       "284746  Why do some questions get more answers here in...             1  \n",
       "300683  Do the people of Kashmir want to join Pakistan...             0  "
      ]
     },
     "execution_count": 12,
     "metadata": {},
     "output_type": "execute_result"
    }
   ],
   "source": [
    "dev_df.head()"
   ]
  },
  {
   "cell_type": "markdown",
   "metadata": {
    "id": "tsZhgdLTqxAz"
   },
   "source": [
    "### Splitting into X and y"
   ]
  },
  {
   "cell_type": "code",
   "execution_count": 13,
   "metadata": {
    "id": "_OeTU4HKqzXm"
   },
   "outputs": [],
   "source": [
    "X_train = train_df.iloc[:,:-1]\n",
    "y_train = train_df.iloc[:, -1]"
   ]
  },
  {
   "cell_type": "code",
   "execution_count": 14,
   "metadata": {
    "id": "Spy0FOpvrUGK"
   },
   "outputs": [],
   "source": [
    "X_test = test_df.iloc[:,:-1]\n",
    "y_test = test_df.iloc[:,-1]"
   ]
  },
  {
   "cell_type": "code",
   "execution_count": 15,
   "metadata": {
    "colab": {
     "base_uri": "https://localhost:8080/"
    },
    "id": "XL1c8MWVQk5b",
    "outputId": "7de119a4-b0f2-4ab8-aba9-a104dcefdfc5"
   },
   "outputs": [],
   "source": [
    "X_dev = dev_df.iloc[:,:-1]\n",
    "y_dev = dev_df.iloc[:,-1]"
   ]
  },
  {
   "cell_type": "markdown",
   "metadata": {
    "id": "-W7SD2tFfpD3"
   },
   "source": [
    "### WordCloud"
   ]
  },
  {
   "cell_type": "code",
   "execution_count": 16,
   "metadata": {
    "colab": {
     "base_uri": "https://localhost:8080/",
     "height": 517
    },
    "id": "FPDtbQ7Dfq5k",
    "outputId": "13dcca0e-201d-4535-cb62-177fa4ca6604"
   },
   "outputs": [
    {
     "data": {
      "text/plain": [
       "(-0.5, 359.5, 269.5, -0.5)"
      ]
     },
     "execution_count": 16,
     "metadata": {},
     "output_type": "execute_result"
    },
    {
     "data": {
      "image/png": "[encoded data removed]",
      "text/plain": [
       "<Figure size 1000x600 with 1 Axes>"
      ]
     },
     "metadata": {},
     "output_type": "display_data"
    }
   ],
   "source": [
    "all_questions_concat = train_df['question1'].str.cat(sep=' ') + train_df['question2'].str.cat(sep=' ')\n",
    "\n",
    "cloud = WordCloud(width=360, height=270).generate(all_questions_concat)\n",
    "plt.figure(figsize=(10, 6))\n",
    "plt.imshow(cloud)\n",
    "plt.axis('off')"
   ]
  },
  {
   "cell_type": "markdown",
   "metadata": {
    "id": "BxvlceumyLZL"
   },
   "source": [
    "### Checking for Class Imbalance"
   ]
  },
  {
   "cell_type": "code",
   "execution_count": 17,
   "metadata": {
    "colab": {
     "base_uri": "https://localhost:8080/"
    },
    "id": "qo2zKIeonk3B",
    "outputId": "647b6691-0573-4fd2-9971-cafe7bd5a63d"
   },
   "outputs": [
    {
     "name": "stdout",
     "output_type": "stream",
     "text": [
      "Number of question pairs classified as duplicate: 121060, (33.27%)\n",
      "Number of question pairs classified as not duplicate: 242786, (66.73%)\n"
     ]
    }
   ],
   "source": [
    "pos_class_count = len(train_df[train_df['is_duplicate'] == 1])\n",
    "neg_class_count = num_samples - pos_class_count\n",
    "\n",
    "pos_percentage = (pos_class_count / num_samples) * 100\n",
    "neg_percentage = (neg_class_count / num_samples) * 100\n",
    "\n",
    "print(f'Number of question pairs classified as duplicate: {pos_class_count}, ({pos_percentage:.2f}%)')\n",
    "print(f'Number of question pairs classified as not duplicate: {neg_class_count}, ({neg_percentage:.2f}%)')"
   ]
  },
  {
   "cell_type": "code",
   "execution_count": 18,
   "metadata": {
    "colab": {
     "base_uri": "https://localhost:8080/",
     "height": 388
    },
    "id": "8SRJ8apUqPg2",
    "outputId": "636c6cac-2a56-4ca4-9cf9-80ff4eaba70b"
   },
   "outputs": [
    {
     "data": {
      "image/png": "[encoded data removed]",
      "text/plain": [
       "<Figure size 800x400 with 1 Axes>"
      ]
     },
     "metadata": {},
     "output_type": "display_data"
    }
   ],
   "source": [
    "plt.figure(figsize=(8, 4))\n",
    "sns.countplot(x='is_duplicate', data=train_df)\n",
    "plt.xlabel('is_duplicate')\n",
    "plt.ylabel('count')\n",
    "\n",
    "plt.show()"
   ]
  },
  {
   "cell_type": "markdown",
   "metadata": {
    "id": "auwmUdmYS7cC"
   },
   "source": [
    "### Checking for Duplicate Questions"
   ]
  },
  {
   "cell_type": "code",
   "execution_count": 19,
   "metadata": {
    "colab": {
     "base_uri": "https://localhost:8080/"
    },
    "id": "ptLvX8ZaS7Mh",
    "outputId": "6239443d-dfb3-4ffd-9337-58e376f3dd95"
   },
   "outputs": [
    {
     "name": "stdout",
     "output_type": "stream",
     "text": [
      "Total number of questions: 654922\n",
      "Unique questions: 454160\n"
     ]
    }
   ],
   "source": [
    "question_ids = train_df['qid1'].to_list() + train_df['qid2'].to_list()\n",
    "print(f\"Total number of questions: {len(question_ids)}\")\n",
    "\n",
    "question_ids = pd.DataFrame(question_ids, columns=[\"qid\"])\n",
    "print(f\"Unique questions: {len(question_ids['qid'].unique())}\")"
   ]
  },
  {
   "cell_type": "code",
   "execution_count": 20,
   "metadata": {
    "colab": {
     "base_uri": "https://localhost:8080/"
    },
    "id": "-C6LA-7LUC8W",
    "outputId": "69843120-5757-4a08-9545-2a00909a0859"
   },
   "outputs": [
    {
     "data": {
      "text/plain": [
       "qid   \n",
       "2559      133\n",
       "4044       93\n",
       "30782      93\n",
       "2561       74\n",
       "17978      59\n",
       "         ... \n",
       "214911      1\n",
       "214910      1\n",
       "214909      1\n",
       "214908      1\n",
       "537933      1\n",
       "Length: 454160, dtype: int64"
      ]
     },
     "execution_count": 20,
     "metadata": {},
     "output_type": "execute_result"
    }
   ],
   "source": [
    "question_counts = question_ids.value_counts()\n",
    "question_counts"
   ]
  },
  {
   "cell_type": "code",
   "execution_count": 22,
   "metadata": {
    "colab": {
     "base_uri": "https://localhost:8080/",
     "height": 112
    },
    "id": "ZqDheDJOUIld",
    "outputId": "bed0bdf1-af62-457d-cde1-47249e76763a"
   },
   "outputs": [
    {
     "data": {
      "text/html": [
       "<div>\n",
       "<style scoped>\n",
       "    .dataframe tbody tr th:only-of-type {\n",
       "        vertical-align: middle;\n",
       "    }\n",
       "\n",
       "    .dataframe tbody tr th {\n",
       "        vertical-align: top;\n",
       "    }\n",
       "\n",
       "    .dataframe thead th {\n",
       "        text-align: right;\n",
       "    }\n",
       "</style>\n",
       "<table border=\"1\" class=\"dataframe\">\n",
       "  <thead>\n",
       "    <tr style=\"text-align: right;\">\n",
       "      <th></th>\n",
       "      <th>id</th>\n",
       "      <th>qid1</th>\n",
       "      <th>qid2</th>\n",
       "      <th>question1</th>\n",
       "      <th>question2</th>\n",
       "      <th>is_duplicate</th>\n",
       "    </tr>\n",
       "  </thead>\n",
       "  <tbody>\n",
       "    <tr>\n",
       "      <th>357297</th>\n",
       "      <td>391318</td>\n",
       "      <td>127608</td>\n",
       "      <td>2559</td>\n",
       "      <td>What are the best laxatives to lose weight?</td>\n",
       "      <td>What are the best ways to lose weight?</td>\n",
       "      <td>0</td>\n",
       "    </tr>\n",
       "    <tr>\n",
       "      <th>342073</th>\n",
       "      <td>150557</td>\n",
       "      <td>236943</td>\n",
       "      <td>2559</td>\n",
       "      <td>What should be my diet plan for fat loss witho...</td>\n",
       "      <td>What are the best ways to lose weight?</td>\n",
       "      <td>0</td>\n",
       "    </tr>\n",
       "  </tbody>\n",
       "</table>\n",
       "</div>"
      ],
      "text/plain": [
       "            id    qid1  qid2  \\\n",
       "357297  391318  127608  2559   \n",
       "342073  150557  236943  2559   \n",
       "\n",
       "                                                question1  \\\n",
       "357297        What are the best laxatives to lose weight?   \n",
       "342073  What should be my diet plan for fat loss witho...   \n",
       "\n",
       "                                     question2  is_duplicate  \n",
       "357297  What are the best ways to lose weight?             0  \n",
       "342073  What are the best ways to lose weight?             0  "
      ]
     },
     "execution_count": 22,
     "metadata": {},
     "output_type": "execute_result"
    }
   ],
   "source": [
    "# look at an example of a duplicate question\n",
    "dup = train_df[(train_df['qid1'] == 2559) | (train_df['qid2'] == 2559)]\n",
    "dup.head(2)"
   ]
  },
  {
   "cell_type": "code",
   "execution_count": 23,
   "metadata": {
    "colab": {
     "base_uri": "https://localhost:8080/"
    },
    "id": "nnT8_zmAZXKp",
    "outputId": "c5bbd919-9cd7-4362-8281-288d629361aa"
   },
   "outputs": [
    {
     "data": {
      "text/plain": [
       "qid   \n",
       "2559      133\n",
       "4044       93\n",
       "30782      93\n",
       "2561       74\n",
       "17978      59\n",
       "         ... \n",
       "273255      2\n",
       "9567        2\n",
       "187064      2\n",
       "332388      2\n",
       "49421       2\n",
       "Length: 87200, dtype: int64"
      ]
     },
     "execution_count": 23,
     "metadata": {},
     "output_type": "execute_result"
    }
   ],
   "source": [
    "# questions that appear more than once\n",
    "dup_questions = question_counts[question_counts > 1]\n",
    "dup_questions"
   ]
  },
  {
   "cell_type": "code",
   "execution_count": 24,
   "metadata": {
    "colab": {
     "base_uri": "https://localhost:8080/",
     "height": 487
    },
    "id": "jzsfEQ1wUy61",
    "outputId": "bbe7aece-1cf9-472b-bbca-0a332d22a590"
   },
   "outputs": [
    {
     "data": {
      "image/png": "[encoded data removed]",
      "text/plain": [
       "<Figure size 1000x500 with 1 Axes>"
      ]
     },
     "metadata": {},
     "output_type": "display_data"
    }
   ],
   "source": [
    "plt.figure(figsize=(10,5))\n",
    "sns.histplot(data=dup_questions, bins=60)\n",
    "plt.xlabel('Question Frequencies')\n",
    "plt.ylabel('No. of Questions with Corresponding Frequency')\n",
    "plt.yscale('log')\n",
    "plt.title('Distribution of Question Frequencies')\n",
    "plt.show()"
   ]
  },
  {
   "cell_type": "markdown",
   "metadata": {
    "id": "ZomsUWycVP2F"
   },
   "source": [
    "### Checking for Duplicate Rows"
   ]
  },
  {
   "cell_type": "code",
   "execution_count": 25,
   "metadata": {
    "colab": {
     "base_uri": "https://localhost:8080/"
    },
    "id": "4bUrSjXGVR42",
    "outputId": "b3c15d5a-20d7-46b7-ba92-fcf2184125a9"
   },
   "outputs": [
    {
     "name": "stdout",
     "output_type": "stream",
     "text": [
      "There are duplicate pairs.\n"
     ]
    }
   ],
   "source": [
    "pair_counts = train_df[['qid1', 'qid2']].groupby(['qid1', 'qid2']).count().reset_index()\n",
    "has_duplicate_pairs = not (len(pair_counts) == num_samples)\n",
    "print(f'There are {\"\" if has_duplicate_pairs else \"no \"}duplicate pairs.')"
   ]
  },
  {
   "cell_type": "markdown",
   "metadata": {
    "id": "LczvzPk4FobE"
   },
   "source": [
    "### Data Preprocessing and Cleaning"
   ]
  },
  {
   "cell_type": "code",
   "execution_count": null,
   "metadata": {
    "colab": {
     "base_uri": "https://localhost:8080/"
    },
    "id": "i8nYlY-5Hvi5",
    "outputId": "897d87dc-858b-48c1-fd90-24a724fffb83",
    "scrolled": true
   },
   "outputs": [],
   "source": [
    "!python -m nltk.downloader stopwords"
   ]
  },
  {
   "cell_type": "code",
   "execution_count": 31,
   "metadata": {
    "colab": {
     "base_uri": "https://localhost:8080/"
    },
    "id": "_6mhLPZzGCDA",
    "outputId": "6f0cc9b4-9f86-4e6a-c09a-597456fe5838"
   },
   "outputs": [
    {
     "data": {
      "text/plain": [
       "('what s the meaning of life    ', 'meaning life')"
      ]
     },
     "execution_count": 31,
     "metadata": {},
     "output_type": "execute_result"
    }
   ],
   "source": [
    "def clean_text(text, remove_stopwords=False):\n",
    "  text = text.lower() # lower case\n",
    "  text = re.sub('\\s+\\n+', ' ', text)\n",
    "  text = re.sub(f\"[{re.escape(string.punctuation)}]\", ' ', text) # remove punctuation\n",
    "  text = re.sub(r'[^a-zA-Z0-9\\s]', ' ', text) # remove special chars\n",
    "\n",
    "  if remove_stopwords:\n",
    "    sw = set(stopwords.words(\"english\"))\n",
    "    text = ' '.join([word for word in text.split() if word not in sw])\n",
    "\n",
    "  return text\n",
    "\n",
    "demo_qn = \"What's the meaning of life? #@\"\n",
    "clean_text(demo_qn), clean_text(demo_qn, remove_stopwords=True)"
   ]
  },
  {
   "cell_type": "code",
   "execution_count": 33,
   "metadata": {
    "colab": {
     "base_uri": "https://localhost:8080/",
     "height": 519
    },
    "id": "rEPB24KrKXcc",
    "outputId": "4bc27f65-6a41-41b8-fe0c-65edf36d5284"
   },
   "outputs": [
    {
     "data": {
      "text/html": [
       "<div>\n",
       "<style scoped>\n",
       "    .dataframe tbody tr th:only-of-type {\n",
       "        vertical-align: middle;\n",
       "    }\n",
       "\n",
       "    .dataframe tbody tr th {\n",
       "        vertical-align: top;\n",
       "    }\n",
       "\n",
       "    .dataframe thead th {\n",
       "        text-align: right;\n",
       "    }\n",
       "</style>\n",
       "<table border=\"1\" class=\"dataframe\">\n",
       "  <thead>\n",
       "    <tr style=\"text-align: right;\">\n",
       "      <th></th>\n",
       "      <th>id</th>\n",
       "      <th>qid1</th>\n",
       "      <th>qid2</th>\n",
       "      <th>question1</th>\n",
       "      <th>question2</th>\n",
       "      <th>cleaned_question1</th>\n",
       "      <th>cleaned_question2</th>\n",
       "    </tr>\n",
       "  </thead>\n",
       "  <tbody>\n",
       "    <tr>\n",
       "      <th>80519</th>\n",
       "      <td>51432</td>\n",
       "      <td>91228</td>\n",
       "      <td>91229</td>\n",
       "      <td>Which topic is the most followed in Quora?</td>\n",
       "      <td>What topic on Quora has the most followers?</td>\n",
       "      <td>which topic is the most followed in quora</td>\n",
       "      <td>what topic on quora has the most followers</td>\n",
       "    </tr>\n",
       "    <tr>\n",
       "      <th>349125</th>\n",
       "      <td>52249</td>\n",
       "      <td>92541</td>\n",
       "      <td>92542</td>\n",
       "      <td>What does it feel like to have sex with a rela...</td>\n",
       "      <td>Is it possible to eat more than you weigh?</td>\n",
       "      <td>what does it feel like to have sex with a rela...</td>\n",
       "      <td>is it possible to eat more than you weigh</td>\n",
       "    </tr>\n",
       "    <tr>\n",
       "      <th>126605</th>\n",
       "      <td>135176</td>\n",
       "      <td>215925</td>\n",
       "      <td>215926</td>\n",
       "      <td>Can I get back my best friend?</td>\n",
       "      <td>How do I get back to my best friend as my lover?</td>\n",
       "      <td>can i get back my best friend</td>\n",
       "      <td>how do i get back to my best friend as my lover</td>\n",
       "    </tr>\n",
       "    <tr>\n",
       "      <th>6008</th>\n",
       "      <td>184003</td>\n",
       "      <td>281230</td>\n",
       "      <td>281231</td>\n",
       "      <td>Are there solar systems that act like a double...</td>\n",
       "      <td>As a Navy SEAL do you feel as if people are af...</td>\n",
       "      <td>are there solar systems that act like a double...</td>\n",
       "      <td>as a navy seal do you feel as if people are af...</td>\n",
       "    </tr>\n",
       "    <tr>\n",
       "      <th>292788</th>\n",
       "      <td>5971</td>\n",
       "      <td>11714</td>\n",
       "      <td>11715</td>\n",
       "      <td>Why are there only few magnets?</td>\n",
       "      <td>Why is there only few magnets?</td>\n",
       "      <td>why are there only few magnets</td>\n",
       "      <td>why is there only few magnets</td>\n",
       "    </tr>\n",
       "  </tbody>\n",
       "</table>\n",
       "</div>"
      ],
      "text/plain": [
       "            id    qid1    qid2  \\\n",
       "80519    51432   91228   91229   \n",
       "349125   52249   92541   92542   \n",
       "126605  135176  215925  215926   \n",
       "6008    184003  281230  281231   \n",
       "292788    5971   11714   11715   \n",
       "\n",
       "                                                question1  \\\n",
       "80519          Which topic is the most followed in Quora?   \n",
       "349125  What does it feel like to have sex with a rela...   \n",
       "126605                     Can I get back my best friend?   \n",
       "6008    Are there solar systems that act like a double...   \n",
       "292788                    Why are there only few magnets?   \n",
       "\n",
       "                                                question2  \\\n",
       "80519         What topic on Quora has the most followers?   \n",
       "349125         Is it possible to eat more than you weigh?   \n",
       "126605   How do I get back to my best friend as my lover?   \n",
       "6008    As a Navy SEAL do you feel as if people are af...   \n",
       "292788                     Why is there only few magnets?   \n",
       "\n",
       "                                        cleaned_question1  \\\n",
       "80519          which topic is the most followed in quora    \n",
       "349125  what does it feel like to have sex with a rela...   \n",
       "126605                     can i get back my best friend    \n",
       "6008    are there solar systems that act like a double...   \n",
       "292788                    why are there only few magnets    \n",
       "\n",
       "                                        cleaned_question2  \n",
       "80519         what topic on quora has the most followers   \n",
       "349125         is it possible to eat more than you weigh   \n",
       "126605   how do i get back to my best friend as my lover   \n",
       "6008    as a navy seal do you feel as if people are af...  \n",
       "292788                     why is there only few magnets   "
      ]
     },
     "execution_count": 33,
     "metadata": {},
     "output_type": "execute_result"
    }
   ],
   "source": [
    "X_train['cleaned_question1'] = X_train['question1'].apply(clean_text)\n",
    "X_train['cleaned_question2'] = X_train['question2'].apply(clean_text)\n",
    "X_train.head()"
   ]
  },
  {
   "cell_type": "markdown",
   "metadata": {
    "id": "KLeQPtk6yR1N"
   },
   "source": [
    "### Word Count Analysis\n",
    "\n",
    "I think this might help in determining the neural network architecture to use? The max question length is around 200 which might not work well if we are using RNNs, i.e. RNNs generally work well for shorter sequences."
   ]
  },
  {
   "cell_type": "code",
   "execution_count": 34,
   "metadata": {
    "colab": {
     "base_uri": "https://localhost:8080/",
     "height": 796
    },
    "id": "JBhYI3VXpXuO",
    "outputId": "a7ac2c02-4d7a-48a7-82d8-caccacb49f72"
   },
   "outputs": [
    {
     "data": {
      "text/html": [
       "<div>\n",
       "<style scoped>\n",
       "    .dataframe tbody tr th:only-of-type {\n",
       "        vertical-align: middle;\n",
       "    }\n",
       "\n",
       "    .dataframe tbody tr th {\n",
       "        vertical-align: top;\n",
       "    }\n",
       "\n",
       "    .dataframe thead th {\n",
       "        text-align: right;\n",
       "    }\n",
       "</style>\n",
       "<table border=\"1\" class=\"dataframe\">\n",
       "  <thead>\n",
       "    <tr style=\"text-align: right;\">\n",
       "      <th></th>\n",
       "      <th>id</th>\n",
       "      <th>qid1</th>\n",
       "      <th>qid2</th>\n",
       "      <th>question1</th>\n",
       "      <th>question2</th>\n",
       "      <th>cleaned_question1</th>\n",
       "      <th>cleaned_question2</th>\n",
       "      <th>question1_word_count</th>\n",
       "      <th>question2_word_count</th>\n",
       "    </tr>\n",
       "  </thead>\n",
       "  <tbody>\n",
       "    <tr>\n",
       "      <th>80519</th>\n",
       "      <td>51432</td>\n",
       "      <td>91228</td>\n",
       "      <td>91229</td>\n",
       "      <td>Which topic is the most followed in Quora?</td>\n",
       "      <td>What topic on Quora has the most followers?</td>\n",
       "      <td>which topic is the most followed in quora</td>\n",
       "      <td>what topic on quora has the most followers</td>\n",
       "      <td>8</td>\n",
       "      <td>8</td>\n",
       "    </tr>\n",
       "    <tr>\n",
       "      <th>349125</th>\n",
       "      <td>52249</td>\n",
       "      <td>92541</td>\n",
       "      <td>92542</td>\n",
       "      <td>What does it feel like to have sex with a rela...</td>\n",
       "      <td>Is it possible to eat more than you weigh?</td>\n",
       "      <td>what does it feel like to have sex with a rela...</td>\n",
       "      <td>is it possible to eat more than you weigh</td>\n",
       "      <td>13</td>\n",
       "      <td>9</td>\n",
       "    </tr>\n",
       "    <tr>\n",
       "      <th>126605</th>\n",
       "      <td>135176</td>\n",
       "      <td>215925</td>\n",
       "      <td>215926</td>\n",
       "      <td>Can I get back my best friend?</td>\n",
       "      <td>How do I get back to my best friend as my lover?</td>\n",
       "      <td>can i get back my best friend</td>\n",
       "      <td>how do i get back to my best friend as my lover</td>\n",
       "      <td>7</td>\n",
       "      <td>12</td>\n",
       "    </tr>\n",
       "    <tr>\n",
       "      <th>6008</th>\n",
       "      <td>184003</td>\n",
       "      <td>281230</td>\n",
       "      <td>281231</td>\n",
       "      <td>Are there solar systems that act like a double...</td>\n",
       "      <td>As a Navy SEAL do you feel as if people are af...</td>\n",
       "      <td>are there solar systems that act like a double...</td>\n",
       "      <td>as a navy seal do you feel as if people are af...</td>\n",
       "      <td>10</td>\n",
       "      <td>20</td>\n",
       "    </tr>\n",
       "    <tr>\n",
       "      <th>292788</th>\n",
       "      <td>5971</td>\n",
       "      <td>11714</td>\n",
       "      <td>11715</td>\n",
       "      <td>Why are there only few magnets?</td>\n",
       "      <td>Why is there only few magnets?</td>\n",
       "      <td>why are there only few magnets</td>\n",
       "      <td>why is there only few magnets</td>\n",
       "      <td>6</td>\n",
       "      <td>6</td>\n",
       "    </tr>\n",
       "  </tbody>\n",
       "</table>\n",
       "</div>"
      ],
      "text/plain": [
       "            id    qid1    qid2  \\\n",
       "80519    51432   91228   91229   \n",
       "349125   52249   92541   92542   \n",
       "126605  135176  215925  215926   \n",
       "6008    184003  281230  281231   \n",
       "292788    5971   11714   11715   \n",
       "\n",
       "                                                question1  \\\n",
       "80519          Which topic is the most followed in Quora?   \n",
       "349125  What does it feel like to have sex with a rela...   \n",
       "126605                     Can I get back my best friend?   \n",
       "6008    Are there solar systems that act like a double...   \n",
       "292788                    Why are there only few magnets?   \n",
       "\n",
       "                                                question2  \\\n",
       "80519         What topic on Quora has the most followers?   \n",
       "349125         Is it possible to eat more than you weigh?   \n",
       "126605   How do I get back to my best friend as my lover?   \n",
       "6008    As a Navy SEAL do you feel as if people are af...   \n",
       "292788                     Why is there only few magnets?   \n",
       "\n",
       "                                        cleaned_question1  \\\n",
       "80519          which topic is the most followed in quora    \n",
       "349125  what does it feel like to have sex with a rela...   \n",
       "126605                     can i get back my best friend    \n",
       "6008    are there solar systems that act like a double...   \n",
       "292788                    why are there only few magnets    \n",
       "\n",
       "                                        cleaned_question2  \\\n",
       "80519         what topic on quora has the most followers    \n",
       "349125         is it possible to eat more than you weigh    \n",
       "126605   how do i get back to my best friend as my lover    \n",
       "6008    as a navy seal do you feel as if people are af...   \n",
       "292788                     why is there only few magnets    \n",
       "\n",
       "        question1_word_count  question2_word_count  \n",
       "80519                      8                     8  \n",
       "349125                    13                     9  \n",
       "126605                     7                    12  \n",
       "6008                      10                    20  \n",
       "292788                     6                     6  "
      ]
     },
     "execution_count": 34,
     "metadata": {},
     "output_type": "execute_result"
    }
   ],
   "source": [
    "# find word counts of questions\n",
    "X_train['question1_word_count'] = X_train['cleaned_question1'].apply(lambda x: len(str(x).split()))\n",
    "X_train['question2_word_count'] = X_train['cleaned_question2'].apply(lambda x: len(str(x).split()))\n",
    "X_train.head()"
   ]
  },
  {
   "cell_type": "code",
   "execution_count": 35,
   "metadata": {
    "colab": {
     "base_uri": "https://localhost:8080/",
     "height": 555
    },
    "id": "yLGGz7bOOhDo",
    "outputId": "d6c43992-b1e6-431a-e1c7-f0b087c38f24"
   },
   "outputs": [
    {
     "name": "stdout",
     "output_type": "stream",
     "text": [
      "Min word count for question 1: 0\n",
      "Min word count for question 2: 0\n",
      "Max word count for question 1: 128\n",
      "Max word count for question 2: 248\n"
     ]
    },
    {
     "data": {
      "text/plain": [
       "<matplotlib.legend.Legend at 0x1f53f960d50>"
      ]
     },
     "execution_count": 35,
     "metadata": {},
     "output_type": "execute_result"
    },
    {
     "data": {
      "image/png": "[encoded data removed]",
      "text/plain": [
       "<Figure size 1000x500 with 1 Axes>"
      ]
     },
     "metadata": {},
     "output_type": "display_data"
    }
   ],
   "source": [
    "print(f\"Min word count for question 1: {X_train['question1_word_count'].min()}\")\n",
    "print(f\"Min word count for question 2: {X_train['question2_word_count'].min()}\")\n",
    "\n",
    "print(f\"Max word count for question 1: {X_train['question1_word_count'].max()}\")\n",
    "print(f\"Max word count for question 2: {X_train['question2_word_count'].max()}\")\n",
    "\n",
    "plt.figure(figsize=(10, 5))\n",
    "plt.hist([X_train['question1_word_count'], X_train['question2_word_count']], bins=20, label=['Question 1', 'Question 2'], range=(0, 235))\n",
    "plt.xlabel('Word Count')\n",
    "plt.ylabel('Frequency')\n",
    "plt.legend()"
   ]
  },
  {
   "cell_type": "code",
   "execution_count": 36,
   "metadata": {
    "colab": {
     "base_uri": "https://localhost:8080/"
    },
    "id": "_V6aTsZRjdxp",
    "outputId": "d33739a6-ef94-4e07-a9d6-07e89a20cb22"
   },
   "outputs": [
    {
     "data": {
      "text/plain": [
       "count    327461.000000\n",
       "mean         11.124885\n",
       "std           5.575543\n",
       "min           0.000000\n",
       "25%           7.000000\n",
       "50%          10.000000\n",
       "75%          13.000000\n",
       "max         128.000000\n",
       "Name: question1_word_count, dtype: float64"
      ]
     },
     "execution_count": 36,
     "metadata": {},
     "output_type": "execute_result"
    }
   ],
   "source": [
    "X_train['question1_word_count'].describe()"
   ]
  },
  {
   "cell_type": "code",
   "execution_count": 37,
   "metadata": {
    "colab": {
     "base_uri": "https://localhost:8080/"
    },
    "id": "dNUqrWmbjiKf",
    "outputId": "a535dd74-fd67-47d1-c7e1-7c514cb6f0fe"
   },
   "outputs": [
    {
     "data": {
      "text/plain": [
       "count    327461.000000\n",
       "mean         11.372866\n",
       "std           6.459405\n",
       "min           0.000000\n",
       "25%           7.000000\n",
       "50%          10.000000\n",
       "75%          13.000000\n",
       "max         248.000000\n",
       "Name: question2_word_count, dtype: float64"
      ]
     },
     "execution_count": 37,
     "metadata": {},
     "output_type": "execute_result"
    }
   ],
   "source": [
    "X_train['question2_word_count'].describe()"
   ]
  },
  {
   "cell_type": "code",
   "execution_count": 38,
   "metadata": {
    "colab": {
     "base_uri": "https://localhost:8080/",
     "height": 181
    },
    "id": "P1OJLlfvOqMg",
    "outputId": "9af57272-0e0e-4c51-9b5f-a4694120008b"
   },
   "outputs": [
    {
     "data": {
      "text/html": [
       "<div>\n",
       "<style scoped>\n",
       "    .dataframe tbody tr th:only-of-type {\n",
       "        vertical-align: middle;\n",
       "    }\n",
       "\n",
       "    .dataframe tbody tr th {\n",
       "        vertical-align: top;\n",
       "    }\n",
       "\n",
       "    .dataframe thead th {\n",
       "        text-align: right;\n",
       "    }\n",
       "</style>\n",
       "<table border=\"1\" class=\"dataframe\">\n",
       "  <thead>\n",
       "    <tr style=\"text-align: right;\">\n",
       "      <th></th>\n",
       "      <th>id</th>\n",
       "      <th>qid1</th>\n",
       "      <th>qid2</th>\n",
       "      <th>question1</th>\n",
       "      <th>question2</th>\n",
       "      <th>cleaned_question1</th>\n",
       "      <th>cleaned_question2</th>\n",
       "      <th>question1_word_count</th>\n",
       "      <th>question2_word_count</th>\n",
       "    </tr>\n",
       "  </thead>\n",
       "  <tbody>\n",
       "    <tr>\n",
       "      <th>220206</th>\n",
       "      <td>144343</td>\n",
       "      <td>228468</td>\n",
       "      <td>228469</td>\n",
       "      <td>What is the psychological explanation to the e...</td>\n",
       "      <td>ماذا علي ان افعل لكي اشعر بالسعادة و الرضى ؟</td>\n",
       "      <td>what is the psychological explanation to the e...</td>\n",
       "      <td></td>\n",
       "      <td>16</td>\n",
       "      <td>0</td>\n",
       "    </tr>\n",
       "    <tr>\n",
       "      <th>117965</th>\n",
       "      <td>96725</td>\n",
       "      <td>161071</td>\n",
       "      <td>161072</td>\n",
       "      <td>?</td>\n",
       "      <td>Who are Moses, Noah and Exodus?</td>\n",
       "      <td></td>\n",
       "      <td>who are moses  noah and exodus</td>\n",
       "      <td>0</td>\n",
       "      <td>6</td>\n",
       "    </tr>\n",
       "  </tbody>\n",
       "</table>\n",
       "</div>"
      ],
      "text/plain": [
       "            id    qid1    qid2  \\\n",
       "220206  144343  228468  228469   \n",
       "117965   96725  161071  161072   \n",
       "\n",
       "                                                question1  \\\n",
       "220206  What is the psychological explanation to the e...   \n",
       "117965                                                  ?   \n",
       "\n",
       "                                           question2  \\\n",
       "220206  ماذا علي ان افعل لكي اشعر بالسعادة و الرضى ؟   \n",
       "117965               Who are Moses, Noah and Exodus?   \n",
       "\n",
       "                                        cleaned_question1  \\\n",
       "220206  what is the psychological explanation to the e...   \n",
       "117965                                                      \n",
       "\n",
       "                                   cleaned_question2  question1_word_count  \\\n",
       "220206                                                                  16   \n",
       "117965               who are moses  noah and exodus                      0   \n",
       "\n",
       "        question2_word_count  \n",
       "220206                     0  \n",
       "117965                     6  "
      ]
     },
     "execution_count": 38,
     "metadata": {},
     "output_type": "execute_result"
    }
   ],
   "source": [
    "X_train[(X_train['question1_word_count'] == 0) | (X_train['question2_word_count'] == 0)].head(2)"
   ]
  },
  {
   "cell_type": "code",
   "execution_count": 39,
   "metadata": {
    "colab": {
     "base_uri": "https://localhost:8080/"
    },
    "id": "iMWVLz8TpyvQ",
    "outputId": "1766aba7-7688-4f12-bbf9-f5c5c847556d"
   },
   "outputs": [
    {
     "name": "stdout",
     "output_type": "stream",
     "text": [
      "Word count with the highest frequency: 6.400000\n",
      "Word count with the lowest frequency: 83.200000\n"
     ]
    }
   ],
   "source": [
    "word_count_bins = 20\n",
    "hist, bin_edges = np.histogram(X_train['question1_word_count'], bins=word_count_bins)\n",
    "\n",
    "bin_with_highest_freq = bin_edges[np.argmax(hist)]\n",
    "bin_with_lowest_freq = bin_edges[np.argmin(hist)]\n",
    "print(f\"Word count with the highest frequency: {bin_with_highest_freq:1f}\")\n",
    "print(f\"Word count with the lowest frequency: {bin_with_lowest_freq:1f}\")"
   ]
  },
  {
   "cell_type": "markdown",
   "metadata": {
    "id": "AMpDitolysMX"
   },
   "source": [
    "### Word Frequency Analysis\n",
    "\n",
    "Determine how many tokens we need. The data here is not cleaned yet so we might need much less tokens."
   ]
  },
  {
   "cell_type": "code",
   "execution_count": 40,
   "metadata": {
    "id": "2S0R3F7VtaRR"
   },
   "outputs": [],
   "source": [
    "word_frequency = X_train['cleaned_question1'].str.cat(sep=' ').split() + X_train['cleaned_question2'].str.cat(sep=' ').split()\n",
    "word_freq_dict = pd.Series(word_frequency).value_counts()"
   ]
  },
  {
   "cell_type": "code",
   "execution_count": 41,
   "metadata": {
    "colab": {
     "base_uri": "https://localhost:8080/"
    },
    "id": "YnPBR_LJuuXB",
    "outputId": "43cb5cf7-a77e-4963-e153-019b3c63da28"
   },
   "outputs": [
    {
     "name": "stdout",
     "output_type": "stream",
     "text": [
      "Number of unique words/tokens: 77812\n"
     ]
    }
   ],
   "source": [
    "num_words = len(word_freq_dict)\n",
    "print(f\"Number of unique words/tokens: {num_words}\")"
   ]
  },
  {
   "cell_type": "code",
   "execution_count": 42,
   "metadata": {
    "colab": {
     "base_uri": "https://localhost:8080/"
    },
    "id": "wmRH88G0uqWz",
    "outputId": "9ae6695e-17ca-4951-9519-85630e77c3df"
   },
   "outputs": [
    {
     "data": {
      "text/plain": [
       "the     305946\n",
       "what    263244\n",
       "is      218498\n",
       "i       180807\n",
       "how     178807\n",
       "a       171876\n",
       "to      166863\n",
       "in      159798\n",
       "do      130286\n",
       "of      129449\n",
       "dtype: int64"
      ]
     },
     "execution_count": 42,
     "metadata": {},
     "output_type": "execute_result"
    }
   ],
   "source": [
    "word_freq_dict.head(10)  # 10 most common words"
   ]
  },
  {
   "cell_type": "code",
   "execution_count": 43,
   "metadata": {
    "colab": {
     "base_uri": "https://localhost:8080/"
    },
    "id": "0s9weHcUvETB",
    "outputId": "a35b8e74-16ea-40c4-ab7c-bdd59826a3d9"
   },
   "outputs": [
    {
     "data": {
      "text/plain": [
       "unbeatable    1\n",
       "murrieta      1\n",
       "reachex       1\n",
       "malena        1\n",
       "belluci       1\n",
       "dyrdek        1\n",
       "cep           1\n",
       "collge        1\n",
       "breeza        1\n",
       "roading       1\n",
       "dtype: int64"
      ]
     },
     "execution_count": 43,
     "metadata": {},
     "output_type": "execute_result"
    }
   ],
   "source": [
    "word_freq_dict.tail(10) # least common words"
   ]
  },
  {
   "cell_type": "markdown",
   "metadata": {
    "id": "VvCVjxaRkS5V"
   },
   "source": [
    "### Matching Words in Both Questions"
   ]
  },
  {
   "cell_type": "code",
   "execution_count": null,
   "metadata": {
    "colab": {
     "base_uri": "https://localhost:8080/"
    },
    "id": "FSrf7mzcR2kx",
    "outputId": "5854ef0c-c9cc-4cfc-a463-48c6b5de2ce8",
    "scrolled": true
   },
   "outputs": [],
   "source": [
    "!python -m nltk.downloader punkt"
   ]
  },
  {
   "cell_type": "code",
   "execution_count": 46,
   "metadata": {
    "id": "v_ObP7vukVTr"
   },
   "outputs": [],
   "source": [
    "def calculate_common_word_proportion(question1, question2):\n",
    "  tokens1 = list(set(word_tokenize(question1)))\n",
    "  tokens2 = list(set(word_tokenize(question2)))\n",
    "\n",
    "  # intersection of the token sets\n",
    "  common_tokens = np.intersect1d(tokens1, tokens2)\n",
    "  total_tokens = np.union1d(tokens1, tokens2)\n",
    "\n",
    "  # proportion of common words (Jaccard similarity)\n",
    "  proportion = (len(common_tokens) / len(total_tokens)) if not len(total_tokens) == 0 else 0\n",
    "\n",
    "  return proportion"
   ]
  },
  {
   "cell_type": "markdown",
   "metadata": {
    "id": "DppcBgRxuPOp"
   },
   "source": [
    "#### With Stopwords"
   ]
  },
  {
   "cell_type": "code",
   "execution_count": 47,
   "metadata": {
    "colab": {
     "base_uri": "https://localhost:8080/",
     "height": 573
    },
    "id": "tCsZfpG3kpxw",
    "outputId": "b2d4e5d7-3be0-45ac-c395-5e46d7a06e81"
   },
   "outputs": [
    {
     "data": {
      "text/html": [
       "<div>\n",
       "<style scoped>\n",
       "    .dataframe tbody tr th:only-of-type {\n",
       "        vertical-align: middle;\n",
       "    }\n",
       "\n",
       "    .dataframe tbody tr th {\n",
       "        vertical-align: top;\n",
       "    }\n",
       "\n",
       "    .dataframe thead th {\n",
       "        text-align: right;\n",
       "    }\n",
       "</style>\n",
       "<table border=\"1\" class=\"dataframe\">\n",
       "  <thead>\n",
       "    <tr style=\"text-align: right;\">\n",
       "      <th></th>\n",
       "      <th>id</th>\n",
       "      <th>qid1</th>\n",
       "      <th>qid2</th>\n",
       "      <th>question1</th>\n",
       "      <th>question2</th>\n",
       "      <th>cleaned_question1</th>\n",
       "      <th>cleaned_question2</th>\n",
       "      <th>question1_word_count</th>\n",
       "      <th>question2_word_count</th>\n",
       "      <th>common_word_proportion</th>\n",
       "    </tr>\n",
       "  </thead>\n",
       "  <tbody>\n",
       "    <tr>\n",
       "      <th>80519</th>\n",
       "      <td>51432</td>\n",
       "      <td>91228</td>\n",
       "      <td>91229</td>\n",
       "      <td>Which topic is the most followed in Quora?</td>\n",
       "      <td>What topic on Quora has the most followers?</td>\n",
       "      <td>which topic is the most followed in quora</td>\n",
       "      <td>what topic on quora has the most followers</td>\n",
       "      <td>8</td>\n",
       "      <td>8</td>\n",
       "      <td>0.333333</td>\n",
       "    </tr>\n",
       "    <tr>\n",
       "      <th>349125</th>\n",
       "      <td>52249</td>\n",
       "      <td>92541</td>\n",
       "      <td>92542</td>\n",
       "      <td>What does it feel like to have sex with a rela...</td>\n",
       "      <td>Is it possible to eat more than you weigh?</td>\n",
       "      <td>what does it feel like to have sex with a rela...</td>\n",
       "      <td>is it possible to eat more than you weigh</td>\n",
       "      <td>13</td>\n",
       "      <td>9</td>\n",
       "      <td>0.100000</td>\n",
       "    </tr>\n",
       "    <tr>\n",
       "      <th>126605</th>\n",
       "      <td>135176</td>\n",
       "      <td>215925</td>\n",
       "      <td>215926</td>\n",
       "      <td>Can I get back my best friend?</td>\n",
       "      <td>How do I get back to my best friend as my lover?</td>\n",
       "      <td>can i get back my best friend</td>\n",
       "      <td>how do i get back to my best friend as my lover</td>\n",
       "      <td>7</td>\n",
       "      <td>12</td>\n",
       "      <td>0.500000</td>\n",
       "    </tr>\n",
       "    <tr>\n",
       "      <th>6008</th>\n",
       "      <td>184003</td>\n",
       "      <td>281230</td>\n",
       "      <td>281231</td>\n",
       "      <td>Are there solar systems that act like a double...</td>\n",
       "      <td>As a Navy SEAL do you feel as if people are af...</td>\n",
       "      <td>are there solar systems that act like a double...</td>\n",
       "      <td>as a navy seal do you feel as if people are af...</td>\n",
       "      <td>10</td>\n",
       "      <td>20</td>\n",
       "      <td>0.086957</td>\n",
       "    </tr>\n",
       "    <tr>\n",
       "      <th>292788</th>\n",
       "      <td>5971</td>\n",
       "      <td>11714</td>\n",
       "      <td>11715</td>\n",
       "      <td>Why are there only few magnets?</td>\n",
       "      <td>Why is there only few magnets?</td>\n",
       "      <td>why are there only few magnets</td>\n",
       "      <td>why is there only few magnets</td>\n",
       "      <td>6</td>\n",
       "      <td>6</td>\n",
       "      <td>0.714286</td>\n",
       "    </tr>\n",
       "  </tbody>\n",
       "</table>\n",
       "</div>"
      ],
      "text/plain": [
       "            id    qid1    qid2  \\\n",
       "80519    51432   91228   91229   \n",
       "349125   52249   92541   92542   \n",
       "126605  135176  215925  215926   \n",
       "6008    184003  281230  281231   \n",
       "292788    5971   11714   11715   \n",
       "\n",
       "                                                question1  \\\n",
       "80519          Which topic is the most followed in Quora?   \n",
       "349125  What does it feel like to have sex with a rela...   \n",
       "126605                     Can I get back my best friend?   \n",
       "6008    Are there solar systems that act like a double...   \n",
       "292788                    Why are there only few magnets?   \n",
       "\n",
       "                                                question2  \\\n",
       "80519         What topic on Quora has the most followers?   \n",
       "349125         Is it possible to eat more than you weigh?   \n",
       "126605   How do I get back to my best friend as my lover?   \n",
       "6008    As a Navy SEAL do you feel as if people are af...   \n",
       "292788                     Why is there only few magnets?   \n",
       "\n",
       "                                        cleaned_question1  \\\n",
       "80519          which topic is the most followed in quora    \n",
       "349125  what does it feel like to have sex with a rela...   \n",
       "126605                     can i get back my best friend    \n",
       "6008    are there solar systems that act like a double...   \n",
       "292788                    why are there only few magnets    \n",
       "\n",
       "                                        cleaned_question2  \\\n",
       "80519         what topic on quora has the most followers    \n",
       "349125         is it possible to eat more than you weigh    \n",
       "126605   how do i get back to my best friend as my lover    \n",
       "6008    as a navy seal do you feel as if people are af...   \n",
       "292788                     why is there only few magnets    \n",
       "\n",
       "        question1_word_count  question2_word_count  common_word_proportion  \n",
       "80519                      8                     8                0.333333  \n",
       "349125                    13                     9                0.100000  \n",
       "126605                     7                    12                0.500000  \n",
       "6008                      10                    20                0.086957  \n",
       "292788                     6                     6                0.714286  "
      ]
     },
     "execution_count": 47,
     "metadata": {},
     "output_type": "execute_result"
    }
   ],
   "source": [
    "X_train['common_word_proportion'] = X_train.apply(lambda row: calculate_common_word_proportion(row['cleaned_question1'], row['cleaned_question2']), axis=1)\n",
    "X_train.head()"
   ]
  },
  {
   "cell_type": "code",
   "execution_count": 48,
   "metadata": {
    "colab": {
     "base_uri": "https://localhost:8080/",
     "height": 564
    },
    "id": "yf4kQbeJrZra",
    "outputId": "b7624361-22b3-425d-c8d3-5684d24492e3"
   },
   "outputs": [
    {
     "data": {
      "image/png": "[encoded data removed]",
      "text/plain": [
       "<Figure size 800x600 with 1 Axes>"
      ]
     },
     "metadata": {},
     "output_type": "display_data"
    }
   ],
   "source": [
    "plt.figure(figsize=(8, 6))\n",
    "sns.violinplot(x=y_train, y='common_word_proportion', data=X_train)\n",
    "plt.xlabel('Is Duplicate?')\n",
    "plt.ylabel('Common Word Proportions')\n",
    "plt.title('Correlation between Common Word Proportions and Duplicates')\n",
    "plt.show()"
   ]
  },
  {
   "cell_type": "markdown",
   "metadata": {
    "id": "6klsoyTtrY9w"
   },
   "source": [
    "There is not much of a correlation between the word proportions and whether the question pair is a duplicate or not. This could be due to the presence of stopwords."
   ]
  },
  {
   "cell_type": "code",
   "execution_count": 49,
   "metadata": {
    "colab": {
     "base_uri": "https://localhost:8080/"
    },
    "id": "f02J-hjruXAN",
    "outputId": "40ba9772-2ea3-4281-dfac-ce7b22b973bb"
   },
   "outputs": [
    {
     "name": "stdout",
     "output_type": "stream",
     "text": [
      "Correlation Coefficient: 0.32972065285852686\n"
     ]
    }
   ],
   "source": [
    "correlation_coefficient = X_train['common_word_proportion'].corr(y_train)\n",
    "print(f\"Correlation Coefficient: {correlation_coefficient}\")"
   ]
  },
  {
   "cell_type": "markdown",
   "metadata": {
    "id": "TFGqN9OUuGnD"
   },
   "source": [
    "#### Excluding Stopwords"
   ]
  },
  {
   "cell_type": "code",
   "execution_count": 50,
   "metadata": {
    "id": "WjTOqWECn5Ps"
   },
   "outputs": [],
   "source": [
    "X_train['no_stops_question1'] = X_train['question1'].apply(lambda x: clean_text(x, remove_stopwords=True))\n",
    "X_train['no_stops_question2'] = X_train['question2'].apply(lambda x: clean_text(x, remove_stopwords=True))"
   ]
  },
  {
   "cell_type": "code",
   "execution_count": 51,
   "metadata": {
    "colab": {
     "base_uri": "https://localhost:8080/",
     "height": 573
    },
    "id": "4Dy2SPNdoTWk",
    "outputId": "ab8beb83-7e00-4d8f-d994-3e393362de58"
   },
   "outputs": [
    {
     "data": {
      "text/html": [
       "<div>\n",
       "<style scoped>\n",
       "    .dataframe tbody tr th:only-of-type {\n",
       "        vertical-align: middle;\n",
       "    }\n",
       "\n",
       "    .dataframe tbody tr th {\n",
       "        vertical-align: top;\n",
       "    }\n",
       "\n",
       "    .dataframe thead th {\n",
       "        text-align: right;\n",
       "    }\n",
       "</style>\n",
       "<table border=\"1\" class=\"dataframe\">\n",
       "  <thead>\n",
       "    <tr style=\"text-align: right;\">\n",
       "      <th></th>\n",
       "      <th>id</th>\n",
       "      <th>qid1</th>\n",
       "      <th>qid2</th>\n",
       "      <th>question1</th>\n",
       "      <th>question2</th>\n",
       "      <th>cleaned_question1</th>\n",
       "      <th>cleaned_question2</th>\n",
       "      <th>question1_word_count</th>\n",
       "      <th>question2_word_count</th>\n",
       "      <th>common_word_proportion</th>\n",
       "      <th>no_stops_question1</th>\n",
       "      <th>no_stops_question2</th>\n",
       "    </tr>\n",
       "  </thead>\n",
       "  <tbody>\n",
       "    <tr>\n",
       "      <th>80519</th>\n",
       "      <td>51432</td>\n",
       "      <td>91228</td>\n",
       "      <td>91229</td>\n",
       "      <td>Which topic is the most followed in Quora?</td>\n",
       "      <td>What topic on Quora has the most followers?</td>\n",
       "      <td>which topic is the most followed in quora</td>\n",
       "      <td>what topic on quora has the most followers</td>\n",
       "      <td>8</td>\n",
       "      <td>8</td>\n",
       "      <td>0.333333</td>\n",
       "      <td>topic followed quora</td>\n",
       "      <td>topic quora followers</td>\n",
       "    </tr>\n",
       "    <tr>\n",
       "      <th>349125</th>\n",
       "      <td>52249</td>\n",
       "      <td>92541</td>\n",
       "      <td>92542</td>\n",
       "      <td>What does it feel like to have sex with a rela...</td>\n",
       "      <td>Is it possible to eat more than you weigh?</td>\n",
       "      <td>what does it feel like to have sex with a rela...</td>\n",
       "      <td>is it possible to eat more than you weigh</td>\n",
       "      <td>13</td>\n",
       "      <td>9</td>\n",
       "      <td>0.100000</td>\n",
       "      <td>feel like sex relatively chubby female</td>\n",
       "      <td>possible eat weigh</td>\n",
       "    </tr>\n",
       "    <tr>\n",
       "      <th>126605</th>\n",
       "      <td>135176</td>\n",
       "      <td>215925</td>\n",
       "      <td>215926</td>\n",
       "      <td>Can I get back my best friend?</td>\n",
       "      <td>How do I get back to my best friend as my lover?</td>\n",
       "      <td>can i get back my best friend</td>\n",
       "      <td>how do i get back to my best friend as my lover</td>\n",
       "      <td>7</td>\n",
       "      <td>12</td>\n",
       "      <td>0.500000</td>\n",
       "      <td>get back best friend</td>\n",
       "      <td>get back best friend lover</td>\n",
       "    </tr>\n",
       "    <tr>\n",
       "      <th>6008</th>\n",
       "      <td>184003</td>\n",
       "      <td>281230</td>\n",
       "      <td>281231</td>\n",
       "      <td>Are there solar systems that act like a double...</td>\n",
       "      <td>As a Navy SEAL do you feel as if people are af...</td>\n",
       "      <td>are there solar systems that act like a double...</td>\n",
       "      <td>as a navy seal do you feel as if people are af...</td>\n",
       "      <td>10</td>\n",
       "      <td>20</td>\n",
       "      <td>0.086957</td>\n",
       "      <td>solar systems act like double pendulum</td>\n",
       "      <td>navy seal feel people afraid know seal</td>\n",
       "    </tr>\n",
       "    <tr>\n",
       "      <th>292788</th>\n",
       "      <td>5971</td>\n",
       "      <td>11714</td>\n",
       "      <td>11715</td>\n",
       "      <td>Why are there only few magnets?</td>\n",
       "      <td>Why is there only few magnets?</td>\n",
       "      <td>why are there only few magnets</td>\n",
       "      <td>why is there only few magnets</td>\n",
       "      <td>6</td>\n",
       "      <td>6</td>\n",
       "      <td>0.714286</td>\n",
       "      <td>magnets</td>\n",
       "      <td>magnets</td>\n",
       "    </tr>\n",
       "  </tbody>\n",
       "</table>\n",
       "</div>"
      ],
      "text/plain": [
       "            id    qid1    qid2  \\\n",
       "80519    51432   91228   91229   \n",
       "349125   52249   92541   92542   \n",
       "126605  135176  215925  215926   \n",
       "6008    184003  281230  281231   \n",
       "292788    5971   11714   11715   \n",
       "\n",
       "                                                question1  \\\n",
       "80519          Which topic is the most followed in Quora?   \n",
       "349125  What does it feel like to have sex with a rela...   \n",
       "126605                     Can I get back my best friend?   \n",
       "6008    Are there solar systems that act like a double...   \n",
       "292788                    Why are there only few magnets?   \n",
       "\n",
       "                                                question2  \\\n",
       "80519         What topic on Quora has the most followers?   \n",
       "349125         Is it possible to eat more than you weigh?   \n",
       "126605   How do I get back to my best friend as my lover?   \n",
       "6008    As a Navy SEAL do you feel as if people are af...   \n",
       "292788                     Why is there only few magnets?   \n",
       "\n",
       "                                        cleaned_question1  \\\n",
       "80519          which topic is the most followed in quora    \n",
       "349125  what does it feel like to have sex with a rela...   \n",
       "126605                     can i get back my best friend    \n",
       "6008    are there solar systems that act like a double...   \n",
       "292788                    why are there only few magnets    \n",
       "\n",
       "                                        cleaned_question2  \\\n",
       "80519         what topic on quora has the most followers    \n",
       "349125         is it possible to eat more than you weigh    \n",
       "126605   how do i get back to my best friend as my lover    \n",
       "6008    as a navy seal do you feel as if people are af...   \n",
       "292788                     why is there only few magnets    \n",
       "\n",
       "        question1_word_count  question2_word_count  common_word_proportion  \\\n",
       "80519                      8                     8                0.333333   \n",
       "349125                    13                     9                0.100000   \n",
       "126605                     7                    12                0.500000   \n",
       "6008                      10                    20                0.086957   \n",
       "292788                     6                     6                0.714286   \n",
       "\n",
       "                            no_stops_question1  \\\n",
       "80519                     topic followed quora   \n",
       "349125  feel like sex relatively chubby female   \n",
       "126605                    get back best friend   \n",
       "6008    solar systems act like double pendulum   \n",
       "292788                                 magnets   \n",
       "\n",
       "                            no_stops_question2  \n",
       "80519                    topic quora followers  \n",
       "349125                      possible eat weigh  \n",
       "126605              get back best friend lover  \n",
       "6008    navy seal feel people afraid know seal  \n",
       "292788                                 magnets  "
      ]
     },
     "execution_count": 51,
     "metadata": {},
     "output_type": "execute_result"
    }
   ],
   "source": [
    "X_train.head()"
   ]
  },
  {
   "cell_type": "code",
   "execution_count": 52,
   "metadata": {
    "colab": {
     "base_uri": "https://localhost:8080/",
     "height": 573
    },
    "id": "LzX-EeCZomuc",
    "outputId": "4333ace8-4850-42c7-8e0b-dc4f42455442"
   },
   "outputs": [
    {
     "data": {
      "text/html": [
       "<div>\n",
       "<style scoped>\n",
       "    .dataframe tbody tr th:only-of-type {\n",
       "        vertical-align: middle;\n",
       "    }\n",
       "\n",
       "    .dataframe tbody tr th {\n",
       "        vertical-align: top;\n",
       "    }\n",
       "\n",
       "    .dataframe thead th {\n",
       "        text-align: right;\n",
       "    }\n",
       "</style>\n",
       "<table border=\"1\" class=\"dataframe\">\n",
       "  <thead>\n",
       "    <tr style=\"text-align: right;\">\n",
       "      <th></th>\n",
       "      <th>id</th>\n",
       "      <th>qid1</th>\n",
       "      <th>qid2</th>\n",
       "      <th>question1</th>\n",
       "      <th>question2</th>\n",
       "      <th>cleaned_question1</th>\n",
       "      <th>cleaned_question2</th>\n",
       "      <th>question1_word_count</th>\n",
       "      <th>question2_word_count</th>\n",
       "      <th>common_word_proportion</th>\n",
       "      <th>no_stops_question1</th>\n",
       "      <th>no_stops_question2</th>\n",
       "      <th>common_word_proportion_no_stops</th>\n",
       "    </tr>\n",
       "  </thead>\n",
       "  <tbody>\n",
       "    <tr>\n",
       "      <th>80519</th>\n",
       "      <td>51432</td>\n",
       "      <td>91228</td>\n",
       "      <td>91229</td>\n",
       "      <td>Which topic is the most followed in Quora?</td>\n",
       "      <td>What topic on Quora has the most followers?</td>\n",
       "      <td>which topic is the most followed in quora</td>\n",
       "      <td>what topic on quora has the most followers</td>\n",
       "      <td>8</td>\n",
       "      <td>8</td>\n",
       "      <td>0.333333</td>\n",
       "      <td>topic followed quora</td>\n",
       "      <td>topic quora followers</td>\n",
       "      <td>0.5</td>\n",
       "    </tr>\n",
       "    <tr>\n",
       "      <th>349125</th>\n",
       "      <td>52249</td>\n",
       "      <td>92541</td>\n",
       "      <td>92542</td>\n",
       "      <td>What does it feel like to have sex with a rela...</td>\n",
       "      <td>Is it possible to eat more than you weigh?</td>\n",
       "      <td>what does it feel like to have sex with a rela...</td>\n",
       "      <td>is it possible to eat more than you weigh</td>\n",
       "      <td>13</td>\n",
       "      <td>9</td>\n",
       "      <td>0.100000</td>\n",
       "      <td>feel like sex relatively chubby female</td>\n",
       "      <td>possible eat weigh</td>\n",
       "      <td>0.0</td>\n",
       "    </tr>\n",
       "    <tr>\n",
       "      <th>126605</th>\n",
       "      <td>135176</td>\n",
       "      <td>215925</td>\n",
       "      <td>215926</td>\n",
       "      <td>Can I get back my best friend?</td>\n",
       "      <td>How do I get back to my best friend as my lover?</td>\n",
       "      <td>can i get back my best friend</td>\n",
       "      <td>how do i get back to my best friend as my lover</td>\n",
       "      <td>7</td>\n",
       "      <td>12</td>\n",
       "      <td>0.500000</td>\n",
       "      <td>get back best friend</td>\n",
       "      <td>get back best friend lover</td>\n",
       "      <td>0.8</td>\n",
       "    </tr>\n",
       "    <tr>\n",
       "      <th>6008</th>\n",
       "      <td>184003</td>\n",
       "      <td>281230</td>\n",
       "      <td>281231</td>\n",
       "      <td>Are there solar systems that act like a double...</td>\n",
       "      <td>As a Navy SEAL do you feel as if people are af...</td>\n",
       "      <td>are there solar systems that act like a double...</td>\n",
       "      <td>as a navy seal do you feel as if people are af...</td>\n",
       "      <td>10</td>\n",
       "      <td>20</td>\n",
       "      <td>0.086957</td>\n",
       "      <td>solar systems act like double pendulum</td>\n",
       "      <td>navy seal feel people afraid know seal</td>\n",
       "      <td>0.0</td>\n",
       "    </tr>\n",
       "    <tr>\n",
       "      <th>292788</th>\n",
       "      <td>5971</td>\n",
       "      <td>11714</td>\n",
       "      <td>11715</td>\n",
       "      <td>Why are there only few magnets?</td>\n",
       "      <td>Why is there only few magnets?</td>\n",
       "      <td>why are there only few magnets</td>\n",
       "      <td>why is there only few magnets</td>\n",
       "      <td>6</td>\n",
       "      <td>6</td>\n",
       "      <td>0.714286</td>\n",
       "      <td>magnets</td>\n",
       "      <td>magnets</td>\n",
       "      <td>1.0</td>\n",
       "    </tr>\n",
       "  </tbody>\n",
       "</table>\n",
       "</div>"
      ],
      "text/plain": [
       "            id    qid1    qid2  \\\n",
       "80519    51432   91228   91229   \n",
       "349125   52249   92541   92542   \n",
       "126605  135176  215925  215926   \n",
       "6008    184003  281230  281231   \n",
       "292788    5971   11714   11715   \n",
       "\n",
       "                                                question1  \\\n",
       "80519          Which topic is the most followed in Quora?   \n",
       "349125  What does it feel like to have sex with a rela...   \n",
       "126605                     Can I get back my best friend?   \n",
       "6008    Are there solar systems that act like a double...   \n",
       "292788                    Why are there only few magnets?   \n",
       "\n",
       "                                                question2  \\\n",
       "80519         What topic on Quora has the most followers?   \n",
       "349125         Is it possible to eat more than you weigh?   \n",
       "126605   How do I get back to my best friend as my lover?   \n",
       "6008    As a Navy SEAL do you feel as if people are af...   \n",
       "292788                     Why is there only few magnets?   \n",
       "\n",
       "                                        cleaned_question1  \\\n",
       "80519          which topic is the most followed in quora    \n",
       "349125  what does it feel like to have sex with a rela...   \n",
       "126605                     can i get back my best friend    \n",
       "6008    are there solar systems that act like a double...   \n",
       "292788                    why are there only few magnets    \n",
       "\n",
       "                                        cleaned_question2  \\\n",
       "80519         what topic on quora has the most followers    \n",
       "349125         is it possible to eat more than you weigh    \n",
       "126605   how do i get back to my best friend as my lover    \n",
       "6008    as a navy seal do you feel as if people are af...   \n",
       "292788                     why is there only few magnets    \n",
       "\n",
       "        question1_word_count  question2_word_count  common_word_proportion  \\\n",
       "80519                      8                     8                0.333333   \n",
       "349125                    13                     9                0.100000   \n",
       "126605                     7                    12                0.500000   \n",
       "6008                      10                    20                0.086957   \n",
       "292788                     6                     6                0.714286   \n",
       "\n",
       "                            no_stops_question1  \\\n",
       "80519                     topic followed quora   \n",
       "349125  feel like sex relatively chubby female   \n",
       "126605                    get back best friend   \n",
       "6008    solar systems act like double pendulum   \n",
       "292788                                 magnets   \n",
       "\n",
       "                            no_stops_question2  \\\n",
       "80519                    topic quora followers   \n",
       "349125                      possible eat weigh   \n",
       "126605              get back best friend lover   \n",
       "6008    navy seal feel people afraid know seal   \n",
       "292788                                 magnets   \n",
       "\n",
       "        common_word_proportion_no_stops  \n",
       "80519                               0.5  \n",
       "349125                              0.0  \n",
       "126605                              0.8  \n",
       "6008                                0.0  \n",
       "292788                              1.0  "
      ]
     },
     "execution_count": 52,
     "metadata": {},
     "output_type": "execute_result"
    }
   ],
   "source": [
    "X_train['common_word_proportion_no_stops'] = X_train.apply(lambda row: calculate_common_word_proportion(row['no_stops_question1'], row['no_stops_question2']), axis=1)\n",
    "X_train.head()"
   ]
  },
  {
   "cell_type": "code",
   "execution_count": 53,
   "metadata": {
    "colab": {
     "base_uri": "https://localhost:8080/",
     "height": 564
    },
    "id": "jbvdbpR_qSUh",
    "outputId": "02080418-9a0e-4fc4-f50c-eb56b795ddab"
   },
   "outputs": [
    {
     "data": {
      "image/png": "[encoded data removed]",
      "text/plain": [
       "<Figure size 800x600 with 1 Axes>"
      ]
     },
     "metadata": {},
     "output_type": "display_data"
    }
   ],
   "source": [
    "plt.figure(figsize=(8, 6))\n",
    "sns.violinplot(x=y_train, y='common_word_proportion_no_stops', data=X_train)\n",
    "plt.xlabel('Is Duplicate?')\n",
    "plt.ylabel('Common Word Proportions (Excluding stopwords)')\n",
    "plt.title('Correlation between Common Word Proportions (Excluding stopwords) and Duplicates')\n",
    "plt.show()"
   ]
  },
  {
   "cell_type": "markdown",
   "metadata": {
    "id": "pvPTXPV-q9S5"
   },
   "source": [
    "It can be observed from the plot above that there is a small correlation between the proportion of common words (excluding stopwords) and whether the question pair is a duplicate or not.\n",
    "\n",
    "If the proportion of common words is low (close to zero), them there is a high probability that it is not a duplicate.\n",
    "\n",
    "In this example, we treat all words equally. We can use TF-IDF to weigh each word so that if an uncommon word appears in both questions, it can be mean there is a higher chance of the questions being duplicates."
   ]
  },
  {
   "cell_type": "code",
   "execution_count": 54,
   "metadata": {
    "colab": {
     "base_uri": "https://localhost:8080/"
    },
    "id": "Vpqwra-ZvAMZ",
    "outputId": "50b61be4-dd3d-4a98-d38d-3d7e76f540db"
   },
   "outputs": [
    {
     "name": "stdout",
     "output_type": "stream",
     "text": [
      "Correlation Coefficient: 0.392073875780004\n"
     ]
    }
   ],
   "source": [
    "correlation_coefficient = X_train['common_word_proportion_no_stops'].corr(y_train)\n",
    "print(f\"Correlation Coefficient: {correlation_coefficient}\")"
   ]
  },
  {
   "cell_type": "markdown",
   "metadata": {
    "id": "QE7UFzETpc9j"
   },
   "source": [
    "#### TF-IDF Similarity"
   ]
  },
  {
   "cell_type": "code",
   "execution_count": 56,
   "metadata": {
    "colab": {
     "base_uri": "https://localhost:8080/"
    },
    "id": "A8GJTjWpk9e5",
    "outputId": "760d2c70-531c-47de-860a-7ce771e5f37d"
   },
   "outputs": [
    {
     "data": {
      "text/plain": [
       "['tfidf_vectorizer.joblib']"
      ]
     },
     "execution_count": 56,
     "metadata": {},
     "output_type": "execute_result"
    }
   ],
   "source": [
    "vectorizer = TfidfVectorizer()\n",
    "\n",
    "q1 = X_train['no_stops_question1']\n",
    "q2 = X_train['no_stops_question2']\n",
    "\n",
    "# fit questions\n",
    "q1_concat_q2 = pd.concat([q1, q2])\n",
    "tfidf_vectorizer = vectorizer.fit(q1_concat_q2)\n",
    "tfidf_matrix = tfidf_vectorizer.transform(q1_concat_q2)\n",
    "\n",
    "dump(tfidf_vectorizer, 'tfidf_vectorizer.joblib')"
   ]
  },
  {
   "cell_type": "code",
   "execution_count": 57,
   "metadata": {
    "colab": {
     "base_uri": "https://localhost:8080/"
    },
    "id": "EEK2F-E1Z9mi",
    "outputId": "c6fc61a7-9b2a-4f71-e2dd-bee36d32d32f"
   },
   "outputs": [
    {
     "data": {
      "text/plain": [
       "(80519                                  topic followed quora\n",
       " 349125               feel like sex relatively chubby female\n",
       " 126605                                 get back best friend\n",
       " 6008                 solar systems act like double pendulum\n",
       " 292788                                              magnets\n",
       "                                 ...                        \n",
       " 119879    created character bunch people made fake wikip...\n",
       " 259178    today 15 ton crane used 10 15 minutes motor go...\n",
       " 131932                          herpes outbreak one blister\n",
       " 146867                                                 nato\n",
       " 121958                                  actual meaning life\n",
       " Length: 327461, dtype: object,\n",
       " 80519                                 topic quora followers\n",
       " 349125                                   possible eat weigh\n",
       " 126605                           get back best friend lover\n",
       " 6008                 navy seal feel people afraid know seal\n",
       " 292788                                              magnets\n",
       "                                 ...                        \n",
       " 119879    foreigner understand thing mocking trump peopl...\n",
       " 259178    really interesting images cast light european ...\n",
       " 131932                 possible herpes outbreak one blister\n",
       " 146867                         nato still boycotting russia\n",
       " 121958                                  meaning living life\n",
       " Length: 327461, dtype: object)"
      ]
     },
     "execution_count": 57,
     "metadata": {},
     "output_type": "execute_result"
    }
   ],
   "source": [
    "q1_concat_q2[:len(X_train)], q1_concat_q2[len(X_train):]"
   ]
  },
  {
   "cell_type": "code",
   "execution_count": 58,
   "metadata": {
    "colab": {
     "base_uri": "https://localhost:8080/"
    },
    "id": "ukEHak5ElHzk",
    "outputId": "86764ed2-ff9d-4756-98e6-1253e651673e"
   },
   "outputs": [
    {
     "data": {
      "text/plain": [
       "(654922, 77634)"
      ]
     },
     "execution_count": 58,
     "metadata": {},
     "output_type": "execute_result"
    }
   ],
   "source": [
    "tfidf_matrix.shape"
   ]
  },
  {
   "cell_type": "code",
   "execution_count": 59,
   "metadata": {
    "id": "8l85yPCAvEgK"
   },
   "outputs": [],
   "source": [
    "from sklearn.metrics.pairwise import cosine_similarity\n",
    "\n",
    "def tfidf_word_share(doc1_idx, doc2_idx, tfidf_matrix):\n",
    "  tfidf_doc1 = tfidf_matrix[doc1_idx]\n",
    "  tfidf_doc2 = tfidf_matrix[doc2_idx]\n",
    "  cosine_sim = cosine_similarity(tfidf_doc1, tfidf_doc2)\n",
    "  similarity_score = cosine_sim[0][0]\n",
    "  return similarity_score"
   ]
  },
  {
   "cell_type": "code",
   "execution_count": 60,
   "metadata": {
    "id": "C_ZPPc93dMjn"
   },
   "outputs": [],
   "source": [
    "X_train['tfidf_similarity'] = [tfidf_word_share(i, i + len(X_train), tfidf_matrix) for i in range(len(X_train))]"
   ]
  },
  {
   "cell_type": "code",
   "execution_count": 61,
   "metadata": {
    "colab": {
     "base_uri": "https://localhost:8080/",
     "height": 1000
    },
    "id": "M6GZ7r_Td24N",
    "outputId": "b87f5dc4-8804-4601-ec62-aa1b9d18ff45"
   },
   "outputs": [
    {
     "data": {
      "text/html": [
       "<div>\n",
       "<style scoped>\n",
       "    .dataframe tbody tr th:only-of-type {\n",
       "        vertical-align: middle;\n",
       "    }\n",
       "\n",
       "    .dataframe tbody tr th {\n",
       "        vertical-align: top;\n",
       "    }\n",
       "\n",
       "    .dataframe thead th {\n",
       "        text-align: right;\n",
       "    }\n",
       "</style>\n",
       "<table border=\"1\" class=\"dataframe\">\n",
       "  <thead>\n",
       "    <tr style=\"text-align: right;\">\n",
       "      <th></th>\n",
       "      <th>id</th>\n",
       "      <th>qid1</th>\n",
       "      <th>qid2</th>\n",
       "      <th>question1</th>\n",
       "      <th>question2</th>\n",
       "      <th>cleaned_question1</th>\n",
       "      <th>cleaned_question2</th>\n",
       "      <th>question1_word_count</th>\n",
       "      <th>question2_word_count</th>\n",
       "      <th>common_word_proportion</th>\n",
       "      <th>no_stops_question1</th>\n",
       "      <th>no_stops_question2</th>\n",
       "      <th>common_word_proportion_no_stops</th>\n",
       "      <th>tfidf_similarity</th>\n",
       "    </tr>\n",
       "  </thead>\n",
       "  <tbody>\n",
       "    <tr>\n",
       "      <th>80519</th>\n",
       "      <td>51432</td>\n",
       "      <td>91228</td>\n",
       "      <td>91229</td>\n",
       "      <td>Which topic is the most followed in Quora?</td>\n",
       "      <td>What topic on Quora has the most followers?</td>\n",
       "      <td>which topic is the most followed in quora</td>\n",
       "      <td>what topic on quora has the most followers</td>\n",
       "      <td>8</td>\n",
       "      <td>8</td>\n",
       "      <td>0.333333</td>\n",
       "      <td>topic followed quora</td>\n",
       "      <td>topic quora followers</td>\n",
       "      <td>0.5</td>\n",
       "      <td>0.564432</td>\n",
       "    </tr>\n",
       "    <tr>\n",
       "      <th>349125</th>\n",
       "      <td>52249</td>\n",
       "      <td>92541</td>\n",
       "      <td>92542</td>\n",
       "      <td>What does it feel like to have sex with a rela...</td>\n",
       "      <td>Is it possible to eat more than you weigh?</td>\n",
       "      <td>what does it feel like to have sex with a rela...</td>\n",
       "      <td>is it possible to eat more than you weigh</td>\n",
       "      <td>13</td>\n",
       "      <td>9</td>\n",
       "      <td>0.100000</td>\n",
       "      <td>feel like sex relatively chubby female</td>\n",
       "      <td>possible eat weigh</td>\n",
       "      <td>0.0</td>\n",
       "      <td>0.000000</td>\n",
       "    </tr>\n",
       "    <tr>\n",
       "      <th>126605</th>\n",
       "      <td>135176</td>\n",
       "      <td>215925</td>\n",
       "      <td>215926</td>\n",
       "      <td>Can I get back my best friend?</td>\n",
       "      <td>How do I get back to my best friend as my lover?</td>\n",
       "      <td>can i get back my best friend</td>\n",
       "      <td>how do i get back to my best friend as my lover</td>\n",
       "      <td>7</td>\n",
       "      <td>12</td>\n",
       "      <td>0.500000</td>\n",
       "      <td>get back best friend</td>\n",
       "      <td>get back best friend lover</td>\n",
       "      <td>0.8</td>\n",
       "      <td>0.730278</td>\n",
       "    </tr>\n",
       "    <tr>\n",
       "      <th>6008</th>\n",
       "      <td>184003</td>\n",
       "      <td>281230</td>\n",
       "      <td>281231</td>\n",
       "      <td>Are there solar systems that act like a double...</td>\n",
       "      <td>As a Navy SEAL do you feel as if people are af...</td>\n",
       "      <td>are there solar systems that act like a double...</td>\n",
       "      <td>as a navy seal do you feel as if people are af...</td>\n",
       "      <td>10</td>\n",
       "      <td>20</td>\n",
       "      <td>0.086957</td>\n",
       "      <td>solar systems act like double pendulum</td>\n",
       "      <td>navy seal feel people afraid know seal</td>\n",
       "      <td>0.0</td>\n",
       "      <td>0.000000</td>\n",
       "    </tr>\n",
       "    <tr>\n",
       "      <th>292788</th>\n",
       "      <td>5971</td>\n",
       "      <td>11714</td>\n",
       "      <td>11715</td>\n",
       "      <td>Why are there only few magnets?</td>\n",
       "      <td>Why is there only few magnets?</td>\n",
       "      <td>why are there only few magnets</td>\n",
       "      <td>why is there only few magnets</td>\n",
       "      <td>6</td>\n",
       "      <td>6</td>\n",
       "      <td>0.714286</td>\n",
       "      <td>magnets</td>\n",
       "      <td>magnets</td>\n",
       "      <td>1.0</td>\n",
       "      <td>1.000000</td>\n",
       "    </tr>\n",
       "  </tbody>\n",
       "</table>\n",
       "</div>"
      ],
      "text/plain": [
       "            id    qid1    qid2  \\\n",
       "80519    51432   91228   91229   \n",
       "349125   52249   92541   92542   \n",
       "126605  135176  215925  215926   \n",
       "6008    184003  281230  281231   \n",
       "292788    5971   11714   11715   \n",
       "\n",
       "                                                question1  \\\n",
       "80519          Which topic is the most followed in Quora?   \n",
       "349125  What does it feel like to have sex with a rela...   \n",
       "126605                     Can I get back my best friend?   \n",
       "6008    Are there solar systems that act like a double...   \n",
       "292788                    Why are there only few magnets?   \n",
       "\n",
       "                                                question2  \\\n",
       "80519         What topic on Quora has the most followers?   \n",
       "349125         Is it possible to eat more than you weigh?   \n",
       "126605   How do I get back to my best friend as my lover?   \n",
       "6008    As a Navy SEAL do you feel as if people are af...   \n",
       "292788                     Why is there only few magnets?   \n",
       "\n",
       "                                        cleaned_question1  \\\n",
       "80519          which topic is the most followed in quora    \n",
       "349125  what does it feel like to have sex with a rela...   \n",
       "126605                     can i get back my best friend    \n",
       "6008    are there solar systems that act like a double...   \n",
       "292788                    why are there only few magnets    \n",
       "\n",
       "                                        cleaned_question2  \\\n",
       "80519         what topic on quora has the most followers    \n",
       "349125         is it possible to eat more than you weigh    \n",
       "126605   how do i get back to my best friend as my lover    \n",
       "6008    as a navy seal do you feel as if people are af...   \n",
       "292788                     why is there only few magnets    \n",
       "\n",
       "        question1_word_count  question2_word_count  common_word_proportion  \\\n",
       "80519                      8                     8                0.333333   \n",
       "349125                    13                     9                0.100000   \n",
       "126605                     7                    12                0.500000   \n",
       "6008                      10                    20                0.086957   \n",
       "292788                     6                     6                0.714286   \n",
       "\n",
       "                            no_stops_question1  \\\n",
       "80519                     topic followed quora   \n",
       "349125  feel like sex relatively chubby female   \n",
       "126605                    get back best friend   \n",
       "6008    solar systems act like double pendulum   \n",
       "292788                                 magnets   \n",
       "\n",
       "                            no_stops_question2  \\\n",
       "80519                    topic quora followers   \n",
       "349125                      possible eat weigh   \n",
       "126605              get back best friend lover   \n",
       "6008    navy seal feel people afraid know seal   \n",
       "292788                                 magnets   \n",
       "\n",
       "        common_word_proportion_no_stops  tfidf_similarity  \n",
       "80519                               0.5          0.564432  \n",
       "349125                              0.0          0.000000  \n",
       "126605                              0.8          0.730278  \n",
       "6008                                0.0          0.000000  \n",
       "292788                              1.0          1.000000  "
      ]
     },
     "execution_count": 61,
     "metadata": {},
     "output_type": "execute_result"
    }
   ],
   "source": [
    "X_train.head()"
   ]
  },
  {
   "cell_type": "code",
   "execution_count": 70,
   "metadata": {
    "colab": {
     "base_uri": "https://localhost:8080/",
     "height": 564
    },
    "id": "TuALVe2UfKSM",
    "outputId": "00021422-494f-4864-c14f-1ed8a96389fb"
   },
   "outputs": [
    {
     "data": {
      "image/png": "[encoded data removed]",
      "text/plain": [
       "<Figure size 800x600 with 1 Axes>"
      ]
     },
     "metadata": {},
     "output_type": "display_data"
    }
   ],
   "source": [
    "plt.figure(figsize=(8, 6))\n",
    "sns.violinplot(x=y_train, y='tfidf_similarity', data=X_train)\n",
    "plt.xlabel('Is Duplicate?')\n",
    "plt.ylabel('TF-IDF Similarity')\n",
    "plt.title('Correlation between Tf-IDF Similarity and Duplicates')\n",
    "plt.show()"
   ]
  },
  {
   "cell_type": "code",
   "execution_count": 71,
   "metadata": {
    "colab": {
     "base_uri": "https://localhost:8080/"
    },
    "id": "mG5EPxl5fe1N",
    "outputId": "80413c7f-9539-4240-bc80-cd09bc0b6da9"
   },
   "outputs": [
    {
     "name": "stdout",
     "output_type": "stream",
     "text": [
      "Correlation Coefficient: 0.39573865489421195\n"
     ]
    }
   ],
   "source": [
    "correlation_coefficient = X_train['tfidf_similarity'].corr(y_train)\n",
    "print(f\"Correlation Coefficient: {correlation_coefficient}\")"
   ]
  },
  {
   "cell_type": "markdown",
   "metadata": {
    "id": "bNRxfCCfft7Q"
   },
   "source": [
    "### Difference in Question Character Count"
   ]
  },
  {
   "cell_type": "code",
   "execution_count": 72,
   "metadata": {
    "colab": {
     "base_uri": "https://localhost:8080/",
     "height": 573
    },
    "id": "ILHsG_zvftAy",
    "outputId": "f317a95e-b3f7-4a50-ae37-2099a2670f59"
   },
   "outputs": [
    {
     "data": {
      "text/html": [
       "<div>\n",
       "<style scoped>\n",
       "    .dataframe tbody tr th:only-of-type {\n",
       "        vertical-align: middle;\n",
       "    }\n",
       "\n",
       "    .dataframe tbody tr th {\n",
       "        vertical-align: top;\n",
       "    }\n",
       "\n",
       "    .dataframe thead th {\n",
       "        text-align: right;\n",
       "    }\n",
       "</style>\n",
       "<table border=\"1\" class=\"dataframe\">\n",
       "  <thead>\n",
       "    <tr style=\"text-align: right;\">\n",
       "      <th></th>\n",
       "      <th>id</th>\n",
       "      <th>qid1</th>\n",
       "      <th>qid2</th>\n",
       "      <th>question1</th>\n",
       "      <th>question2</th>\n",
       "      <th>cleaned_question1</th>\n",
       "      <th>cleaned_question2</th>\n",
       "      <th>question1_word_count</th>\n",
       "      <th>question2_word_count</th>\n",
       "      <th>common_word_proportion</th>\n",
       "      <th>no_stops_question1</th>\n",
       "      <th>no_stops_question2</th>\n",
       "      <th>common_word_proportion_no_stops</th>\n",
       "      <th>tfidf_similarity</th>\n",
       "      <th>char_count_diff</th>\n",
       "      <th>question_length_diff</th>\n",
       "    </tr>\n",
       "  </thead>\n",
       "  <tbody>\n",
       "    <tr>\n",
       "      <th>80519</th>\n",
       "      <td>51432</td>\n",
       "      <td>91228</td>\n",
       "      <td>91229</td>\n",
       "      <td>Which topic is the most followed in Quora?</td>\n",
       "      <td>What topic on Quora has the most followers?</td>\n",
       "      <td>which topic is the most followed in quora</td>\n",
       "      <td>what topic on quora has the most followers</td>\n",
       "      <td>8</td>\n",
       "      <td>8</td>\n",
       "      <td>0.333333</td>\n",
       "      <td>topic followed quora</td>\n",
       "      <td>topic quora followers</td>\n",
       "      <td>0.5</td>\n",
       "      <td>0.564432</td>\n",
       "      <td>1</td>\n",
       "      <td>0</td>\n",
       "    </tr>\n",
       "    <tr>\n",
       "      <th>349125</th>\n",
       "      <td>52249</td>\n",
       "      <td>92541</td>\n",
       "      <td>92542</td>\n",
       "      <td>What does it feel like to have sex with a rela...</td>\n",
       "      <td>Is it possible to eat more than you weigh?</td>\n",
       "      <td>what does it feel like to have sex with a rela...</td>\n",
       "      <td>is it possible to eat more than you weigh</td>\n",
       "      <td>13</td>\n",
       "      <td>9</td>\n",
       "      <td>0.100000</td>\n",
       "      <td>feel like sex relatively chubby female</td>\n",
       "      <td>possible eat weigh</td>\n",
       "      <td>0.0</td>\n",
       "      <td>0.000000</td>\n",
       "      <td>25</td>\n",
       "      <td>4</td>\n",
       "    </tr>\n",
       "    <tr>\n",
       "      <th>126605</th>\n",
       "      <td>135176</td>\n",
       "      <td>215925</td>\n",
       "      <td>215926</td>\n",
       "      <td>Can I get back my best friend?</td>\n",
       "      <td>How do I get back to my best friend as my lover?</td>\n",
       "      <td>can i get back my best friend</td>\n",
       "      <td>how do i get back to my best friend as my lover</td>\n",
       "      <td>7</td>\n",
       "      <td>12</td>\n",
       "      <td>0.500000</td>\n",
       "      <td>get back best friend</td>\n",
       "      <td>get back best friend lover</td>\n",
       "      <td>0.8</td>\n",
       "      <td>0.730278</td>\n",
       "      <td>18</td>\n",
       "      <td>5</td>\n",
       "    </tr>\n",
       "    <tr>\n",
       "      <th>6008</th>\n",
       "      <td>184003</td>\n",
       "      <td>281230</td>\n",
       "      <td>281231</td>\n",
       "      <td>Are there solar systems that act like a double...</td>\n",
       "      <td>As a Navy SEAL do you feel as if people are af...</td>\n",
       "      <td>are there solar systems that act like a double...</td>\n",
       "      <td>as a navy seal do you feel as if people are af...</td>\n",
       "      <td>10</td>\n",
       "      <td>20</td>\n",
       "      <td>0.086957</td>\n",
       "      <td>solar systems act like double pendulum</td>\n",
       "      <td>navy seal feel people afraid know seal</td>\n",
       "      <td>0.0</td>\n",
       "      <td>0.000000</td>\n",
       "      <td>28</td>\n",
       "      <td>10</td>\n",
       "    </tr>\n",
       "    <tr>\n",
       "      <th>292788</th>\n",
       "      <td>5971</td>\n",
       "      <td>11714</td>\n",
       "      <td>11715</td>\n",
       "      <td>Why are there only few magnets?</td>\n",
       "      <td>Why is there only few magnets?</td>\n",
       "      <td>why are there only few magnets</td>\n",
       "      <td>why is there only few magnets</td>\n",
       "      <td>6</td>\n",
       "      <td>6</td>\n",
       "      <td>0.714286</td>\n",
       "      <td>magnets</td>\n",
       "      <td>magnets</td>\n",
       "      <td>1.0</td>\n",
       "      <td>1.000000</td>\n",
       "      <td>1</td>\n",
       "      <td>0</td>\n",
       "    </tr>\n",
       "  </tbody>\n",
       "</table>\n",
       "</div>"
      ],
      "text/plain": [
       "            id    qid1    qid2  \\\n",
       "80519    51432   91228   91229   \n",
       "349125   52249   92541   92542   \n",
       "126605  135176  215925  215926   \n",
       "6008    184003  281230  281231   \n",
       "292788    5971   11714   11715   \n",
       "\n",
       "                                                question1  \\\n",
       "80519          Which topic is the most followed in Quora?   \n",
       "349125  What does it feel like to have sex with a rela...   \n",
       "126605                     Can I get back my best friend?   \n",
       "6008    Are there solar systems that act like a double...   \n",
       "292788                    Why are there only few magnets?   \n",
       "\n",
       "                                                question2  \\\n",
       "80519         What topic on Quora has the most followers?   \n",
       "349125         Is it possible to eat more than you weigh?   \n",
       "126605   How do I get back to my best friend as my lover?   \n",
       "6008    As a Navy SEAL do you feel as if people are af...   \n",
       "292788                     Why is there only few magnets?   \n",
       "\n",
       "                                        cleaned_question1  \\\n",
       "80519          which topic is the most followed in quora    \n",
       "349125  what does it feel like to have sex with a rela...   \n",
       "126605                     can i get back my best friend    \n",
       "6008    are there solar systems that act like a double...   \n",
       "292788                    why are there only few magnets    \n",
       "\n",
       "                                        cleaned_question2  \\\n",
       "80519         what topic on quora has the most followers    \n",
       "349125         is it possible to eat more than you weigh    \n",
       "126605   how do i get back to my best friend as my lover    \n",
       "6008    as a navy seal do you feel as if people are af...   \n",
       "292788                     why is there only few magnets    \n",
       "\n",
       "        question1_word_count  question2_word_count  common_word_proportion  \\\n",
       "80519                      8                     8                0.333333   \n",
       "349125                    13                     9                0.100000   \n",
       "126605                     7                    12                0.500000   \n",
       "6008                      10                    20                0.086957   \n",
       "292788                     6                     6                0.714286   \n",
       "\n",
       "                            no_stops_question1  \\\n",
       "80519                     topic followed quora   \n",
       "349125  feel like sex relatively chubby female   \n",
       "126605                    get back best friend   \n",
       "6008    solar systems act like double pendulum   \n",
       "292788                                 magnets   \n",
       "\n",
       "                            no_stops_question2  \\\n",
       "80519                    topic quora followers   \n",
       "349125                      possible eat weigh   \n",
       "126605              get back best friend lover   \n",
       "6008    navy seal feel people afraid know seal   \n",
       "292788                                 magnets   \n",
       "\n",
       "        common_word_proportion_no_stops  tfidf_similarity  char_count_diff  \\\n",
       "80519                               0.5          0.564432                1   \n",
       "349125                              0.0          0.000000               25   \n",
       "126605                              0.8          0.730278               18   \n",
       "6008                                0.0          0.000000               28   \n",
       "292788                              1.0          1.000000                1   \n",
       "\n",
       "        question_length_diff  \n",
       "80519                      0  \n",
       "349125                     4  \n",
       "126605                     5  \n",
       "6008                      10  \n",
       "292788                     0  "
      ]
     },
     "execution_count": 72,
     "metadata": {},
     "output_type": "execute_result"
    }
   ],
   "source": [
    "X_train['char_count_diff'] = abs(X_train['question1'].str.len() - X_train['question2'].str.len())\n",
    "X_train.head()"
   ]
  },
  {
   "cell_type": "code",
   "execution_count": 73,
   "metadata": {
    "colab": {
     "base_uri": "https://localhost:8080/",
     "height": 564
    },
    "id": "HEpmBgdMggYw",
    "outputId": "bac06d3f-0987-4cc7-8d27-b9f399c9ce59"
   },
   "outputs": [
    {
     "data": {
      "image/png": "[encoded data removed]",
      "text/plain": [
       "<Figure size 800x600 with 1 Axes>"
      ]
     },
     "metadata": {},
     "output_type": "display_data"
    }
   ],
   "source": [
    "plt.figure(figsize=(8, 6))\n",
    "sns.violinplot(x=y_train, y='char_count_diff', data=X_train)\n",
    "plt.xlabel('Is Duplicate?')\n",
    "plt.ylabel('Character Count Difference')\n",
    "plt.title('Correlation between Character Count Difference and Duplicate Questions')\n",
    "plt.show()"
   ]
  },
  {
   "cell_type": "code",
   "execution_count": 74,
   "metadata": {
    "colab": {
     "base_uri": "https://localhost:8080/"
    },
    "id": "91RVn5XQgn2D",
    "outputId": "eb4f758f-6143-4272-bd32-5c6510336bb7"
   },
   "outputs": [
    {
     "name": "stdout",
     "output_type": "stream",
     "text": [
      "Correlation Coefficient: -0.21050559749472827\n"
     ]
    }
   ],
   "source": [
    "correlation_coefficient = X_train['char_count_diff'].corr(y_train)\n",
    "print(f\"Correlation Coefficient: {correlation_coefficient}\")"
   ]
  },
  {
   "cell_type": "markdown",
   "metadata": {
    "id": "b_EiaREVzZUT"
   },
   "source": [
    "### Difference in Question Length\n",
    "\n",
    "Check if there is a correlation between question having the same lengths and the question pair being a duplicate\n",
    "\n",
    "There doesn't seem to be a correlation, so the `question_length_diff` feature may not be too useful."
   ]
  },
  {
   "cell_type": "code",
   "execution_count": 75,
   "metadata": {
    "colab": {
     "base_uri": "https://localhost:8080/",
     "height": 573
    },
    "id": "gWTGpsyfu-qf",
    "outputId": "081aa85e-a69e-4714-c8ea-c613b269471b"
   },
   "outputs": [
    {
     "data": {
      "text/html": [
       "<div>\n",
       "<style scoped>\n",
       "    .dataframe tbody tr th:only-of-type {\n",
       "        vertical-align: middle;\n",
       "    }\n",
       "\n",
       "    .dataframe tbody tr th {\n",
       "        vertical-align: top;\n",
       "    }\n",
       "\n",
       "    .dataframe thead th {\n",
       "        text-align: right;\n",
       "    }\n",
       "</style>\n",
       "<table border=\"1\" class=\"dataframe\">\n",
       "  <thead>\n",
       "    <tr style=\"text-align: right;\">\n",
       "      <th></th>\n",
       "      <th>id</th>\n",
       "      <th>qid1</th>\n",
       "      <th>qid2</th>\n",
       "      <th>question1</th>\n",
       "      <th>question2</th>\n",
       "      <th>cleaned_question1</th>\n",
       "      <th>cleaned_question2</th>\n",
       "      <th>question1_word_count</th>\n",
       "      <th>question2_word_count</th>\n",
       "      <th>common_word_proportion</th>\n",
       "      <th>no_stops_question1</th>\n",
       "      <th>no_stops_question2</th>\n",
       "      <th>common_word_proportion_no_stops</th>\n",
       "      <th>tfidf_similarity</th>\n",
       "      <th>char_count_diff</th>\n",
       "      <th>question_length_diff</th>\n",
       "    </tr>\n",
       "  </thead>\n",
       "  <tbody>\n",
       "    <tr>\n",
       "      <th>80519</th>\n",
       "      <td>51432</td>\n",
       "      <td>91228</td>\n",
       "      <td>91229</td>\n",
       "      <td>Which topic is the most followed in Quora?</td>\n",
       "      <td>What topic on Quora has the most followers?</td>\n",
       "      <td>which topic is the most followed in quora</td>\n",
       "      <td>what topic on quora has the most followers</td>\n",
       "      <td>8</td>\n",
       "      <td>8</td>\n",
       "      <td>0.333333</td>\n",
       "      <td>topic followed quora</td>\n",
       "      <td>topic quora followers</td>\n",
       "      <td>0.5</td>\n",
       "      <td>0.564432</td>\n",
       "      <td>1</td>\n",
       "      <td>0</td>\n",
       "    </tr>\n",
       "    <tr>\n",
       "      <th>349125</th>\n",
       "      <td>52249</td>\n",
       "      <td>92541</td>\n",
       "      <td>92542</td>\n",
       "      <td>What does it feel like to have sex with a rela...</td>\n",
       "      <td>Is it possible to eat more than you weigh?</td>\n",
       "      <td>what does it feel like to have sex with a rela...</td>\n",
       "      <td>is it possible to eat more than you weigh</td>\n",
       "      <td>13</td>\n",
       "      <td>9</td>\n",
       "      <td>0.100000</td>\n",
       "      <td>feel like sex relatively chubby female</td>\n",
       "      <td>possible eat weigh</td>\n",
       "      <td>0.0</td>\n",
       "      <td>0.000000</td>\n",
       "      <td>25</td>\n",
       "      <td>4</td>\n",
       "    </tr>\n",
       "    <tr>\n",
       "      <th>126605</th>\n",
       "      <td>135176</td>\n",
       "      <td>215925</td>\n",
       "      <td>215926</td>\n",
       "      <td>Can I get back my best friend?</td>\n",
       "      <td>How do I get back to my best friend as my lover?</td>\n",
       "      <td>can i get back my best friend</td>\n",
       "      <td>how do i get back to my best friend as my lover</td>\n",
       "      <td>7</td>\n",
       "      <td>12</td>\n",
       "      <td>0.500000</td>\n",
       "      <td>get back best friend</td>\n",
       "      <td>get back best friend lover</td>\n",
       "      <td>0.8</td>\n",
       "      <td>0.730278</td>\n",
       "      <td>18</td>\n",
       "      <td>5</td>\n",
       "    </tr>\n",
       "    <tr>\n",
       "      <th>6008</th>\n",
       "      <td>184003</td>\n",
       "      <td>281230</td>\n",
       "      <td>281231</td>\n",
       "      <td>Are there solar systems that act like a double...</td>\n",
       "      <td>As a Navy SEAL do you feel as if people are af...</td>\n",
       "      <td>are there solar systems that act like a double...</td>\n",
       "      <td>as a navy seal do you feel as if people are af...</td>\n",
       "      <td>10</td>\n",
       "      <td>20</td>\n",
       "      <td>0.086957</td>\n",
       "      <td>solar systems act like double pendulum</td>\n",
       "      <td>navy seal feel people afraid know seal</td>\n",
       "      <td>0.0</td>\n",
       "      <td>0.000000</td>\n",
       "      <td>28</td>\n",
       "      <td>10</td>\n",
       "    </tr>\n",
       "    <tr>\n",
       "      <th>292788</th>\n",
       "      <td>5971</td>\n",
       "      <td>11714</td>\n",
       "      <td>11715</td>\n",
       "      <td>Why are there only few magnets?</td>\n",
       "      <td>Why is there only few magnets?</td>\n",
       "      <td>why are there only few magnets</td>\n",
       "      <td>why is there only few magnets</td>\n",
       "      <td>6</td>\n",
       "      <td>6</td>\n",
       "      <td>0.714286</td>\n",
       "      <td>magnets</td>\n",
       "      <td>magnets</td>\n",
       "      <td>1.0</td>\n",
       "      <td>1.000000</td>\n",
       "      <td>1</td>\n",
       "      <td>0</td>\n",
       "    </tr>\n",
       "  </tbody>\n",
       "</table>\n",
       "</div>"
      ],
      "text/plain": [
       "            id    qid1    qid2  \\\n",
       "80519    51432   91228   91229   \n",
       "349125   52249   92541   92542   \n",
       "126605  135176  215925  215926   \n",
       "6008    184003  281230  281231   \n",
       "292788    5971   11714   11715   \n",
       "\n",
       "                                                question1  \\\n",
       "80519          Which topic is the most followed in Quora?   \n",
       "349125  What does it feel like to have sex with a rela...   \n",
       "126605                     Can I get back my best friend?   \n",
       "6008    Are there solar systems that act like a double...   \n",
       "292788                    Why are there only few magnets?   \n",
       "\n",
       "                                                question2  \\\n",
       "80519         What topic on Quora has the most followers?   \n",
       "349125         Is it possible to eat more than you weigh?   \n",
       "126605   How do I get back to my best friend as my lover?   \n",
       "6008    As a Navy SEAL do you feel as if people are af...   \n",
       "292788                     Why is there only few magnets?   \n",
       "\n",
       "                                        cleaned_question1  \\\n",
       "80519          which topic is the most followed in quora    \n",
       "349125  what does it feel like to have sex with a rela...   \n",
       "126605                     can i get back my best friend    \n",
       "6008    are there solar systems that act like a double...   \n",
       "292788                    why are there only few magnets    \n",
       "\n",
       "                                        cleaned_question2  \\\n",
       "80519         what topic on quora has the most followers    \n",
       "349125         is it possible to eat more than you weigh    \n",
       "126605   how do i get back to my best friend as my lover    \n",
       "6008    as a navy seal do you feel as if people are af...   \n",
       "292788                     why is there only few magnets    \n",
       "\n",
       "        question1_word_count  question2_word_count  common_word_proportion  \\\n",
       "80519                      8                     8                0.333333   \n",
       "349125                    13                     9                0.100000   \n",
       "126605                     7                    12                0.500000   \n",
       "6008                      10                    20                0.086957   \n",
       "292788                     6                     6                0.714286   \n",
       "\n",
       "                            no_stops_question1  \\\n",
       "80519                     topic followed quora   \n",
       "349125  feel like sex relatively chubby female   \n",
       "126605                    get back best friend   \n",
       "6008    solar systems act like double pendulum   \n",
       "292788                                 magnets   \n",
       "\n",
       "                            no_stops_question2  \\\n",
       "80519                    topic quora followers   \n",
       "349125                      possible eat weigh   \n",
       "126605              get back best friend lover   \n",
       "6008    navy seal feel people afraid know seal   \n",
       "292788                                 magnets   \n",
       "\n",
       "        common_word_proportion_no_stops  tfidf_similarity  char_count_diff  \\\n",
       "80519                               0.5          0.564432                1   \n",
       "349125                              0.0          0.000000               25   \n",
       "126605                              0.8          0.730278               18   \n",
       "6008                                0.0          0.000000               28   \n",
       "292788                              1.0          1.000000                1   \n",
       "\n",
       "        question_length_diff  \n",
       "80519                      0  \n",
       "349125                     4  \n",
       "126605                     5  \n",
       "6008                      10  \n",
       "292788                     0  "
      ]
     },
     "execution_count": 75,
     "metadata": {},
     "output_type": "execute_result"
    }
   ],
   "source": [
    "X_train['question_length_diff'] = abs(X_train['question1_word_count'] - X_train['question2_word_count'])\n",
    "X_train.head()"
   ]
  },
  {
   "cell_type": "code",
   "execution_count": 76,
   "metadata": {
    "colab": {
     "base_uri": "https://localhost:8080/",
     "height": 564
    },
    "id": "7avsWwURvNqP",
    "outputId": "161e6ff7-36c5-4aab-b4d1-f067d9c7d003"
   },
   "outputs": [
    {
     "data": {
      "image/png": "[encoded data removed]",
      "text/plain": [
       "<Figure size 800x600 with 1 Axes>"
      ]
     },
     "metadata": {},
     "output_type": "display_data"
    }
   ],
   "source": [
    "plt.figure(figsize=(8, 6))\n",
    "sns.violinplot(x=y_train, y='question_length_diff', data=X_train)\n",
    "plt.xlabel('Is Duplicate?')\n",
    "plt.ylabel('Length Difference')\n",
    "plt.title('Correlation between Length Difference and Duplicate Questions')\n",
    "plt.show()"
   ]
  },
  {
   "cell_type": "markdown",
   "metadata": {
    "id": "ry1BoEK3vQ6i"
   },
   "source": [
    "There is not much correlation, this feature might not be too important."
   ]
  },
  {
   "cell_type": "code",
   "execution_count": 77,
   "metadata": {
    "colab": {
     "base_uri": "https://localhost:8080/"
    },
    "id": "tPGt1d74xAI_",
    "outputId": "c581c770-d544-4589-ac1d-b046ecadcb04"
   },
   "outputs": [
    {
     "name": "stdout",
     "output_type": "stream",
     "text": [
      "Correlation Coefficient: -0.20428712229023652\n"
     ]
    }
   ],
   "source": [
    "correlation_coefficient = X_train['question_length_diff'].corr(y_train)\n",
    "print(f\"Correlation Coefficient: {correlation_coefficient}\")"
   ]
  },
  {
   "cell_type": "markdown",
   "metadata": {
    "id": "0497u2rYhqkv"
   },
   "source": [
    "### Word Embeddings (`Word2Vec`)"
   ]
  },
  {
   "cell_type": "code",
   "execution_count": 56,
   "metadata": {
    "colab": {
     "base_uri": "https://localhost:8080/"
    },
    "id": "CrhJKb6sjDRK",
    "outputId": "988fc439-cc8c-4d6d-b029-feb02c333507"
   },
   "outputs": [
    {
     "name": "stdout",
     "output_type": "stream",
     "text": [
      "/usr/lib/python3.10/runpy.py:126: RuntimeWarning: 'nltk.downloader' found in sys.modules after import of package 'nltk', but prior to execution of 'nltk.downloader'; this may result in unpredictable behaviour\n",
      "  warn(RuntimeWarning(msg))\n",
      "[nltk_data] Downloading package punkt to /root/nltk_data...\n",
      "[nltk_data]   Package punkt is already up-to-date!\n"
     ]
    }
   ],
   "source": [
    "!python -m nltk.downloader punkt"
   ]
  },
  {
   "cell_type": "code",
   "execution_count": 57,
   "metadata": {
    "colab": {
     "base_uri": "https://localhost:8080/"
    },
    "id": "BJrjJTLzhAHx",
    "outputId": "d76bc400-1950-4d30-9d1f-3e4974c63387"
   },
   "outputs": [
    {
     "data": {
      "text/plain": [
       "107500                             what is colour of water \n",
       "300891    what would a bedroom in the year 1980 look lik...\n",
       "292925                                does prosecco go off \n",
       "271797    should i opt for chemical engineering if i am ...\n",
       "230516                      can i eat eggs and banana only \n",
       "dtype: object"
      ]
     },
     "execution_count": 57,
     "metadata": {},
     "output_type": "execute_result"
    }
   ],
   "source": [
    "from gensim.models import Word2Vec\n",
    "import nltk\n",
    "from nltk.tokenize import word_tokenize\n",
    "\n",
    "questions = []\n",
    "\n",
    "q1_concat_q2 = pd.concat([X_train['cleaned_question1'], X_train['cleaned_question2']])\n",
    "q1_concat_q2.head()"
   ]
  },
  {
   "cell_type": "code",
   "execution_count": 58,
   "metadata": {
    "id": "UtZha25nkg_a"
   },
   "outputs": [],
   "source": [
    "for q in q1_concat_q2:\n",
    "  words = word_tokenize(q)\n",
    "\n",
    "  questions.append(words)"
   ]
  },
  {
   "cell_type": "code",
   "execution_count": 59,
   "metadata": {
    "id": "AC9gACwMjTWC"
   },
   "outputs": [],
   "source": [
    "model = Word2Vec(questions, vector_size=10, window=3, min_count=1, sg=1)"
   ]
  },
  {
   "cell_type": "code",
   "execution_count": 60,
   "metadata": {
    "id": "Hor5hHx8k9qr"
   },
   "outputs": [],
   "source": [
    "model.save('/content/drive/MyDrive/ay2324 sem1/cs3244/project/word2_vec_simple_classifier.model')"
   ]
  },
  {
   "cell_type": "code",
   "execution_count": 61,
   "metadata": {
    "id": "X3iuq8PIldzg"
   },
   "outputs": [],
   "source": [
    "def calculate_embeddings_similarity(df, model):\n",
    "  similarities = []\n",
    "\n",
    "  for _, row in df.iterrows():\n",
    "    q1 = row['cleaned_question1']\n",
    "    q2 = row['cleaned_question2']\n",
    "\n",
    "    # Tokenize and preprocess the questions as needed\n",
    "    words_1 = word_tokenize(q1)\n",
    "    words_2 = word_tokenize(q2)\n",
    "\n",
    "    # Filter out words that are not present in the Word2Vec model\n",
    "    words_1 = [word for word in words_1 if word in model.wv]\n",
    "    words_2 = [word for word in words_2 if word in model.wv]\n",
    "\n",
    "    # Calculate the average Word2Vec embeddings for each question\n",
    "    if words_1 and words_2:\n",
    "      embedding_1 = np.mean([model.wv[word] for word in words_1], axis=0)\n",
    "      embedding_2 = np.mean([model.wv[word] for word in words_2], axis=0)\n",
    "      similarity = cosine_similarity([embedding_1], [embedding_2])[0][0]\n",
    "    else:\n",
    "      similarity = 0.0\n",
    "\n",
    "    similarities.append(similarity)\n",
    "\n",
    "  return pd.Series(similarities)"
   ]
  },
  {
   "cell_type": "code",
   "execution_count": 62,
   "metadata": {
    "id": "PsmeV_oDzMdQ"
   },
   "outputs": [],
   "source": [
    "X_train['embeddings_similarity'] = calculate_embeddings_similarity(X_train, model)"
   ]
  },
  {
   "cell_type": "code",
   "execution_count": 63,
   "metadata": {
    "colab": {
     "base_uri": "https://localhost:8080/",
     "height": 573
    },
    "id": "MO-A194M0Wll",
    "outputId": "ae642e8d-ca27-407d-e57c-208a20fcc2e6"
   },
   "outputs": [
    {
     "data": {
      "text/html": [
       "\n",
       "  <div id=\"df-8bbabcdd-154e-4a64-9e56-d5857a0e182c\" class=\"colab-df-container\">\n",
       "    <div>\n",
       "<style scoped>\n",
       "    .dataframe tbody tr th:only-of-type {\n",
       "        vertical-align: middle;\n",
       "    }\n",
       "\n",
       "    .dataframe tbody tr th {\n",
       "        vertical-align: top;\n",
       "    }\n",
       "\n",
       "    .dataframe thead th {\n",
       "        text-align: right;\n",
       "    }\n",
       "</style>\n",
       "<table border=\"1\" class=\"dataframe\">\n",
       "  <thead>\n",
       "    <tr style=\"text-align: right;\">\n",
       "      <th></th>\n",
       "      <th>id</th>\n",
       "      <th>qid1</th>\n",
       "      <th>qid2</th>\n",
       "      <th>question1</th>\n",
       "      <th>question2</th>\n",
       "      <th>cleaned_question1</th>\n",
       "      <th>cleaned_question2</th>\n",
       "      <th>question1_word_count</th>\n",
       "      <th>question2_word_count</th>\n",
       "      <th>common_word_proportion</th>\n",
       "      <th>no_stops_question1</th>\n",
       "      <th>no_stops_question2</th>\n",
       "      <th>common_word_proportion_no_stops</th>\n",
       "      <th>tfidf_similarity</th>\n",
       "      <th>char_count_diff</th>\n",
       "      <th>question_length_diff</th>\n",
       "      <th>embeddings_similarity</th>\n",
       "    </tr>\n",
       "  </thead>\n",
       "  <tbody>\n",
       "    <tr>\n",
       "      <th>107500</th>\n",
       "      <td>107500</td>\n",
       "      <td>176853</td>\n",
       "      <td>176854</td>\n",
       "      <td>What is colour of water?</td>\n",
       "      <td>What is the colour of water?</td>\n",
       "      <td>what is colour of water</td>\n",
       "      <td>what is the colour of water</td>\n",
       "      <td>5</td>\n",
       "      <td>6</td>\n",
       "      <td>0.833333</td>\n",
       "      <td>colour water</td>\n",
       "      <td>colour water</td>\n",
       "      <td>1.000000</td>\n",
       "      <td>1.000000</td>\n",
       "      <td>4</td>\n",
       "      <td>1</td>\n",
       "      <td>0.999637</td>\n",
       "    </tr>\n",
       "    <tr>\n",
       "      <th>300891</th>\n",
       "      <td>300891</td>\n",
       "      <td>111985</td>\n",
       "      <td>70822</td>\n",
       "      <td>What would a bedroom in the year 1980 look lik...</td>\n",
       "      <td>What would an older man's bedroom look like in...</td>\n",
       "      <td>what would a bedroom in the year 1980 look lik...</td>\n",
       "      <td>what would an older man s bedroom look like in...</td>\n",
       "      <td>21</td>\n",
       "      <td>13</td>\n",
       "      <td>0.650000</td>\n",
       "      <td>would bedroom year 1980 look like would older ...</td>\n",
       "      <td>would older man bedroom look like year 1980</td>\n",
       "      <td>0.888889</td>\n",
       "      <td>0.910786</td>\n",
       "      <td>32</td>\n",
       "      <td>8</td>\n",
       "      <td>NaN</td>\n",
       "    </tr>\n",
       "    <tr>\n",
       "      <th>292925</th>\n",
       "      <td>292925</td>\n",
       "      <td>414609</td>\n",
       "      <td>414610</td>\n",
       "      <td>Does prosecco go off?</td>\n",
       "      <td>Does unopened champagne go bad?</td>\n",
       "      <td>does prosecco go off</td>\n",
       "      <td>does unopened champagne go bad</td>\n",
       "      <td>4</td>\n",
       "      <td>5</td>\n",
       "      <td>0.285714</td>\n",
       "      <td>prosecco go</td>\n",
       "      <td>unopened champagne go bad</td>\n",
       "      <td>0.200000</td>\n",
       "      <td>0.123890</td>\n",
       "      <td>10</td>\n",
       "      <td>1</td>\n",
       "      <td>NaN</td>\n",
       "    </tr>\n",
       "    <tr>\n",
       "      <th>271797</th>\n",
       "      <td>271797</td>\n",
       "      <td>389950</td>\n",
       "      <td>196146</td>\n",
       "      <td>Should I opt for Chemical Engineering if I am ...</td>\n",
       "      <td>Should I study chemical engineering because I ...</td>\n",
       "      <td>should i opt for chemical engineering if i am ...</td>\n",
       "      <td>should i study chemical engineering because i ...</td>\n",
       "      <td>13</td>\n",
       "      <td>13</td>\n",
       "      <td>0.333333</td>\n",
       "      <td>opt chemical engineering super interested chem...</td>\n",
       "      <td>study chemical engineering like good chemistry</td>\n",
       "      <td>0.333333</td>\n",
       "      <td>0.526283</td>\n",
       "      <td>2</td>\n",
       "      <td>0</td>\n",
       "      <td>0.993423</td>\n",
       "    </tr>\n",
       "    <tr>\n",
       "      <th>230516</th>\n",
       "      <td>230516</td>\n",
       "      <td>260341</td>\n",
       "      <td>340072</td>\n",
       "      <td>Can I eat eggs and banana only?</td>\n",
       "      <td>Is it dangerous to eat bananas and eggs together?</td>\n",
       "      <td>can i eat eggs and banana only</td>\n",
       "      <td>is it dangerous to eat bananas and eggs together</td>\n",
       "      <td>7</td>\n",
       "      <td>9</td>\n",
       "      <td>0.230769</td>\n",
       "      <td>eat eggs banana</td>\n",
       "      <td>dangerous eat bananas eggs together</td>\n",
       "      <td>0.333333</td>\n",
       "      <td>0.435171</td>\n",
       "      <td>18</td>\n",
       "      <td>2</td>\n",
       "      <td>0.923169</td>\n",
       "    </tr>\n",
       "  </tbody>\n",
       "</table>\n",
       "</div>\n",
       "    <div class=\"colab-df-buttons\">\n",
       "\n",
       "  <div class=\"colab-df-container\">\n",
       "    <button class=\"colab-df-convert\" onclick=\"convertToInteractive('df-8bbabcdd-154e-4a64-9e56-d5857a0e182c')\"\n",
       "            title=\"Convert this dataframe to an interactive table.\"\n",
       "            style=\"display:none;\">\n",
       "\n",
       "  <svg xmlns=\"http://www.w3.org/2000/svg\" height=\"24px\" viewBox=\"0 -960 960 960\">\n",
       "    <path d=\"M120-120v-720h720v720H120Zm60-500h600v-160H180v160Zm220 220h160v-160H400v160Zm0 220h160v-160H400v160ZM180-400h160v-160H180v160Zm440 0h160v-160H620v160ZM180-180h160v-160H180v160Zm440 0h160v-160H620v160Z\"/>\n",
       "  </svg>\n",
       "    </button>\n",
       "\n",
       "  <style>\n",
       "    .colab-df-container {\n",
       "      display:flex;\n",
       "      gap: 12px;\n",
       "    }\n",
       "\n",
       "    .colab-df-convert {\n",
       "      background-color: #E8F0FE;\n",
       "      border: none;\n",
       "      border-radius: 50%;\n",
       "      cursor: pointer;\n",
       "      display: none;\n",
       "      fill: #1967D2;\n",
       "      height: 32px;\n",
       "      padding: 0 0 0 0;\n",
       "      width: 32px;\n",
       "    }\n",
       "\n",
       "    .colab-df-convert:hover {\n",
       "      background-color: #E2EBFA;\n",
       "      box-shadow: 0px 1px 2px rgba(60, 64, 67, 0.3), 0px 1px 3px 1px rgba(60, 64, 67, 0.15);\n",
       "      fill: #174EA6;\n",
       "    }\n",
       "\n",
       "    .colab-df-buttons div {\n",
       "      margin-bottom: 4px;\n",
       "    }\n",
       "\n",
       "    [theme=dark] .colab-df-convert {\n",
       "      background-color: #3B4455;\n",
       "      fill: #D2E3FC;\n",
       "    }\n",
       "\n",
       "    [theme=dark] .colab-df-convert:hover {\n",
       "      background-color: #434B5C;\n",
       "      box-shadow: 0px 1px 3px 1px rgba(0, 0, 0, 0.15);\n",
       "      filter: drop-shadow(0px 1px 2px rgba(0, 0, 0, 0.3));\n",
       "      fill: #FFFFFF;\n",
       "    }\n",
       "  </style>\n",
       "\n",
       "    <script>\n",
       "      const buttonEl =\n",
       "        document.querySelector('#df-8bbabcdd-154e-4a64-9e56-d5857a0e182c button.colab-df-convert');\n",
       "      buttonEl.style.display =\n",
       "        google.colab.kernel.accessAllowed ? 'block' : 'none';\n",
       "\n",
       "      async function convertToInteractive(key) {\n",
       "        const element = document.querySelector('#df-8bbabcdd-154e-4a64-9e56-d5857a0e182c');\n",
       "        const dataTable =\n",
       "          await google.colab.kernel.invokeFunction('convertToInteractive',\n",
       "                                                    [key], {});\n",
       "        if (!dataTable) return;\n",
       "\n",
       "        const docLinkHtml = 'Like what you see? Visit the ' +\n",
       "          '<a target=\"_blank\" href=https://colab.research.google.com/notebooks/data_table.ipynb>data table notebook</a>'\n",
       "          + ' to learn more about interactive tables.';\n",
       "        element.innerHTML = '';\n",
       "        dataTable['output_type'] = 'display_data';\n",
       "        await google.colab.output.renderOutput(dataTable, element);\n",
       "        const docLink = document.createElement('div');\n",
       "        docLink.innerHTML = docLinkHtml;\n",
       "        element.appendChild(docLink);\n",
       "      }\n",
       "    </script>\n",
       "  </div>\n",
       "\n",
       "\n",
       "<div id=\"df-b342f8a6-e829-438e-9731-fae874514cac\">\n",
       "  <button class=\"colab-df-quickchart\" onclick=\"quickchart('df-b342f8a6-e829-438e-9731-fae874514cac')\"\n",
       "            title=\"Suggest charts.\"\n",
       "            style=\"display:none;\">\n",
       "\n",
       "<svg xmlns=\"http://www.w3.org/2000/svg\" height=\"24px\"viewBox=\"0 0 24 24\"\n",
       "     width=\"24px\">\n",
       "    <g>\n",
       "        <path d=\"M19 3H5c-1.1 0-2 .9-2 2v14c0 1.1.9 2 2 2h14c1.1 0 2-.9 2-2V5c0-1.1-.9-2-2-2zM9 17H7v-7h2v7zm4 0h-2V7h2v10zm4 0h-2v-4h2v4z\"/>\n",
       "    </g>\n",
       "</svg>\n",
       "  </button>\n",
       "\n",
       "<style>\n",
       "  .colab-df-quickchart {\n",
       "      --bg-color: #E8F0FE;\n",
       "      --fill-color: #1967D2;\n",
       "      --hover-bg-color: #E2EBFA;\n",
       "      --hover-fill-color: #174EA6;\n",
       "      --disabled-fill-color: #AAA;\n",
       "      --disabled-bg-color: #DDD;\n",
       "  }\n",
       "\n",
       "  [theme=dark] .colab-df-quickchart {\n",
       "      --bg-color: #3B4455;\n",
       "      --fill-color: #D2E3FC;\n",
       "      --hover-bg-color: #434B5C;\n",
       "      --hover-fill-color: #FFFFFF;\n",
       "      --disabled-bg-color: #3B4455;\n",
       "      --disabled-fill-color: #666;\n",
       "  }\n",
       "\n",
       "  .colab-df-quickchart {\n",
       "    background-color: var(--bg-color);\n",
       "    border: none;\n",
       "    border-radius: 50%;\n",
       "    cursor: pointer;\n",
       "    display: none;\n",
       "    fill: var(--fill-color);\n",
       "    height: 32px;\n",
       "    padding: 0;\n",
       "    width: 32px;\n",
       "  }\n",
       "\n",
       "  .colab-df-quickchart:hover {\n",
       "    background-color: var(--hover-bg-color);\n",
       "    box-shadow: 0 1px 2px rgba(60, 64, 67, 0.3), 0 1px 3px 1px rgba(60, 64, 67, 0.15);\n",
       "    fill: var(--button-hover-fill-color);\n",
       "  }\n",
       "\n",
       "  .colab-df-quickchart-complete:disabled,\n",
       "  .colab-df-quickchart-complete:disabled:hover {\n",
       "    background-color: var(--disabled-bg-color);\n",
       "    fill: var(--disabled-fill-color);\n",
       "    box-shadow: none;\n",
       "  }\n",
       "\n",
       "  .colab-df-spinner {\n",
       "    border: 2px solid var(--fill-color);\n",
       "    border-color: transparent;\n",
       "    border-bottom-color: var(--fill-color);\n",
       "    animation:\n",
       "      spin 1s steps(1) infinite;\n",
       "  }\n",
       "\n",
       "  @keyframes spin {\n",
       "    0% {\n",
       "      border-color: transparent;\n",
       "      border-bottom-color: var(--fill-color);\n",
       "      border-left-color: var(--fill-color);\n",
       "    }\n",
       "    20% {\n",
       "      border-color: transparent;\n",
       "      border-left-color: var(--fill-color);\n",
       "      border-top-color: var(--fill-color);\n",
       "    }\n",
       "    30% {\n",
       "      border-color: transparent;\n",
       "      border-left-color: var(--fill-color);\n",
       "      border-top-color: var(--fill-color);\n",
       "      border-right-color: var(--fill-color);\n",
       "    }\n",
       "    40% {\n",
       "      border-color: transparent;\n",
       "      border-right-color: var(--fill-color);\n",
       "      border-top-color: var(--fill-color);\n",
       "    }\n",
       "    60% {\n",
       "      border-color: transparent;\n",
       "      border-right-color: var(--fill-color);\n",
       "    }\n",
       "    80% {\n",
       "      border-color: transparent;\n",
       "      border-right-color: var(--fill-color);\n",
       "      border-bottom-color: var(--fill-color);\n",
       "    }\n",
       "    90% {\n",
       "      border-color: transparent;\n",
       "      border-bottom-color: var(--fill-color);\n",
       "    }\n",
       "  }\n",
       "</style>\n",
       "\n",
       "  <script>\n",
       "    async function quickchart(key) {\n",
       "      const quickchartButtonEl =\n",
       "        document.querySelector('#' + key + ' button');\n",
       "      quickchartButtonEl.disabled = true;  // To prevent multiple clicks.\n",
       "      quickchartButtonEl.classList.add('colab-df-spinner');\n",
       "      try {\n",
       "        const charts = await google.colab.kernel.invokeFunction(\n",
       "            'suggestCharts', [key], {});\n",
       "      } catch (error) {\n",
       "        console.error('Error during call to suggestCharts:', error);\n",
       "      }\n",
       "      quickchartButtonEl.classList.remove('colab-df-spinner');\n",
       "      quickchartButtonEl.classList.add('colab-df-quickchart-complete');\n",
       "    }\n",
       "    (() => {\n",
       "      let quickchartButtonEl =\n",
       "        document.querySelector('#df-b342f8a6-e829-438e-9731-fae874514cac button');\n",
       "      quickchartButtonEl.style.display =\n",
       "        google.colab.kernel.accessAllowed ? 'block' : 'none';\n",
       "    })();\n",
       "  </script>\n",
       "</div>\n",
       "    </div>\n",
       "  </div>\n"
      ],
      "text/plain": [
       "            id    qid1    qid2  \\\n",
       "107500  107500  176853  176854   \n",
       "300891  300891  111985   70822   \n",
       "292925  292925  414609  414610   \n",
       "271797  271797  389950  196146   \n",
       "230516  230516  260341  340072   \n",
       "\n",
       "                                                question1  \\\n",
       "107500                           What is colour of water?   \n",
       "300891  What would a bedroom in the year 1980 look lik...   \n",
       "292925                              Does prosecco go off?   \n",
       "271797  Should I opt for Chemical Engineering if I am ...   \n",
       "230516                    Can I eat eggs and banana only?   \n",
       "\n",
       "                                                question2  \\\n",
       "107500                       What is the colour of water?   \n",
       "300891  What would an older man's bedroom look like in...   \n",
       "292925                    Does unopened champagne go bad?   \n",
       "271797  Should I study chemical engineering because I ...   \n",
       "230516  Is it dangerous to eat bananas and eggs together?   \n",
       "\n",
       "                                        cleaned_question1  \\\n",
       "107500                           what is colour of water    \n",
       "300891  what would a bedroom in the year 1980 look lik...   \n",
       "292925                              does prosecco go off    \n",
       "271797  should i opt for chemical engineering if i am ...   \n",
       "230516                    can i eat eggs and banana only    \n",
       "\n",
       "                                        cleaned_question2  \\\n",
       "107500                       what is the colour of water    \n",
       "300891  what would an older man s bedroom look like in...   \n",
       "292925                    does unopened champagne go bad    \n",
       "271797  should i study chemical engineering because i ...   \n",
       "230516  is it dangerous to eat bananas and eggs together    \n",
       "\n",
       "        question1_word_count  question2_word_count  common_word_proportion  \\\n",
       "107500                     5                     6                0.833333   \n",
       "300891                    21                    13                0.650000   \n",
       "292925                     4                     5                0.285714   \n",
       "271797                    13                    13                0.333333   \n",
       "230516                     7                     9                0.230769   \n",
       "\n",
       "                                       no_stops_question1  \\\n",
       "107500                                       colour water   \n",
       "300891  would bedroom year 1980 look like would older ...   \n",
       "292925                                        prosecco go   \n",
       "271797  opt chemical engineering super interested chem...   \n",
       "230516                                    eat eggs banana   \n",
       "\n",
       "                                    no_stops_question2  \\\n",
       "107500                                    colour water   \n",
       "300891     would older man bedroom look like year 1980   \n",
       "292925                       unopened champagne go bad   \n",
       "271797  study chemical engineering like good chemistry   \n",
       "230516             dangerous eat bananas eggs together   \n",
       "\n",
       "        common_word_proportion_no_stops  tfidf_similarity  char_count_diff  \\\n",
       "107500                         1.000000          1.000000                4   \n",
       "300891                         0.888889          0.910786               32   \n",
       "292925                         0.200000          0.123890               10   \n",
       "271797                         0.333333          0.526283                2   \n",
       "230516                         0.333333          0.435171               18   \n",
       "\n",
       "        question_length_diff  embeddings_similarity  \n",
       "107500                     1               0.999637  \n",
       "300891                     8                    NaN  \n",
       "292925                     1                    NaN  \n",
       "271797                     0               0.993423  \n",
       "230516                     2               0.923169  "
      ]
     },
     "execution_count": 63,
     "metadata": {},
     "output_type": "execute_result"
    }
   ],
   "source": [
    "X_train.head()"
   ]
  },
  {
   "cell_type": "code",
   "execution_count": 64,
   "metadata": {
    "colab": {
     "base_uri": "https://localhost:8080/",
     "height": 564
    },
    "id": "QNmZH99mz_Jj",
    "outputId": "80a09d7c-8e78-450c-ab57-ade7320182dd"
   },
   "outputs": [
    {
     "data": {
      "image/png": "[encoded data removed]",
      "text/plain": [
       "<Figure size 800x600 with 1 Axes>"
      ]
     },
     "metadata": {},
     "output_type": "display_data"
    }
   ],
   "source": [
    "plt.figure(figsize=(8, 6))\n",
    "sns.violinplot(x=y_train, y='embeddings_similarity', data=X_train)\n",
    "plt.xlabel('Is Duplicate?')\n",
    "plt.ylabel('Similarity of Word2Vec Embeddings')\n",
    "plt.title('Correlation between Similarity of Word2Vec Embeddings and Duplicate Questions')\n",
    "plt.show()"
   ]
  },
  {
   "cell_type": "code",
   "execution_count": 65,
   "metadata": {
    "colab": {
     "base_uri": "https://localhost:8080/"
    },
    "id": "7L5xaJ8f0LqU",
    "outputId": "b97fdd93-c28c-4172-8562-217334e0e36b"
   },
   "outputs": [
    {
     "name": "stdout",
     "output_type": "stream",
     "text": [
      "Correlation Coefficient: 0.0005142747896340351\n"
     ]
    }
   ],
   "source": [
    "correlation_coefficient = X_train['embeddings_similarity'].corr(y_train)\n",
    "print(f\"Correlation Coefficient: {correlation_coefficient}\")"
   ]
  },
  {
   "cell_type": "markdown",
   "metadata": {
    "id": "jSoVpFZZ158d"
   },
   "source": [
    "### Extracting Numerical Features"
   ]
  },
  {
   "cell_type": "code",
   "execution_count": 78,
   "metadata": {
    "colab": {
     "base_uri": "https://localhost:8080/",
     "height": 226
    },
    "id": "yFlehgee143q",
    "outputId": "7cdd83c5-1c63-4ef3-80d9-164ddcaa9640"
   },
   "outputs": [
    {
     "data": {
      "text/html": [
       "<div>\n",
       "<style scoped>\n",
       "    .dataframe tbody tr th:only-of-type {\n",
       "        vertical-align: middle;\n",
       "    }\n",
       "\n",
       "    .dataframe tbody tr th {\n",
       "        vertical-align: top;\n",
       "    }\n",
       "\n",
       "    .dataframe thead th {\n",
       "        text-align: right;\n",
       "    }\n",
       "</style>\n",
       "<table border=\"1\" class=\"dataframe\">\n",
       "  <thead>\n",
       "    <tr style=\"text-align: right;\">\n",
       "      <th></th>\n",
       "      <th>question1_word_count</th>\n",
       "      <th>question2_word_count</th>\n",
       "      <th>common_word_proportion</th>\n",
       "      <th>common_word_proportion_no_stops</th>\n",
       "      <th>tfidf_similarity</th>\n",
       "      <th>char_count_diff</th>\n",
       "      <th>question_length_diff</th>\n",
       "    </tr>\n",
       "  </thead>\n",
       "  <tbody>\n",
       "    <tr>\n",
       "      <th>80519</th>\n",
       "      <td>8</td>\n",
       "      <td>8</td>\n",
       "      <td>0.333333</td>\n",
       "      <td>0.5</td>\n",
       "      <td>0.564432</td>\n",
       "      <td>1</td>\n",
       "      <td>0</td>\n",
       "    </tr>\n",
       "    <tr>\n",
       "      <th>349125</th>\n",
       "      <td>13</td>\n",
       "      <td>9</td>\n",
       "      <td>0.100000</td>\n",
       "      <td>0.0</td>\n",
       "      <td>0.000000</td>\n",
       "      <td>25</td>\n",
       "      <td>4</td>\n",
       "    </tr>\n",
       "    <tr>\n",
       "      <th>126605</th>\n",
       "      <td>7</td>\n",
       "      <td>12</td>\n",
       "      <td>0.500000</td>\n",
       "      <td>0.8</td>\n",
       "      <td>0.730278</td>\n",
       "      <td>18</td>\n",
       "      <td>5</td>\n",
       "    </tr>\n",
       "    <tr>\n",
       "      <th>6008</th>\n",
       "      <td>10</td>\n",
       "      <td>20</td>\n",
       "      <td>0.086957</td>\n",
       "      <td>0.0</td>\n",
       "      <td>0.000000</td>\n",
       "      <td>28</td>\n",
       "      <td>10</td>\n",
       "    </tr>\n",
       "    <tr>\n",
       "      <th>292788</th>\n",
       "      <td>6</td>\n",
       "      <td>6</td>\n",
       "      <td>0.714286</td>\n",
       "      <td>1.0</td>\n",
       "      <td>1.000000</td>\n",
       "      <td>1</td>\n",
       "      <td>0</td>\n",
       "    </tr>\n",
       "  </tbody>\n",
       "</table>\n",
       "</div>"
      ],
      "text/plain": [
       "        question1_word_count  question2_word_count  common_word_proportion  \\\n",
       "80519                      8                     8                0.333333   \n",
       "349125                    13                     9                0.100000   \n",
       "126605                     7                    12                0.500000   \n",
       "6008                      10                    20                0.086957   \n",
       "292788                     6                     6                0.714286   \n",
       "\n",
       "        common_word_proportion_no_stops  tfidf_similarity  char_count_diff  \\\n",
       "80519                               0.5          0.564432                1   \n",
       "349125                              0.0          0.000000               25   \n",
       "126605                              0.8          0.730278               18   \n",
       "6008                                0.0          0.000000               28   \n",
       "292788                              1.0          1.000000                1   \n",
       "\n",
       "        question_length_diff  \n",
       "80519                      0  \n",
       "349125                     4  \n",
       "126605                     5  \n",
       "6008                      10  \n",
       "292788                     0  "
      ]
     },
     "execution_count": 78,
     "metadata": {},
     "output_type": "execute_result"
    }
   ],
   "source": [
    "X_train_filtered = X_train[['question1_word_count', 'question2_word_count', 'common_word_proportion', 'common_word_proportion_no_stops', 'tfidf_similarity', 'char_count_diff', 'question_length_diff']]\n",
    "X_train_filtered.head()"
   ]
  },
  {
   "cell_type": "code",
   "execution_count": 147,
   "metadata": {
    "colab": {
     "base_uri": "https://localhost:8080/",
     "height": 780
    },
    "id": "Bdx4LMcJQFu6",
    "outputId": "6e80f1bb-60fa-4ad1-c122-f84af31af2aa"
   },
   "outputs": [
    {
     "data": {
      "image/png": "[encoded data removed]",
      "text/plain": [
       "<Figure size 800x600 with 2 Axes>"
      ]
     },
     "metadata": {},
     "output_type": "display_data"
    }
   ],
   "source": [
    "correlation_matrix = X_train_filtered.corr()\n",
    "\n",
    "plt.figure(figsize=(8, 6))\n",
    "sns.heatmap(correlation_matrix, annot=True, fmt=\".2f\")\n",
    "plt.title('Correlation Matrix Heatmap')\n",
    "plt.show()"
   ]
  },
  {
   "cell_type": "markdown",
   "metadata": {
    "id": "BnAYBMpGg7SD"
   },
   "source": [
    "# Training Simple Classifiers"
   ]
  },
  {
   "cell_type": "code",
   "execution_count": 80,
   "metadata": {
    "id": "19f4TrnflOXo"
   },
   "outputs": [],
   "source": [
    "from joblib import load\n",
    "tfidf_vectorizer = load('tfidf_vectorizer.joblib')\n",
    "\n",
    "def transform_question_pairs(val_test):\n",
    "    df = val_test.copy()\n",
    "\n",
    "    df = remove_nulls(df)\n",
    "\n",
    "    df['cleaned_question1'] = df['question1'].apply(clean_text)\n",
    "    df['cleaned_question2'] = df['question2'].apply(clean_text)\n",
    "\n",
    "    df['question1_word_count'] = df['cleaned_question1'].apply(lambda x: len(str(x).split()))\n",
    "    df['question2_word_count'] = df['cleaned_question2'].apply(lambda x: len(str(x).split()))\n",
    "\n",
    "    df['common_word_proportion'] = df.apply(lambda row: calculate_common_word_proportion(row['cleaned_question1'], row['cleaned_question2']), axis=1)\n",
    "\n",
    "    df['no_stops_question1'] = df['question1'].apply(lambda x: clean_text(x, remove_stopwords=True))\n",
    "    df['no_stops_question2'] = df['question2'].apply(lambda x: clean_text(x, remove_stopwords=True))\n",
    "\n",
    "    df['common_word_proportion_no_stops'] = df.apply(lambda row: calculate_common_word_proportion(row['no_stops_question1'], row['no_stops_question2']), axis=1)\n",
    "\n",
    "    q1 = df['no_stops_question1']\n",
    "    q2 = df['no_stops_question2']\n",
    "    q1_concat_q2 = pd.concat([q1, q2])\n",
    "\n",
    "    tfidf_matrix_df = tfidf_vectorizer.transform(q1_concat_q2)\n",
    "\n",
    "    df['tfidf_similarity'] = [tfidf_word_share(i, i + len(df), tfidf_matrix_df) for i in range(len(df))]\n",
    "\n",
    "    df['char_count_diff'] = abs(df['question1'].str.len() - df['question2'].str.len())\n",
    "    df['question_length_diff'] = abs(df['question1_word_count'] - df['question2_word_count'])\n",
    "\n",
    "    return df"
   ]
  },
  {
   "cell_type": "code",
   "execution_count": 81,
   "metadata": {
    "colab": {
     "base_uri": "https://localhost:8080/",
     "height": 226
    },
    "id": "tyCdHh8zhDiO",
    "outputId": "be2c6c4c-2a0c-46d0-f2a4-4c20b89fe7d8"
   },
   "outputs": [
    {
     "name": "stdout",
     "output_type": "stream",
     "text": [
      "Initial dataframe has 36385 rows.\n",
      "Dataframe has 0 null rows.\n",
      "Dataframe has 36385 rows after removing null values.\n"
     ]
    },
    {
     "data": {
      "text/html": [
       "<div>\n",
       "<style scoped>\n",
       "    .dataframe tbody tr th:only-of-type {\n",
       "        vertical-align: middle;\n",
       "    }\n",
       "\n",
       "    .dataframe tbody tr th {\n",
       "        vertical-align: top;\n",
       "    }\n",
       "\n",
       "    .dataframe thead th {\n",
       "        text-align: right;\n",
       "    }\n",
       "</style>\n",
       "<table border=\"1\" class=\"dataframe\">\n",
       "  <thead>\n",
       "    <tr style=\"text-align: right;\">\n",
       "      <th></th>\n",
       "      <th>question1_word_count</th>\n",
       "      <th>question2_word_count</th>\n",
       "      <th>common_word_proportion</th>\n",
       "      <th>common_word_proportion_no_stops</th>\n",
       "      <th>tfidf_similarity</th>\n",
       "      <th>char_count_diff</th>\n",
       "      <th>question_length_diff</th>\n",
       "    </tr>\n",
       "  </thead>\n",
       "  <tbody>\n",
       "    <tr>\n",
       "      <th>215130</th>\n",
       "      <td>12</td>\n",
       "      <td>7</td>\n",
       "      <td>0.545455</td>\n",
       "      <td>0.500</td>\n",
       "      <td>0.895849</td>\n",
       "      <td>26</td>\n",
       "      <td>5</td>\n",
       "    </tr>\n",
       "    <tr>\n",
       "      <th>234600</th>\n",
       "      <td>16</td>\n",
       "      <td>4</td>\n",
       "      <td>0.125000</td>\n",
       "      <td>0.125</td>\n",
       "      <td>0.352165</td>\n",
       "      <td>51</td>\n",
       "      <td>12</td>\n",
       "    </tr>\n",
       "    <tr>\n",
       "      <th>118406</th>\n",
       "      <td>5</td>\n",
       "      <td>5</td>\n",
       "      <td>0.111111</td>\n",
       "      <td>0.200</td>\n",
       "      <td>0.336050</td>\n",
       "      <td>1</td>\n",
       "      <td>0</td>\n",
       "    </tr>\n",
       "    <tr>\n",
       "      <th>284746</th>\n",
       "      <td>13</td>\n",
       "      <td>10</td>\n",
       "      <td>0.352941</td>\n",
       "      <td>1.000</td>\n",
       "      <td>1.000000</td>\n",
       "      <td>5</td>\n",
       "      <td>3</td>\n",
       "    </tr>\n",
       "    <tr>\n",
       "      <th>300683</th>\n",
       "      <td>6</td>\n",
       "      <td>12</td>\n",
       "      <td>0.285714</td>\n",
       "      <td>0.250</td>\n",
       "      <td>0.364696</td>\n",
       "      <td>25</td>\n",
       "      <td>6</td>\n",
       "    </tr>\n",
       "  </tbody>\n",
       "</table>\n",
       "</div>"
      ],
      "text/plain": [
       "        question1_word_count  question2_word_count  common_word_proportion  \\\n",
       "215130                    12                     7                0.545455   \n",
       "234600                    16                     4                0.125000   \n",
       "118406                     5                     5                0.111111   \n",
       "284746                    13                    10                0.352941   \n",
       "300683                     6                    12                0.285714   \n",
       "\n",
       "        common_word_proportion_no_stops  tfidf_similarity  char_count_diff  \\\n",
       "215130                            0.500          0.895849               26   \n",
       "234600                            0.125          0.352165               51   \n",
       "118406                            0.200          0.336050                1   \n",
       "284746                            1.000          1.000000                5   \n",
       "300683                            0.250          0.364696               25   \n",
       "\n",
       "        question_length_diff  \n",
       "215130                     5  \n",
       "234600                    12  \n",
       "118406                     0  \n",
       "284746                     3  \n",
       "300683                     6  "
      ]
     },
     "execution_count": 81,
     "metadata": {},
     "output_type": "execute_result"
    }
   ],
   "source": [
    "X_dev = transform_question_pairs(X_dev)\n",
    "X_dev_filtered = X_dev[['question1_word_count', 'question2_word_count', 'common_word_proportion', 'common_word_proportion_no_stops', 'tfidf_similarity', 'char_count_diff', 'question_length_diff']]\n",
    "X_dev_filtered.head()"
   ]
  },
  {
   "cell_type": "code",
   "execution_count": 82,
   "metadata": {
    "colab": {
     "base_uri": "https://localhost:8080/",
     "height": 226
    },
    "id": "eLZdmXkophMk",
    "outputId": "112b2ce7-e1d2-40c3-803d-eb96fa979840"
   },
   "outputs": [
    {
     "name": "stdout",
     "output_type": "stream",
     "text": [
      "Initial dataframe has 40430 rows.\n",
      "Dataframe has 0 null rows.\n",
      "Dataframe has 40430 rows after removing null values.\n"
     ]
    },
    {
     "data": {
      "text/html": [
       "<div>\n",
       "<style scoped>\n",
       "    .dataframe tbody tr th:only-of-type {\n",
       "        vertical-align: middle;\n",
       "    }\n",
       "\n",
       "    .dataframe tbody tr th {\n",
       "        vertical-align: top;\n",
       "    }\n",
       "\n",
       "    .dataframe thead th {\n",
       "        text-align: right;\n",
       "    }\n",
       "</style>\n",
       "<table border=\"1\" class=\"dataframe\">\n",
       "  <thead>\n",
       "    <tr style=\"text-align: right;\">\n",
       "      <th></th>\n",
       "      <th>question1_word_count</th>\n",
       "      <th>question2_word_count</th>\n",
       "      <th>common_word_proportion</th>\n",
       "      <th>common_word_proportion_no_stops</th>\n",
       "      <th>tfidf_similarity</th>\n",
       "      <th>char_count_diff</th>\n",
       "      <th>question_length_diff</th>\n",
       "    </tr>\n",
       "  </thead>\n",
       "  <tbody>\n",
       "    <tr>\n",
       "      <th>0</th>\n",
       "      <td>6</td>\n",
       "      <td>5</td>\n",
       "      <td>0.571429</td>\n",
       "      <td>0.250000</td>\n",
       "      <td>0.290955</td>\n",
       "      <td>8</td>\n",
       "      <td>1</td>\n",
       "    </tr>\n",
       "    <tr>\n",
       "      <th>1</th>\n",
       "      <td>19</td>\n",
       "      <td>26</td>\n",
       "      <td>0.142857</td>\n",
       "      <td>0.045455</td>\n",
       "      <td>0.219512</td>\n",
       "      <td>30</td>\n",
       "      <td>7</td>\n",
       "    </tr>\n",
       "    <tr>\n",
       "      <th>2</th>\n",
       "      <td>9</td>\n",
       "      <td>7</td>\n",
       "      <td>0.142857</td>\n",
       "      <td>0.500000</td>\n",
       "      <td>0.668023</td>\n",
       "      <td>7</td>\n",
       "      <td>2</td>\n",
       "    </tr>\n",
       "    <tr>\n",
       "      <th>3</th>\n",
       "      <td>10</td>\n",
       "      <td>8</td>\n",
       "      <td>0.062500</td>\n",
       "      <td>0.000000</td>\n",
       "      <td>0.000000</td>\n",
       "      <td>27</td>\n",
       "      <td>2</td>\n",
       "    </tr>\n",
       "    <tr>\n",
       "      <th>4</th>\n",
       "      <td>10</td>\n",
       "      <td>12</td>\n",
       "      <td>0.833333</td>\n",
       "      <td>0.833333</td>\n",
       "      <td>1.000000</td>\n",
       "      <td>5</td>\n",
       "      <td>2</td>\n",
       "    </tr>\n",
       "  </tbody>\n",
       "</table>\n",
       "</div>"
      ],
      "text/plain": [
       "   question1_word_count  question2_word_count  common_word_proportion  \\\n",
       "0                     6                     5                0.571429   \n",
       "1                    19                    26                0.142857   \n",
       "2                     9                     7                0.142857   \n",
       "3                    10                     8                0.062500   \n",
       "4                    10                    12                0.833333   \n",
       "\n",
       "   common_word_proportion_no_stops  tfidf_similarity  char_count_diff  \\\n",
       "0                         0.250000          0.290955                8   \n",
       "1                         0.045455          0.219512               30   \n",
       "2                         0.500000          0.668023                7   \n",
       "3                         0.000000          0.000000               27   \n",
       "4                         0.833333          1.000000                5   \n",
       "\n",
       "   question_length_diff  \n",
       "0                     1  \n",
       "1                     7  \n",
       "2                     2  \n",
       "3                     2  \n",
       "4                     2  "
      ]
     },
     "execution_count": 82,
     "metadata": {},
     "output_type": "execute_result"
    }
   ],
   "source": [
    "X_test = transform_question_pairs(X_test)\n",
    "X_test_filtered = X_test[['question1_word_count', 'question2_word_count', 'common_word_proportion', 'common_word_proportion_no_stops', 'tfidf_similarity', 'char_count_diff', 'question_length_diff']]\n",
    "X_test_filtered.head()"
   ]
  },
  {
   "cell_type": "markdown",
   "metadata": {
    "id": "U_3XX9uieGW5"
   },
   "source": [
    "### SVM\n",
    "Without CV"
   ]
  },
  {
   "cell_type": "code",
   "execution_count": 83,
   "metadata": {
    "id": "mZoOqX37g8yL"
   },
   "outputs": [],
   "source": [
    "from sklearn.svm import SVC\n",
    "\n",
    "# initialize SVM model\n",
    "svm_model = SVC(C=1.0, kernel='rbf', degree=3)\n",
    "\n",
    "svm_model.fit(X_train_filtered, y_train)"
   ]
  },
  {
   "cell_type": "code",
   "execution_count": null,
   "metadata": {
    "colab": {
     "base_uri": "https://localhost:8080/"
    },
    "id": "_tQwY8PDd0hB",
    "outputId": "ff2ba20f-0e43-4ea6-e390-b819726305fe",
    "scrolled": true
   },
   "outputs": [],
   "source": [
    "svm_train_predictions = svm_model.predict(X_train_filtered)"
   ]
  },
  {
   "cell_type": "code",
   "execution_count": 102,
   "metadata": {},
   "outputs": [
    {
     "name": "stdout",
     "output_type": "stream",
     "text": [
      "SVM Train Accuracy: 68.29%\n",
      "              precision    recall  f1-score   support\n",
      "\n",
      "           0       0.71      0.83      0.77    206401\n",
      "           1       0.60      0.43      0.50    121060\n",
      "\n",
      "    accuracy                           0.68    327461\n",
      "   macro avg       0.66      0.63      0.63    327461\n",
      "weighted avg       0.67      0.68      0.67    327461\n",
      "\n"
     ]
    }
   ],
   "source": [
    "svm_train_accuracy = accuracy_score(y_train, svm_train_predictions)\n",
    "print(f\"SVM Train Accuracy: {svm_train_accuracy * 100:.2f}%\")\n",
    "print(classification_report(y_train, svm_train_predictions))"
   ]
  },
  {
   "cell_type": "code",
   "execution_count": null,
   "metadata": {},
   "outputs": [],
   "source": [
    "# predict on validation set\n",
    "svm_val_predictions = svm_model.predict(X_dev_filtered)"
   ]
  },
  {
   "cell_type": "code",
   "execution_count": 100,
   "metadata": {
    "colab": {
     "base_uri": "https://localhost:8080/"
    },
    "id": "PlH1vALCDu0j",
    "outputId": "0b991971-7ade-4b2b-967b-9d147ec33121"
   },
   "outputs": [
    {
     "name": "stdout",
     "output_type": "stream",
     "text": [
      "SVM Validation Accuracy: 68.29%\n",
      "              precision    recall  f1-score   support\n",
      "\n",
      "           0       0.71      0.83      0.77     23067\n",
      "           1       0.59      0.43      0.50     13318\n",
      "\n",
      "    accuracy                           0.68     36385\n",
      "   macro avg       0.65      0.63      0.63     36385\n",
      "weighted avg       0.67      0.68      0.67     36385\n",
      "\n"
     ]
    }
   ],
   "source": [
    "# evaluate metrics on validation set\n",
    "svm_val_accuracy = accuracy_score(y_dev, svm_val_predictions)\n",
    "print(f\"SVM Validation Accuracy: {svm_val_accuracy * 100:.2f}%\")\n",
    "print(classification_report(y_dev, svm_val_predictions))"
   ]
  },
  {
   "cell_type": "code",
   "execution_count": null,
   "metadata": {},
   "outputs": [],
   "source": [
    "# predict on test set\n",
    "svm_test_predictions = svm_model.predict(X_test_filtered)"
   ]
  },
  {
   "cell_type": "code",
   "execution_count": 101,
   "metadata": {},
   "outputs": [
    {
     "name": "stdout",
     "output_type": "stream",
     "text": [
      "SVM Test Accuracy: 67.92%\n",
      "              precision    recall  f1-score   support\n",
      "\n",
      "           0       0.71      0.83      0.77     25545\n",
      "           1       0.59      0.42      0.49     14885\n",
      "\n",
      "    accuracy                           0.68     40430\n",
      "   macro avg       0.65      0.63      0.63     40430\n",
      "weighted avg       0.67      0.68      0.66     40430\n",
      "\n"
     ]
    }
   ],
   "source": [
    "# evaluate metrics on test set\n",
    "svm_test_accuracy = accuracy_score(y_test, svm_test_predictions)\n",
    "print(f\"SVM Test Accuracy: {svm_test_accuracy * 100:.2f}%\")\n",
    "print(classification_report(y_test, svm_test_predictions))"
   ]
  },
  {
   "cell_type": "markdown",
   "metadata": {},
   "source": [
    "### Saving and Loading Model"
   ]
  },
  {
   "cell_type": "code",
   "execution_count": 103,
   "metadata": {
    "id": "FPzr4tx8c0bB"
   },
   "outputs": [],
   "source": [
    "import joblib\n",
    "from datetime import datetime\n",
    "\n",
    "def save_model(model, model_type=None):\n",
    "    today = datetime.now().strftime('%Y-%m-%d')\n",
    "    model_filepath = f'{model_type}_{today}.pkl'\n",
    "    joblib.dump(model, model_filepath)\n",
    "\n",
    "def load_model(model_filepath):\n",
    "    return joblib.load(model_filepath)"
   ]
  },
  {
   "cell_type": "code",
   "execution_count": 104,
   "metadata": {
    "id": "8jDHLWlSdqSt"
   },
   "outputs": [],
   "source": [
    "save_model(svm_model, model_type='svm')"
   ]
  },
  {
   "cell_type": "code",
   "execution_count": null,
   "metadata": {
    "id": "NMwxBQbVTeVN"
   },
   "outputs": [],
   "source": [
    "# load saved model\n",
    "# loaded svm_model = joblib.load(svm_model_filepath)"
   ]
  },
  {
   "cell_type": "markdown",
   "metadata": {
    "id": "UOluOEsmeKiD"
   },
   "source": [
    "### Logistic Regression\n",
    "\n",
    "#### With CV"
   ]
  },
  {
   "cell_type": "code",
   "execution_count": null,
   "metadata": {
    "id": "gCgqt-E1eL8w",
    "scrolled": false
   },
   "outputs": [],
   "source": [
    "lr_model = LogisticRegression()\n",
    "\n",
    "param_grid = {\n",
    "    'C': [0.1, 0.5, 1, 10],\n",
    "    'solver': ['saga', 'lbfgs', 'sag', 'newton-cg'],\n",
    "    'max_iter': [500, 1000, 5000, 10000]\n",
    "}\n",
    "\n",
    "lr_grid_search = GridSearchCV(lr_model, param_grid, scoring='accuracy')\n",
    "\n",
    "lr_grid_search.fit(X_train_filtered, y_train)\n",
    "\n",
    "best_lr_model = lr_grid_search.best_estimator_"
   ]
  },
  {
   "cell_type": "code",
   "execution_count": 108,
   "metadata": {
    "id": "zQOYSw69cqzR"
   },
   "outputs": [],
   "source": [
    "save_model(best_lr_model, model_type='lr_cv')"
   ]
  },
  {
   "cell_type": "code",
   "execution_count": 109,
   "metadata": {},
   "outputs": [],
   "source": [
    "lr_train_predictions = best_lr_model.predict(X_train_filtered)"
   ]
  },
  {
   "cell_type": "code",
   "execution_count": 110,
   "metadata": {
    "colab": {
     "base_uri": "https://localhost:8080/"
    },
    "id": "CNktFHtDeT3Z",
    "outputId": "c7b81857-743c-4527-c3b5-e780b8bc8c52"
   },
   "outputs": [
    {
     "name": "stdout",
     "output_type": "stream",
     "text": [
      "Logistic Regression Train Accuracy: 65.68%\n",
      "              precision    recall  f1-score   support\n",
      "\n",
      "           0       0.70      0.79      0.74    206401\n",
      "           1       0.55      0.43      0.48    121060\n",
      "\n",
      "    accuracy                           0.66    327461\n",
      "   macro avg       0.62      0.61      0.61    327461\n",
      "weighted avg       0.64      0.66      0.65    327461\n",
      "\n"
     ]
    }
   ],
   "source": [
    "lr_train_accuracy = accuracy_score(y_train, lr_train_predictions)\n",
    "print(f\"Logistic Regression Train Accuracy: {lr_train_accuracy * 100:.2f}%\")\n",
    "print(classification_report(y_train, lr_train_predictions))"
   ]
  },
  {
   "cell_type": "code",
   "execution_count": 113,
   "metadata": {},
   "outputs": [],
   "source": [
    "lr_val_predictions = best_lr_model.predict(X_dev_filtered)"
   ]
  },
  {
   "cell_type": "code",
   "execution_count": 115,
   "metadata": {},
   "outputs": [
    {
     "name": "stdout",
     "output_type": "stream",
     "text": [
      "Logistic Regression Validation Accuracy: 65.40%\n",
      "              precision    recall  f1-score   support\n",
      "\n",
      "           0       0.70      0.78      0.74     23067\n",
      "           1       0.53      0.43      0.48     13318\n",
      "\n",
      "    accuracy                           0.65     36385\n",
      "   macro avg       0.62      0.61      0.61     36385\n",
      "weighted avg       0.64      0.65      0.64     36385\n",
      "\n"
     ]
    }
   ],
   "source": [
    "# evalute metrics on validation set\n",
    "lr_val_accuracy = accuracy_score(y_dev, lr_val_predictions)\n",
    "print(f\"Logistic Regression Validation Accuracy: {lr_val_accuracy * 100:.2f}%\")\n",
    "print(classification_report(y_dev, lr_val_predictions))"
   ]
  },
  {
   "cell_type": "code",
   "execution_count": 116,
   "metadata": {},
   "outputs": [],
   "source": [
    "lr_test_predictions = best_lr_model.predict(X_test_filtered)"
   ]
  },
  {
   "cell_type": "code",
   "execution_count": 117,
   "metadata": {
    "colab": {
     "base_uri": "https://localhost:8080/"
    },
    "id": "tPHAneLJJzQR",
    "outputId": "dff4d394-d839-427f-856b-eb92d35d2ed4"
   },
   "outputs": [
    {
     "name": "stdout",
     "output_type": "stream",
     "text": [
      "Logistic Regression Test Accuracy: 65.39%\n",
      "              precision    recall  f1-score   support\n",
      "\n",
      "           0       0.70      0.78      0.74     25545\n",
      "           1       0.54      0.43      0.48     14885\n",
      "\n",
      "    accuracy                           0.65     40430\n",
      "   macro avg       0.62      0.61      0.61     40430\n",
      "weighted avg       0.64      0.65      0.64     40430\n",
      "\n"
     ]
    }
   ],
   "source": [
    "# evaluate metrics on test set\n",
    "lr_test_accuracy = accuracy_score(y_test, lr_test_predictions)\n",
    "print(f\"Logistic Regression Test Accuracy: {lr_test_accuracy * 100:.2f}%\")\n",
    "print(classification_report(y_test, lr_test_predictions))"
   ]
  },
  {
   "cell_type": "markdown",
   "metadata": {
    "id": "pUSdVi0MeMZd"
   },
   "source": [
    "### $k$-NN\n",
    "\n",
    "#### With CV"
   ]
  },
  {
   "cell_type": "code",
   "execution_count": 118,
   "metadata": {
    "id": "2yEL_4Uzv07l",
    "scrolled": true
   },
   "outputs": [],
   "source": [
    "knn_model = KNeighborsClassifier()\n",
    "\n",
    "param_grid = {\n",
    "    'n_neighbors': [5, 7, 9, 12, 15, 20, 30, 50]\n",
    "}\n",
    "\n",
    "knn_grid_search = GridSearchCV(knn_model, param_grid, scoring='accuracy')\n",
    "\n",
    "knn_grid_search.fit(X_train_filtered, y_train)\n",
    "\n",
    "best_knn_model = knn_grid_search.best_estimator_"
   ]
  },
  {
   "cell_type": "code",
   "execution_count": 119,
   "metadata": {
    "colab": {
     "base_uri": "https://localhost:8080/"
    },
    "id": "Lg7vxSrCzBVc",
    "outputId": "064bfa7f-1286-48e0-b70d-f4809fdf416b"
   },
   "outputs": [
    {
     "data": {
      "text/plain": [
       "{'n_neighbors': 15}"
      ]
     },
     "execution_count": 119,
     "metadata": {},
     "output_type": "execute_result"
    }
   ],
   "source": [
    "knn_grid_search.best_params_"
   ]
  },
  {
   "cell_type": "code",
   "execution_count": 120,
   "metadata": {
    "id": "GKAlwgmtyW-8"
   },
   "outputs": [],
   "source": [
    "save_model(best_knn_model, model_type='knn_cv')"
   ]
  },
  {
   "cell_type": "code",
   "execution_count": 121,
   "metadata": {
    "colab": {
     "base_uri": "https://localhost:8080/"
    },
    "id": "SY3YKPzqxYeF",
    "outputId": "d4f366e0-54cb-4f32-a939-126d38a6ec23"
   },
   "outputs": [],
   "source": [
    "knn_train_predictions = best_knn_model.predict(X_train_filtered)"
   ]
  },
  {
   "cell_type": "code",
   "execution_count": 122,
   "metadata": {},
   "outputs": [
    {
     "name": "stdout",
     "output_type": "stream",
     "text": [
      "kNN Train Accuracy: 74.08%\n",
      "              precision    recall  f1-score   support\n",
      "\n",
      "           0       0.78      0.83      0.80    206401\n",
      "           1       0.67      0.60      0.63    121060\n",
      "\n",
      "    accuracy                           0.74    327461\n",
      "   macro avg       0.72      0.71      0.72    327461\n",
      "weighted avg       0.74      0.74      0.74    327461\n",
      "\n"
     ]
    }
   ],
   "source": [
    "knn_train_accuracy = accuracy_score(y_train, knn_train_predictions)\n",
    "print(f\"kNN Train Accuracy: {knn_train_accuracy * 100:.2f}%\")\n",
    "print(classification_report(y_train, knn_train_predictions))"
   ]
  },
  {
   "cell_type": "code",
   "execution_count": 123,
   "metadata": {},
   "outputs": [],
   "source": [
    "knn_val_predictions = best_knn_model.predict(X_dev_filtered)"
   ]
  },
  {
   "cell_type": "code",
   "execution_count": 124,
   "metadata": {},
   "outputs": [
    {
     "name": "stdout",
     "output_type": "stream",
     "text": [
      "kNN Validation Accuracy: 68.96%\n",
      "              precision    recall  f1-score   support\n",
      "\n",
      "           0       0.74      0.78      0.76     23067\n",
      "           1       0.58      0.53      0.55     13318\n",
      "\n",
      "    accuracy                           0.69     36385\n",
      "   macro avg       0.66      0.65      0.66     36385\n",
      "weighted avg       0.68      0.69      0.69     36385\n",
      "\n"
     ]
    }
   ],
   "source": [
    "knn_val_accuracy = accuracy_score(y_dev, knn_val_predictions)\n",
    "print(f\"kNN Validation Accuracy: {knn_val_accuracy * 100:.2f}%\")\n",
    "print(classification_report(y_dev, knn_val_predictions))"
   ]
  },
  {
   "cell_type": "code",
   "execution_count": 125,
   "metadata": {},
   "outputs": [],
   "source": [
    "knn_test_predictions = best_knn_model.predict(X_test_filtered)"
   ]
  },
  {
   "cell_type": "code",
   "execution_count": 126,
   "metadata": {},
   "outputs": [
    {
     "name": "stdout",
     "output_type": "stream",
     "text": [
      "kNN Test Accuracy: 68.97%\n",
      "              precision    recall  f1-score   support\n",
      "\n",
      "           0       0.74      0.79      0.76     25545\n",
      "           1       0.59      0.52      0.55     14885\n",
      "\n",
      "    accuracy                           0.69     40430\n",
      "   macro avg       0.66      0.65      0.66     40430\n",
      "weighted avg       0.68      0.69      0.69     40430\n",
      "\n"
     ]
    }
   ],
   "source": [
    "knn_test_accuracy = accuracy_score(y_test, knn_test_predictions)\n",
    "print(f\"kNN Test Accuracy: {knn_test_accuracy * 100:.2f}%\")\n",
    "print(classification_report(y_test, knn_test_predictions))"
   ]
  }
 ],
 "metadata": {
  "colab": {
   "provenance": []
  },
  "kernelspec": {
   "display_name": "Python 3 (ipykernel)",
   "language": "python",
   "name": "python3"
  },
  "language_info": {
   "codemirror_mode": {
    "name": "ipython",
    "version": 3
   },
   "file_extension": ".py",
   "mimetype": "text/x-python",
   "name": "python",
   "nbconvert_exporter": "python",
   "pygments_lexer": "ipython3",
   "version": "3.11.3"
  }
 },
 "nbformat": 4,
 "nbformat_minor": 1
}
