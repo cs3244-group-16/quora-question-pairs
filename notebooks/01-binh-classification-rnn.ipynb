{
 "cells": [
  {
   "cell_type": "code",
   "execution_count": 1,
   "id": "18cbdf21-618c-4c0c-b867-e033848e82bb",
   "metadata": {},
   "outputs": [],
   "source": [
    "from os.path import join\n",
    "\n",
    "import pandas as pd\n",
    "import numpy as np\n",
    "import matplotlib.pyplot as plt\n",
    "from tqdm.notebook import tqdm\n",
    "\n",
    "from sklearn.model_selection import train_test_split\n",
    "from sklearn.metrics import classification_report, accuracy_score"
   ]
  },
  {
   "cell_type": "markdown",
   "id": "1929ab10-8991-43d2-b807-bc8d1a1d8aa0",
   "metadata": {
    "jp-MarkdownHeadingCollapsed": true,
    "tags": []
   },
   "source": [
    "# EDA"
   ]
  },
  {
   "cell_type": "code",
   "execution_count": 2,
   "id": "0a2fa1f1-f46e-4ab3-9b12-ac82d2bcc494",
   "metadata": {},
   "outputs": [],
   "source": [
    "np.random.seed(42)"
   ]
  },
  {
   "cell_type": "code",
   "execution_count": 3,
   "id": "eb6770d8-039f-4537-8d91-9a3de7c1f26d",
   "metadata": {},
   "outputs": [],
   "source": [
    "DATA_DIR = join('..', 'data', 'raw')"
   ]
  },
  {
   "cell_type": "code",
   "execution_count": 4,
   "id": "a6ad2670-22e4-4082-93ad-c0a772a129ca",
   "metadata": {},
   "outputs": [
    {
     "data": {
      "text/html": [
       "<div>\n",
       "<style scoped>\n",
       "    .dataframe tbody tr th:only-of-type {\n",
       "        vertical-align: middle;\n",
       "    }\n",
       "\n",
       "    .dataframe tbody tr th {\n",
       "        vertical-align: top;\n",
       "    }\n",
       "\n",
       "    .dataframe thead th {\n",
       "        text-align: right;\n",
       "    }\n",
       "</style>\n",
       "<table border=\"1\" class=\"dataframe\">\n",
       "  <thead>\n",
       "    <tr style=\"text-align: right;\">\n",
       "      <th></th>\n",
       "      <th>id</th>\n",
       "      <th>qid1</th>\n",
       "      <th>qid2</th>\n",
       "      <th>question1</th>\n",
       "      <th>question2</th>\n",
       "      <th>is_duplicate</th>\n",
       "    </tr>\n",
       "  </thead>\n",
       "  <tbody>\n",
       "    <tr>\n",
       "      <th>0</th>\n",
       "      <td>133273</td>\n",
       "      <td>213221</td>\n",
       "      <td>213222</td>\n",
       "      <td>How is the life of a math student? Could you d...</td>\n",
       "      <td>Which level of prepration is enough for the ex...</td>\n",
       "      <td>0</td>\n",
       "    </tr>\n",
       "    <tr>\n",
       "      <th>1</th>\n",
       "      <td>402555</td>\n",
       "      <td>536040</td>\n",
       "      <td>536041</td>\n",
       "      <td>How do I control my horny emotions?</td>\n",
       "      <td>How do you control your horniness?</td>\n",
       "      <td>1</td>\n",
       "    </tr>\n",
       "    <tr>\n",
       "      <th>2</th>\n",
       "      <td>360472</td>\n",
       "      <td>364011</td>\n",
       "      <td>490273</td>\n",
       "      <td>What causes stool color to change to yellow?</td>\n",
       "      <td>What can cause stool to come out as little balls?</td>\n",
       "      <td>0</td>\n",
       "    </tr>\n",
       "    <tr>\n",
       "      <th>3</th>\n",
       "      <td>150662</td>\n",
       "      <td>155721</td>\n",
       "      <td>7256</td>\n",
       "      <td>What can one do after MBBS?</td>\n",
       "      <td>What do i do after my MBBS ?</td>\n",
       "      <td>1</td>\n",
       "    </tr>\n",
       "    <tr>\n",
       "      <th>4</th>\n",
       "      <td>183004</td>\n",
       "      <td>279958</td>\n",
       "      <td>279959</td>\n",
       "      <td>Where can I find a power outlet for my laptop ...</td>\n",
       "      <td>Would a second airport in Sydney, Australia be...</td>\n",
       "      <td>0</td>\n",
       "    </tr>\n",
       "  </tbody>\n",
       "</table>\n",
       "</div>"
      ],
      "text/plain": [
       "       id    qid1    qid2                                          question1  \\\n",
       "0  133273  213221  213222  How is the life of a math student? Could you d...   \n",
       "1  402555  536040  536041                How do I control my horny emotions?   \n",
       "2  360472  364011  490273       What causes stool color to change to yellow?   \n",
       "3  150662  155721    7256                        What can one do after MBBS?   \n",
       "4  183004  279958  279959  Where can I find a power outlet for my laptop ...   \n",
       "\n",
       "                                           question2  is_duplicate  \n",
       "0  Which level of prepration is enough for the ex...             0  \n",
       "1                 How do you control your horniness?             1  \n",
       "2  What can cause stool to come out as little balls?             0  \n",
       "3                       What do i do after my MBBS ?             1  \n",
       "4  Would a second airport in Sydney, Australia be...             0  "
      ]
     },
     "execution_count": 4,
     "metadata": {},
     "output_type": "execute_result"
    }
   ],
   "source": [
    "train_full_df = pd.read_csv(join(DATA_DIR, 'train.tsv'), sep='\\t')\n",
    "train_full_df.head()"
   ]
  },
  {
   "cell_type": "code",
   "execution_count": 5,
   "id": "c898d884-ae92-4b91-a760-d6affb4433c6",
   "metadata": {},
   "outputs": [
    {
     "data": {
      "text/plain": [
       "(363846, 6)"
      ]
     },
     "execution_count": 5,
     "metadata": {},
     "output_type": "execute_result"
    }
   ],
   "source": [
    "train_full_df.shape"
   ]
  },
  {
   "cell_type": "code",
   "execution_count": 6,
   "id": "36584e42-5657-4519-87c4-d69100d0b71c",
   "metadata": {},
   "outputs": [
    {
     "data": {
      "text/html": [
       "<div>\n",
       "<style scoped>\n",
       "    .dataframe tbody tr th:only-of-type {\n",
       "        vertical-align: middle;\n",
       "    }\n",
       "\n",
       "    .dataframe tbody tr th {\n",
       "        vertical-align: top;\n",
       "    }\n",
       "\n",
       "    .dataframe thead th {\n",
       "        text-align: right;\n",
       "    }\n",
       "</style>\n",
       "<table border=\"1\" class=\"dataframe\">\n",
       "  <thead>\n",
       "    <tr style=\"text-align: right;\">\n",
       "      <th></th>\n",
       "      <th>id</th>\n",
       "      <th>qid1</th>\n",
       "      <th>qid2</th>\n",
       "      <th>question1</th>\n",
       "      <th>question2</th>\n",
       "      <th>is_duplicate</th>\n",
       "    </tr>\n",
       "  </thead>\n",
       "  <tbody>\n",
       "    <tr>\n",
       "      <th>0</th>\n",
       "      <td>201359</td>\n",
       "      <td>303345</td>\n",
       "      <td>303346</td>\n",
       "      <td>Why are African-Americans so beautiful?</td>\n",
       "      <td>Why are hispanics so beautiful?</td>\n",
       "      <td>0</td>\n",
       "    </tr>\n",
       "    <tr>\n",
       "      <th>1</th>\n",
       "      <td>263843</td>\n",
       "      <td>69383</td>\n",
       "      <td>380476</td>\n",
       "      <td>I want to pursue PhD in Computer Science about...</td>\n",
       "      <td>I handle social media for a non-profit. Should...</td>\n",
       "      <td>0</td>\n",
       "    </tr>\n",
       "    <tr>\n",
       "      <th>2</th>\n",
       "      <td>172974</td>\n",
       "      <td>266948</td>\n",
       "      <td>175089</td>\n",
       "      <td>Is there a reason why we should travel alone?</td>\n",
       "      <td>What are some reasons to travel alone?</td>\n",
       "      <td>1</td>\n",
       "    </tr>\n",
       "    <tr>\n",
       "      <th>3</th>\n",
       "      <td>15329</td>\n",
       "      <td>29298</td>\n",
       "      <td>29299</td>\n",
       "      <td>Why are people so obsessed with having a girlf...</td>\n",
       "      <td>How can a single male have a child?</td>\n",
       "      <td>0</td>\n",
       "    </tr>\n",
       "    <tr>\n",
       "      <th>4</th>\n",
       "      <td>209794</td>\n",
       "      <td>314169</td>\n",
       "      <td>314170</td>\n",
       "      <td>What are some good baby girl names starting wi...</td>\n",
       "      <td>What are some good baby girl names starting wi...</td>\n",
       "      <td>0</td>\n",
       "    </tr>\n",
       "  </tbody>\n",
       "</table>\n",
       "</div>"
      ],
      "text/plain": [
       "       id    qid1    qid2                                          question1  \\\n",
       "0  201359  303345  303346            Why are African-Americans so beautiful?   \n",
       "1  263843   69383  380476  I want to pursue PhD in Computer Science about...   \n",
       "2  172974  266948  175089      Is there a reason why we should travel alone?   \n",
       "3   15329   29298   29299  Why are people so obsessed with having a girlf...   \n",
       "4  209794  314169  314170  What are some good baby girl names starting wi...   \n",
       "\n",
       "                                           question2  is_duplicate  \n",
       "0                    Why are hispanics so beautiful?             0  \n",
       "1  I handle social media for a non-profit. Should...             0  \n",
       "2             What are some reasons to travel alone?             1  \n",
       "3                How can a single male have a child?             0  \n",
       "4  What are some good baby girl names starting wi...             0  "
      ]
     },
     "execution_count": 6,
     "metadata": {},
     "output_type": "execute_result"
    }
   ],
   "source": [
    "test_df = pd.read_csv(join(DATA_DIR, 'dev.tsv'), sep='\\t')\n",
    "test_df.head()"
   ]
  },
  {
   "cell_type": "code",
   "execution_count": 7,
   "id": "ef88dca4-bde2-4993-957d-91c4726f6773",
   "metadata": {},
   "outputs": [
    {
     "data": {
      "text/plain": [
       "(40430, 6)"
      ]
     },
     "execution_count": 7,
     "metadata": {},
     "output_type": "execute_result"
    }
   ],
   "source": [
    "test_df.shape"
   ]
  },
  {
   "cell_type": "code",
   "execution_count": 8,
   "id": "a0fc7f7a-51af-4183-aa12-6970c621d5e1",
   "metadata": {},
   "outputs": [],
   "source": [
    "train_df, dev_df = train_test_split(train_full_df, test_size=0.1, random_state=42)"
   ]
  },
  {
   "cell_type": "code",
   "execution_count": 9,
   "id": "5fe19ff0-4934-4beb-b9cf-7382cb754645",
   "metadata": {},
   "outputs": [
    {
     "data": {
      "text/plain": [
       "(327461, 36385)"
      ]
     },
     "execution_count": 9,
     "metadata": {},
     "output_type": "execute_result"
    }
   ],
   "source": [
    "len(train_df), len(dev_df)"
   ]
  },
  {
   "cell_type": "code",
   "execution_count": 10,
   "id": "394e15b9-953f-4910-a042-79881e6b3f51",
   "metadata": {},
   "outputs": [
    {
     "data": {
      "text/html": [
       "<div>\n",
       "<style scoped>\n",
       "    .dataframe tbody tr th:only-of-type {\n",
       "        vertical-align: middle;\n",
       "    }\n",
       "\n",
       "    .dataframe tbody tr th {\n",
       "        vertical-align: top;\n",
       "    }\n",
       "\n",
       "    .dataframe thead th {\n",
       "        text-align: right;\n",
       "    }\n",
       "</style>\n",
       "<table border=\"1\" class=\"dataframe\">\n",
       "  <thead>\n",
       "    <tr style=\"text-align: right;\">\n",
       "      <th></th>\n",
       "      <th>id</th>\n",
       "      <th>qid1</th>\n",
       "      <th>qid2</th>\n",
       "      <th>question1</th>\n",
       "      <th>question2</th>\n",
       "      <th>is_duplicate</th>\n",
       "    </tr>\n",
       "  </thead>\n",
       "  <tbody>\n",
       "    <tr>\n",
       "      <th>80519</th>\n",
       "      <td>51432</td>\n",
       "      <td>91228</td>\n",
       "      <td>91229</td>\n",
       "      <td>Which topic is the most followed in Quora?</td>\n",
       "      <td>What topic on Quora has the most followers?</td>\n",
       "      <td>1</td>\n",
       "    </tr>\n",
       "    <tr>\n",
       "      <th>349125</th>\n",
       "      <td>52249</td>\n",
       "      <td>92541</td>\n",
       "      <td>92542</td>\n",
       "      <td>What does it feel like to have sex with a rela...</td>\n",
       "      <td>Is it possible to eat more than you weigh?</td>\n",
       "      <td>0</td>\n",
       "    </tr>\n",
       "    <tr>\n",
       "      <th>126605</th>\n",
       "      <td>135176</td>\n",
       "      <td>215925</td>\n",
       "      <td>215926</td>\n",
       "      <td>Can I get back my best friend?</td>\n",
       "      <td>How do I get back to my best friend as my lover?</td>\n",
       "      <td>0</td>\n",
       "    </tr>\n",
       "    <tr>\n",
       "      <th>6008</th>\n",
       "      <td>184003</td>\n",
       "      <td>281230</td>\n",
       "      <td>281231</td>\n",
       "      <td>Are there solar systems that act like a double...</td>\n",
       "      <td>As a Navy SEAL do you feel as if people are af...</td>\n",
       "      <td>0</td>\n",
       "    </tr>\n",
       "    <tr>\n",
       "      <th>292788</th>\n",
       "      <td>5971</td>\n",
       "      <td>11714</td>\n",
       "      <td>11715</td>\n",
       "      <td>Why are there only few magnets?</td>\n",
       "      <td>Why is there only few magnets?</td>\n",
       "      <td>1</td>\n",
       "    </tr>\n",
       "  </tbody>\n",
       "</table>\n",
       "</div>"
      ],
      "text/plain": [
       "            id    qid1    qid2  \\\n",
       "80519    51432   91228   91229   \n",
       "349125   52249   92541   92542   \n",
       "126605  135176  215925  215926   \n",
       "6008    184003  281230  281231   \n",
       "292788    5971   11714   11715   \n",
       "\n",
       "                                                question1  \\\n",
       "80519          Which topic is the most followed in Quora?   \n",
       "349125  What does it feel like to have sex with a rela...   \n",
       "126605                     Can I get back my best friend?   \n",
       "6008    Are there solar systems that act like a double...   \n",
       "292788                    Why are there only few magnets?   \n",
       "\n",
       "                                                question2  is_duplicate  \n",
       "80519         What topic on Quora has the most followers?             1  \n",
       "349125         Is it possible to eat more than you weigh?             0  \n",
       "126605   How do I get back to my best friend as my lover?             0  \n",
       "6008    As a Navy SEAL do you feel as if people are af...             0  \n",
       "292788                     Why is there only few magnets?             1  "
      ]
     },
     "execution_count": 10,
     "metadata": {},
     "output_type": "execute_result"
    }
   ],
   "source": [
    "train_df.head()"
   ]
  },
  {
   "cell_type": "code",
   "execution_count": 11,
   "id": "806455f8-250e-4375-886c-78b00cc97500",
   "metadata": {},
   "outputs": [
    {
     "data": {
      "image/png": "[encoded data removed]",
      "text/plain": [
       "<Figure size 640x480 with 1 Axes>"
      ]
     },
     "metadata": {},
     "output_type": "display_data"
    }
   ],
   "source": [
    "_, _, bars = plt.hist(train_df.is_duplicate)\n",
    "plt.bar_label(bars)\n",
    "plt.show()"
   ]
  },
  {
   "cell_type": "code",
   "execution_count": 12,
   "id": "19cd6811-4ee0-4089-9f10-a4968af5692b",
   "metadata": {},
   "outputs": [
    {
     "data": {
      "image/png": "[encoded data removed]",
      "text/plain": [
       "<Figure size 640x480 with 1 Axes>"
      ]
     },
     "metadata": {},
     "output_type": "display_data"
    }
   ],
   "source": [
    "plt.pie(\n",
    "    train_df.is_duplicate.value_counts(), \n",
    "    labels=train_df.is_duplicate.value_counts().index, \n",
    "    autopct='%1.1f%%'\n",
    ")\n",
    "plt.show()"
   ]
  },
  {
   "cell_type": "code",
   "execution_count": 13,
   "id": "a16bc652-f3a0-4200-a327-62296e23efe9",
   "metadata": {},
   "outputs": [
    {
     "data": {
      "text/plain": [
       "(0, 7738)"
      ]
     },
     "execution_count": 13,
     "metadata": {},
     "output_type": "execute_result"
    }
   ],
   "source": [
    "non_asciis, non_strs = [], []\n",
    "\n",
    "for i, row in train_df.iterrows():\n",
    "    for question in [row['question1'], row['question2']]:\n",
    "        if type(question) != str:\n",
    "            non_strs.append(row)\n",
    "        elif not question.isascii():\n",
    "            non_asciis.append(row)\n",
    "\n",
    "len(non_strs), len(non_asciis)"
   ]
  },
  {
   "cell_type": "code",
   "execution_count": 14,
   "id": "fc6491aa-5718-4350-9b3f-f642bbafe825",
   "metadata": {},
   "outputs": [
    {
     "data": {
      "text/plain": [
       "[]"
      ]
     },
     "execution_count": 14,
     "metadata": {},
     "output_type": "execute_result"
    }
   ],
   "source": [
    "non_strs"
   ]
  },
  {
   "cell_type": "code",
   "execution_count": 15,
   "id": "868e062a-7caa-4874-a36f-dae3e4824595",
   "metadata": {},
   "outputs": [
    {
     "data": {
      "text/plain": [
       "id                                                       69282\n",
       "qid1                                                    119565\n",
       "qid2                                                    119566\n",
       "question1       Is the new TV show “Westworld” worth watching?\n",
       "question2                         Is westworld worth watching?\n",
       "is_duplicate                                                 1\n",
       "Name: 14771, dtype: object"
      ]
     },
     "execution_count": 15,
     "metadata": {},
     "output_type": "execute_result"
    }
   ],
   "source": [
    "non_asciis[0]"
   ]
  },
  {
   "cell_type": "markdown",
   "id": "0bec2acb-b32f-45c1-9fff-99f95f97bec1",
   "metadata": {
    "jp-MarkdownHeadingCollapsed": true,
    "tags": []
   },
   "source": [
    "# Data preparation"
   ]
  },
  {
   "cell_type": "code",
   "execution_count": 16,
   "id": "78d849e6-3289-43a9-b736-c0575a3969aa",
   "metadata": {},
   "outputs": [],
   "source": [
    "train_df = train_df.fillna(\"\") # replace NaN with empty string\n",
    "dev_df = dev_df.fillna(\"\")\n",
    "test_df = test_df.fillna(\"\")"
   ]
  },
  {
   "cell_type": "code",
   "execution_count": 17,
   "id": "ccfc711a-3fd7-45a8-9ce4-d0554662c803",
   "metadata": {},
   "outputs": [
    {
     "name": "stderr",
     "output_type": "stream",
     "text": [
      "[nltk_data] Downloading package punkt to /home/binh_pdc01/nltk_data...\n",
      "[nltk_data]   Package punkt is already up-to-date!\n"
     ]
    }
   ],
   "source": [
    "import nltk\n",
    "nltk.download('punkt')\n",
    "from nltk.tokenize import word_tokenize"
   ]
  },
  {
   "cell_type": "code",
   "execution_count": 18,
   "id": "5564bc58-0781-4e20-8aca-7b539dc45830",
   "metadata": {},
   "outputs": [
    {
     "data": {
      "text/plain": [
       "['how', 'can', 'i', 'create', 'an', 'android', 'app', '?']"
      ]
     },
     "execution_count": 18,
     "metadata": {},
     "output_type": "execute_result"
    }
   ],
   "source": [
    "word_tokenize('How can I create an Android app?'.lower())"
   ]
  },
  {
   "cell_type": "code",
   "execution_count": 19,
   "id": "7aa90c92-320f-4f57-8d7f-8bc3fa91c859",
   "metadata": {},
   "outputs": [],
   "source": [
    "import torch\n",
    "import torch.nn as nn\n",
    "import torch.nn.functional as F\n",
    "import torch.optim as optim\n",
    "from torch.utils.data import Dataset, DataLoader, ConcatDataset\n",
    "\n",
    "from nltk.tokenize import word_tokenize\n",
    "\n",
    "torch.manual_seed(42)\n",
    "device = 'cpu' # 'cuda' if torch.cuda.is_available() else 'cpu'"
   ]
  },
  {
   "cell_type": "code",
   "execution_count": 20,
   "id": "9185c347-eb48-4b6b-912f-0325c14de002",
   "metadata": {},
   "outputs": [],
   "source": [
    "def get_X_y(df):\n",
    "    X = df[['question1', 'question2']]\n",
    "    X['tokenized_q1'] = X['question1'].apply(lambda x: word_tokenize(str(x).lower()))\n",
    "    X['tokenized_q2'] = X['question2'].apply(lambda x: word_tokenize(str(x).lower()))\n",
    "    X = X[['tokenized_q1', 'tokenized_q2']].reset_index(drop=True)\n",
    "\n",
    "    y = df['is_duplicate']\n",
    "    y = torch.tensor(y.values, dtype=torch.float32)\n",
    "\n",
    "    return X, y"
   ]
  },
  {
   "cell_type": "code",
   "execution_count": 21,
   "id": "dc378df6-d014-410c-bcd6-15029190fc04",
   "metadata": {},
   "outputs": [
    {
     "name": "stderr",
     "output_type": "stream",
     "text": [
      "/opt/conda/lib/python3.7/site-packages/ipykernel_launcher.py:3: SettingWithCopyWarning: \n",
      "A value is trying to be set on a copy of a slice from a DataFrame.\n",
      "Try using .loc[row_indexer,col_indexer] = value instead\n",
      "\n",
      "See the caveats in the documentation: https://pandas.pydata.org/pandas-docs/stable/user_guide/indexing.html#returning-a-view-versus-a-copy\n",
      "  This is separate from the ipykernel package so we can avoid doing imports until\n",
      "/opt/conda/lib/python3.7/site-packages/ipykernel_launcher.py:4: SettingWithCopyWarning: \n",
      "A value is trying to be set on a copy of a slice from a DataFrame.\n",
      "Try using .loc[row_indexer,col_indexer] = value instead\n",
      "\n",
      "See the caveats in the documentation: https://pandas.pydata.org/pandas-docs/stable/user_guide/indexing.html#returning-a-view-versus-a-copy\n",
      "  after removing the cwd from sys.path.\n"
     ]
    }
   ],
   "source": [
    "X_train, y_train = get_X_y(train_df)\n",
    "X_val, y_val = get_X_y(dev_df)\n",
    "X_test, y_test = get_X_y(test_df)"
   ]
  },
  {
   "cell_type": "code",
   "execution_count": 22,
   "id": "18a02e57-a01f-4998-8508-b79826be6eb9",
   "metadata": {},
   "outputs": [
    {
     "data": {
      "text/html": [
       "<div>\n",
       "<style scoped>\n",
       "    .dataframe tbody tr th:only-of-type {\n",
       "        vertical-align: middle;\n",
       "    }\n",
       "\n",
       "    .dataframe tbody tr th {\n",
       "        vertical-align: top;\n",
       "    }\n",
       "\n",
       "    .dataframe thead th {\n",
       "        text-align: right;\n",
       "    }\n",
       "</style>\n",
       "<table border=\"1\" class=\"dataframe\">\n",
       "  <thead>\n",
       "    <tr style=\"text-align: right;\">\n",
       "      <th></th>\n",
       "      <th>tokenized_q1</th>\n",
       "      <th>tokenized_q2</th>\n",
       "    </tr>\n",
       "  </thead>\n",
       "  <tbody>\n",
       "    <tr>\n",
       "      <th>0</th>\n",
       "      <td>[which, topic, is, the, most, followed, in, qu...</td>\n",
       "      <td>[what, topic, on, quora, has, the, most, follo...</td>\n",
       "    </tr>\n",
       "    <tr>\n",
       "      <th>1</th>\n",
       "      <td>[what, does, it, feel, like, to, have, sex, wi...</td>\n",
       "      <td>[is, it, possible, to, eat, more, than, you, w...</td>\n",
       "    </tr>\n",
       "    <tr>\n",
       "      <th>2</th>\n",
       "      <td>[can, i, get, back, my, best, friend, ?]</td>\n",
       "      <td>[how, do, i, get, back, to, my, best, friend, ...</td>\n",
       "    </tr>\n",
       "    <tr>\n",
       "      <th>3</th>\n",
       "      <td>[are, there, solar, systems, that, act, like, ...</td>\n",
       "      <td>[as, a, navy, seal, do, you, feel, as, if, peo...</td>\n",
       "    </tr>\n",
       "    <tr>\n",
       "      <th>4</th>\n",
       "      <td>[why, are, there, only, few, magnets, ?]</td>\n",
       "      <td>[why, is, there, only, few, magnets, ?]</td>\n",
       "    </tr>\n",
       "  </tbody>\n",
       "</table>\n",
       "</div>"
      ],
      "text/plain": [
       "                                        tokenized_q1  \\\n",
       "0  [which, topic, is, the, most, followed, in, qu...   \n",
       "1  [what, does, it, feel, like, to, have, sex, wi...   \n",
       "2           [can, i, get, back, my, best, friend, ?]   \n",
       "3  [are, there, solar, systems, that, act, like, ...   \n",
       "4           [why, are, there, only, few, magnets, ?]   \n",
       "\n",
       "                                        tokenized_q2  \n",
       "0  [what, topic, on, quora, has, the, most, follo...  \n",
       "1  [is, it, possible, to, eat, more, than, you, w...  \n",
       "2  [how, do, i, get, back, to, my, best, friend, ...  \n",
       "3  [as, a, navy, seal, do, you, feel, as, if, peo...  \n",
       "4            [why, is, there, only, few, magnets, ?]  "
      ]
     },
     "execution_count": 22,
     "metadata": {},
     "output_type": "execute_result"
    }
   ],
   "source": [
    "X_train.head()"
   ]
  },
  {
   "cell_type": "code",
   "execution_count": 23,
   "id": "0535a348-f745-4b2a-98a8-9eda730e00a6",
   "metadata": {},
   "outputs": [
    {
     "data": {
      "text/plain": [
       "(327461, 2)"
      ]
     },
     "execution_count": 23,
     "metadata": {},
     "output_type": "execute_result"
    }
   ],
   "source": [
    "X_train.shape"
   ]
  },
  {
   "cell_type": "code",
   "execution_count": 24,
   "id": "f36e818f-27b0-41df-a268-54c6c929322e",
   "metadata": {},
   "outputs": [
    {
     "data": {
      "text/plain": [
       "(tensor([1., 0., 0.,  ..., 0., 0., 1.]), torch.Size([327461]))"
      ]
     },
     "execution_count": 24,
     "metadata": {},
     "output_type": "execute_result"
    }
   ],
   "source": [
    "y_train, y_train.shape"
   ]
  },
  {
   "cell_type": "code",
   "execution_count": 25,
   "id": "23ff1cdd-db14-4a92-9bb8-aa8a1f1adfd3",
   "metadata": {},
   "outputs": [],
   "source": [
    "word_count = {}\n",
    "\n",
    "for col in ['tokenized_q1', 'tokenized_q2']:\n",
    "    for lst in X_train[col]:\n",
    "        for word in lst:\n",
    "            word_count[word] = word_count.get(word, 0) + 1"
   ]
  },
  {
   "cell_type": "code",
   "execution_count": 26,
   "id": "698780a4-ec98-4c78-aada-49784fcb5ddb",
   "metadata": {},
   "outputs": [
    {
     "data": {
      "text/plain": [
       "101407"
      ]
     },
     "execution_count": 26,
     "metadata": {},
     "output_type": "execute_result"
    }
   ],
   "source": [
    "len(word_count)"
   ]
  },
  {
   "cell_type": "code",
   "execution_count": 27,
   "id": "c42c5a4f-8c7c-4eff-ab51-ac467b370e5e",
   "metadata": {},
   "outputs": [],
   "source": [
    "sorted_word_counts = sorted(word_count.items(), key=lambda x: x[1], reverse=True)"
   ]
  },
  {
   "cell_type": "code",
   "execution_count": 28,
   "id": "54b7637a-7b56-4115-99af-1fc142e9e2bc",
   "metadata": {},
   "outputs": [
    {
     "data": {
      "text/plain": [
       "[('?', 690525),\n",
       " ('the', 305720),\n",
       " ('what', 262909),\n",
       " ('is', 219292),\n",
       " ('i', 179948),\n",
       " ('how', 178512),\n",
       " ('a', 170938),\n",
       " ('to', 166555),\n",
       " ('in', 159168),\n",
       " ('do', 136678)]"
      ]
     },
     "execution_count": 28,
     "metadata": {},
     "output_type": "execute_result"
    }
   ],
   "source": [
    "sorted_word_counts[:10]"
   ]
  },
  {
   "cell_type": "code",
   "execution_count": 29,
   "id": "b6031938-89c9-462a-9216-55b25f510f8b",
   "metadata": {},
   "outputs": [
    {
     "name": "stdout",
     "output_type": "stream",
     "text": [
      "Number of words occurring more than once: 53812\n"
     ]
    }
   ],
   "source": [
    "for i, (_, count) in enumerate(sorted_word_counts):\n",
    "    if count == 1:\n",
    "        print(f\"Number of words occurring more than once: {i}\")\n",
    "        break"
   ]
  },
  {
   "cell_type": "code",
   "execution_count": 30,
   "id": "e9a762ca-f972-4633-b22f-5f66854e43bc",
   "metadata": {},
   "outputs": [],
   "source": [
    "vocab = set(word_count.keys())\n",
    "vocab.add('<>SEP</>') # separator between 2 sentences\n",
    "vocab.add('<>UKN</>')\n",
    "\n",
    "word_to_idx = {word: idx for idx, word in enumerate(vocab)}\n",
    "idx_to_word = {idx: word for idx, word in enumerate(vocab)}\n",
    "vocab_size = len(vocab)"
   ]
  },
  {
   "cell_type": "markdown",
   "id": "71e585e6-2a75-453c-8102-d4113da16f10",
   "metadata": {
    "tags": []
   },
   "source": [
    "# RNN models"
   ]
  },
  {
   "cell_type": "code",
   "execution_count": 31,
   "id": "a0bc24d8-a8b6-46df-8060-898d95ea539b",
   "metadata": {},
   "outputs": [],
   "source": [
    "class RNNModel(nn.Module):\n",
    "    \n",
    "    def __init__(\n",
    "        self, vocab_size, embedding_dim, hidden_dim, num_rnn_layers=1,\n",
    "        num_linear_layers=1, dropout=0, rnn_type='rnn'\n",
    "    ):\n",
    "        super(RNNModel, self).__init__()\n",
    "        self.embedding = nn.Embedding(vocab_size, embedding_dim)\n",
    "\n",
    "        if rnn_type == 'rnn':\n",
    "            self.rnn = nn.RNN(embedding_dim, hidden_dim, num_layers=num_rnn_layers, batch_first=True, dropout=dropout)\n",
    "        elif rnn_type == 'lstm':\n",
    "            self.rnn = nn.LSTM(embedding_dim, hidden_dim, num_layers=num_rnn_layers, batch_first=True, dropout=dropout)\n",
    "        elif rnn_type == 'gru':\n",
    "            self.rnn = nn.GRU(embedding_dim, hidden_dim, num_layers=num_rnn_layers, batch_first=True, dropout=dropout)\n",
    "        \n",
    "        self.fcs = nn.ModuleList(\n",
    "            [nn.Linear(hidden_dim, hidden_dim) for _ in range(num_linear_layers-1)] \n",
    "            + [nn.Linear(hidden_dim, 1)]\n",
    "        )\n",
    "        self.sigmoid = nn.Sigmoid()\n",
    "        \n",
    "\n",
    "    def forward(self, x):\n",
    "        x = self.embedding(x)\n",
    "        x, _ = self.rnn(x)\n",
    "        x = x.mean(dim=1) \n",
    "        for fc in self.fcs[:-1]:\n",
    "            x = F.relu(fc(x))\n",
    "        x = self.fcs[-1](x)\n",
    "        return self.sigmoid(x)\n",
    "        \n",
    "\n",
    "class DuplicateQuestionDataset(Dataset):\n",
    "    \n",
    "    def __init__(self, questions, labels, word_to_idx):\n",
    "        self.questions = questions\n",
    "        self.labels = labels\n",
    "        self.word_to_idx = word_to_idx\n",
    "\n",
    "    def __len__(self):\n",
    "        return len(self.questions)\n",
    "\n",
    "    def __getitem__(self, idx):\n",
    "        q1, q2 = self.questions.iloc[idx]\n",
    "        word_indices = [self.word_to_idx.get(word, self.word_to_idx['<>UKN</>']) for word in q1]\n",
    "        word_indices.append(self.word_to_idx['<>SEP</>'])\n",
    "        word_indices.extend([self.word_to_idx.get(word, self.word_to_idx['<>UKN</>']) for word in q1])\n",
    "        return torch.tensor(word_indices).to(device), self.labels[idx].to(device)"
   ]
  },
  {
   "cell_type": "code",
   "execution_count": 32,
   "id": "4ca8aa82-78a1-4e43-b0cd-47054d985de7",
   "metadata": {},
   "outputs": [],
   "source": [
    "from torch.nn.utils.rnn import pad_sequence\n",
    "\n",
    "def collate_fn_pad(batch):\n",
    "    questions, labels = zip(*batch)\n",
    "    padded_questions = pad_sequence(questions, batch_first=True, padding_value=0)\n",
    "    return padded_questions, torch.stack(labels)\n",
    "\n",
    "batch_size = 512\n",
    "\n",
    "train_dataset = DuplicateQuestionDataset(X_train, y_train, word_to_idx)\n",
    "train_loader = DataLoader(train_dataset, batch_size=batch_size, shuffle=True, collate_fn=collate_fn_pad)\n",
    "\n",
    "val_dataset = DuplicateQuestionDataset(X_val, y_val, word_to_idx)\n",
    "val_loader = DataLoader(val_dataset, batch_size=batch_size, shuffle=True, collate_fn=collate_fn_pad)\n",
    "\n",
    "test_dataset = DuplicateQuestionDataset(X_val, y_val, word_to_idx)\n",
    "test_loader = DataLoader(test_dataset, batch_size=batch_size, shuffle=True, collate_fn=collate_fn_pad)"
   ]
  },
  {
   "cell_type": "code",
   "execution_count": 33,
   "id": "638f986a-01bd-4bab-98f6-e4cf0ab5dcbc",
   "metadata": {},
   "outputs": [],
   "source": [
    "def train(model, criterion, optimizer, num_epochs=10, early_stopping_patience=None):\n",
    "    \n",
    "    def validate(model):\n",
    "        model.eval()\n",
    "        total_loss, sample_count = 0, 0\n",
    "        with torch.no_grad():\n",
    "            for (questions, labels) in val_loader:\n",
    "                outputs = model(questions)\n",
    "                loss = criterion(outputs.view(-1), labels)\n",
    "                total_loss += loss.item()\n",
    "                sample_count += labels.size(0)\n",
    "        average_loss = total_loss / sample_count\n",
    "        return average_loss\n",
    "    \n",
    "    best_loss = np.inf\n",
    "    consecutive_no_improvement = 0\n",
    "    \n",
    "    for epoch in range(num_epochs):\n",
    "        model.train()  \n",
    "        total_loss, sample_counts = 0, 0\n",
    "        for (questions, labels) in tqdm(train_loader, desc=f\"Epoch {epoch+1}/{num_epochs}\"):\n",
    "            optimizer.zero_grad()\n",
    "            outputs = model(questions)\n",
    "            loss = criterion(outputs.view(-1), labels)\n",
    "            total_loss += loss.item()\n",
    "            sample_counts += labels.size(0)\n",
    "            loss.backward()\n",
    "            optimizer.step()\n",
    "            \n",
    "        val_loss = validate(model)\n",
    "        print(f\"Epoch {epoch+1}: train loss = {(total_loss / sample_counts):.4f}; val loss = {val_loss:.4f}\")\n",
    "        \n",
    "        if val_loss < best_loss:\n",
    "            best_loss = val_loss\n",
    "            consecutive_no_improvement = 0\n",
    "        else:\n",
    "            consecutive_no_improvement += 1\n",
    "            \n",
    "        if early_stopping_patience and consecutive_no_improvement >= early_stopping_patience:\n",
    "            print(f\"Early stopping after {epoch + 1} epochs with no improvement.\")\n",
    "            break\n",
    "            \n",
    "    return model\n",
    "\n",
    "\n",
    "def evaluate(model, print_report=False):\n",
    "    model.eval()\n",
    "\n",
    "    def get_predictions_and_labels(loader):\n",
    "        predictions = []\n",
    "        true_labels = []\n",
    "        for questions, labels in loader:\n",
    "            outputs = model(questions)\n",
    "            predicted = (outputs > 0.5).float().view(-1)\n",
    "            predictions.extend(predicted.cpu().numpy())\n",
    "            true_labels.extend(labels.cpu().numpy())\n",
    "        return predictions, true_labels\n",
    "\n",
    "    if print_report:\n",
    "        train_predictions, train_labels = get_predictions_and_labels(train_loader)\n",
    "        print(\"Train Classification Report:\")\n",
    "        print(classification_report(train_labels, train_predictions, zero_division=1))\n",
    "\n",
    "        val_predictions, val_labels = get_predictions_and_labels(val_loader)\n",
    "        print(\"Validation Classification Report:\")\n",
    "        print(classification_report(val_labels, val_predictions, zero_division=1))\n",
    "    else: \n",
    "        val_predictions, val_labels = get_predictions_and_labels(val_loader)\n",
    "    return accuracy_score(val_labels, val_predictions)"
   ]
  },
  {
   "cell_type": "code",
   "execution_count": 34,
   "id": "c9b683f9-3034-486e-acdb-6ddc4d118786",
   "metadata": {},
   "outputs": [
    {
     "data": {
      "application/vnd.jupyter.widget-view+json": {
       "model_id": "dcd221341151433da7cbfa392fb86065",
       "version_major": 2,
       "version_minor": 0
      },
      "text/plain": [
       "Epoch 1/5:   0%|          | 0/640 [00:00<?, ?it/s]"
      ]
     },
     "metadata": {},
     "output_type": "display_data"
    },
    {
     "name": "stdout",
     "output_type": "stream",
     "text": [
      "Epoch 1: train loss = 0.0013; val loss = 0.0012\n"
     ]
    },
    {
     "data": {
      "application/vnd.jupyter.widget-view+json": {
       "model_id": "ce4c26b962bf4274b2987d3d1913236a",
       "version_major": 2,
       "version_minor": 0
      },
      "text/plain": [
       "Epoch 2/5:   0%|          | 0/640 [00:00<?, ?it/s]"
      ]
     },
     "metadata": {},
     "output_type": "display_data"
    },
    {
     "name": "stdout",
     "output_type": "stream",
     "text": [
      "Epoch 2: train loss = 0.0012; val loss = 0.0011\n"
     ]
    },
    {
     "data": {
      "application/vnd.jupyter.widget-view+json": {
       "model_id": "a7337cb6de1a4d339cc933fc021e9c8e",
       "version_major": 2,
       "version_minor": 0
      },
      "text/plain": [
       "Epoch 3/5:   0%|          | 0/640 [00:00<?, ?it/s]"
      ]
     },
     "metadata": {},
     "output_type": "display_data"
    },
    {
     "name": "stdout",
     "output_type": "stream",
     "text": [
      "Epoch 3: train loss = 0.0011; val loss = 0.0011\n"
     ]
    },
    {
     "data": {
      "application/vnd.jupyter.widget-view+json": {
       "model_id": "484d053be46d40b5bd39495548cabe07",
       "version_major": 2,
       "version_minor": 0
      },
      "text/plain": [
       "Epoch 4/5:   0%|          | 0/640 [00:00<?, ?it/s]"
      ]
     },
     "metadata": {},
     "output_type": "display_data"
    },
    {
     "name": "stdout",
     "output_type": "stream",
     "text": [
      "Epoch 4: train loss = 0.0011; val loss = 0.0011\n"
     ]
    },
    {
     "data": {
      "application/vnd.jupyter.widget-view+json": {
       "model_id": "23368009b5ba4e81a5c55777798329f0",
       "version_major": 2,
       "version_minor": 0
      },
      "text/plain": [
       "Epoch 5/5:   0%|          | 0/640 [00:00<?, ?it/s]"
      ]
     },
     "metadata": {},
     "output_type": "display_data"
    },
    {
     "name": "stdout",
     "output_type": "stream",
     "text": [
      "Epoch 5: train loss = 0.0011; val loss = 0.0011\n"
     ]
    }
   ],
   "source": [
    "model = RNNModel(\n",
    "    vocab_size, embedding_dim=5, hidden_dim=5, \n",
    "    num_rnn_layers=1, num_linear_layers=2, dropout=0, rnn_type='rnn')\n",
    "\n",
    "criterion = nn.BCELoss()\n",
    "optimizer = optim.Adam(model.parameters(), lr=0.001)\n",
    "\n",
    "model = train(model, criterion, optimizer, num_epochs=5, early_stopping_patience=2)"
   ]
  },
  {
   "cell_type": "code",
   "execution_count": 35,
   "id": "2527a78a-01a3-47a2-b7f0-30aae5aee470",
   "metadata": {},
   "outputs": [
    {
     "name": "stdout",
     "output_type": "stream",
     "text": [
      "{'embedding_dim': 32, 'hidden_dim': 64, 'num_rnn_layers': 1, 'num_linear_layers': 2, 'dropout': 0, 'rnn_type': 'rnn', 'lr': 0.001}\n"
     ]
    },
    {
     "data": {
      "application/vnd.jupyter.widget-view+json": {
       "model_id": "8895e9da53644b9caad53650e446b099",
       "version_major": 2,
       "version_minor": 0
      },
      "text/plain": [
       "Epoch 1/10:   0%|          | 0/640 [00:00<?, ?it/s]"
      ]
     },
     "metadata": {},
     "output_type": "display_data"
    },
    {
     "name": "stdout",
     "output_type": "stream",
     "text": [
      "Epoch 1: train loss = 0.0012; val loss = 0.0011\n"
     ]
    },
    {
     "data": {
      "application/vnd.jupyter.widget-view+json": {
       "model_id": "c22f04c370144830be6c51b612f25377",
       "version_major": 2,
       "version_minor": 0
      },
      "text/plain": [
       "Epoch 2/10:   0%|          | 0/640 [00:00<?, ?it/s]"
      ]
     },
     "metadata": {},
     "output_type": "display_data"
    },
    {
     "name": "stdout",
     "output_type": "stream",
     "text": [
      "Epoch 2: train loss = 0.0011; val loss = 0.0011\n"
     ]
    },
    {
     "data": {
      "application/vnd.jupyter.widget-view+json": {
       "model_id": "b4a20b2df8a3413aa4a481409b8f588b",
       "version_major": 2,
       "version_minor": 0
      },
      "text/plain": [
       "Epoch 3/10:   0%|          | 0/640 [00:00<?, ?it/s]"
      ]
     },
     "metadata": {},
     "output_type": "display_data"
    },
    {
     "name": "stdout",
     "output_type": "stream",
     "text": [
      "Epoch 3: train loss = 0.0010; val loss = 0.0010\n"
     ]
    },
    {
     "data": {
      "application/vnd.jupyter.widget-view+json": {
       "model_id": "03681456d43f401fb00c90500184c4b9",
       "version_major": 2,
       "version_minor": 0
      },
      "text/plain": [
       "Epoch 4/10:   0%|          | 0/640 [00:00<?, ?it/s]"
      ]
     },
     "metadata": {},
     "output_type": "display_data"
    },
    {
     "name": "stdout",
     "output_type": "stream",
     "text": [
      "Epoch 4: train loss = 0.0010; val loss = 0.0010\n"
     ]
    },
    {
     "data": {
      "application/vnd.jupyter.widget-view+json": {
       "model_id": "8bb0ca3f50bb4b0d9eaec47302fc16d2",
       "version_major": 2,
       "version_minor": 0
      },
      "text/plain": [
       "Epoch 5/10:   0%|          | 0/640 [00:00<?, ?it/s]"
      ]
     },
     "metadata": {},
     "output_type": "display_data"
    },
    {
     "name": "stdout",
     "output_type": "stream",
     "text": [
      "Epoch 5: train loss = 0.0010; val loss = 0.0010\n"
     ]
    },
    {
     "data": {
      "application/vnd.jupyter.widget-view+json": {
       "model_id": "e70111f370b24ae3bb2c0487032242d2",
       "version_major": 2,
       "version_minor": 0
      },
      "text/plain": [
       "Epoch 6/10:   0%|          | 0/640 [00:00<?, ?it/s]"
      ]
     },
     "metadata": {},
     "output_type": "display_data"
    },
    {
     "name": "stdout",
     "output_type": "stream",
     "text": [
      "Epoch 6: train loss = 0.0009; val loss = 0.0010\n"
     ]
    },
    {
     "data": {
      "application/vnd.jupyter.widget-view+json": {
       "model_id": "844485100e754212bea84c593ebe2466",
       "version_major": 2,
       "version_minor": 0
      },
      "text/plain": [
       "Epoch 7/10:   0%|          | 0/640 [00:00<?, ?it/s]"
      ]
     },
     "metadata": {},
     "output_type": "display_data"
    },
    {
     "name": "stdout",
     "output_type": "stream",
     "text": [
      "Epoch 7: train loss = 0.0009; val loss = 0.0010\n"
     ]
    },
    {
     "data": {
      "application/vnd.jupyter.widget-view+json": {
       "model_id": "0d3a3ad16023437d8c1c4cbc9ad8ef91",
       "version_major": 2,
       "version_minor": 0
      },
      "text/plain": [
       "Epoch 8/10:   0%|          | 0/640 [00:00<?, ?it/s]"
      ]
     },
     "metadata": {},
     "output_type": "display_data"
    },
    {
     "name": "stdout",
     "output_type": "stream",
     "text": [
      "Epoch 8: train loss = 0.0009; val loss = 0.0010\n"
     ]
    },
    {
     "data": {
      "application/vnd.jupyter.widget-view+json": {
       "model_id": "98aa37b18baa4c8c8b70aa5d86e4c815",
       "version_major": 2,
       "version_minor": 0
      },
      "text/plain": [
       "Epoch 9/10:   0%|          | 0/640 [00:00<?, ?it/s]"
      ]
     },
     "metadata": {},
     "output_type": "display_data"
    },
    {
     "name": "stdout",
     "output_type": "stream",
     "text": [
      "Epoch 9: train loss = 0.0009; val loss = 0.0010\n",
      "Early stopping after 9 epochs with no improvement.\n",
      "{'embedding_dim': 64, 'hidden_dim': 128, 'num_rnn_layers': 2, 'num_linear_layers': 4, 'dropout': 0, 'rnn_type': 'rnn', 'lr': 0.001}\n"
     ]
    },
    {
     "data": {
      "application/vnd.jupyter.widget-view+json": {
       "model_id": "ff2108c0e56847fc8346697a846695f9",
       "version_major": 2,
       "version_minor": 0
      },
      "text/plain": [
       "Epoch 1/10:   0%|          | 0/640 [00:00<?, ?it/s]"
      ]
     },
     "metadata": {},
     "output_type": "display_data"
    },
    {
     "name": "stdout",
     "output_type": "stream",
     "text": [
      "Epoch 1: train loss = 0.0012; val loss = 0.0011\n"
     ]
    },
    {
     "data": {
      "application/vnd.jupyter.widget-view+json": {
       "model_id": "234ab26f0afc498f9234928a952949a5",
       "version_major": 2,
       "version_minor": 0
      },
      "text/plain": [
       "Epoch 2/10:   0%|          | 0/640 [00:00<?, ?it/s]"
      ]
     },
     "metadata": {},
     "output_type": "display_data"
    },
    {
     "name": "stdout",
     "output_type": "stream",
     "text": [
      "Epoch 2: train loss = 0.0011; val loss = 0.0011\n"
     ]
    },
    {
     "data": {
      "application/vnd.jupyter.widget-view+json": {
       "model_id": "f7ae5c2df6e840dabe7ba4080850e11c",
       "version_major": 2,
       "version_minor": 0
      },
      "text/plain": [
       "Epoch 3/10:   0%|          | 0/640 [00:00<?, ?it/s]"
      ]
     },
     "metadata": {},
     "output_type": "display_data"
    },
    {
     "name": "stdout",
     "output_type": "stream",
     "text": [
      "Epoch 3: train loss = 0.0010; val loss = 0.0010\n"
     ]
    },
    {
     "data": {
      "application/vnd.jupyter.widget-view+json": {
       "model_id": "4d5678166ce5434faf61497527dc6215",
       "version_major": 2,
       "version_minor": 0
      },
      "text/plain": [
       "Epoch 4/10:   0%|          | 0/640 [00:00<?, ?it/s]"
      ]
     },
     "metadata": {},
     "output_type": "display_data"
    },
    {
     "name": "stdout",
     "output_type": "stream",
     "text": [
      "Epoch 4: train loss = 0.0010; val loss = 0.0010\n"
     ]
    },
    {
     "data": {
      "application/vnd.jupyter.widget-view+json": {
       "model_id": "ddd8f631fb55438e8d34fe5906db9efa",
       "version_major": 2,
       "version_minor": 0
      },
      "text/plain": [
       "Epoch 5/10:   0%|          | 0/640 [00:00<?, ?it/s]"
      ]
     },
     "metadata": {},
     "output_type": "display_data"
    },
    {
     "name": "stdout",
     "output_type": "stream",
     "text": [
      "Epoch 5: train loss = 0.0009; val loss = 0.0010\n"
     ]
    },
    {
     "data": {
      "application/vnd.jupyter.widget-view+json": {
       "model_id": "1da110641c744f918ad54a5d40e7223a",
       "version_major": 2,
       "version_minor": 0
      },
      "text/plain": [
       "Epoch 6/10:   0%|          | 0/640 [00:00<?, ?it/s]"
      ]
     },
     "metadata": {},
     "output_type": "display_data"
    },
    {
     "name": "stdout",
     "output_type": "stream",
     "text": [
      "Epoch 6: train loss = 0.0009; val loss = 0.0010\n"
     ]
    },
    {
     "data": {
      "application/vnd.jupyter.widget-view+json": {
       "model_id": "53862114cc3d4f348e1bba47efafc852",
       "version_major": 2,
       "version_minor": 0
      },
      "text/plain": [
       "Epoch 7/10:   0%|          | 0/640 [00:00<?, ?it/s]"
      ]
     },
     "metadata": {},
     "output_type": "display_data"
    },
    {
     "name": "stdout",
     "output_type": "stream",
     "text": [
      "Epoch 7: train loss = 0.0008; val loss = 0.0010\n"
     ]
    },
    {
     "data": {
      "application/vnd.jupyter.widget-view+json": {
       "model_id": "26d8c011fbbe423ca3a23990e19315b3",
       "version_major": 2,
       "version_minor": 0
      },
      "text/plain": [
       "Epoch 8/10:   0%|          | 0/640 [00:00<?, ?it/s]"
      ]
     },
     "metadata": {},
     "output_type": "display_data"
    },
    {
     "name": "stdout",
     "output_type": "stream",
     "text": [
      "Epoch 8: train loss = 0.0008; val loss = 0.0010\n",
      "Early stopping after 8 epochs with no improvement.\n",
      "{'embedding_dim': 64, 'hidden_dim': 128, 'num_rnn_layers': 2, 'num_linear_layers': 4, 'dropout': 0.2, 'rnn_type': 'rnn', 'lr': 0.001}\n"
     ]
    },
    {
     "data": {
      "application/vnd.jupyter.widget-view+json": {
       "model_id": "96b57cafcee64fd59e7411a633d70d5a",
       "version_major": 2,
       "version_minor": 0
      },
      "text/plain": [
       "Epoch 1/10:   0%|          | 0/640 [00:00<?, ?it/s]"
      ]
     },
     "metadata": {},
     "output_type": "display_data"
    },
    {
     "name": "stdout",
     "output_type": "stream",
     "text": [
      "Epoch 1: train loss = 0.0012; val loss = 0.0011\n"
     ]
    },
    {
     "data": {
      "application/vnd.jupyter.widget-view+json": {
       "model_id": "e87ec72196934987bd14249681e03b2a",
       "version_major": 2,
       "version_minor": 0
      },
      "text/plain": [
       "Epoch 2/10:   0%|          | 0/640 [00:00<?, ?it/s]"
      ]
     },
     "metadata": {},
     "output_type": "display_data"
    },
    {
     "name": "stdout",
     "output_type": "stream",
     "text": [
      "Epoch 2: train loss = 0.0011; val loss = 0.0011\n"
     ]
    },
    {
     "data": {
      "application/vnd.jupyter.widget-view+json": {
       "model_id": "9338e0dba7a94ff7a054c79e958bd2ca",
       "version_major": 2,
       "version_minor": 0
      },
      "text/plain": [
       "Epoch 3/10:   0%|          | 0/640 [00:00<?, ?it/s]"
      ]
     },
     "metadata": {},
     "output_type": "display_data"
    },
    {
     "name": "stdout",
     "output_type": "stream",
     "text": [
      "Epoch 3: train loss = 0.0010; val loss = 0.0011\n"
     ]
    },
    {
     "data": {
      "application/vnd.jupyter.widget-view+json": {
       "model_id": "8a4eefd59d8444d0a2f04b16603d3531",
       "version_major": 2,
       "version_minor": 0
      },
      "text/plain": [
       "Epoch 4/10:   0%|          | 0/640 [00:00<?, ?it/s]"
      ]
     },
     "metadata": {},
     "output_type": "display_data"
    },
    {
     "name": "stdout",
     "output_type": "stream",
     "text": [
      "Epoch 4: train loss = 0.0010; val loss = 0.0010\n"
     ]
    },
    {
     "data": {
      "application/vnd.jupyter.widget-view+json": {
       "model_id": "1706033370674abc802fb72a9f56c03d",
       "version_major": 2,
       "version_minor": 0
      },
      "text/plain": [
       "Epoch 5/10:   0%|          | 0/640 [00:00<?, ?it/s]"
      ]
     },
     "metadata": {},
     "output_type": "display_data"
    },
    {
     "name": "stdout",
     "output_type": "stream",
     "text": [
      "Epoch 5: train loss = 0.0009; val loss = 0.0011\n"
     ]
    },
    {
     "data": {
      "application/vnd.jupyter.widget-view+json": {
       "model_id": "97261cfbc7ff42e3927034dacb986d43",
       "version_major": 2,
       "version_minor": 0
      },
      "text/plain": [
       "Epoch 6/10:   0%|          | 0/640 [00:00<?, ?it/s]"
      ]
     },
     "metadata": {},
     "output_type": "display_data"
    },
    {
     "name": "stdout",
     "output_type": "stream",
     "text": [
      "Epoch 6: train loss = 0.0009; val loss = 0.0011\n",
      "Early stopping after 6 epochs with no improvement.\n"
     ]
    }
   ],
   "source": [
    "# hyper-params tuning for RNN\n",
    "rnn_hyperparams_set = [\n",
    "    {\n",
    "        'embedding_dim':32, 'hidden_dim':64, 'num_rnn_layers':1, 'num_linear_layers':2, \n",
    "        'dropout':0, 'rnn_type':'rnn', 'lr':0.001\n",
    "    },\n",
    "    {\n",
    "        'embedding_dim':64, 'hidden_dim':128, 'num_rnn_layers':2, 'num_linear_layers':4, \n",
    "        'dropout':0, 'rnn_type':'rnn', 'lr':0.001\n",
    "    },\n",
    "    {\n",
    "        'embedding_dim':64, 'hidden_dim':128, 'num_rnn_layers':2, 'num_linear_layers':4, \n",
    "        'dropout':0.2, 'rnn_type':'rnn', 'lr':0.001\n",
    "    },\n",
    "]\n",
    "\n",
    "best_val_acc, best_config = 0, None\n",
    "\n",
    "for config in rnn_hyperparams_set:\n",
    "    print(config)\n",
    "    \n",
    "    rnn_model = RNNModel(\n",
    "        vocab_size, embedding_dim=config['embedding_dim'], hidden_dim=config['hidden_dim'], \n",
    "        num_rnn_layers=config['num_rnn_layers'], num_linear_layers=config['num_linear_layers'], \n",
    "        dropout=config['dropout'], rnn_type=config['rnn_type']\n",
    "    )\n",
    "    criterion = nn.BCELoss()\n",
    "    optimizer = torch.optim.Adam(rnn_model.parameters(), lr=config['lr'])\n",
    "    \n",
    "    rnn_model = train(rnn_model, criterion, optimizer, num_epochs=10, early_stopping_patience=2)    \n",
    "    \n",
    "    val_acc = evaluate(rnn_model, print_report=False)\n",
    "    if val_acc > best_val_acc:\n",
    "        best_val_acc = val_acc\n",
    "        best_config = config"
   ]
  },
  {
   "cell_type": "code",
   "execution_count": 105,
   "id": "bd2a61cb-a0d5-4ef7-a7a5-cd1fd58e6e7a",
   "metadata": {},
   "outputs": [
    {
     "name": "stdout",
     "output_type": "stream",
     "text": [
      "{'embedding_dim': 64, 'hidden_dim': 128, 'num_rnn_layers': 2, 'num_linear_layers': 4, 'dropout': 0, 'rnn_type': 'rnn', 'lr': 0.001} 0.7462113982517082\n"
     ]
    }
   ],
   "source": [
    "print(best_config, best_val_acc)"
   ]
  },
  {
   "cell_type": "code",
   "execution_count": null,
   "id": "141ca935-908a-4ab6-8580-2b85d9701032",
   "metadata": {},
   "outputs": [],
   "source": []
  },
  {
   "cell_type": "code",
   "execution_count": 34,
   "id": "eb8611b2-4dbc-4c82-8d3a-a7de4b7c85ea",
   "metadata": {},
   "outputs": [],
   "source": [
    "# retrain and full train + val set, evaluate on test set\n",
    "full_train_dataset = ConcatDataset([train_dataset, val_dataset])\n",
    "full_train_dataloader = DataLoader(full_train_dataset, batch_size=batch_size, shuffle=True, collate_fn=collate_fn_pad)"
   ]
  },
  {
   "cell_type": "code",
   "execution_count": 35,
   "id": "345306d9-8718-4b23-890f-05d86d53c170",
   "metadata": {},
   "outputs": [],
   "source": [
    "def train_full(model, criterion, optimizer, num_epochs=10):\n",
    "    for epoch in range(num_epochs):\n",
    "        model.train()  \n",
    "        total_loss, sample_counts = 0, 0\n",
    "        for (questions, labels) in tqdm(full_train_dataloader, desc=f\"Epoch {epoch+1}/{num_epochs}\"):\n",
    "            optimizer.zero_grad()\n",
    "            outputs = model(questions)\n",
    "            loss = criterion(outputs.view(-1), labels)\n",
    "            total_loss += loss.item()\n",
    "            sample_counts += labels.size(0)\n",
    "            loss.backward()\n",
    "            optimizer.step()\n",
    "        print(f\"Epoch {epoch+1}: train loss = {(total_loss / sample_counts):.4f}\")\n",
    "    return model\n",
    "\n",
    "\n",
    "def test_eval(model):\n",
    "    model.eval()\n",
    "\n",
    "    def get_predictions_and_labels(loader):\n",
    "        predictions = []\n",
    "        true_labels = []\n",
    "        for questions, labels in loader:\n",
    "            outputs = model(questions)\n",
    "            predicted = (outputs > 0.5).float().view(-1)\n",
    "            predictions.extend(predicted.cpu().numpy())\n",
    "            true_labels.extend(labels.cpu().numpy())\n",
    "        return predictions, true_labels\n",
    "\n",
    "    full_train_predictions, full_train_labels = get_predictions_and_labels(full_train_dataloader)\n",
    "    print(\"Train Classification Report:\")\n",
    "    print(classification_report(full_train_labels, full_train_predictions, zero_division=1))\n",
    "\n",
    "    test_predictions, test_labels = get_predictions_and_labels(test_loader)\n",
    "    print(\"Test Classification Report:\")\n",
    "    print(classification_report(test_labels, test_predictions, zero_division=1))\n",
    "    print(f\"Train accuracy = {accuracy_score(full_train_labels, full_train_predictions)}\")\n",
    "    print(f\"Test accuracy = {accuracy_score(test_labels, test_predictions)}\")"
   ]
  },
  {
   "cell_type": "code",
   "execution_count": 38,
   "id": "9242a971-7dd8-466e-ab71-55d9a92fa942",
   "metadata": {},
   "outputs": [
    {
     "data": {
      "application/vnd.jupyter.widget-view+json": {
       "model_id": "c6a26ecf1baa4f2a91f8413aab74de23",
       "version_major": 2,
       "version_minor": 0
      },
      "text/plain": [
       "Epoch 1/7:   0%|          | 0/711 [00:00<?, ?it/s]"
      ]
     },
     "metadata": {},
     "output_type": "display_data"
    },
    {
     "name": "stdout",
     "output_type": "stream",
     "text": [
      "Epoch 1: train loss = 0.0012\n"
     ]
    },
    {
     "data": {
      "application/vnd.jupyter.widget-view+json": {
       "model_id": "cf5f33b14b704fec9364855b9fe389b6",
       "version_major": 2,
       "version_minor": 0
      },
      "text/plain": [
       "Epoch 2/7:   0%|          | 0/711 [00:00<?, ?it/s]"
      ]
     },
     "metadata": {},
     "output_type": "display_data"
    },
    {
     "name": "stdout",
     "output_type": "stream",
     "text": [
      "Epoch 2: train loss = 0.0011\n"
     ]
    },
    {
     "data": {
      "application/vnd.jupyter.widget-view+json": {
       "model_id": "db2bc4b8b6b94ce18a0d65f9062165f9",
       "version_major": 2,
       "version_minor": 0
      },
      "text/plain": [
       "Epoch 3/7:   0%|          | 0/711 [00:00<?, ?it/s]"
      ]
     },
     "metadata": {},
     "output_type": "display_data"
    },
    {
     "name": "stdout",
     "output_type": "stream",
     "text": [
      "Epoch 3: train loss = 0.0010\n"
     ]
    },
    {
     "data": {
      "application/vnd.jupyter.widget-view+json": {
       "model_id": "70977cff1b2f4078926514639f04b25f",
       "version_major": 2,
       "version_minor": 0
      },
      "text/plain": [
       "Epoch 4/7:   0%|          | 0/711 [00:00<?, ?it/s]"
      ]
     },
     "metadata": {},
     "output_type": "display_data"
    },
    {
     "name": "stdout",
     "output_type": "stream",
     "text": [
      "Epoch 4: train loss = 0.0010\n"
     ]
    },
    {
     "data": {
      "application/vnd.jupyter.widget-view+json": {
       "model_id": "03feb12c08f8492f80b4066f194cb439",
       "version_major": 2,
       "version_minor": 0
      },
      "text/plain": [
       "Epoch 5/7:   0%|          | 0/711 [00:00<?, ?it/s]"
      ]
     },
     "metadata": {},
     "output_type": "display_data"
    },
    {
     "name": "stdout",
     "output_type": "stream",
     "text": [
      "Epoch 5: train loss = 0.0009\n"
     ]
    },
    {
     "data": {
      "application/vnd.jupyter.widget-view+json": {
       "model_id": "3dad24b97c73441680f36348a4615095",
       "version_major": 2,
       "version_minor": 0
      },
      "text/plain": [
       "Epoch 6/7:   0%|          | 0/711 [00:00<?, ?it/s]"
      ]
     },
     "metadata": {},
     "output_type": "display_data"
    },
    {
     "name": "stdout",
     "output_type": "stream",
     "text": [
      "Epoch 6: train loss = 0.0009\n"
     ]
    },
    {
     "data": {
      "application/vnd.jupyter.widget-view+json": {
       "model_id": "b5c56cfad54849be95e352b9a0bc5610",
       "version_major": 2,
       "version_minor": 0
      },
      "text/plain": [
       "Epoch 7/7:   0%|          | 0/711 [00:00<?, ?it/s]"
      ]
     },
     "metadata": {},
     "output_type": "display_data"
    },
    {
     "name": "stdout",
     "output_type": "stream",
     "text": [
      "Epoch 7: train loss = 0.0008\n"
     ]
    }
   ],
   "source": [
    "rnn_model = RNNModel(\n",
    "    vocab_size, embedding_dim=64, hidden_dim=128, num_rnn_layers=2, \n",
    "    num_linear_layers=4, dropout=0, rnn_type='rnn'\n",
    ")\n",
    "criterion = nn.BCELoss()\n",
    "optimizer = torch.optim.Adam(rnn_model.parameters(), lr=0.001)\n",
    "\n",
    "rnn_model = train_full(rnn_model, criterion, optimizer, num_epochs=7)  "
   ]
  },
  {
   "cell_type": "code",
   "execution_count": 39,
   "id": "aa5f9456-1f14-4177-9c16-d6d95b7c408a",
   "metadata": {},
   "outputs": [
    {
     "name": "stdout",
     "output_type": "stream",
     "text": [
      "Train Classification Report:\n",
      "              precision    recall  f1-score   support\n",
      "\n",
      "         0.0       0.84      0.88      0.86    229468\n",
      "         1.0       0.78      0.72      0.75    134378\n",
      "\n",
      "    accuracy                           0.82    363846\n",
      "   macro avg       0.81      0.80      0.81    363846\n",
      "weighted avg       0.82      0.82      0.82    363846\n",
      "\n",
      "Test Classification Report:\n",
      "              precision    recall  f1-score   support\n",
      "\n",
      "         0.0       0.84      0.89      0.86     23067\n",
      "         1.0       0.78      0.71      0.75     13318\n",
      "\n",
      "    accuracy                           0.82     36385\n",
      "   macro avg       0.81      0.80      0.81     36385\n",
      "weighted avg       0.82      0.82      0.82     36385\n",
      "\n",
      "Train accuracy = 0.8233236039423273\n",
      "Test accuracy = 0.8233612752507902\n"
     ]
    }
   ],
   "source": [
    "test_eval(rnn_model)"
   ]
  },
  {
   "cell_type": "code",
   "execution_count": 40,
   "id": "6995201a-89da-42ce-a4a0-747984a48db5",
   "metadata": {},
   "outputs": [
    {
     "name": "stdout",
     "output_type": "stream",
     "text": [
      "Train Classification Report:\n",
      "              precision    recall  f1-score   support\n",
      "\n",
      "         0.0       0.84      0.88      0.86    206401\n",
      "         1.0       0.78      0.72      0.75    121060\n",
      "\n",
      "    accuracy                           0.82    327461\n",
      "   macro avg       0.81      0.80      0.81    327461\n",
      "weighted avg       0.82      0.82      0.82    327461\n",
      "\n",
      "Validation Classification Report:\n",
      "              precision    recall  f1-score   support\n",
      "\n",
      "         0.0       0.84      0.89      0.86     23067\n",
      "         1.0       0.78      0.71      0.75     13318\n",
      "\n",
      "    accuracy                           0.82     36385\n",
      "   macro avg       0.81      0.80      0.81     36385\n",
      "weighted avg       0.82      0.82      0.82     36385\n",
      "\n"
     ]
    },
    {
     "data": {
      "text/plain": [
       "0.8236635976363886"
      ]
     },
     "execution_count": 40,
     "metadata": {},
     "output_type": "execute_result"
    }
   ],
   "source": [
    "evaluate(rnn_model, print_report=True)"
   ]
  },
  {
   "cell_type": "code",
   "execution_count": null,
   "id": "251cb334-dfdf-44ca-b7d4-c097eb28f194",
   "metadata": {},
   "outputs": [],
   "source": []
  },
  {
   "cell_type": "code",
   "execution_count": 36,
   "id": "e4a0bda1-451e-401f-b66c-92a2d1b76169",
   "metadata": {},
   "outputs": [
    {
     "data": {
      "application/vnd.jupyter.widget-view+json": {
       "model_id": "ccefbd26b2c9497185a753a30c0424a5",
       "version_major": 2,
       "version_minor": 0
      },
      "text/plain": [
       "Epoch 1/7:   0%|          | 0/711 [00:00<?, ?it/s]"
      ]
     },
     "metadata": {},
     "output_type": "display_data"
    },
    {
     "name": "stdout",
     "output_type": "stream",
     "text": [
      "Epoch 1: train loss = 0.0011\n"
     ]
    },
    {
     "data": {
      "application/vnd.jupyter.widget-view+json": {
       "model_id": "35f26fd9553842c08fc8e1b2d8194a98",
       "version_major": 2,
       "version_minor": 0
      },
      "text/plain": [
       "Epoch 2/7:   0%|          | 0/711 [00:00<?, ?it/s]"
      ]
     },
     "metadata": {},
     "output_type": "display_data"
    },
    {
     "name": "stdout",
     "output_type": "stream",
     "text": [
      "Epoch 2: train loss = 0.0010\n"
     ]
    },
    {
     "data": {
      "application/vnd.jupyter.widget-view+json": {
       "model_id": "66b068c59df64eb89ce034890985f8d9",
       "version_major": 2,
       "version_minor": 0
      },
      "text/plain": [
       "Epoch 3/7:   0%|          | 0/711 [00:00<?, ?it/s]"
      ]
     },
     "metadata": {},
     "output_type": "display_data"
    },
    {
     "name": "stdout",
     "output_type": "stream",
     "text": [
      "Epoch 3: train loss = 0.0010\n"
     ]
    },
    {
     "data": {
      "application/vnd.jupyter.widget-view+json": {
       "model_id": "6f902597de3447ae9bc95dd0e406e772",
       "version_major": 2,
       "version_minor": 0
      },
      "text/plain": [
       "Epoch 4/7:   0%|          | 0/711 [00:00<?, ?it/s]"
      ]
     },
     "metadata": {},
     "output_type": "display_data"
    },
    {
     "name": "stdout",
     "output_type": "stream",
     "text": [
      "Epoch 4: train loss = 0.0009\n"
     ]
    },
    {
     "data": {
      "application/vnd.jupyter.widget-view+json": {
       "model_id": "ec18d345d8684c8480e55f6f85d02b4d",
       "version_major": 2,
       "version_minor": 0
      },
      "text/plain": [
       "Epoch 5/7:   0%|          | 0/711 [00:00<?, ?it/s]"
      ]
     },
     "metadata": {},
     "output_type": "display_data"
    },
    {
     "name": "stdout",
     "output_type": "stream",
     "text": [
      "Epoch 5: train loss = 0.0008\n"
     ]
    },
    {
     "data": {
      "application/vnd.jupyter.widget-view+json": {
       "model_id": "87aa5e6054bf48e0b71a80ccb49b761d",
       "version_major": 2,
       "version_minor": 0
      },
      "text/plain": [
       "Epoch 6/7:   0%|          | 0/711 [00:00<?, ?it/s]"
      ]
     },
     "metadata": {},
     "output_type": "display_data"
    },
    {
     "name": "stdout",
     "output_type": "stream",
     "text": [
      "Epoch 6: train loss = 0.0008\n"
     ]
    },
    {
     "data": {
      "application/vnd.jupyter.widget-view+json": {
       "model_id": "543701508c6c44838d1518d67dbe6bf0",
       "version_major": 2,
       "version_minor": 0
      },
      "text/plain": [
       "Epoch 7/7:   0%|          | 0/711 [00:00<?, ?it/s]"
      ]
     },
     "metadata": {},
     "output_type": "display_data"
    },
    {
     "name": "stdout",
     "output_type": "stream",
     "text": [
      "Epoch 7: train loss = 0.0007\n"
     ]
    }
   ],
   "source": [
    "lstm_model = RNNModel(\n",
    "    vocab_size, embedding_dim=64, hidden_dim=128, num_rnn_layers=2, \n",
    "    num_linear_layers=4, dropout=0, rnn_type='lstm'\n",
    ")\n",
    "criterion = nn.BCELoss()\n",
    "optimizer = torch.optim.Adam(lstm_model.parameters(), lr=0.001)\n",
    "\n",
    "lstm_model = train_full(lstm_model, criterion, optimizer, num_epochs=7)  "
   ]
  },
  {
   "cell_type": "code",
   "execution_count": 37,
   "id": "9616805e-b0d9-4c95-982c-93ebbfd8854c",
   "metadata": {},
   "outputs": [
    {
     "name": "stdout",
     "output_type": "stream",
     "text": [
      "Train Classification Report:\n",
      "              precision    recall  f1-score   support\n",
      "\n",
      "         0.0       0.88      0.88      0.88    229468\n",
      "         1.0       0.80      0.78      0.79    134378\n",
      "\n",
      "    accuracy                           0.85    363846\n",
      "   macro avg       0.84      0.83      0.84    363846\n",
      "weighted avg       0.85      0.85      0.85    363846\n",
      "\n",
      "Test Classification Report:\n",
      "              precision    recall  f1-score   support\n",
      "\n",
      "         0.0       0.87      0.89      0.88     23067\n",
      "         1.0       0.80      0.77      0.79     13318\n",
      "\n",
      "    accuracy                           0.84     36385\n",
      "   macro avg       0.83      0.83      0.83     36385\n",
      "weighted avg       0.84      0.84      0.84     36385\n",
      "\n",
      "Train accuracy = 0.8478339737141538\n",
      "Test accuracy = 0.8449910677476983\n"
     ]
    }
   ],
   "source": [
    "test_eval(lstm_model)"
   ]
  },
  {
   "cell_type": "code",
   "execution_count": 38,
   "id": "57b00ff7-8c10-4ae4-b039-729a1aa9a295",
   "metadata": {},
   "outputs": [
    {
     "name": "stdout",
     "output_type": "stream",
     "text": [
      "Train Classification Report:\n",
      "              precision    recall  f1-score   support\n",
      "\n",
      "         0.0       0.88      0.88      0.88    206401\n",
      "         1.0       0.80      0.79      0.79    121060\n",
      "\n",
      "    accuracy                           0.85    327461\n",
      "   macro avg       0.84      0.84      0.84    327461\n",
      "weighted avg       0.85      0.85      0.85    327461\n",
      "\n",
      "Validation Classification Report:\n",
      "              precision    recall  f1-score   support\n",
      "\n",
      "         0.0       0.87      0.89      0.88     23067\n",
      "         1.0       0.80      0.77      0.78     13318\n",
      "\n",
      "    accuracy                           0.84     36385\n",
      "   macro avg       0.83      0.83      0.83     36385\n",
      "weighted avg       0.84      0.84      0.84     36385\n",
      "\n"
     ]
    },
    {
     "data": {
      "text/plain": [
       "0.8447437130685722"
      ]
     },
     "execution_count": 38,
     "metadata": {},
     "output_type": "execute_result"
    }
   ],
   "source": [
    "evaluate(lstm_model, print_report=True)"
   ]
  },
  {
   "cell_type": "code",
   "execution_count": null,
   "id": "44108183-8ca4-4e3c-a7d6-1143fed9b4b3",
   "metadata": {},
   "outputs": [],
   "source": []
  },
  {
   "cell_type": "code",
   "execution_count": 39,
   "id": "142ea6b6-ea4d-4eb8-9e91-76b472d6404a",
   "metadata": {},
   "outputs": [
    {
     "data": {
      "application/vnd.jupyter.widget-view+json": {
       "model_id": "7013f6f4fb5344cba31fc0b698272f6b",
       "version_major": 2,
       "version_minor": 0
      },
      "text/plain": [
       "Epoch 1/7:   0%|          | 0/711 [00:00<?, ?it/s]"
      ]
     },
     "metadata": {},
     "output_type": "display_data"
    },
    {
     "name": "stdout",
     "output_type": "stream",
     "text": [
      "Epoch 1: train loss = 0.0011\n"
     ]
    },
    {
     "data": {
      "application/vnd.jupyter.widget-view+json": {
       "model_id": "a9a1e5a026164c158fe2479238bb60ac",
       "version_major": 2,
       "version_minor": 0
      },
      "text/plain": [
       "Epoch 2/7:   0%|          | 0/711 [00:00<?, ?it/s]"
      ]
     },
     "metadata": {},
     "output_type": "display_data"
    },
    {
     "name": "stdout",
     "output_type": "stream",
     "text": [
      "Epoch 2: train loss = 0.0010\n"
     ]
    },
    {
     "data": {
      "application/vnd.jupyter.widget-view+json": {
       "model_id": "dfda7a737de14d539f5b201447bbb2f9",
       "version_major": 2,
       "version_minor": 0
      },
      "text/plain": [
       "Epoch 3/7:   0%|          | 0/711 [00:00<?, ?it/s]"
      ]
     },
     "metadata": {},
     "output_type": "display_data"
    },
    {
     "name": "stdout",
     "output_type": "stream",
     "text": [
      "Epoch 3: train loss = 0.0010\n"
     ]
    },
    {
     "data": {
      "application/vnd.jupyter.widget-view+json": {
       "model_id": "f8897da1edd24a28bc4e3c93908755a8",
       "version_major": 2,
       "version_minor": 0
      },
      "text/plain": [
       "Epoch 4/7:   0%|          | 0/711 [00:00<?, ?it/s]"
      ]
     },
     "metadata": {},
     "output_type": "display_data"
    },
    {
     "name": "stdout",
     "output_type": "stream",
     "text": [
      "Epoch 4: train loss = 0.0009\n"
     ]
    },
    {
     "data": {
      "application/vnd.jupyter.widget-view+json": {
       "model_id": "a1110dcba99e4adab9890e41259bac68",
       "version_major": 2,
       "version_minor": 0
      },
      "text/plain": [
       "Epoch 5/7:   0%|          | 0/711 [00:00<?, ?it/s]"
      ]
     },
     "metadata": {},
     "output_type": "display_data"
    },
    {
     "name": "stdout",
     "output_type": "stream",
     "text": [
      "Epoch 5: train loss = 0.0008\n"
     ]
    },
    {
     "data": {
      "application/vnd.jupyter.widget-view+json": {
       "model_id": "006876ef655942ccadf50f6f7c5390e1",
       "version_major": 2,
       "version_minor": 0
      },
      "text/plain": [
       "Epoch 6/7:   0%|          | 0/711 [00:00<?, ?it/s]"
      ]
     },
     "metadata": {},
     "output_type": "display_data"
    },
    {
     "name": "stdout",
     "output_type": "stream",
     "text": [
      "Epoch 6: train loss = 0.0008\n"
     ]
    },
    {
     "data": {
      "application/vnd.jupyter.widget-view+json": {
       "model_id": "1b46528c6437479cba8921e859fa2274",
       "version_major": 2,
       "version_minor": 0
      },
      "text/plain": [
       "Epoch 7/7:   0%|          | 0/711 [00:00<?, ?it/s]"
      ]
     },
     "metadata": {},
     "output_type": "display_data"
    },
    {
     "name": "stdout",
     "output_type": "stream",
     "text": [
      "Epoch 7: train loss = 0.0007\n"
     ]
    }
   ],
   "source": [
    "gru_model = RNNModel(\n",
    "    vocab_size, embedding_dim=64, hidden_dim=128, num_rnn_layers=2, \n",
    "    num_linear_layers=4, dropout=0, rnn_type='gru'\n",
    ")\n",
    "criterion = nn.BCELoss()\n",
    "optimizer = torch.optim.Adam(gru_model.parameters(), lr=0.001)\n",
    "\n",
    "gru_model = train_full(gru_model, criterion, optimizer, num_epochs=7)  "
   ]
  },
  {
   "cell_type": "code",
   "execution_count": 40,
   "id": "fbda2cd8-b381-4cba-a3f8-beb511b93a1c",
   "metadata": {},
   "outputs": [
    {
     "name": "stdout",
     "output_type": "stream",
     "text": [
      "Train Classification Report:\n",
      "              precision    recall  f1-score   support\n",
      "\n",
      "         0.0       0.86      0.92      0.89    229468\n",
      "         1.0       0.85      0.75      0.80    134378\n",
      "\n",
      "    accuracy                           0.86    363846\n",
      "   macro avg       0.86      0.84      0.84    363846\n",
      "weighted avg       0.86      0.86      0.86    363846\n",
      "\n",
      "Test Classification Report:\n",
      "              precision    recall  f1-score   support\n",
      "\n",
      "         0.0       0.86      0.92      0.89     23067\n",
      "         1.0       0.85      0.75      0.79     13318\n",
      "\n",
      "    accuracy                           0.86     36385\n",
      "   macro avg       0.86      0.84      0.84     36385\n",
      "weighted avg       0.86      0.86      0.86     36385\n",
      "\n",
      "Train accuracy = 0.8586132594559237\n",
      "Test accuracy = 0.8590078328981723\n"
     ]
    }
   ],
   "source": [
    "test_eval(gru_model)"
   ]
  },
  {
   "cell_type": "code",
   "execution_count": 41,
   "id": "6ea5adcd-8c3e-41f8-bd25-7206564a5ac9",
   "metadata": {},
   "outputs": [
    {
     "name": "stdout",
     "output_type": "stream",
     "text": [
      "Train Classification Report:\n",
      "              precision    recall  f1-score   support\n",
      "\n",
      "         0.0       0.86      0.92      0.89    206401\n",
      "         1.0       0.85      0.75      0.80    121060\n",
      "\n",
      "    accuracy                           0.86    327461\n",
      "   macro avg       0.86      0.84      0.84    327461\n",
      "weighted avg       0.86      0.86      0.86    327461\n",
      "\n",
      "Validation Classification Report:\n",
      "              precision    recall  f1-score   support\n",
      "\n",
      "         0.0       0.86      0.92      0.89     23067\n",
      "         1.0       0.85      0.75      0.79     13318\n",
      "\n",
      "    accuracy                           0.86     36385\n",
      "   macro avg       0.86      0.83      0.84     36385\n",
      "weighted avg       0.86      0.86      0.86     36385\n",
      "\n"
     ]
    },
    {
     "data": {
      "text/plain": [
       "0.8585680912463928"
      ]
     },
     "execution_count": 41,
     "metadata": {},
     "output_type": "execute_result"
    }
   ],
   "source": [
    "evaluate(gru_model, print_report=True)"
   ]
  },
  {
   "cell_type": "code",
   "execution_count": null,
   "id": "78fff12a-4d11-4827-bfc7-b3e75db22b8b",
   "metadata": {},
   "outputs": [],
   "source": []
  }
 ],
 "metadata": {
  "kernelspec": {
   "display_name": "Python 3",
   "language": "python",
   "name": "python3"
  },
  "language_info": {
   "codemirror_mode": {
    "name": "ipython",
    "version": 3
   },
   "file_extension": ".py",
   "mimetype": "text/x-python",
   "name": "python",
   "nbconvert_exporter": "python",
   "pygments_lexer": "ipython3",
   "version": "3.7.12"
  }
 },
 "nbformat": 4,
 "nbformat_minor": 5
}
