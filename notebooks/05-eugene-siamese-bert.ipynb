{
  "nbformat": 4,
  "nbformat_minor": 0,
  "metadata": {
    "colab": {
      "provenance": []
    },
    "kernelspec": {
      "name": "python3",
      "display_name": "Python 3"
    },
    "language_info": {
      "name": "python"
    }
  },
  "cells": [
    {
      "cell_type": "code",
      "execution_count": null,
      "metadata": {
        "id": "BsDHthmPCqZP"
      },
      "outputs": [],
      "source": [
        "!pip install transformers\n",
        "!pip install gensim"
      ]
    },
    {
      "cell_type": "code",
      "execution_count": null,
      "metadata": {
        "id": "60d2a220"
      },
      "outputs": [],
      "source": [
        "import numpy as np\n",
        "import pandas as pd\n",
        "\n",
        "import re\n",
        "import string\n",
        "\n",
        "import transformers\n",
        "from transformers import BertTokenizer, BertModel\n",
        "import gensim\n",
        "import gensim.downloader\n",
        "\n",
        "import torch\n",
        "import torch.nn as nn\n",
        "import torch.nn.functional as F\n",
        "\n",
        "from sklearn.model_selection import train_test_split\n",
        "\n",
        "from torch.utils.data import DataLoader, Dataset\n",
        "\n",
        "from tqdm.notebook import tqdm\n",
        "\n",
        "import matplotlib.pyplot as plt\n",
        "import seaborn as sns\n",
        "\n",
        "from sklearn.metrics import accuracy_score, roc_curve, auc, classification_report"
      ]
    },
    {
      "cell_type": "code",
      "execution_count": null,
      "metadata": {
        "colab": {
          "base_uri": "https://localhost:8080/"
        },
        "id": "PrzUSsyLJ2Nr",
        "outputId": "b2700333-ca00-4255-ab73-adf25d96c094"
      },
      "outputs": [
        {
          "output_type": "stream",
          "name": "stdout",
          "text": [
            "cpu\n"
          ]
        }
      ],
      "source": [
        "device = torch.device('cuda') if torch.cuda.is_available() else torch.device('cpu')\n",
        "print(device)"
      ]
    },
    {
      "cell_type": "markdown",
      "metadata": {
        "id": "8034b9b3"
      },
      "source": [
        "## Text Processing"
      ]
    },
    {
      "cell_type": "code",
      "execution_count": null,
      "metadata": {
        "colab": {
          "base_uri": "https://localhost:8080/",
          "height": 206
        },
        "id": "ed3d19d4",
        "outputId": "7eed3e38-f438-4690-c8e3-58706b378a74"
      },
      "outputs": [
        {
          "output_type": "execute_result",
          "data": {
            "text/plain": [
              "   id  qid1  qid2                                          question1  \\\n",
              "0   0     1     2  What is the step by step guide to invest in sh...   \n",
              "1   1     3     4  What is the story of Kohinoor (Koh-i-Noor) Dia...   \n",
              "2   2     5     6  How can I increase the speed of my internet co...   \n",
              "3   3     7     8  Why am I mentally very lonely? How can I solve...   \n",
              "4   4     9    10  Which one dissolve in water quikly sugar, salt...   \n",
              "\n",
              "                                           question2  is_duplicate  \n",
              "0  What is the step by step guide to invest in sh...             0  \n",
              "1  What would happen if the Indian government sto...             0  \n",
              "2  How can Internet speed be increased by hacking...             0  \n",
              "3  Find the remainder when [math]23^{24}[/math] i...             0  \n",
              "4            Which fish would survive in salt water?             0  "
            ],
            "text/html": [
              "\n",
              "  <div id=\"df-117bd25b-2381-455d-b346-23b32bd84fc3\" class=\"colab-df-container\">\n",
              "    <div>\n",
              "<style scoped>\n",
              "    .dataframe tbody tr th:only-of-type {\n",
              "        vertical-align: middle;\n",
              "    }\n",
              "\n",
              "    .dataframe tbody tr th {\n",
              "        vertical-align: top;\n",
              "    }\n",
              "\n",
              "    .dataframe thead th {\n",
              "        text-align: right;\n",
              "    }\n",
              "</style>\n",
              "<table border=\"1\" class=\"dataframe\">\n",
              "  <thead>\n",
              "    <tr style=\"text-align: right;\">\n",
              "      <th></th>\n",
              "      <th>id</th>\n",
              "      <th>qid1</th>\n",
              "      <th>qid2</th>\n",
              "      <th>question1</th>\n",
              "      <th>question2</th>\n",
              "      <th>is_duplicate</th>\n",
              "    </tr>\n",
              "  </thead>\n",
              "  <tbody>\n",
              "    <tr>\n",
              "      <th>0</th>\n",
              "      <td>0</td>\n",
              "      <td>1</td>\n",
              "      <td>2</td>\n",
              "      <td>What is the step by step guide to invest in sh...</td>\n",
              "      <td>What is the step by step guide to invest in sh...</td>\n",
              "      <td>0</td>\n",
              "    </tr>\n",
              "    <tr>\n",
              "      <th>1</th>\n",
              "      <td>1</td>\n",
              "      <td>3</td>\n",
              "      <td>4</td>\n",
              "      <td>What is the story of Kohinoor (Koh-i-Noor) Dia...</td>\n",
              "      <td>What would happen if the Indian government sto...</td>\n",
              "      <td>0</td>\n",
              "    </tr>\n",
              "    <tr>\n",
              "      <th>2</th>\n",
              "      <td>2</td>\n",
              "      <td>5</td>\n",
              "      <td>6</td>\n",
              "      <td>How can I increase the speed of my internet co...</td>\n",
              "      <td>How can Internet speed be increased by hacking...</td>\n",
              "      <td>0</td>\n",
              "    </tr>\n",
              "    <tr>\n",
              "      <th>3</th>\n",
              "      <td>3</td>\n",
              "      <td>7</td>\n",
              "      <td>8</td>\n",
              "      <td>Why am I mentally very lonely? How can I solve...</td>\n",
              "      <td>Find the remainder when [math]23^{24}[/math] i...</td>\n",
              "      <td>0</td>\n",
              "    </tr>\n",
              "    <tr>\n",
              "      <th>4</th>\n",
              "      <td>4</td>\n",
              "      <td>9</td>\n",
              "      <td>10</td>\n",
              "      <td>Which one dissolve in water quikly sugar, salt...</td>\n",
              "      <td>Which fish would survive in salt water?</td>\n",
              "      <td>0</td>\n",
              "    </tr>\n",
              "  </tbody>\n",
              "</table>\n",
              "</div>\n",
              "    <div class=\"colab-df-buttons\">\n",
              "\n",
              "  <div class=\"colab-df-container\">\n",
              "    <button class=\"colab-df-convert\" onclick=\"convertToInteractive('df-117bd25b-2381-455d-b346-23b32bd84fc3')\"\n",
              "            title=\"Convert this dataframe to an interactive table.\"\n",
              "            style=\"display:none;\">\n",
              "\n",
              "  <svg xmlns=\"http://www.w3.org/2000/svg\" height=\"24px\" viewBox=\"0 -960 960 960\">\n",
              "    <path d=\"M120-120v-720h720v720H120Zm60-500h600v-160H180v160Zm220 220h160v-160H400v160Zm0 220h160v-160H400v160ZM180-400h160v-160H180v160Zm440 0h160v-160H620v160ZM180-180h160v-160H180v160Zm440 0h160v-160H620v160Z\"/>\n",
              "  </svg>\n",
              "    </button>\n",
              "\n",
              "  <style>\n",
              "    .colab-df-container {\n",
              "      display:flex;\n",
              "      gap: 12px;\n",
              "    }\n",
              "\n",
              "    .colab-df-convert {\n",
              "      background-color: #E8F0FE;\n",
              "      border: none;\n",
              "      border-radius: 50%;\n",
              "      cursor: pointer;\n",
              "      display: none;\n",
              "      fill: #1967D2;\n",
              "      height: 32px;\n",
              "      padding: 0 0 0 0;\n",
              "      width: 32px;\n",
              "    }\n",
              "\n",
              "    .colab-df-convert:hover {\n",
              "      background-color: #E2EBFA;\n",
              "      box-shadow: 0px 1px 2px rgba(60, 64, 67, 0.3), 0px 1px 3px 1px rgba(60, 64, 67, 0.15);\n",
              "      fill: #174EA6;\n",
              "    }\n",
              "\n",
              "    .colab-df-buttons div {\n",
              "      margin-bottom: 4px;\n",
              "    }\n",
              "\n",
              "    [theme=dark] .colab-df-convert {\n",
              "      background-color: #3B4455;\n",
              "      fill: #D2E3FC;\n",
              "    }\n",
              "\n",
              "    [theme=dark] .colab-df-convert:hover {\n",
              "      background-color: #434B5C;\n",
              "      box-shadow: 0px 1px 3px 1px rgba(0, 0, 0, 0.15);\n",
              "      filter: drop-shadow(0px 1px 2px rgba(0, 0, 0, 0.3));\n",
              "      fill: #FFFFFF;\n",
              "    }\n",
              "  </style>\n",
              "\n",
              "    <script>\n",
              "      const buttonEl =\n",
              "        document.querySelector('#df-117bd25b-2381-455d-b346-23b32bd84fc3 button.colab-df-convert');\n",
              "      buttonEl.style.display =\n",
              "        google.colab.kernel.accessAllowed ? 'block' : 'none';\n",
              "\n",
              "      async function convertToInteractive(key) {\n",
              "        const element = document.querySelector('#df-117bd25b-2381-455d-b346-23b32bd84fc3');\n",
              "        const dataTable =\n",
              "          await google.colab.kernel.invokeFunction('convertToInteractive',\n",
              "                                                    [key], {});\n",
              "        if (!dataTable) return;\n",
              "\n",
              "        const docLinkHtml = 'Like what you see? Visit the ' +\n",
              "          '<a target=\"_blank\" href=https://colab.research.google.com/notebooks/data_table.ipynb>data table notebook</a>'\n",
              "          + ' to learn more about interactive tables.';\n",
              "        element.innerHTML = '';\n",
              "        dataTable['output_type'] = 'display_data';\n",
              "        await google.colab.output.renderOutput(dataTable, element);\n",
              "        const docLink = document.createElement('div');\n",
              "        docLink.innerHTML = docLinkHtml;\n",
              "        element.appendChild(docLink);\n",
              "      }\n",
              "    </script>\n",
              "  </div>\n",
              "\n",
              "\n",
              "<div id=\"df-8f9298ea-8d56-4620-8862-0592ebb6afb0\">\n",
              "  <button class=\"colab-df-quickchart\" onclick=\"quickchart('df-8f9298ea-8d56-4620-8862-0592ebb6afb0')\"\n",
              "            title=\"Suggest charts.\"\n",
              "            style=\"display:none;\">\n",
              "\n",
              "<svg xmlns=\"http://www.w3.org/2000/svg\" height=\"24px\"viewBox=\"0 0 24 24\"\n",
              "     width=\"24px\">\n",
              "    <g>\n",
              "        <path d=\"M19 3H5c-1.1 0-2 .9-2 2v14c0 1.1.9 2 2 2h14c1.1 0 2-.9 2-2V5c0-1.1-.9-2-2-2zM9 17H7v-7h2v7zm4 0h-2V7h2v10zm4 0h-2v-4h2v4z\"/>\n",
              "    </g>\n",
              "</svg>\n",
              "  </button>\n",
              "\n",
              "<style>\n",
              "  .colab-df-quickchart {\n",
              "      --bg-color: #E8F0FE;\n",
              "      --fill-color: #1967D2;\n",
              "      --hover-bg-color: #E2EBFA;\n",
              "      --hover-fill-color: #174EA6;\n",
              "      --disabled-fill-color: #AAA;\n",
              "      --disabled-bg-color: #DDD;\n",
              "  }\n",
              "\n",
              "  [theme=dark] .colab-df-quickchart {\n",
              "      --bg-color: #3B4455;\n",
              "      --fill-color: #D2E3FC;\n",
              "      --hover-bg-color: #434B5C;\n",
              "      --hover-fill-color: #FFFFFF;\n",
              "      --disabled-bg-color: #3B4455;\n",
              "      --disabled-fill-color: #666;\n",
              "  }\n",
              "\n",
              "  .colab-df-quickchart {\n",
              "    background-color: var(--bg-color);\n",
              "    border: none;\n",
              "    border-radius: 50%;\n",
              "    cursor: pointer;\n",
              "    display: none;\n",
              "    fill: var(--fill-color);\n",
              "    height: 32px;\n",
              "    padding: 0;\n",
              "    width: 32px;\n",
              "  }\n",
              "\n",
              "  .colab-df-quickchart:hover {\n",
              "    background-color: var(--hover-bg-color);\n",
              "    box-shadow: 0 1px 2px rgba(60, 64, 67, 0.3), 0 1px 3px 1px rgba(60, 64, 67, 0.15);\n",
              "    fill: var(--button-hover-fill-color);\n",
              "  }\n",
              "\n",
              "  .colab-df-quickchart-complete:disabled,\n",
              "  .colab-df-quickchart-complete:disabled:hover {\n",
              "    background-color: var(--disabled-bg-color);\n",
              "    fill: var(--disabled-fill-color);\n",
              "    box-shadow: none;\n",
              "  }\n",
              "\n",
              "  .colab-df-spinner {\n",
              "    border: 2px solid var(--fill-color);\n",
              "    border-color: transparent;\n",
              "    border-bottom-color: var(--fill-color);\n",
              "    animation:\n",
              "      spin 1s steps(1) infinite;\n",
              "  }\n",
              "\n",
              "  @keyframes spin {\n",
              "    0% {\n",
              "      border-color: transparent;\n",
              "      border-bottom-color: var(--fill-color);\n",
              "      border-left-color: var(--fill-color);\n",
              "    }\n",
              "    20% {\n",
              "      border-color: transparent;\n",
              "      border-left-color: var(--fill-color);\n",
              "      border-top-color: var(--fill-color);\n",
              "    }\n",
              "    30% {\n",
              "      border-color: transparent;\n",
              "      border-left-color: var(--fill-color);\n",
              "      border-top-color: var(--fill-color);\n",
              "      border-right-color: var(--fill-color);\n",
              "    }\n",
              "    40% {\n",
              "      border-color: transparent;\n",
              "      border-right-color: var(--fill-color);\n",
              "      border-top-color: var(--fill-color);\n",
              "    }\n",
              "    60% {\n",
              "      border-color: transparent;\n",
              "      border-right-color: var(--fill-color);\n",
              "    }\n",
              "    80% {\n",
              "      border-color: transparent;\n",
              "      border-right-color: var(--fill-color);\n",
              "      border-bottom-color: var(--fill-color);\n",
              "    }\n",
              "    90% {\n",
              "      border-color: transparent;\n",
              "      border-bottom-color: var(--fill-color);\n",
              "    }\n",
              "  }\n",
              "</style>\n",
              "\n",
              "  <script>\n",
              "    async function quickchart(key) {\n",
              "      const quickchartButtonEl =\n",
              "        document.querySelector('#' + key + ' button');\n",
              "      quickchartButtonEl.disabled = true;  // To prevent multiple clicks.\n",
              "      quickchartButtonEl.classList.add('colab-df-spinner');\n",
              "      try {\n",
              "        const charts = await google.colab.kernel.invokeFunction(\n",
              "            'suggestCharts', [key], {});\n",
              "      } catch (error) {\n",
              "        console.error('Error during call to suggestCharts:', error);\n",
              "      }\n",
              "      quickchartButtonEl.classList.remove('colab-df-spinner');\n",
              "      quickchartButtonEl.classList.add('colab-df-quickchart-complete');\n",
              "    }\n",
              "    (() => {\n",
              "      let quickchartButtonEl =\n",
              "        document.querySelector('#df-8f9298ea-8d56-4620-8862-0592ebb6afb0 button');\n",
              "      quickchartButtonEl.style.display =\n",
              "        google.colab.kernel.accessAllowed ? 'block' : 'none';\n",
              "    })();\n",
              "  </script>\n",
              "</div>\n",
              "    </div>\n",
              "  </div>\n"
            ]
          },
          "metadata": {},
          "execution_count": 7
        }
      ],
      "source": [
        "df = pd.read_csv('/content/drive/MyDrive/ay2324 sem1/cs3244/project/train.csv')\n",
        "df.head()"
      ]
    },
    {
      "cell_type": "markdown",
      "metadata": {
        "id": "b8316cb3"
      },
      "source": [
        "### Null removals"
      ]
    },
    {
      "cell_type": "code",
      "execution_count": null,
      "metadata": {
        "colab": {
          "base_uri": "https://localhost:8080/"
        },
        "id": "30f71092",
        "outputId": "2c5295c3-8b4c-460a-8980-db1616355643",
        "scrolled": true
      },
      "outputs": [
        {
          "output_type": "stream",
          "name": "stdout",
          "text": [
            "initial dataframe has 404290 rows.\n",
            "dataframe has 3 null rows.\n",
            "dataframe has 404287 rows after removing null values.\n"
          ]
        }
      ],
      "source": [
        "print(f\"initial dataframe has {len(df)} rows.\")\n",
        "null_rows = df[df.isnull().values.any(1)]\n",
        "print(f\"dataframe has {len(null_rows)} null rows.\")\n",
        "df.dropna(how='any', inplace=True)\n",
        "print(f\"dataframe has {len(df)} rows after removing null values.\")"
      ]
    },
    {
      "cell_type": "code",
      "execution_count": null,
      "metadata": {
        "colab": {
          "base_uri": "https://localhost:8080/"
        },
        "id": "6bc2eb2a",
        "outputId": "c27b1b76-e244-4e7b-8bdf-be2dca22806a",
        "scrolled": true
      },
      "outputs": [
        {
          "output_type": "execute_result",
          "data": {
            "text/plain": [
              "404287"
            ]
          },
          "metadata": {},
          "execution_count": 9
        }
      ],
      "source": [
        "num_samples = len(df)\n",
        "num_samples"
      ]
    },
    {
      "cell_type": "markdown",
      "metadata": {
        "id": "e522a020"
      },
      "source": [
        "### Splitting"
      ]
    },
    {
      "cell_type": "code",
      "execution_count": null,
      "metadata": {
        "id": "51991d63"
      },
      "outputs": [],
      "source": [
        "X = df.iloc[:,:-1]\n",
        "y = df.iloc[:, -1]"
      ]
    },
    {
      "cell_type": "code",
      "execution_count": null,
      "metadata": {
        "id": "2eb6678d"
      },
      "outputs": [],
      "source": [
        "# split into train/val, test sets\n",
        "X_temp, X_test, y_temp, y_test = train_test_split(X, y, test_size=0.2, random_state=42)\n",
        "\n",
        "# split into train and val sets\n",
        "X_train, X_val, y_train, y_val = train_test_split(X_temp, y_temp, test_size=0.2, random_state=42)"
      ]
    },
    {
      "cell_type": "code",
      "execution_count": null,
      "metadata": {
        "colab": {
          "base_uri": "https://localhost:8080/"
        },
        "id": "881993d0",
        "outputId": "d0465f86-e60e-4681-c33f-44c862c9c111"
      },
      "outputs": [
        {
          "output_type": "execute_result",
          "data": {
            "text/plain": [
              "((258743, 5), (64686, 5), (80858, 5))"
            ]
          },
          "metadata": {},
          "execution_count": 12
        }
      ],
      "source": [
        "X_train.shape, X_val.shape, X_test.shape"
      ]
    },
    {
      "cell_type": "markdown",
      "metadata": {
        "id": "e3d4b0ef"
      },
      "source": [
        "### Cleaning"
      ]
    },
    {
      "cell_type": "code",
      "execution_count": null,
      "metadata": {
        "colab": {
          "base_uri": "https://localhost:8080/",
          "height": 35
        },
        "id": "946d164e",
        "outputId": "ba906a38-96ff-4104-9497-256bcc844248"
      },
      "outputs": [
        {
          "output_type": "execute_result",
          "data": {
            "text/plain": [
              "'what s the meaning of life?'"
            ],
            "application/vnd.google.colaboratory.intrinsic+json": {
              "type": "string"
            }
          },
          "metadata": {},
          "execution_count": 13
        }
      ],
      "source": [
        "def clean_text(text):\n",
        "    text = text.lower() # lower case\n",
        "    text = re.sub('\\s+\\n+', ' ', text)\n",
        "    text = re.sub(f\"[{''.join(char for char in string.punctuation if char != '?')}]\", ' ', text) # remove punctuation\n",
        "    text = re.sub(r'[^a-zA-Z0-9\\s?]', ' ', text) # remove special chars\n",
        "\n",
        "    return text\n",
        "\n",
        "demo_qn = \"What's the meaning of life?\"\n",
        "clean_text(demo_qn)"
      ]
    },
    {
      "cell_type": "code",
      "execution_count": null,
      "metadata": {
        "colab": {
          "base_uri": "https://localhost:8080/",
          "height": 519
        },
        "id": "aed2a2d7",
        "outputId": "494fa1fc-9766-4939-b181-8ed94faeb3b6"
      },
      "outputs": [
        {
          "output_type": "execute_result",
          "data": {
            "text/plain": [
              "            id    qid1    qid2  \\\n",
              "217908  217908  184295   83786   \n",
              "103880  103880  171594  171595   \n",
              "252876  252876  158209  367298   \n",
              "166262  166262  258027  258028   \n",
              "146340  146340  231187  231188   \n",
              "332298  332298  432679   62027   \n",
              "217255  217255  323566  100138   \n",
              "309217  309217  433171  235300   \n",
              "185878  185878  214968  283666   \n",
              "140998  140998  223948  223949   \n",
              "\n",
              "                                                question1  \\\n",
              "217908  Where can I find the uncut, uncensored Fifty S...   \n",
              "103880  In the Quora iPhone app, is there a way to see...   \n",
              "252876  College Applications: What does it take to get...   \n",
              "166262    Which IIT is best for aeronautical engineering?   \n",
              "146340  What is the legality behind copying and pastin...   \n",
              "332298  What is the size of a profile photo on Instagram?   \n",
              "217255               What order should I watch DC movies?   \n",
              "309217  The U.S. Treasury Department mints a American ...   \n",
              "185878  Why do people keep their black money in Swiss ...   \n",
              "140998           Do Jews believe in the plagues of Egypt?   \n",
              "\n",
              "                                                question2  \\\n",
              "217908  What's the best way to see Fifty Shades of Gre...   \n",
              "103880  How can I filter my content to see which quest...   \n",
              "252876  How much score does it take in the SATs (SAT 2...   \n",
              "166262  How can progress a civildroftman to civilengin...   \n",
              "146340         Is it legal to copy news from other sites?   \n",
              "332298  How can I see a full-size profile picture of s...   \n",
              "217255  What is the order of the Alien movies? Should ...   \n",
              "309217  Why do US banks not accept coins, considering ...   \n",
              "185878    Why is black money kept in Swiss bank accounts?   \n",
              "140998     Do israeli jews believe in the messiah or not?   \n",
              "\n",
              "                                               q1_cleaned  \\\n",
              "217908  where can i find the uncut  uncensored fifty s...   \n",
              "103880  in the quora iphone app  is there a way to see...   \n",
              "252876  college applications  what does it take to get...   \n",
              "166262    which iit is best for aeronautical engineering?   \n",
              "146340  what is the legality behind copying and pastin...   \n",
              "332298  what is the size of a profile photo on instagram?   \n",
              "217255               what order should i watch dc movies?   \n",
              "309217  the u s  treasury department mints a american ...   \n",
              "185878  why do people keep their black money in swiss ...   \n",
              "140998           do jews believe in the plagues of egypt?   \n",
              "\n",
              "                                               q2_cleaned  \n",
              "217908  what s the best way to see fifty shades of gre...  \n",
              "103880  how can i filter my content to see which quest...  \n",
              "252876  how much score does it take in the sats  sat 2...  \n",
              "166262  how can progress a civildroftman to civilengin...  \n",
              "146340         is it legal to copy news from other sites?  \n",
              "332298  how can i see a full size profile picture of s...  \n",
              "217255  what is the order of the alien movies? should ...  \n",
              "309217  why do us banks not accept coins  considering ...  \n",
              "185878    why is black money kept in swiss bank accounts?  \n",
              "140998     do israeli jews believe in the messiah or not?  "
            ],
            "text/html": [
              "\n",
              "  <div id=\"df-4e7f94b9-616e-4d4f-9341-7d05361bf689\" class=\"colab-df-container\">\n",
              "    <div>\n",
              "<style scoped>\n",
              "    .dataframe tbody tr th:only-of-type {\n",
              "        vertical-align: middle;\n",
              "    }\n",
              "\n",
              "    .dataframe tbody tr th {\n",
              "        vertical-align: top;\n",
              "    }\n",
              "\n",
              "    .dataframe thead th {\n",
              "        text-align: right;\n",
              "    }\n",
              "</style>\n",
              "<table border=\"1\" class=\"dataframe\">\n",
              "  <thead>\n",
              "    <tr style=\"text-align: right;\">\n",
              "      <th></th>\n",
              "      <th>id</th>\n",
              "      <th>qid1</th>\n",
              "      <th>qid2</th>\n",
              "      <th>question1</th>\n",
              "      <th>question2</th>\n",
              "      <th>q1_cleaned</th>\n",
              "      <th>q2_cleaned</th>\n",
              "    </tr>\n",
              "  </thead>\n",
              "  <tbody>\n",
              "    <tr>\n",
              "      <th>217908</th>\n",
              "      <td>217908</td>\n",
              "      <td>184295</td>\n",
              "      <td>83786</td>\n",
              "      <td>Where can I find the uncut, uncensored Fifty S...</td>\n",
              "      <td>What's the best way to see Fifty Shades of Gre...</td>\n",
              "      <td>where can i find the uncut  uncensored fifty s...</td>\n",
              "      <td>what s the best way to see fifty shades of gre...</td>\n",
              "    </tr>\n",
              "    <tr>\n",
              "      <th>103880</th>\n",
              "      <td>103880</td>\n",
              "      <td>171594</td>\n",
              "      <td>171595</td>\n",
              "      <td>In the Quora iPhone app, is there a way to see...</td>\n",
              "      <td>How can I filter my content to see which quest...</td>\n",
              "      <td>in the quora iphone app  is there a way to see...</td>\n",
              "      <td>how can i filter my content to see which quest...</td>\n",
              "    </tr>\n",
              "    <tr>\n",
              "      <th>252876</th>\n",
              "      <td>252876</td>\n",
              "      <td>158209</td>\n",
              "      <td>367298</td>\n",
              "      <td>College Applications: What does it take to get...</td>\n",
              "      <td>How much score does it take in the SATs (SAT 2...</td>\n",
              "      <td>college applications  what does it take to get...</td>\n",
              "      <td>how much score does it take in the sats  sat 2...</td>\n",
              "    </tr>\n",
              "    <tr>\n",
              "      <th>166262</th>\n",
              "      <td>166262</td>\n",
              "      <td>258027</td>\n",
              "      <td>258028</td>\n",
              "      <td>Which IIT is best for aeronautical engineering?</td>\n",
              "      <td>How can progress a civildroftman to civilengin...</td>\n",
              "      <td>which iit is best for aeronautical engineering?</td>\n",
              "      <td>how can progress a civildroftman to civilengin...</td>\n",
              "    </tr>\n",
              "    <tr>\n",
              "      <th>146340</th>\n",
              "      <td>146340</td>\n",
              "      <td>231187</td>\n",
              "      <td>231188</td>\n",
              "      <td>What is the legality behind copying and pastin...</td>\n",
              "      <td>Is it legal to copy news from other sites?</td>\n",
              "      <td>what is the legality behind copying and pastin...</td>\n",
              "      <td>is it legal to copy news from other sites?</td>\n",
              "    </tr>\n",
              "    <tr>\n",
              "      <th>332298</th>\n",
              "      <td>332298</td>\n",
              "      <td>432679</td>\n",
              "      <td>62027</td>\n",
              "      <td>What is the size of a profile photo on Instagram?</td>\n",
              "      <td>How can I see a full-size profile picture of s...</td>\n",
              "      <td>what is the size of a profile photo on instagram?</td>\n",
              "      <td>how can i see a full size profile picture of s...</td>\n",
              "    </tr>\n",
              "    <tr>\n",
              "      <th>217255</th>\n",
              "      <td>217255</td>\n",
              "      <td>323566</td>\n",
              "      <td>100138</td>\n",
              "      <td>What order should I watch DC movies?</td>\n",
              "      <td>What is the order of the Alien movies? Should ...</td>\n",
              "      <td>what order should i watch dc movies?</td>\n",
              "      <td>what is the order of the alien movies? should ...</td>\n",
              "    </tr>\n",
              "    <tr>\n",
              "      <th>309217</th>\n",
              "      <td>309217</td>\n",
              "      <td>433171</td>\n",
              "      <td>235300</td>\n",
              "      <td>The U.S. Treasury Department mints a American ...</td>\n",
              "      <td>Why do US banks not accept coins, considering ...</td>\n",
              "      <td>the u s  treasury department mints a american ...</td>\n",
              "      <td>why do us banks not accept coins  considering ...</td>\n",
              "    </tr>\n",
              "    <tr>\n",
              "      <th>185878</th>\n",
              "      <td>185878</td>\n",
              "      <td>214968</td>\n",
              "      <td>283666</td>\n",
              "      <td>Why do people keep their black money in Swiss ...</td>\n",
              "      <td>Why is black money kept in Swiss bank accounts?</td>\n",
              "      <td>why do people keep their black money in swiss ...</td>\n",
              "      <td>why is black money kept in swiss bank accounts?</td>\n",
              "    </tr>\n",
              "    <tr>\n",
              "      <th>140998</th>\n",
              "      <td>140998</td>\n",
              "      <td>223948</td>\n",
              "      <td>223949</td>\n",
              "      <td>Do Jews believe in the plagues of Egypt?</td>\n",
              "      <td>Do israeli jews believe in the messiah or not?</td>\n",
              "      <td>do jews believe in the plagues of egypt?</td>\n",
              "      <td>do israeli jews believe in the messiah or not?</td>\n",
              "    </tr>\n",
              "  </tbody>\n",
              "</table>\n",
              "</div>\n",
              "    <div class=\"colab-df-buttons\">\n",
              "\n",
              "  <div class=\"colab-df-container\">\n",
              "    <button class=\"colab-df-convert\" onclick=\"convertToInteractive('df-4e7f94b9-616e-4d4f-9341-7d05361bf689')\"\n",
              "            title=\"Convert this dataframe to an interactive table.\"\n",
              "            style=\"display:none;\">\n",
              "\n",
              "  <svg xmlns=\"http://www.w3.org/2000/svg\" height=\"24px\" viewBox=\"0 -960 960 960\">\n",
              "    <path d=\"M120-120v-720h720v720H120Zm60-500h600v-160H180v160Zm220 220h160v-160H400v160Zm0 220h160v-160H400v160ZM180-400h160v-160H180v160Zm440 0h160v-160H620v160ZM180-180h160v-160H180v160Zm440 0h160v-160H620v160Z\"/>\n",
              "  </svg>\n",
              "    </button>\n",
              "\n",
              "  <style>\n",
              "    .colab-df-container {\n",
              "      display:flex;\n",
              "      gap: 12px;\n",
              "    }\n",
              "\n",
              "    .colab-df-convert {\n",
              "      background-color: #E8F0FE;\n",
              "      border: none;\n",
              "      border-radius: 50%;\n",
              "      cursor: pointer;\n",
              "      display: none;\n",
              "      fill: #1967D2;\n",
              "      height: 32px;\n",
              "      padding: 0 0 0 0;\n",
              "      width: 32px;\n",
              "    }\n",
              "\n",
              "    .colab-df-convert:hover {\n",
              "      background-color: #E2EBFA;\n",
              "      box-shadow: 0px 1px 2px rgba(60, 64, 67, 0.3), 0px 1px 3px 1px rgba(60, 64, 67, 0.15);\n",
              "      fill: #174EA6;\n",
              "    }\n",
              "\n",
              "    .colab-df-buttons div {\n",
              "      margin-bottom: 4px;\n",
              "    }\n",
              "\n",
              "    [theme=dark] .colab-df-convert {\n",
              "      background-color: #3B4455;\n",
              "      fill: #D2E3FC;\n",
              "    }\n",
              "\n",
              "    [theme=dark] .colab-df-convert:hover {\n",
              "      background-color: #434B5C;\n",
              "      box-shadow: 0px 1px 3px 1px rgba(0, 0, 0, 0.15);\n",
              "      filter: drop-shadow(0px 1px 2px rgba(0, 0, 0, 0.3));\n",
              "      fill: #FFFFFF;\n",
              "    }\n",
              "  </style>\n",
              "\n",
              "    <script>\n",
              "      const buttonEl =\n",
              "        document.querySelector('#df-4e7f94b9-616e-4d4f-9341-7d05361bf689 button.colab-df-convert');\n",
              "      buttonEl.style.display =\n",
              "        google.colab.kernel.accessAllowed ? 'block' : 'none';\n",
              "\n",
              "      async function convertToInteractive(key) {\n",
              "        const element = document.querySelector('#df-4e7f94b9-616e-4d4f-9341-7d05361bf689');\n",
              "        const dataTable =\n",
              "          await google.colab.kernel.invokeFunction('convertToInteractive',\n",
              "                                                    [key], {});\n",
              "        if (!dataTable) return;\n",
              "\n",
              "        const docLinkHtml = 'Like what you see? Visit the ' +\n",
              "          '<a target=\"_blank\" href=https://colab.research.google.com/notebooks/data_table.ipynb>data table notebook</a>'\n",
              "          + ' to learn more about interactive tables.';\n",
              "        element.innerHTML = '';\n",
              "        dataTable['output_type'] = 'display_data';\n",
              "        await google.colab.output.renderOutput(dataTable, element);\n",
              "        const docLink = document.createElement('div');\n",
              "        docLink.innerHTML = docLinkHtml;\n",
              "        element.appendChild(docLink);\n",
              "      }\n",
              "    </script>\n",
              "  </div>\n",
              "\n",
              "\n",
              "<div id=\"df-53a40cf9-d64a-4ee0-ad56-850460514879\">\n",
              "  <button class=\"colab-df-quickchart\" onclick=\"quickchart('df-53a40cf9-d64a-4ee0-ad56-850460514879')\"\n",
              "            title=\"Suggest charts.\"\n",
              "            style=\"display:none;\">\n",
              "\n",
              "<svg xmlns=\"http://www.w3.org/2000/svg\" height=\"24px\"viewBox=\"0 0 24 24\"\n",
              "     width=\"24px\">\n",
              "    <g>\n",
              "        <path d=\"M19 3H5c-1.1 0-2 .9-2 2v14c0 1.1.9 2 2 2h14c1.1 0 2-.9 2-2V5c0-1.1-.9-2-2-2zM9 17H7v-7h2v7zm4 0h-2V7h2v10zm4 0h-2v-4h2v4z\"/>\n",
              "    </g>\n",
              "</svg>\n",
              "  </button>\n",
              "\n",
              "<style>\n",
              "  .colab-df-quickchart {\n",
              "      --bg-color: #E8F0FE;\n",
              "      --fill-color: #1967D2;\n",
              "      --hover-bg-color: #E2EBFA;\n",
              "      --hover-fill-color: #174EA6;\n",
              "      --disabled-fill-color: #AAA;\n",
              "      --disabled-bg-color: #DDD;\n",
              "  }\n",
              "\n",
              "  [theme=dark] .colab-df-quickchart {\n",
              "      --bg-color: #3B4455;\n",
              "      --fill-color: #D2E3FC;\n",
              "      --hover-bg-color: #434B5C;\n",
              "      --hover-fill-color: #FFFFFF;\n",
              "      --disabled-bg-color: #3B4455;\n",
              "      --disabled-fill-color: #666;\n",
              "  }\n",
              "\n",
              "  .colab-df-quickchart {\n",
              "    background-color: var(--bg-color);\n",
              "    border: none;\n",
              "    border-radius: 50%;\n",
              "    cursor: pointer;\n",
              "    display: none;\n",
              "    fill: var(--fill-color);\n",
              "    height: 32px;\n",
              "    padding: 0;\n",
              "    width: 32px;\n",
              "  }\n",
              "\n",
              "  .colab-df-quickchart:hover {\n",
              "    background-color: var(--hover-bg-color);\n",
              "    box-shadow: 0 1px 2px rgba(60, 64, 67, 0.3), 0 1px 3px 1px rgba(60, 64, 67, 0.15);\n",
              "    fill: var(--button-hover-fill-color);\n",
              "  }\n",
              "\n",
              "  .colab-df-quickchart-complete:disabled,\n",
              "  .colab-df-quickchart-complete:disabled:hover {\n",
              "    background-color: var(--disabled-bg-color);\n",
              "    fill: var(--disabled-fill-color);\n",
              "    box-shadow: none;\n",
              "  }\n",
              "\n",
              "  .colab-df-spinner {\n",
              "    border: 2px solid var(--fill-color);\n",
              "    border-color: transparent;\n",
              "    border-bottom-color: var(--fill-color);\n",
              "    animation:\n",
              "      spin 1s steps(1) infinite;\n",
              "  }\n",
              "\n",
              "  @keyframes spin {\n",
              "    0% {\n",
              "      border-color: transparent;\n",
              "      border-bottom-color: var(--fill-color);\n",
              "      border-left-color: var(--fill-color);\n",
              "    }\n",
              "    20% {\n",
              "      border-color: transparent;\n",
              "      border-left-color: var(--fill-color);\n",
              "      border-top-color: var(--fill-color);\n",
              "    }\n",
              "    30% {\n",
              "      border-color: transparent;\n",
              "      border-left-color: var(--fill-color);\n",
              "      border-top-color: var(--fill-color);\n",
              "      border-right-color: var(--fill-color);\n",
              "    }\n",
              "    40% {\n",
              "      border-color: transparent;\n",
              "      border-right-color: var(--fill-color);\n",
              "      border-top-color: var(--fill-color);\n",
              "    }\n",
              "    60% {\n",
              "      border-color: transparent;\n",
              "      border-right-color: var(--fill-color);\n",
              "    }\n",
              "    80% {\n",
              "      border-color: transparent;\n",
              "      border-right-color: var(--fill-color);\n",
              "      border-bottom-color: var(--fill-color);\n",
              "    }\n",
              "    90% {\n",
              "      border-color: transparent;\n",
              "      border-bottom-color: var(--fill-color);\n",
              "    }\n",
              "  }\n",
              "</style>\n",
              "\n",
              "  <script>\n",
              "    async function quickchart(key) {\n",
              "      const quickchartButtonEl =\n",
              "        document.querySelector('#' + key + ' button');\n",
              "      quickchartButtonEl.disabled = true;  // To prevent multiple clicks.\n",
              "      quickchartButtonEl.classList.add('colab-df-spinner');\n",
              "      try {\n",
              "        const charts = await google.colab.kernel.invokeFunction(\n",
              "            'suggestCharts', [key], {});\n",
              "      } catch (error) {\n",
              "        console.error('Error during call to suggestCharts:', error);\n",
              "      }\n",
              "      quickchartButtonEl.classList.remove('colab-df-spinner');\n",
              "      quickchartButtonEl.classList.add('colab-df-quickchart-complete');\n",
              "    }\n",
              "    (() => {\n",
              "      let quickchartButtonEl =\n",
              "        document.querySelector('#df-53a40cf9-d64a-4ee0-ad56-850460514879 button');\n",
              "      quickchartButtonEl.style.display =\n",
              "        google.colab.kernel.accessAllowed ? 'block' : 'none';\n",
              "    })();\n",
              "  </script>\n",
              "</div>\n",
              "    </div>\n",
              "  </div>\n"
            ]
          },
          "metadata": {},
          "execution_count": 14
        }
      ],
      "source": [
        "X_train['q1_cleaned'] = X_train['question1'].apply(clean_text)\n",
        "X_train['q2_cleaned'] = X_train['question2'].apply(clean_text)\n",
        "X_train.head(10)"
      ]
    },
    {
      "cell_type": "markdown",
      "metadata": {
        "id": "417941fe"
      },
      "source": [
        "### Question Length Analysis"
      ]
    },
    {
      "cell_type": "code",
      "execution_count": null,
      "metadata": {
        "colab": {
          "base_uri": "https://localhost:8080/",
          "height": 537
        },
        "id": "4687a084",
        "outputId": "007b754c-1191-4e12-e015-b7becf7a38a9",
        "scrolled": false
      },
      "outputs": [
        {
          "output_type": "execute_result",
          "data": {
            "text/plain": [
              "            id    qid1    qid2  \\\n",
              "217908  217908  184295   83786   \n",
              "103880  103880  171594  171595   \n",
              "252876  252876  158209  367298   \n",
              "166262  166262  258027  258028   \n",
              "146340  146340  231187  231188   \n",
              "332298  332298  432679   62027   \n",
              "217255  217255  323566  100138   \n",
              "309217  309217  433171  235300   \n",
              "185878  185878  214968  283666   \n",
              "140998  140998  223948  223949   \n",
              "\n",
              "                                                question1  \\\n",
              "217908  Where can I find the uncut, uncensored Fifty S...   \n",
              "103880  In the Quora iPhone app, is there a way to see...   \n",
              "252876  College Applications: What does it take to get...   \n",
              "166262    Which IIT is best for aeronautical engineering?   \n",
              "146340  What is the legality behind copying and pastin...   \n",
              "332298  What is the size of a profile photo on Instagram?   \n",
              "217255               What order should I watch DC movies?   \n",
              "309217  The U.S. Treasury Department mints a American ...   \n",
              "185878  Why do people keep their black money in Swiss ...   \n",
              "140998           Do Jews believe in the plagues of Egypt?   \n",
              "\n",
              "                                                question2  \\\n",
              "217908  What's the best way to see Fifty Shades of Gre...   \n",
              "103880  How can I filter my content to see which quest...   \n",
              "252876  How much score does it take in the SATs (SAT 2...   \n",
              "166262  How can progress a civildroftman to civilengin...   \n",
              "146340         Is it legal to copy news from other sites?   \n",
              "332298  How can I see a full-size profile picture of s...   \n",
              "217255  What is the order of the Alien movies? Should ...   \n",
              "309217  Why do US banks not accept coins, considering ...   \n",
              "185878    Why is black money kept in Swiss bank accounts?   \n",
              "140998     Do israeli jews believe in the messiah or not?   \n",
              "\n",
              "                                               q1_cleaned  \\\n",
              "217908  where can i find the uncut  uncensored fifty s...   \n",
              "103880  in the quora iphone app  is there a way to see...   \n",
              "252876  college applications  what does it take to get...   \n",
              "166262    which iit is best for aeronautical engineering?   \n",
              "146340  what is the legality behind copying and pastin...   \n",
              "332298  what is the size of a profile photo on instagram?   \n",
              "217255               what order should i watch dc movies?   \n",
              "309217  the u s  treasury department mints a american ...   \n",
              "185878  why do people keep their black money in swiss ...   \n",
              "140998           do jews believe in the plagues of egypt?   \n",
              "\n",
              "                                               q2_cleaned  q1_len  q2_len  \n",
              "217908  what s the best way to see fifty shades of gre...      13      13  \n",
              "103880  how can i filter my content to see which quest...      20      16  \n",
              "252876  how much score does it take in the sats  sat 2...      14      26  \n",
              "166262  how can progress a civildroftman to civilengin...       7       7  \n",
              "146340         is it legal to copy news from other sites?      18       9  \n",
              "332298  how can i see a full size profile picture of s...      10      13  \n",
              "217255  what is the order of the alien movies? should ...       7      18  \n",
              "309217  why do us banks not accept coins  considering ...      52      13  \n",
              "185878    why is black money kept in swiss bank accounts?      10       9  \n",
              "140998     do israeli jews believe in the messiah or not?       8       9  "
            ],
            "text/html": [
              "\n",
              "  <div id=\"df-9ff255ea-05c0-4743-90ed-8fc3520fa318\" class=\"colab-df-container\">\n",
              "    <div>\n",
              "<style scoped>\n",
              "    .dataframe tbody tr th:only-of-type {\n",
              "        vertical-align: middle;\n",
              "    }\n",
              "\n",
              "    .dataframe tbody tr th {\n",
              "        vertical-align: top;\n",
              "    }\n",
              "\n",
              "    .dataframe thead th {\n",
              "        text-align: right;\n",
              "    }\n",
              "</style>\n",
              "<table border=\"1\" class=\"dataframe\">\n",
              "  <thead>\n",
              "    <tr style=\"text-align: right;\">\n",
              "      <th></th>\n",
              "      <th>id</th>\n",
              "      <th>qid1</th>\n",
              "      <th>qid2</th>\n",
              "      <th>question1</th>\n",
              "      <th>question2</th>\n",
              "      <th>q1_cleaned</th>\n",
              "      <th>q2_cleaned</th>\n",
              "      <th>q1_len</th>\n",
              "      <th>q2_len</th>\n",
              "    </tr>\n",
              "  </thead>\n",
              "  <tbody>\n",
              "    <tr>\n",
              "      <th>217908</th>\n",
              "      <td>217908</td>\n",
              "      <td>184295</td>\n",
              "      <td>83786</td>\n",
              "      <td>Where can I find the uncut, uncensored Fifty S...</td>\n",
              "      <td>What's the best way to see Fifty Shades of Gre...</td>\n",
              "      <td>where can i find the uncut  uncensored fifty s...</td>\n",
              "      <td>what s the best way to see fifty shades of gre...</td>\n",
              "      <td>13</td>\n",
              "      <td>13</td>\n",
              "    </tr>\n",
              "    <tr>\n",
              "      <th>103880</th>\n",
              "      <td>103880</td>\n",
              "      <td>171594</td>\n",
              "      <td>171595</td>\n",
              "      <td>In the Quora iPhone app, is there a way to see...</td>\n",
              "      <td>How can I filter my content to see which quest...</td>\n",
              "      <td>in the quora iphone app  is there a way to see...</td>\n",
              "      <td>how can i filter my content to see which quest...</td>\n",
              "      <td>20</td>\n",
              "      <td>16</td>\n",
              "    </tr>\n",
              "    <tr>\n",
              "      <th>252876</th>\n",
              "      <td>252876</td>\n",
              "      <td>158209</td>\n",
              "      <td>367298</td>\n",
              "      <td>College Applications: What does it take to get...</td>\n",
              "      <td>How much score does it take in the SATs (SAT 2...</td>\n",
              "      <td>college applications  what does it take to get...</td>\n",
              "      <td>how much score does it take in the sats  sat 2...</td>\n",
              "      <td>14</td>\n",
              "      <td>26</td>\n",
              "    </tr>\n",
              "    <tr>\n",
              "      <th>166262</th>\n",
              "      <td>166262</td>\n",
              "      <td>258027</td>\n",
              "      <td>258028</td>\n",
              "      <td>Which IIT is best for aeronautical engineering?</td>\n",
              "      <td>How can progress a civildroftman to civilengin...</td>\n",
              "      <td>which iit is best for aeronautical engineering?</td>\n",
              "      <td>how can progress a civildroftman to civilengin...</td>\n",
              "      <td>7</td>\n",
              "      <td>7</td>\n",
              "    </tr>\n",
              "    <tr>\n",
              "      <th>146340</th>\n",
              "      <td>146340</td>\n",
              "      <td>231187</td>\n",
              "      <td>231188</td>\n",
              "      <td>What is the legality behind copying and pastin...</td>\n",
              "      <td>Is it legal to copy news from other sites?</td>\n",
              "      <td>what is the legality behind copying and pastin...</td>\n",
              "      <td>is it legal to copy news from other sites?</td>\n",
              "      <td>18</td>\n",
              "      <td>9</td>\n",
              "    </tr>\n",
              "    <tr>\n",
              "      <th>332298</th>\n",
              "      <td>332298</td>\n",
              "      <td>432679</td>\n",
              "      <td>62027</td>\n",
              "      <td>What is the size of a profile photo on Instagram?</td>\n",
              "      <td>How can I see a full-size profile picture of s...</td>\n",
              "      <td>what is the size of a profile photo on instagram?</td>\n",
              "      <td>how can i see a full size profile picture of s...</td>\n",
              "      <td>10</td>\n",
              "      <td>13</td>\n",
              "    </tr>\n",
              "    <tr>\n",
              "      <th>217255</th>\n",
              "      <td>217255</td>\n",
              "      <td>323566</td>\n",
              "      <td>100138</td>\n",
              "      <td>What order should I watch DC movies?</td>\n",
              "      <td>What is the order of the Alien movies? Should ...</td>\n",
              "      <td>what order should i watch dc movies?</td>\n",
              "      <td>what is the order of the alien movies? should ...</td>\n",
              "      <td>7</td>\n",
              "      <td>18</td>\n",
              "    </tr>\n",
              "    <tr>\n",
              "      <th>309217</th>\n",
              "      <td>309217</td>\n",
              "      <td>433171</td>\n",
              "      <td>235300</td>\n",
              "      <td>The U.S. Treasury Department mints a American ...</td>\n",
              "      <td>Why do US banks not accept coins, considering ...</td>\n",
              "      <td>the u s  treasury department mints a american ...</td>\n",
              "      <td>why do us banks not accept coins  considering ...</td>\n",
              "      <td>52</td>\n",
              "      <td>13</td>\n",
              "    </tr>\n",
              "    <tr>\n",
              "      <th>185878</th>\n",
              "      <td>185878</td>\n",
              "      <td>214968</td>\n",
              "      <td>283666</td>\n",
              "      <td>Why do people keep their black money in Swiss ...</td>\n",
              "      <td>Why is black money kept in Swiss bank accounts?</td>\n",
              "      <td>why do people keep their black money in swiss ...</td>\n",
              "      <td>why is black money kept in swiss bank accounts?</td>\n",
              "      <td>10</td>\n",
              "      <td>9</td>\n",
              "    </tr>\n",
              "    <tr>\n",
              "      <th>140998</th>\n",
              "      <td>140998</td>\n",
              "      <td>223948</td>\n",
              "      <td>223949</td>\n",
              "      <td>Do Jews believe in the plagues of Egypt?</td>\n",
              "      <td>Do israeli jews believe in the messiah or not?</td>\n",
              "      <td>do jews believe in the plagues of egypt?</td>\n",
              "      <td>do israeli jews believe in the messiah or not?</td>\n",
              "      <td>8</td>\n",
              "      <td>9</td>\n",
              "    </tr>\n",
              "  </tbody>\n",
              "</table>\n",
              "</div>\n",
              "    <div class=\"colab-df-buttons\">\n",
              "\n",
              "  <div class=\"colab-df-container\">\n",
              "    <button class=\"colab-df-convert\" onclick=\"convertToInteractive('df-9ff255ea-05c0-4743-90ed-8fc3520fa318')\"\n",
              "            title=\"Convert this dataframe to an interactive table.\"\n",
              "            style=\"display:none;\">\n",
              "\n",
              "  <svg xmlns=\"http://www.w3.org/2000/svg\" height=\"24px\" viewBox=\"0 -960 960 960\">\n",
              "    <path d=\"M120-120v-720h720v720H120Zm60-500h600v-160H180v160Zm220 220h160v-160H400v160Zm0 220h160v-160H400v160ZM180-400h160v-160H180v160Zm440 0h160v-160H620v160ZM180-180h160v-160H180v160Zm440 0h160v-160H620v160Z\"/>\n",
              "  </svg>\n",
              "    </button>\n",
              "\n",
              "  <style>\n",
              "    .colab-df-container {\n",
              "      display:flex;\n",
              "      gap: 12px;\n",
              "    }\n",
              "\n",
              "    .colab-df-convert {\n",
              "      background-color: #E8F0FE;\n",
              "      border: none;\n",
              "      border-radius: 50%;\n",
              "      cursor: pointer;\n",
              "      display: none;\n",
              "      fill: #1967D2;\n",
              "      height: 32px;\n",
              "      padding: 0 0 0 0;\n",
              "      width: 32px;\n",
              "    }\n",
              "\n",
              "    .colab-df-convert:hover {\n",
              "      background-color: #E2EBFA;\n",
              "      box-shadow: 0px 1px 2px rgba(60, 64, 67, 0.3), 0px 1px 3px 1px rgba(60, 64, 67, 0.15);\n",
              "      fill: #174EA6;\n",
              "    }\n",
              "\n",
              "    .colab-df-buttons div {\n",
              "      margin-bottom: 4px;\n",
              "    }\n",
              "\n",
              "    [theme=dark] .colab-df-convert {\n",
              "      background-color: #3B4455;\n",
              "      fill: #D2E3FC;\n",
              "    }\n",
              "\n",
              "    [theme=dark] .colab-df-convert:hover {\n",
              "      background-color: #434B5C;\n",
              "      box-shadow: 0px 1px 3px 1px rgba(0, 0, 0, 0.15);\n",
              "      filter: drop-shadow(0px 1px 2px rgba(0, 0, 0, 0.3));\n",
              "      fill: #FFFFFF;\n",
              "    }\n",
              "  </style>\n",
              "\n",
              "    <script>\n",
              "      const buttonEl =\n",
              "        document.querySelector('#df-9ff255ea-05c0-4743-90ed-8fc3520fa318 button.colab-df-convert');\n",
              "      buttonEl.style.display =\n",
              "        google.colab.kernel.accessAllowed ? 'block' : 'none';\n",
              "\n",
              "      async function convertToInteractive(key) {\n",
              "        const element = document.querySelector('#df-9ff255ea-05c0-4743-90ed-8fc3520fa318');\n",
              "        const dataTable =\n",
              "          await google.colab.kernel.invokeFunction('convertToInteractive',\n",
              "                                                    [key], {});\n",
              "        if (!dataTable) return;\n",
              "\n",
              "        const docLinkHtml = 'Like what you see? Visit the ' +\n",
              "          '<a target=\"_blank\" href=https://colab.research.google.com/notebooks/data_table.ipynb>data table notebook</a>'\n",
              "          + ' to learn more about interactive tables.';\n",
              "        element.innerHTML = '';\n",
              "        dataTable['output_type'] = 'display_data';\n",
              "        await google.colab.output.renderOutput(dataTable, element);\n",
              "        const docLink = document.createElement('div');\n",
              "        docLink.innerHTML = docLinkHtml;\n",
              "        element.appendChild(docLink);\n",
              "      }\n",
              "    </script>\n",
              "  </div>\n",
              "\n",
              "\n",
              "<div id=\"df-74a15517-2a71-4788-a8c2-b556b2267803\">\n",
              "  <button class=\"colab-df-quickchart\" onclick=\"quickchart('df-74a15517-2a71-4788-a8c2-b556b2267803')\"\n",
              "            title=\"Suggest charts.\"\n",
              "            style=\"display:none;\">\n",
              "\n",
              "<svg xmlns=\"http://www.w3.org/2000/svg\" height=\"24px\"viewBox=\"0 0 24 24\"\n",
              "     width=\"24px\">\n",
              "    <g>\n",
              "        <path d=\"M19 3H5c-1.1 0-2 .9-2 2v14c0 1.1.9 2 2 2h14c1.1 0 2-.9 2-2V5c0-1.1-.9-2-2-2zM9 17H7v-7h2v7zm4 0h-2V7h2v10zm4 0h-2v-4h2v4z\"/>\n",
              "    </g>\n",
              "</svg>\n",
              "  </button>\n",
              "\n",
              "<style>\n",
              "  .colab-df-quickchart {\n",
              "      --bg-color: #E8F0FE;\n",
              "      --fill-color: #1967D2;\n",
              "      --hover-bg-color: #E2EBFA;\n",
              "      --hover-fill-color: #174EA6;\n",
              "      --disabled-fill-color: #AAA;\n",
              "      --disabled-bg-color: #DDD;\n",
              "  }\n",
              "\n",
              "  [theme=dark] .colab-df-quickchart {\n",
              "      --bg-color: #3B4455;\n",
              "      --fill-color: #D2E3FC;\n",
              "      --hover-bg-color: #434B5C;\n",
              "      --hover-fill-color: #FFFFFF;\n",
              "      --disabled-bg-color: #3B4455;\n",
              "      --disabled-fill-color: #666;\n",
              "  }\n",
              "\n",
              "  .colab-df-quickchart {\n",
              "    background-color: var(--bg-color);\n",
              "    border: none;\n",
              "    border-radius: 50%;\n",
              "    cursor: pointer;\n",
              "    display: none;\n",
              "    fill: var(--fill-color);\n",
              "    height: 32px;\n",
              "    padding: 0;\n",
              "    width: 32px;\n",
              "  }\n",
              "\n",
              "  .colab-df-quickchart:hover {\n",
              "    background-color: var(--hover-bg-color);\n",
              "    box-shadow: 0 1px 2px rgba(60, 64, 67, 0.3), 0 1px 3px 1px rgba(60, 64, 67, 0.15);\n",
              "    fill: var(--button-hover-fill-color);\n",
              "  }\n",
              "\n",
              "  .colab-df-quickchart-complete:disabled,\n",
              "  .colab-df-quickchart-complete:disabled:hover {\n",
              "    background-color: var(--disabled-bg-color);\n",
              "    fill: var(--disabled-fill-color);\n",
              "    box-shadow: none;\n",
              "  }\n",
              "\n",
              "  .colab-df-spinner {\n",
              "    border: 2px solid var(--fill-color);\n",
              "    border-color: transparent;\n",
              "    border-bottom-color: var(--fill-color);\n",
              "    animation:\n",
              "      spin 1s steps(1) infinite;\n",
              "  }\n",
              "\n",
              "  @keyframes spin {\n",
              "    0% {\n",
              "      border-color: transparent;\n",
              "      border-bottom-color: var(--fill-color);\n",
              "      border-left-color: var(--fill-color);\n",
              "    }\n",
              "    20% {\n",
              "      border-color: transparent;\n",
              "      border-left-color: var(--fill-color);\n",
              "      border-top-color: var(--fill-color);\n",
              "    }\n",
              "    30% {\n",
              "      border-color: transparent;\n",
              "      border-left-color: var(--fill-color);\n",
              "      border-top-color: var(--fill-color);\n",
              "      border-right-color: var(--fill-color);\n",
              "    }\n",
              "    40% {\n",
              "      border-color: transparent;\n",
              "      border-right-color: var(--fill-color);\n",
              "      border-top-color: var(--fill-color);\n",
              "    }\n",
              "    60% {\n",
              "      border-color: transparent;\n",
              "      border-right-color: var(--fill-color);\n",
              "    }\n",
              "    80% {\n",
              "      border-color: transparent;\n",
              "      border-right-color: var(--fill-color);\n",
              "      border-bottom-color: var(--fill-color);\n",
              "    }\n",
              "    90% {\n",
              "      border-color: transparent;\n",
              "      border-bottom-color: var(--fill-color);\n",
              "    }\n",
              "  }\n",
              "</style>\n",
              "\n",
              "  <script>\n",
              "    async function quickchart(key) {\n",
              "      const quickchartButtonEl =\n",
              "        document.querySelector('#' + key + ' button');\n",
              "      quickchartButtonEl.disabled = true;  // To prevent multiple clicks.\n",
              "      quickchartButtonEl.classList.add('colab-df-spinner');\n",
              "      try {\n",
              "        const charts = await google.colab.kernel.invokeFunction(\n",
              "            'suggestCharts', [key], {});\n",
              "      } catch (error) {\n",
              "        console.error('Error during call to suggestCharts:', error);\n",
              "      }\n",
              "      quickchartButtonEl.classList.remove('colab-df-spinner');\n",
              "      quickchartButtonEl.classList.add('colab-df-quickchart-complete');\n",
              "    }\n",
              "    (() => {\n",
              "      let quickchartButtonEl =\n",
              "        document.querySelector('#df-74a15517-2a71-4788-a8c2-b556b2267803 button');\n",
              "      quickchartButtonEl.style.display =\n",
              "        google.colab.kernel.accessAllowed ? 'block' : 'none';\n",
              "    })();\n",
              "  </script>\n",
              "</div>\n",
              "    </div>\n",
              "  </div>\n"
            ]
          },
          "metadata": {},
          "execution_count": 15
        }
      ],
      "source": [
        "# find word counts of questions\n",
        "X_train['q1_len'] = X_train['q1_cleaned'].apply(lambda x: len(str(x).split()))\n",
        "X_train['q2_len'] = X_train['q2_cleaned'].apply(lambda x: len(str(x).split()))\n",
        "X_train.head(10)"
      ]
    },
    {
      "cell_type": "code",
      "execution_count": null,
      "metadata": {
        "colab": {
          "base_uri": "https://localhost:8080/"
        },
        "id": "64fc9cdf",
        "outputId": "0968dd45-64da-4115-eedc-2fa8753b67d9"
      },
      "outputs": [
        {
          "output_type": "execute_result",
          "data": {
            "text/plain": [
              "count    258743.000000\n",
              "mean         11.155359\n",
              "std           5.595920\n",
              "min           0.000000\n",
              "25%           7.000000\n",
              "50%          10.000000\n",
              "75%          13.000000\n",
              "max         128.000000\n",
              "Name: q1_len, dtype: float64"
            ]
          },
          "metadata": {},
          "execution_count": 16
        }
      ],
      "source": [
        "X_train['q1_len'].describe()"
      ]
    },
    {
      "cell_type": "code",
      "execution_count": null,
      "metadata": {
        "colab": {
          "base_uri": "https://localhost:8080/"
        },
        "id": "b7cb58cb",
        "outputId": "11d06740-ef67-4208-ffc5-01b1d264901b"
      },
      "outputs": [
        {
          "output_type": "execute_result",
          "data": {
            "text/plain": [
              "count    258743.000000\n",
              "mean         11.378329\n",
              "std           6.421293\n",
              "min           0.000000\n",
              "25%           7.000000\n",
              "50%          10.000000\n",
              "75%          13.000000\n",
              "max         248.000000\n",
              "Name: q2_len, dtype: float64"
            ]
          },
          "metadata": {},
          "execution_count": 17
        }
      ],
      "source": [
        "X_train['q2_len'].describe()"
      ]
    },
    {
      "cell_type": "code",
      "execution_count": null,
      "metadata": {
        "colab": {
          "base_uri": "https://localhost:8080/",
          "height": 564
        },
        "id": "f29c6c56",
        "outputId": "82ae5cd7-eb57-4996-c73a-fbdc2c79977a",
        "scrolled": false
      },
      "outputs": [
        {
          "output_type": "display_data",
          "data": {
            "text/plain": [
              "<Figure size 1000x600 with 1 Axes>"
            ],
            "image/png": "[encoded data removed]"
          },
          "metadata": {}
        }
      ],
      "source": [
        "plt.figure(figsize=(10, 6))\n",
        "sns.boxplot(data=X_train[['q1_len', 'q2_len']], orient='h')\n",
        "plt.title('Box Plot of Question Lengths')\n",
        "plt.xlabel('Questions')\n",
        "plt.ylabel('Length')\n",
        "plt.show()"
      ]
    },
    {
      "cell_type": "code",
      "execution_count": null,
      "metadata": {
        "colab": {
          "base_uri": "https://localhost:8080/",
          "height": 487
        },
        "id": "607e8f4b",
        "outputId": "858ed63e-e448-4ebb-dda2-69f99a7615d6",
        "scrolled": false
      },
      "outputs": [
        {
          "output_type": "display_data",
          "data": {
            "text/plain": [
              "<Figure size 1000x500 with 1 Axes>"
            ],
            "image/png": "[encoded data removed]"
          },
          "metadata": {}
        }
      ],
      "source": [
        "plt.figure(figsize=(10, 5))\n",
        "plt.hist([X_train['q1_len'], X_train['q2_len']], bins=100, label=['Question 1', 'Question 2'], range=(0, 250))\n",
        "plt.title('Histogram of Question Lengths')\n",
        "plt.xlabel('Length')\n",
        "plt.ylabel('Frequency')\n",
        "plt.legend()\n",
        "plt.show()"
      ]
    },
    {
      "cell_type": "markdown",
      "metadata": {
        "id": "56ae0374"
      },
      "source": [
        "#### Determining Ideal Sequence Length"
      ]
    },
    {
      "cell_type": "code",
      "execution_count": null,
      "metadata": {
        "colab": {
          "base_uri": "https://localhost:8080/"
        },
        "id": "4ab84832",
        "outputId": "a624288c-52e1-4cf8-a7fe-c45037c6d1c7"
      },
      "outputs": [
        {
          "output_type": "stream",
          "name": "stdout",
          "text": [
            "question 1 length outlier: 22.0\n",
            "question 2 length outlier: 22.0\n"
          ]
        }
      ],
      "source": [
        "q1_len = X_train['q1_len']\n",
        "q2_len = X_train['q2_len']\n",
        "\n",
        "q1_iqr = q1_len.quantile(0.75) - q1_len.quantile(0.25)\n",
        "q1_outlier = q1_len.quantile(0.75) + 1.5 * q1_iqr\n",
        "\n",
        "q2_iqr = q2_len.quantile(0.75) - q2_len.quantile(0.25)\n",
        "q2_outlier = q2_len.quantile(0.75) + 1.5 * q2_iqr\n",
        "print(f\"question 1 length outlier: {q1_outlier}\")\n",
        "print(f\"question 2 length outlier: {q2_outlier}\")"
      ]
    },
    {
      "cell_type": "markdown",
      "metadata": {
        "id": "9e3adf6e"
      },
      "source": [
        "Both questions lengths are such that the outlier value (according to the $1.5 \\cdot IQR$ rule) is 22 words.\n",
        "\n",
        "We will choose a sequnce length of 60 to be safe."
      ]
    },
    {
      "cell_type": "markdown",
      "metadata": {
        "id": "6aad2328"
      },
      "source": [
        "## BERT"
      ]
    },
    {
      "cell_type": "code",
      "source": [
        "MAX_SEQUENCE_LENGTH = 60\n",
        "\n",
        "class BertUtilities:\n",
        "    def __init__(self, model_name='bert-base-uncased', trainable=False):\n",
        "        self.tokenizer = BertTokenizer.from_pretrained(model_name)\n",
        "        self.bert = BertModel.from_pretrained(model_name, output_hidden_states=True)\n",
        "\n",
        "        if not trainable:\n",
        "            for param in self.bert.parameters():\n",
        "                param.requires_grad = False\n",
        "\n",
        "    def encode_question(self, question):\n",
        "        tokenizer_output = self.tokenizer(question, return_tensors=\"pt\", add_special_tokens=True, max_length=MAX_SEQUENCE_LENGTH, padding='max_length', truncation=True, return_attention_mask=True)\n",
        "        return {\n",
        "            'input_ids': tokenizer_output['input_ids'],\n",
        "            'attention_mask': tokenizer_output['attention_mask']\n",
        "        }\n",
        "\n",
        "    def __call__(self, input_ids, attention_mask):\n",
        "        with torch.no_grad():\n",
        "            outputs = self.bert(input_ids, attention_mask=attention_mask)\n",
        "        embeddings = outputs.last_hidden_state\n",
        "        return embeddings"
      ],
      "metadata": {
        "id": "POcqdIpzL-hP"
      },
      "execution_count": null,
      "outputs": []
    },
    {
      "cell_type": "code",
      "source": [
        "bert = BertUtilities()"
      ],
      "metadata": {
        "id": "TE9GJeXhaNca"
      },
      "execution_count": null,
      "outputs": []
    },
    {
      "cell_type": "code",
      "source": [
        "# run this\n",
        "X_train[['q1_input_ids', 'q1_attention_masks']] = X_train['q1_cleaned'].apply(lambda q: pd.Series(bert.encode_question(q)))\n",
        "X_train[['q2_input_ids', 'q2_attention_masks']] = X_train['q2_cleaned'].apply(lambda q: pd.Series(bert.encode_question(q)))"
      ],
      "metadata": {
        "id": "rIPFA1bKjxZJ"
      },
      "execution_count": null,
      "outputs": []
    },
    {
      "cell_type": "markdown",
      "source": [
        "demo code"
      ],
      "metadata": {
        "id": "gbZhEVDpmoUm"
      }
    },
    {
      "cell_type": "code",
      "source": [
        "x = bert.encode_question(X_train.iloc[:5]['q1_cleaned'].tolist())"
      ],
      "metadata": {
        "id": "uIeuVs4qeHNN"
      },
      "execution_count": null,
      "outputs": []
    },
    {
      "cell_type": "code",
      "source": [
        "y = X_train.iloc[:5]['q1_cleaned'].apply(lambda x: bert.encode_question(x)['input_ids'])"
      ],
      "metadata": {
        "id": "efMYWsdQfoRE"
      },
      "execution_count": null,
      "outputs": []
    },
    {
      "cell_type": "code",
      "source": [
        "x = X_train.iloc[:1]['q1_cleaned'].apply(bert)"
      ],
      "metadata": {
        "id": "8yfYPw3qdekk"
      },
      "execution_count": null,
      "outputs": []
    },
    {
      "cell_type": "code",
      "source": [
        "xdd = pd.DataFrame()\n",
        "xdd"
      ],
      "metadata": {
        "colab": {
          "base_uri": "https://localhost:8080/",
          "height": 53
        },
        "id": "m4yE062ckYm0",
        "outputId": "22f965cf-e800-420f-a050-80f35bae5afd"
      },
      "execution_count": null,
      "outputs": [
        {
          "output_type": "execute_result",
          "data": {
            "text/plain": [
              "Empty DataFrame\n",
              "Columns: []\n",
              "Index: []"
            ],
            "text/html": [
              "\n",
              "  <div id=\"df-b66aa890-028c-44f1-840b-1d3996b597dc\" class=\"colab-df-container\">\n",
              "    <div>\n",
              "<style scoped>\n",
              "    .dataframe tbody tr th:only-of-type {\n",
              "        vertical-align: middle;\n",
              "    }\n",
              "\n",
              "    .dataframe tbody tr th {\n",
              "        vertical-align: top;\n",
              "    }\n",
              "\n",
              "    .dataframe thead th {\n",
              "        text-align: right;\n",
              "    }\n",
              "</style>\n",
              "<table border=\"1\" class=\"dataframe\">\n",
              "  <thead>\n",
              "    <tr style=\"text-align: right;\">\n",
              "      <th></th>\n",
              "    </tr>\n",
              "  </thead>\n",
              "  <tbody>\n",
              "  </tbody>\n",
              "</table>\n",
              "</div>\n",
              "    <div class=\"colab-df-buttons\">\n",
              "\n",
              "  <div class=\"colab-df-container\">\n",
              "    <button class=\"colab-df-convert\" onclick=\"convertToInteractive('df-b66aa890-028c-44f1-840b-1d3996b597dc')\"\n",
              "            title=\"Convert this dataframe to an interactive table.\"\n",
              "            style=\"display:none;\">\n",
              "\n",
              "  <svg xmlns=\"http://www.w3.org/2000/svg\" height=\"24px\" viewBox=\"0 -960 960 960\">\n",
              "    <path d=\"M120-120v-720h720v720H120Zm60-500h600v-160H180v160Zm220 220h160v-160H400v160Zm0 220h160v-160H400v160ZM180-400h160v-160H180v160Zm440 0h160v-160H620v160ZM180-180h160v-160H180v160Zm440 0h160v-160H620v160Z\"/>\n",
              "  </svg>\n",
              "    </button>\n",
              "\n",
              "  <style>\n",
              "    .colab-df-container {\n",
              "      display:flex;\n",
              "      gap: 12px;\n",
              "    }\n",
              "\n",
              "    .colab-df-convert {\n",
              "      background-color: #E8F0FE;\n",
              "      border: none;\n",
              "      border-radius: 50%;\n",
              "      cursor: pointer;\n",
              "      display: none;\n",
              "      fill: #1967D2;\n",
              "      height: 32px;\n",
              "      padding: 0 0 0 0;\n",
              "      width: 32px;\n",
              "    }\n",
              "\n",
              "    .colab-df-convert:hover {\n",
              "      background-color: #E2EBFA;\n",
              "      box-shadow: 0px 1px 2px rgba(60, 64, 67, 0.3), 0px 1px 3px 1px rgba(60, 64, 67, 0.15);\n",
              "      fill: #174EA6;\n",
              "    }\n",
              "\n",
              "    .colab-df-buttons div {\n",
              "      margin-bottom: 4px;\n",
              "    }\n",
              "\n",
              "    [theme=dark] .colab-df-convert {\n",
              "      background-color: #3B4455;\n",
              "      fill: #D2E3FC;\n",
              "    }\n",
              "\n",
              "    [theme=dark] .colab-df-convert:hover {\n",
              "      background-color: #434B5C;\n",
              "      box-shadow: 0px 1px 3px 1px rgba(0, 0, 0, 0.15);\n",
              "      filter: drop-shadow(0px 1px 2px rgba(0, 0, 0, 0.3));\n",
              "      fill: #FFFFFF;\n",
              "    }\n",
              "  </style>\n",
              "\n",
              "    <script>\n",
              "      const buttonEl =\n",
              "        document.querySelector('#df-b66aa890-028c-44f1-840b-1d3996b597dc button.colab-df-convert');\n",
              "      buttonEl.style.display =\n",
              "        google.colab.kernel.accessAllowed ? 'block' : 'none';\n",
              "\n",
              "      async function convertToInteractive(key) {\n",
              "        const element = document.querySelector('#df-b66aa890-028c-44f1-840b-1d3996b597dc');\n",
              "        const dataTable =\n",
              "          await google.colab.kernel.invokeFunction('convertToInteractive',\n",
              "                                                    [key], {});\n",
              "        if (!dataTable) return;\n",
              "\n",
              "        const docLinkHtml = 'Like what you see? Visit the ' +\n",
              "          '<a target=\"_blank\" href=https://colab.research.google.com/notebooks/data_table.ipynb>data table notebook</a>'\n",
              "          + ' to learn more about interactive tables.';\n",
              "        element.innerHTML = '';\n",
              "        dataTable['output_type'] = 'display_data';\n",
              "        await google.colab.output.renderOutput(dataTable, element);\n",
              "        const docLink = document.createElement('div');\n",
              "        docLink.innerHTML = docLinkHtml;\n",
              "        element.appendChild(docLink);\n",
              "      }\n",
              "    </script>\n",
              "  </div>\n",
              "\n",
              "    </div>\n",
              "  </div>\n"
            ]
          },
          "metadata": {},
          "execution_count": 142
        }
      ]
    },
    {
      "cell_type": "code",
      "source": [
        "xdd[['a', 'b']] = X_train.iloc[:5]['q1_cleaned'].apply(lambda q: pd.Series(bert.encode_question(q)))"
      ],
      "metadata": {
        "id": "uwU_bVbWkegj"
      },
      "execution_count": null,
      "outputs": []
    },
    {
      "cell_type": "code",
      "source": [
        "xdd"
      ],
      "metadata": {
        "colab": {
          "base_uri": "https://localhost:8080/",
          "height": 206
        },
        "id": "zSIjQCEUk0mC",
        "outputId": "c4896369-3821-472c-948b-4b073c5fc268"
      },
      "execution_count": null,
      "outputs": [
        {
          "output_type": "execute_result",
          "data": {
            "text/plain": [
              "                                                        a  \\\n",
              "217908  [[tensor(101), tensor(2073), tensor(2064), ten...   \n",
              "103880  [[tensor(101), tensor(1999), tensor(1996), ten...   \n",
              "252876  [[tensor(101), tensor(2267), tensor(5097), ten...   \n",
              "166262  [[tensor(101), tensor(2029), tensor(2462), ten...   \n",
              "146340  [[tensor(101), tensor(2054), tensor(2003), ten...   \n",
              "\n",
              "                                                        b  \n",
              "217908  [[tensor(1), tensor(1), tensor(1), tensor(1), ...  \n",
              "103880  [[tensor(1), tensor(1), tensor(1), tensor(1), ...  \n",
              "252876  [[tensor(1), tensor(1), tensor(1), tensor(1), ...  \n",
              "166262  [[tensor(1), tensor(1), tensor(1), tensor(1), ...  \n",
              "146340  [[tensor(1), tensor(1), tensor(1), tensor(1), ...  "
            ],
            "text/html": [
              "\n",
              "  <div id=\"df-0f721db5-4848-4955-9c8a-a9c77c808ccb\" class=\"colab-df-container\">\n",
              "    <div>\n",
              "<style scoped>\n",
              "    .dataframe tbody tr th:only-of-type {\n",
              "        vertical-align: middle;\n",
              "    }\n",
              "\n",
              "    .dataframe tbody tr th {\n",
              "        vertical-align: top;\n",
              "    }\n",
              "\n",
              "    .dataframe thead th {\n",
              "        text-align: right;\n",
              "    }\n",
              "</style>\n",
              "<table border=\"1\" class=\"dataframe\">\n",
              "  <thead>\n",
              "    <tr style=\"text-align: right;\">\n",
              "      <th></th>\n",
              "      <th>a</th>\n",
              "      <th>b</th>\n",
              "    </tr>\n",
              "  </thead>\n",
              "  <tbody>\n",
              "    <tr>\n",
              "      <th>217908</th>\n",
              "      <td>[[tensor(101), tensor(2073), tensor(2064), ten...</td>\n",
              "      <td>[[tensor(1), tensor(1), tensor(1), tensor(1), ...</td>\n",
              "    </tr>\n",
              "    <tr>\n",
              "      <th>103880</th>\n",
              "      <td>[[tensor(101), tensor(1999), tensor(1996), ten...</td>\n",
              "      <td>[[tensor(1), tensor(1), tensor(1), tensor(1), ...</td>\n",
              "    </tr>\n",
              "    <tr>\n",
              "      <th>252876</th>\n",
              "      <td>[[tensor(101), tensor(2267), tensor(5097), ten...</td>\n",
              "      <td>[[tensor(1), tensor(1), tensor(1), tensor(1), ...</td>\n",
              "    </tr>\n",
              "    <tr>\n",
              "      <th>166262</th>\n",
              "      <td>[[tensor(101), tensor(2029), tensor(2462), ten...</td>\n",
              "      <td>[[tensor(1), tensor(1), tensor(1), tensor(1), ...</td>\n",
              "    </tr>\n",
              "    <tr>\n",
              "      <th>146340</th>\n",
              "      <td>[[tensor(101), tensor(2054), tensor(2003), ten...</td>\n",
              "      <td>[[tensor(1), tensor(1), tensor(1), tensor(1), ...</td>\n",
              "    </tr>\n",
              "  </tbody>\n",
              "</table>\n",
              "</div>\n",
              "    <div class=\"colab-df-buttons\">\n",
              "\n",
              "  <div class=\"colab-df-container\">\n",
              "    <button class=\"colab-df-convert\" onclick=\"convertToInteractive('df-0f721db5-4848-4955-9c8a-a9c77c808ccb')\"\n",
              "            title=\"Convert this dataframe to an interactive table.\"\n",
              "            style=\"display:none;\">\n",
              "\n",
              "  <svg xmlns=\"http://www.w3.org/2000/svg\" height=\"24px\" viewBox=\"0 -960 960 960\">\n",
              "    <path d=\"M120-120v-720h720v720H120Zm60-500h600v-160H180v160Zm220 220h160v-160H400v160Zm0 220h160v-160H400v160ZM180-400h160v-160H180v160Zm440 0h160v-160H620v160ZM180-180h160v-160H180v160Zm440 0h160v-160H620v160Z\"/>\n",
              "  </svg>\n",
              "    </button>\n",
              "\n",
              "  <style>\n",
              "    .colab-df-container {\n",
              "      display:flex;\n",
              "      gap: 12px;\n",
              "    }\n",
              "\n",
              "    .colab-df-convert {\n",
              "      background-color: #E8F0FE;\n",
              "      border: none;\n",
              "      border-radius: 50%;\n",
              "      cursor: pointer;\n",
              "      display: none;\n",
              "      fill: #1967D2;\n",
              "      height: 32px;\n",
              "      padding: 0 0 0 0;\n",
              "      width: 32px;\n",
              "    }\n",
              "\n",
              "    .colab-df-convert:hover {\n",
              "      background-color: #E2EBFA;\n",
              "      box-shadow: 0px 1px 2px rgba(60, 64, 67, 0.3), 0px 1px 3px 1px rgba(60, 64, 67, 0.15);\n",
              "      fill: #174EA6;\n",
              "    }\n",
              "\n",
              "    .colab-df-buttons div {\n",
              "      margin-bottom: 4px;\n",
              "    }\n",
              "\n",
              "    [theme=dark] .colab-df-convert {\n",
              "      background-color: #3B4455;\n",
              "      fill: #D2E3FC;\n",
              "    }\n",
              "\n",
              "    [theme=dark] .colab-df-convert:hover {\n",
              "      background-color: #434B5C;\n",
              "      box-shadow: 0px 1px 3px 1px rgba(0, 0, 0, 0.15);\n",
              "      filter: drop-shadow(0px 1px 2px rgba(0, 0, 0, 0.3));\n",
              "      fill: #FFFFFF;\n",
              "    }\n",
              "  </style>\n",
              "\n",
              "    <script>\n",
              "      const buttonEl =\n",
              "        document.querySelector('#df-0f721db5-4848-4955-9c8a-a9c77c808ccb button.colab-df-convert');\n",
              "      buttonEl.style.display =\n",
              "        google.colab.kernel.accessAllowed ? 'block' : 'none';\n",
              "\n",
              "      async function convertToInteractive(key) {\n",
              "        const element = document.querySelector('#df-0f721db5-4848-4955-9c8a-a9c77c808ccb');\n",
              "        const dataTable =\n",
              "          await google.colab.kernel.invokeFunction('convertToInteractive',\n",
              "                                                    [key], {});\n",
              "        if (!dataTable) return;\n",
              "\n",
              "        const docLinkHtml = 'Like what you see? Visit the ' +\n",
              "          '<a target=\"_blank\" href=https://colab.research.google.com/notebooks/data_table.ipynb>data table notebook</a>'\n",
              "          + ' to learn more about interactive tables.';\n",
              "        element.innerHTML = '';\n",
              "        dataTable['output_type'] = 'display_data';\n",
              "        await google.colab.output.renderOutput(dataTable, element);\n",
              "        const docLink = document.createElement('div');\n",
              "        docLink.innerHTML = docLinkHtml;\n",
              "        element.appendChild(docLink);\n",
              "      }\n",
              "    </script>\n",
              "  </div>\n",
              "\n",
              "\n",
              "<div id=\"df-7a3c0c4c-2354-4b8e-9f8b-ae264c628b1a\">\n",
              "  <button class=\"colab-df-quickchart\" onclick=\"quickchart('df-7a3c0c4c-2354-4b8e-9f8b-ae264c628b1a')\"\n",
              "            title=\"Suggest charts.\"\n",
              "            style=\"display:none;\">\n",
              "\n",
              "<svg xmlns=\"http://www.w3.org/2000/svg\" height=\"24px\"viewBox=\"0 0 24 24\"\n",
              "     width=\"24px\">\n",
              "    <g>\n",
              "        <path d=\"M19 3H5c-1.1 0-2 .9-2 2v14c0 1.1.9 2 2 2h14c1.1 0 2-.9 2-2V5c0-1.1-.9-2-2-2zM9 17H7v-7h2v7zm4 0h-2V7h2v10zm4 0h-2v-4h2v4z\"/>\n",
              "    </g>\n",
              "</svg>\n",
              "  </button>\n",
              "\n",
              "<style>\n",
              "  .colab-df-quickchart {\n",
              "      --bg-color: #E8F0FE;\n",
              "      --fill-color: #1967D2;\n",
              "      --hover-bg-color: #E2EBFA;\n",
              "      --hover-fill-color: #174EA6;\n",
              "      --disabled-fill-color: #AAA;\n",
              "      --disabled-bg-color: #DDD;\n",
              "  }\n",
              "\n",
              "  [theme=dark] .colab-df-quickchart {\n",
              "      --bg-color: #3B4455;\n",
              "      --fill-color: #D2E3FC;\n",
              "      --hover-bg-color: #434B5C;\n",
              "      --hover-fill-color: #FFFFFF;\n",
              "      --disabled-bg-color: #3B4455;\n",
              "      --disabled-fill-color: #666;\n",
              "  }\n",
              "\n",
              "  .colab-df-quickchart {\n",
              "    background-color: var(--bg-color);\n",
              "    border: none;\n",
              "    border-radius: 50%;\n",
              "    cursor: pointer;\n",
              "    display: none;\n",
              "    fill: var(--fill-color);\n",
              "    height: 32px;\n",
              "    padding: 0;\n",
              "    width: 32px;\n",
              "  }\n",
              "\n",
              "  .colab-df-quickchart:hover {\n",
              "    background-color: var(--hover-bg-color);\n",
              "    box-shadow: 0 1px 2px rgba(60, 64, 67, 0.3), 0 1px 3px 1px rgba(60, 64, 67, 0.15);\n",
              "    fill: var(--button-hover-fill-color);\n",
              "  }\n",
              "\n",
              "  .colab-df-quickchart-complete:disabled,\n",
              "  .colab-df-quickchart-complete:disabled:hover {\n",
              "    background-color: var(--disabled-bg-color);\n",
              "    fill: var(--disabled-fill-color);\n",
              "    box-shadow: none;\n",
              "  }\n",
              "\n",
              "  .colab-df-spinner {\n",
              "    border: 2px solid var(--fill-color);\n",
              "    border-color: transparent;\n",
              "    border-bottom-color: var(--fill-color);\n",
              "    animation:\n",
              "      spin 1s steps(1) infinite;\n",
              "  }\n",
              "\n",
              "  @keyframes spin {\n",
              "    0% {\n",
              "      border-color: transparent;\n",
              "      border-bottom-color: var(--fill-color);\n",
              "      border-left-color: var(--fill-color);\n",
              "    }\n",
              "    20% {\n",
              "      border-color: transparent;\n",
              "      border-left-color: var(--fill-color);\n",
              "      border-top-color: var(--fill-color);\n",
              "    }\n",
              "    30% {\n",
              "      border-color: transparent;\n",
              "      border-left-color: var(--fill-color);\n",
              "      border-top-color: var(--fill-color);\n",
              "      border-right-color: var(--fill-color);\n",
              "    }\n",
              "    40% {\n",
              "      border-color: transparent;\n",
              "      border-right-color: var(--fill-color);\n",
              "      border-top-color: var(--fill-color);\n",
              "    }\n",
              "    60% {\n",
              "      border-color: transparent;\n",
              "      border-right-color: var(--fill-color);\n",
              "    }\n",
              "    80% {\n",
              "      border-color: transparent;\n",
              "      border-right-color: var(--fill-color);\n",
              "      border-bottom-color: var(--fill-color);\n",
              "    }\n",
              "    90% {\n",
              "      border-color: transparent;\n",
              "      border-bottom-color: var(--fill-color);\n",
              "    }\n",
              "  }\n",
              "</style>\n",
              "\n",
              "  <script>\n",
              "    async function quickchart(key) {\n",
              "      const quickchartButtonEl =\n",
              "        document.querySelector('#' + key + ' button');\n",
              "      quickchartButtonEl.disabled = true;  // To prevent multiple clicks.\n",
              "      quickchartButtonEl.classList.add('colab-df-spinner');\n",
              "      try {\n",
              "        const charts = await google.colab.kernel.invokeFunction(\n",
              "            'suggestCharts', [key], {});\n",
              "      } catch (error) {\n",
              "        console.error('Error during call to suggestCharts:', error);\n",
              "      }\n",
              "      quickchartButtonEl.classList.remove('colab-df-spinner');\n",
              "      quickchartButtonEl.classList.add('colab-df-quickchart-complete');\n",
              "    }\n",
              "    (() => {\n",
              "      let quickchartButtonEl =\n",
              "        document.querySelector('#df-7a3c0c4c-2354-4b8e-9f8b-ae264c628b1a button');\n",
              "      quickchartButtonEl.style.display =\n",
              "        google.colab.kernel.accessAllowed ? 'block' : 'none';\n",
              "    })();\n",
              "  </script>\n",
              "</div>\n",
              "    </div>\n",
              "  </div>\n"
            ]
          },
          "metadata": {},
          "execution_count": 147
        }
      ]
    },
    {
      "cell_type": "code",
      "source": [
        "# text = [\"What is the meaning of life?\", \"How and where can I buy Steam and Amazon gift cards?\"]\n",
        "# text = \"How and where can I buy Steam and Amazon gift cards?\"\n",
        "# tokenizer(text)\n",
        "# encoded_input = tokenizer(text, return_tensors=\"pt\", max_length=60, truncation=True, padding=True)\n",
        "# output = model(**encoded_input, output_attentions=True)"
      ],
      "metadata": {
        "colab": {
          "base_uri": "https://localhost:8080/"
        },
        "id": "FIguv6mp_OpJ",
        "outputId": "76e48e7e-c7db-465b-cc85-c2f1880bb2cc"
      },
      "execution_count": null,
      "outputs": [
        {
          "output_type": "execute_result",
          "data": {
            "text/plain": [
              "{'input_ids': [[101, 2054, 2003, 1996, 3574, 1997, 2166, 1029, 102], [101, 2129, 1998, 2073, 2064, 1045, 4965, 5492, 1998, 9733, 5592, 5329, 1029, 102]], 'token_type_ids': [[0, 0, 0, 0, 0, 0, 0, 0, 0], [0, 0, 0, 0, 0, 0, 0, 0, 0, 0, 0, 0, 0, 0]], 'attention_mask': [[1, 1, 1, 1, 1, 1, 1, 1, 1], [1, 1, 1, 1, 1, 1, 1, 1, 1, 1, 1, 1, 1, 1]]}"
            ]
          },
          "metadata": {},
          "execution_count": 86
        }
      ]
    },
    {
      "cell_type": "code",
      "source": [
        "# encoded_input"
      ],
      "metadata": {
        "colab": {
          "base_uri": "https://localhost:8080/"
        },
        "id": "lks6z65fJhuo",
        "outputId": "90a28e5d-9e63-49e3-dde6-5222f535ba92"
      },
      "execution_count": null,
      "outputs": [
        {
          "output_type": "execute_result",
          "data": {
            "text/plain": [
              "{'input_ids': tensor([[ 101, 2054, 2003, 1996, 3574, 1997, 2166, 1029,  102,    0,    0,    0,\n",
              "            0,    0],\n",
              "        [ 101, 2129, 1998, 2073, 2064, 1045, 4965, 5492, 1998, 9733, 5592, 5329,\n",
              "         1029,  102]]), 'token_type_ids': tensor([[0, 0, 0, 0, 0, 0, 0, 0, 0, 0, 0, 0, 0, 0],\n",
              "        [0, 0, 0, 0, 0, 0, 0, 0, 0, 0, 0, 0, 0, 0]]), 'attention_mask': tensor([[1, 1, 1, 1, 1, 1, 1, 1, 1, 0, 0, 0, 0, 0],\n",
              "        [1, 1, 1, 1, 1, 1, 1, 1, 1, 1, 1, 1, 1, 1]])}"
            ]
          },
          "metadata": {},
          "execution_count": 52
        }
      ]
    },
    {
      "cell_type": "markdown",
      "source": [
        "## Siamese BERT with Mean Pooling, L1 Distance and FCN"
      ],
      "metadata": {
        "id": "rlXrqnbArk1I"
      }
    },
    {
      "cell_type": "code",
      "source": [
        "class L1DistanceLayer(nn.Module):\n",
        "\n",
        "    def __init__(self):\n",
        "        super(L1DistanceLayer, self).__init__()\n",
        "\n",
        "    def forward(self, embedding1, embedding2):\n",
        "        l1_dist = torch.abs(embedding1 - embedding2)\n",
        "        return l1_dist\n",
        "\n",
        "class MeanPoolingLayer(nn.Module):\n",
        "    def __init__(self, dim):\n",
        "        super(MeanPoolingLayer, self).__init__()\n",
        "        self.dim = dim\n",
        "\n",
        "    def forward(self, x):\n",
        "        return torch.mean(x, dim=self.dim)\n",
        "\n",
        "class SiameseNetwork(nn.Module):\n",
        "\n",
        "    def __init__(self, embedding_dim, hidden_dim):\n",
        "        super(SiameseNetwork, self).__init__()\n",
        "        self.mean_pool = MeanPoolingLayer(dim=1)\n",
        "        self.l1_distance = L1DistanceLayer()\n",
        "        self.fc = nn.Sequential(\n",
        "            nn.Linear(embedding_dim, hidden_dim),\n",
        "            nn.ReLU(),\n",
        "            nn.Linear(hidden_dim, 1),\n",
        "            nn.Sigmoid()\n",
        "        )\n",
        "\n",
        "    def forward(self, q1_bert_lhs, q2_bert_lhs):\n",
        "        embedding1 = self.mean_pool(q1_bert_lhs) # can replace mean pooling with an LSTM?\n",
        "        embedding2 = self.mean_pool(q2_bert_lhs)\n",
        "        l1_dist = self.l1_distance(embedding1, embedding2)\n",
        "        output = self.fc(l1_dist)\n",
        "        return output"
      ],
      "metadata": {
        "id": "oNuFmzQnrp_C"
      },
      "execution_count": null,
      "outputs": []
    },
    {
      "cell_type": "markdown",
      "metadata": {
        "id": "dwh5tEdRFNVe"
      },
      "source": [
        "## Integrating Everything"
      ]
    },
    {
      "cell_type": "markdown",
      "metadata": {
        "id": "0pP-3CP2FvfS"
      },
      "source": [
        "### Dataset and Data Loader"
      ]
    },
    {
      "cell_type": "code",
      "execution_count": null,
      "metadata": {
        "id": "j1CCcb4ZFvDB"
      },
      "outputs": [],
      "source": [
        "embedding_dim = 768\n",
        "\n",
        "class DuplicateQuestionDataset(Dataset):\n",
        "\n",
        "    def __init__(self, questions, labels):\n",
        "        self.questions = questions\n",
        "        self.labels = labels\n",
        "        self.embedding_dim = embedding_dim\n",
        "\n",
        "    def __len__(self):\n",
        "        return len(self.questions)\n",
        "\n",
        "    def __getitem__(self, idx):\n",
        "        q1_input_ids, q1_attention_mask, q2_input_ids, q2_attention_mask = self.questions[['q1_input_ids', 'q1_attention_masks', 'q2_input_ids' 'q2_attention_masks']].iloc[idx]\n",
        "\n",
        "        q1_bert_lhs = bert(q1_input_ids, attention_mask=q1_attention_mask).last_hidden_state.to(device)\n",
        "        q2_bert_lhs = bert(q2_input_ids, attention_mask=q2_attention_mask).last_hidden_state.to(device)\n",
        "\n",
        "        label = torch.tensor(self.labels.iloc[idx]).to(device)\n",
        "\n",
        "        return q1_bert_lhs, q2_bert_lhs, label"
      ]
    },
    {
      "cell_type": "markdown",
      "metadata": {
        "id": "XPx4_jE_CLHn"
      },
      "source": [
        "### Preprocess  Validation and Test Datasets"
      ]
    },
    {
      "cell_type": "code",
      "execution_count": null,
      "metadata": {
        "id": "RHE1fRMDB2O5"
      },
      "outputs": [],
      "source": [
        "X_val['q1_cleaned'] = X_val['question1'].apply(clean_text)\n",
        "X_val['q2_cleaned'] = X_val['question2'].apply(clean_text)\n",
        "\n",
        "# find word counts of questions\n",
        "X_val['q1_len'] = X_val['q1_cleaned'].apply(lambda x: len(str(x).split()))\n",
        "X_val['q2_len'] = X_val['q2_cleaned'].apply(lambda x: len(str(x).split()))\n",
        "\n",
        "X_val[['q1_input_ids', 'q1_attention_masks']] = X_val['q1_cleaned'].apply(lambda q: pd.Series(bert.encode_question(q)))\n",
        "X_val[['q2_input_ids', 'q2_attention_masks']] = X_val['q2_cleaned'].apply(lambda q: pd.Series(bert.encode_question(q)))\n",
        "\n",
        "X_val.head(10)"
      ]
    },
    {
      "cell_type": "code",
      "execution_count": null,
      "metadata": {
        "id": "xvq6D4d5B9s-"
      },
      "outputs": [],
      "source": [
        "X_test['q1_cleaned'] = X_test['question1'].apply(clean_text)\n",
        "X_test['q2_cleaned'] = X_test['question2'].apply(clean_text)\n",
        "\n",
        "# find word counts of questions\n",
        "X_test['q1_len'] = X_test['q1_cleaned'].apply(lambda x: len(str(x).split()))\n",
        "X_test['q2_len'] = X_test['q2_cleaned'].apply(lambda x: len(str(x).split()))\n",
        "\n",
        "X_test[['q1_input_ids', 'q1_attention_masks']] = X_test['q1_cleaned'].apply(lambda q: pd.Series(bert.encode_question(q)))\n",
        "X_test[['q2_input_ids', 'q2_attention_masks']] = X_test['q2_cleaned'].apply(lambda q: pd.Series(bert.encode_question(q)))\n",
        "\n",
        "X_test.head(10)"
      ]
    },
    {
      "cell_type": "code",
      "source": [
        "# batch size\n",
        "batch_size = 64\n",
        "\n",
        "train_dataset = DuplicateQuestionDataset(X_train, y_train)\n",
        "train_loader = DataLoader(train_dataset, batch_size=batch_size, shuffle=True)\n",
        "\n",
        "val_dataset = DuplicateQuestionDataset(X_val, y_val)\n",
        "val_loader = DataLoader(val_dataset, batch_size=batch_size, shuffle=True)\n",
        "\n",
        "test_dataset = DuplicateQuestionDataset(X_test, y_test)\n",
        "test_loader = DataLoader(test_dataset, batch_size=batch_size, shuffle=True)"
      ],
      "metadata": {
        "id": "REkFiFyUwnRt"
      },
      "execution_count": null,
      "outputs": []
    },
    {
      "cell_type": "markdown",
      "metadata": {
        "id": "E1lQGA2wF1CG"
      },
      "source": [
        "### Hyperparameters"
      ]
    },
    {
      "cell_type": "code",
      "execution_count": null,
      "metadata": {
        "id": "5lVqXOxdFT74"
      },
      "outputs": [],
      "source": [
        "# LSTM hyperparameters\n",
        "embedding_dim = 768\n",
        "hidden_size = 600\n",
        "num_layers = 1\n",
        "\n",
        "learning_rate = 0.002"
      ]
    },
    {
      "cell_type": "markdown",
      "source": [
        "### Model Initialisation"
      ],
      "metadata": {
        "id": "D-s5m1nnUH87"
      }
    },
    {
      "cell_type": "code",
      "source": [
        "siamese_model = SiameseNetwork(embedding_dim, hidden_size).to(device)\n",
        "\n",
        "siamese_model.train()"
      ],
      "metadata": {
        "colab": {
          "base_uri": "https://localhost:8080/"
        },
        "id": "_oED5lukPpf9",
        "outputId": "3227bfb4-1290-4916-b36f-8ac3e2f28428"
      },
      "execution_count": null,
      "outputs": [
        {
          "output_type": "execute_result",
          "data": {
            "text/plain": [
              "SiameseNetwork(\n",
              "  (mean_pool): MeanPoolingLayer()\n",
              "  (l1_distance): L1DistanceLayer()\n",
              "  (fc): Sequential(\n",
              "    (0): Linear(in_features=768, out_features=600, bias=True)\n",
              "    (1): ReLU()\n",
              "    (2): Linear(in_features=600, out_features=1, bias=True)\n",
              "    (3): Sigmoid()\n",
              "  )\n",
              ")"
            ]
          },
          "metadata": {},
          "execution_count": 155
        }
      ]
    },
    {
      "cell_type": "markdown",
      "source": [
        "### Optimizers & Loss"
      ],
      "metadata": {
        "id": "TGBlSryPULDQ"
      }
    },
    {
      "cell_type": "code",
      "source": [
        "optimizer = torch.optim.Adam(siamese_model.parameters(), lr=learning_rate)\n",
        "criterion = nn.BCELoss()"
      ],
      "metadata": {
        "id": "9XVrBt8JR5wF"
      },
      "execution_count": null,
      "outputs": []
    },
    {
      "cell_type": "code",
      "source": [
        "total_params = sum(p.numel() for p in siamese_model.parameters())\n",
        "total_params"
      ],
      "metadata": {
        "colab": {
          "base_uri": "https://localhost:8080/"
        },
        "id": "-88ClGVJ0lg6",
        "outputId": "acaf8625-1193-402c-c3bc-65c9dc4fa4d1"
      },
      "execution_count": null,
      "outputs": [
        {
          "output_type": "execute_result",
          "data": {
            "text/plain": [
              "462001"
            ]
          },
          "metadata": {},
          "execution_count": 157
        }
      ]
    }
  ]
}