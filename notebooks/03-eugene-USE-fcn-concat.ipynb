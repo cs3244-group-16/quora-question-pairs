{
 "cells": [
  {
   "cell_type": "code",
   "execution_count": 52,
   "id": "4c6ff3f5",
   "metadata": {},
   "outputs": [],
   "source": [
    "import numpy as np\n",
    "import pandas as pd\n",
    "\n",
    "import tensorflow as tf\n",
    "import tensorflow_hub as hub\n",
    "\n",
    "import torch\n",
    "import torch.nn as nn\n",
    "\n",
    "from sklearn.metrics.pairwise import cosine_similarity\n",
    "\n",
    "from sklearn.model_selection import train_test_split\n",
    "\n",
    "from torch.utils.data import DataLoader, Dataset\n",
    "\n",
    "from tqdm.notebook import tqdm\n",
    "\n",
    "import matplotlib.pyplot as plt\n",
    "\n",
    "from sklearn.metrics import accuracy_score, roc_curve, auc, classification_report"
   ]
  },
  {
   "cell_type": "code",
   "execution_count": 4,
   "id": "e70cdc32",
   "metadata": {},
   "outputs": [
    {
     "name": "stdout",
     "output_type": "stream",
     "text": [
      "module https://tfhub.dev/google/universal-sentence-encoder/4 loaded\n"
     ]
    }
   ],
   "source": [
    "module_url = \"https://tfhub.dev/google/universal-sentence-encoder/4\"\n",
    "USE_model = hub.load(module_url)\n",
    "print (\"module %s loaded\" % module_url)"
   ]
  },
  {
   "cell_type": "code",
   "execution_count": 5,
   "id": "9e41de7a",
   "metadata": {},
   "outputs": [
    {
     "name": "stdout",
     "output_type": "stream",
     "text": [
      "No GPU available, using CPU.\n"
     ]
    }
   ],
   "source": [
    "torch.manual_seed(42)\n",
    "\n",
    "if torch.cuda.is_available():\n",
    "    device = torch.device(\"cuda\")\n",
    "    print(f\"Using {torch.cuda.get_device_name(0)}\")\n",
    "else:\n",
    "    device = torch.device(\"cpu\")\n",
    "    print(\"No GPU available, using CPU.\")"
   ]
  },
  {
   "cell_type": "code",
   "execution_count": 6,
   "id": "54d99dd4",
   "metadata": {},
   "outputs": [],
   "source": [
    "def embed(input):\n",
    "    return USE_model(input)"
   ]
  },
  {
   "cell_type": "code",
   "execution_count": 8,
   "id": "fc2aec56",
   "metadata": {
    "id": "F0OnJ7MoClsK",
    "tags": []
   },
   "outputs": [],
   "source": [
    "df = pd.read_csv('../data/train.csv')"
   ]
  },
  {
   "cell_type": "code",
   "execution_count": 9,
   "id": "aeacd904",
   "metadata": {
    "colab": {
     "base_uri": "https://localhost:8080/",
     "height": 206
    },
    "id": "d_dfs4CyEPhb",
    "outputId": "2ff11d04-117a-4f31-92a2-10d227b87b3d",
    "tags": []
   },
   "outputs": [
    {
     "data": {
      "text/html": [
       "<div>\n",
       "<style scoped>\n",
       "    .dataframe tbody tr th:only-of-type {\n",
       "        vertical-align: middle;\n",
       "    }\n",
       "\n",
       "    .dataframe tbody tr th {\n",
       "        vertical-align: top;\n",
       "    }\n",
       "\n",
       "    .dataframe thead th {\n",
       "        text-align: right;\n",
       "    }\n",
       "</style>\n",
       "<table border=\"1\" class=\"dataframe\">\n",
       "  <thead>\n",
       "    <tr style=\"text-align: right;\">\n",
       "      <th></th>\n",
       "      <th>id</th>\n",
       "      <th>qid1</th>\n",
       "      <th>qid2</th>\n",
       "      <th>question1</th>\n",
       "      <th>question2</th>\n",
       "      <th>is_duplicate</th>\n",
       "    </tr>\n",
       "  </thead>\n",
       "  <tbody>\n",
       "    <tr>\n",
       "      <th>0</th>\n",
       "      <td>0</td>\n",
       "      <td>1</td>\n",
       "      <td>2</td>\n",
       "      <td>What is the step by step guide to invest in sh...</td>\n",
       "      <td>What is the step by step guide to invest in sh...</td>\n",
       "      <td>0</td>\n",
       "    </tr>\n",
       "    <tr>\n",
       "      <th>1</th>\n",
       "      <td>1</td>\n",
       "      <td>3</td>\n",
       "      <td>4</td>\n",
       "      <td>What is the story of Kohinoor (Koh-i-Noor) Dia...</td>\n",
       "      <td>What would happen if the Indian government sto...</td>\n",
       "      <td>0</td>\n",
       "    </tr>\n",
       "    <tr>\n",
       "      <th>2</th>\n",
       "      <td>2</td>\n",
       "      <td>5</td>\n",
       "      <td>6</td>\n",
       "      <td>How can I increase the speed of my internet co...</td>\n",
       "      <td>How can Internet speed be increased by hacking...</td>\n",
       "      <td>0</td>\n",
       "    </tr>\n",
       "    <tr>\n",
       "      <th>3</th>\n",
       "      <td>3</td>\n",
       "      <td>7</td>\n",
       "      <td>8</td>\n",
       "      <td>Why am I mentally very lonely? How can I solve...</td>\n",
       "      <td>Find the remainder when [math]23^{24}[/math] i...</td>\n",
       "      <td>0</td>\n",
       "    </tr>\n",
       "    <tr>\n",
       "      <th>4</th>\n",
       "      <td>4</td>\n",
       "      <td>9</td>\n",
       "      <td>10</td>\n",
       "      <td>Which one dissolve in water quikly sugar, salt...</td>\n",
       "      <td>Which fish would survive in salt water?</td>\n",
       "      <td>0</td>\n",
       "    </tr>\n",
       "  </tbody>\n",
       "</table>\n",
       "</div>"
      ],
      "text/plain": [
       "   id  qid1  qid2                                          question1  \\\n",
       "0   0     1     2  What is the step by step guide to invest in sh...   \n",
       "1   1     3     4  What is the story of Kohinoor (Koh-i-Noor) Dia...   \n",
       "2   2     5     6  How can I increase the speed of my internet co...   \n",
       "3   3     7     8  Why am I mentally very lonely? How can I solve...   \n",
       "4   4     9    10  Which one dissolve in water quikly sugar, salt...   \n",
       "\n",
       "                                           question2  is_duplicate  \n",
       "0  What is the step by step guide to invest in sh...             0  \n",
       "1  What would happen if the Indian government sto...             0  \n",
       "2  How can Internet speed be increased by hacking...             0  \n",
       "3  Find the remainder when [math]23^{24}[/math] i...             0  \n",
       "4            Which fish would survive in salt water?             0  "
      ]
     },
     "execution_count": 9,
     "metadata": {},
     "output_type": "execute_result"
    }
   ],
   "source": [
    "df.head()"
   ]
  },
  {
   "cell_type": "code",
   "execution_count": 10,
   "id": "f2cde7b9",
   "metadata": {},
   "outputs": [
    {
     "name": "stdout",
     "output_type": "stream",
     "text": [
      "Initial dataframe has 404290 rows.\n",
      "Dataframe has 3 null rows.\n",
      "Dataframe has 404287 rows after removing null values.\n"
     ]
    }
   ],
   "source": [
    "print(f\"Initial dataframe has {len(df)} rows.\")\n",
    "null_rows = df[df.isnull().values.any(1)]\n",
    "print(f\"Dataframe has {len(null_rows)} null rows.\")\n",
    "df = df.dropna(how='any')\n",
    "print(f\"Dataframe has {len(df)} rows after removing null values.\")"
   ]
  },
  {
   "cell_type": "markdown",
   "id": "fbd2210c",
   "metadata": {},
   "source": [
    "### Model Definition"
   ]
  },
  {
   "cell_type": "code",
   "execution_count": 11,
   "id": "69bcee58",
   "metadata": {},
   "outputs": [],
   "source": [
    "class EmbeddingConcatenateModel(nn.Module):\n",
    "    \n",
    "    def __init__(self, input_dim, num_layers, hidden_size=256, use_batchnorm=False):\n",
    "        super(EmbeddingConcatenateModel, self).__init__()\n",
    "        \n",
    "        layers = []\n",
    "        \n",
    "        # input layer\n",
    "        layers.append(nn.Linear(input_dim, hidden_size))\n",
    "        \n",
    "        if use_batchnorm:\n",
    "            layers.append(nn.BatchNorm1d(hidden_size))\n",
    "        \n",
    "        # hidden layers\n",
    "        for _ in range(num_layers - 2):\n",
    "            layers.extend([nn.ReLU(), nn.Linear(hidden_size, hidden_size)])\n",
    "            if use_batchnorm:\n",
    "                layers.append(nn.BatchNorm1d(hidden_size))\n",
    "        \n",
    "        # output layer\n",
    "        layers.append(nn.Linear(hidden_size, 1))\n",
    "        \n",
    "        self.fc = nn.Sequential(*layers)\n",
    "        \n",
    "        self.sigmoid = nn.Sigmoid()\n",
    "        \n",
    "    def forward(self, x):\n",
    "        x = self.fc(x)\n",
    "        x = self.sigmoid(x)\n",
    "        return x"
   ]
  },
  {
   "cell_type": "markdown",
   "id": "a047133f",
   "metadata": {},
   "source": [
    "### Dataset Preparation"
   ]
  },
  {
   "cell_type": "code",
   "execution_count": 17,
   "id": "803f1bc4",
   "metadata": {
    "scrolled": true
   },
   "outputs": [
    {
     "name": "stderr",
     "output_type": "stream",
     "text": [
      "C:\\Users\\eugen\\AppData\\Local\\Temp\\ipykernel_88360\\1712897865.py:2: SettingWithCopyWarning: \n",
      "A value is trying to be set on a copy of a slice from a DataFrame.\n",
      "Try using .loc[row_indexer,col_indexer] = value instead\n",
      "\n",
      "See the caveats in the documentation: https://pandas.pydata.org/pandas-docs/stable/user_guide/indexing.html#returning-a-view-versus-a-copy\n",
      "  X['q1_embeddings'] = X['question1'].apply(lambda x: embed([x]))\n",
      "C:\\Users\\eugen\\AppData\\Local\\Temp\\ipykernel_88360\\1712897865.py:3: SettingWithCopyWarning: \n",
      "A value is trying to be set on a copy of a slice from a DataFrame.\n",
      "Try using .loc[row_indexer,col_indexer] = value instead\n",
      "\n",
      "See the caveats in the documentation: https://pandas.pydata.org/pandas-docs/stable/user_guide/indexing.html#returning-a-view-versus-a-copy\n",
      "  X['q2_embeddings'] = X['question2'].apply(lambda x: embed([x]))\n"
     ]
    }
   ],
   "source": [
    "X = df[['question1', 'question2']]\n",
    "X['q1_embeddings'] = X['question1'].apply(lambda x: embed([x]))\n",
    "X['q2_embeddings'] = X['question2'].apply(lambda x: embed([x]))\n",
    "\n",
    "y = df.iloc[:, -1]"
   ]
  },
  {
   "cell_type": "code",
   "execution_count": 41,
   "id": "485dca19",
   "metadata": {},
   "outputs": [],
   "source": [
    "X['q1_embeddings'] = X['q1_embeddings'].apply(lambda x: np.array(x).reshape(-1))\n",
    "X['q2_embeddings'] = X['q2_embeddings'].apply(lambda x: np.array(x).reshape(-1))"
   ]
  },
  {
   "cell_type": "code",
   "execution_count": 42,
   "id": "d3a811fd",
   "metadata": {},
   "outputs": [
    {
     "data": {
      "text/html": [
       "<div>\n",
       "<style scoped>\n",
       "    .dataframe tbody tr th:only-of-type {\n",
       "        vertical-align: middle;\n",
       "    }\n",
       "\n",
       "    .dataframe tbody tr th {\n",
       "        vertical-align: top;\n",
       "    }\n",
       "\n",
       "    .dataframe thead th {\n",
       "        text-align: right;\n",
       "    }\n",
       "</style>\n",
       "<table border=\"1\" class=\"dataframe\">\n",
       "  <thead>\n",
       "    <tr style=\"text-align: right;\">\n",
       "      <th></th>\n",
       "      <th>q1_embeddings</th>\n",
       "      <th>q2_embeddings</th>\n",
       "    </tr>\n",
       "  </thead>\n",
       "  <tbody>\n",
       "    <tr>\n",
       "      <th>0</th>\n",
       "      <td>[0.0021821777, -0.071323544, -0.008949716, -0....</td>\n",
       "      <td>[0.018747583, -0.08102848, -0.0034117287, -0.0...</td>\n",
       "    </tr>\n",
       "    <tr>\n",
       "      <th>1</th>\n",
       "      <td>[-0.008116845, -0.04054194, 0.050406188, -0.00...</td>\n",
       "      <td>[-0.02633016, -0.056345083, 0.05864444, -0.076...</td>\n",
       "    </tr>\n",
       "    <tr>\n",
       "      <th>2</th>\n",
       "      <td>[-0.02507621, -0.032699287, 0.030226452, -0.05...</td>\n",
       "      <td>[-0.019373588, -0.052194037, -0.049746674, 0.0...</td>\n",
       "    </tr>\n",
       "    <tr>\n",
       "      <th>3</th>\n",
       "      <td>[0.022798156, -0.06058688, -0.016114684, 0.049...</td>\n",
       "      <td>[-0.06627553, -0.09527444, 0.026091686, 0.0603...</td>\n",
       "    </tr>\n",
       "    <tr>\n",
       "      <th>4</th>\n",
       "      <td>[0.023056682, 0.047172908, -0.017179074, 0.034...</td>\n",
       "      <td>[-0.046064388, -0.009994284, 0.038086914, -0.0...</td>\n",
       "    </tr>\n",
       "  </tbody>\n",
       "</table>\n",
       "</div>"
      ],
      "text/plain": [
       "                                       q1_embeddings  \\\n",
       "0  [0.0021821777, -0.071323544, -0.008949716, -0....   \n",
       "1  [-0.008116845, -0.04054194, 0.050406188, -0.00...   \n",
       "2  [-0.02507621, -0.032699287, 0.030226452, -0.05...   \n",
       "3  [0.022798156, -0.06058688, -0.016114684, 0.049...   \n",
       "4  [0.023056682, 0.047172908, -0.017179074, 0.034...   \n",
       "\n",
       "                                       q2_embeddings  \n",
       "0  [0.018747583, -0.08102848, -0.0034117287, -0.0...  \n",
       "1  [-0.02633016, -0.056345083, 0.05864444, -0.076...  \n",
       "2  [-0.019373588, -0.052194037, -0.049746674, 0.0...  \n",
       "3  [-0.06627553, -0.09527444, 0.026091686, 0.0603...  \n",
       "4  [-0.046064388, -0.009994284, 0.038086914, -0.0...  "
      ]
     },
     "execution_count": 42,
     "metadata": {},
     "output_type": "execute_result"
    }
   ],
   "source": [
    "X = X[['q1_embeddings', 'q2_embeddings']]\n",
    "X.head()"
   ]
  },
  {
   "cell_type": "code",
   "execution_count": 46,
   "id": "d296e1e6",
   "metadata": {},
   "outputs": [],
   "source": [
    "# split into train/val, test sets\n",
    "X_temp, X_test, y_temp, y_test = train_test_split(X, y, test_size=0.2, random_state=42)\n",
    "\n",
    "# split into train and val sets\n",
    "X_train, X_val, y_train, y_val = train_test_split(X_temp, y_temp, test_size=0.2, random_state=42)"
   ]
  },
  {
   "cell_type": "code",
   "execution_count": 47,
   "id": "48ceaa45",
   "metadata": {},
   "outputs": [],
   "source": [
    "# to be used for new unseen data\n",
    "def get_question_embeddings(df):\n",
    "    df['q1_embeddings'] = df['question1'].apply(lambda x: embed([x]))\n",
    "    df['q2_embeddings'] = df['question2'].apply(lambda x: embed([x]))\n",
    "    \n",
    "    return df    "
   ]
  },
  {
   "cell_type": "code",
   "execution_count": 48,
   "id": "04015a27",
   "metadata": {},
   "outputs": [],
   "source": [
    "class DuplicateQuestionDataset(Dataset):\n",
    "\n",
    "    def __init__(self, question_embeddings, labels):\n",
    "        self.question_embeddings = question_embeddings\n",
    "        self.labels = labels\n",
    "\n",
    "    def __len__(self):\n",
    "        return len(self.question_embeddings)\n",
    "\n",
    "    def __getitem__(self, idx):\n",
    "        q1_embeddings, q2_embeddings = self.question_embeddings.iloc[idx]\n",
    "        \n",
    "        # convert to numpy array\n",
    "        q1_embeddings = np.array(q1_embeddings)\n",
    "        q2_embeddings = np.array(q1_embeddings)\n",
    "\n",
    "        # concatenate vectors to get a 1024-dimensional vector\n",
    "        result = torch.cat((torch.from_numpy(q1_embeddings), torch.from_numpy(q2_embeddings)), 0).to(device)\n",
    "\n",
    "        label = torch.tensor(self.labels.iloc[idx]).to(device)\n",
    "        return result, label"
   ]
  },
  {
   "cell_type": "code",
   "execution_count": 49,
   "id": "0321ee79",
   "metadata": {},
   "outputs": [],
   "source": [
    "# batch size\n",
    "batch_size = 128\n",
    "\n",
    "train_dataset = DuplicateQuestionDataset(X_train, y_train)\n",
    "train_loader = DataLoader(train_dataset, batch_size=batch_size, shuffle=True)\n",
    "\n",
    "val_dataset = DuplicateQuestionDataset(X_val, y_val)\n",
    "val_loader = DataLoader(val_dataset, batch_size=batch_size, shuffle=True)\n",
    "\n",
    "test_dataset = DuplicateQuestionDataset(X_test, y_test)\n",
    "test_loader = DataLoader(test_dataset, batch_size=batch_size, shuffle=True)"
   ]
  },
  {
   "cell_type": "markdown",
   "id": "acb75a5c",
   "metadata": {},
   "source": [
    "### Model Initialisation & Hyperparameter Setting"
   ]
  },
  {
   "cell_type": "code",
   "execution_count": 86,
   "id": "424009db",
   "metadata": {},
   "outputs": [
    {
     "data": {
      "text/plain": [
       "1050625"
      ]
     },
     "execution_count": 86,
     "metadata": {},
     "output_type": "execute_result"
    }
   ],
   "source": [
    "# hyperparameters\n",
    "num_layers = 4\n",
    "hidden_size = 512\n",
    "learning_rate = 0.005\n",
    "\n",
    "# constant\n",
    "input_dim = 1024\n",
    "\n",
    "# initialise model\n",
    "model = EmbeddingConcatenateModel(input_dim, num_layers=num_layers, hidden_size=hidden_size, use_batchnorm=False).to(device)\n",
    "\n",
    "# training mode\n",
    "model.train()\n",
    "\n",
    "criterion = nn.BCELoss()\n",
    "optimizer = torch.optim.Adam(model.parameters(), lr=learning_rate)\n",
    "\n",
    "total_params = sum(p.numel() for p in model.parameters())\n",
    "total_params"
   ]
  },
  {
   "cell_type": "markdown",
   "id": "3480cc39",
   "metadata": {},
   "source": [
    "### Model Training"
   ]
  },
  {
   "cell_type": "code",
   "execution_count": 87,
   "id": "4ecc4242",
   "metadata": {
    "scrolled": true
   },
   "outputs": [
    {
     "data": {
      "application/vnd.jupyter.widget-view+json": {
       "model_id": "034a300c5fe84c1480029887ba0810e8",
       "version_major": 2,
       "version_minor": 0
      },
      "text/plain": [
       "  0%|          | 0/2022 [00:00<?, ?it/s]"
      ]
     },
     "metadata": {},
     "output_type": "display_data"
    },
    {
     "name": "stdout",
     "output_type": "stream",
     "text": [
      "Epoch 1: Loss = 1081.2508\n"
     ]
    },
    {
     "data": {
      "application/vnd.jupyter.widget-view+json": {
       "model_id": "600a8e05826a448bb61e06f437c8b04b",
       "version_major": 2,
       "version_minor": 0
      },
      "text/plain": [
       "  0%|          | 0/2022 [00:00<?, ?it/s]"
      ]
     },
     "metadata": {},
     "output_type": "display_data"
    },
    {
     "name": "stdout",
     "output_type": "stream",
     "text": [
      "Epoch 2: Loss = 1006.5833\n"
     ]
    },
    {
     "data": {
      "application/vnd.jupyter.widget-view+json": {
       "model_id": "eaf59c58cbfe49fd8b0e2387b789ed45",
       "version_major": 2,
       "version_minor": 0
      },
      "text/plain": [
       "  0%|          | 0/2022 [00:00<?, ?it/s]"
      ]
     },
     "metadata": {},
     "output_type": "display_data"
    },
    {
     "name": "stdout",
     "output_type": "stream",
     "text": [
      "Epoch 3: Loss = 957.4086\n"
     ]
    },
    {
     "data": {
      "application/vnd.jupyter.widget-view+json": {
       "model_id": "cf65fdb0ac5a4d748b8dd21498f947d7",
       "version_major": 2,
       "version_minor": 0
      },
      "text/plain": [
       "  0%|          | 0/2022 [00:00<?, ?it/s]"
      ]
     },
     "metadata": {},
     "output_type": "display_data"
    },
    {
     "name": "stdout",
     "output_type": "stream",
     "text": [
      "Epoch 4: Loss = 908.5859\n"
     ]
    },
    {
     "data": {
      "application/vnd.jupyter.widget-view+json": {
       "model_id": "6262f17d1998432a9af42fe5d35d6417",
       "version_major": 2,
       "version_minor": 0
      },
      "text/plain": [
       "  0%|          | 0/2022 [00:00<?, ?it/s]"
      ]
     },
     "metadata": {},
     "output_type": "display_data"
    },
    {
     "name": "stdout",
     "output_type": "stream",
     "text": [
      "Epoch 5: Loss = 858.4295\n"
     ]
    },
    {
     "data": {
      "application/vnd.jupyter.widget-view+json": {
       "model_id": "655a1452bc5a47e6abb41edb1c4a2537",
       "version_major": 2,
       "version_minor": 0
      },
      "text/plain": [
       "  0%|          | 0/2022 [00:00<?, ?it/s]"
      ]
     },
     "metadata": {},
     "output_type": "display_data"
    },
    {
     "name": "stdout",
     "output_type": "stream",
     "text": [
      "Epoch 6: Loss = 814.4016\n"
     ]
    },
    {
     "data": {
      "application/vnd.jupyter.widget-view+json": {
       "model_id": "70c6aa85e03b48d79280261770d9f043",
       "version_major": 2,
       "version_minor": 0
      },
      "text/plain": [
       "  0%|          | 0/2022 [00:00<?, ?it/s]"
      ]
     },
     "metadata": {},
     "output_type": "display_data"
    },
    {
     "name": "stdout",
     "output_type": "stream",
     "text": [
      "Epoch 7: Loss = 770.0698\n"
     ]
    },
    {
     "data": {
      "application/vnd.jupyter.widget-view+json": {
       "model_id": "b0501a0ba4e64ef2b6d3a2ec134e9f15",
       "version_major": 2,
       "version_minor": 0
      },
      "text/plain": [
       "  0%|          | 0/2022 [00:00<?, ?it/s]"
      ]
     },
     "metadata": {},
     "output_type": "display_data"
    },
    {
     "name": "stdout",
     "output_type": "stream",
     "text": [
      "Epoch 8: Loss = 730.7249\n"
     ]
    },
    {
     "data": {
      "application/vnd.jupyter.widget-view+json": {
       "model_id": "566f015ca4e240bea7eb8cf0c6230d75",
       "version_major": 2,
       "version_minor": 0
      },
      "text/plain": [
       "  0%|          | 0/2022 [00:00<?, ?it/s]"
      ]
     },
     "metadata": {},
     "output_type": "display_data"
    },
    {
     "name": "stdout",
     "output_type": "stream",
     "text": [
      "Epoch 9: Loss = 701.6930\n"
     ]
    },
    {
     "data": {
      "application/vnd.jupyter.widget-view+json": {
       "model_id": "9770524ed37542fe8fbab8783e26f3ca",
       "version_major": 2,
       "version_minor": 0
      },
      "text/plain": [
       "  0%|          | 0/2022 [00:00<?, ?it/s]"
      ]
     },
     "metadata": {},
     "output_type": "display_data"
    },
    {
     "name": "stdout",
     "output_type": "stream",
     "text": [
      "Epoch 10: Loss = 665.7753\n"
     ]
    }
   ],
   "source": [
    "num_epochs = 10\n",
    "lossi = []\n",
    "\n",
    "# training loop\n",
    "for epoch in range(num_epochs):\n",
    "    total_loss = 0\n",
    "    for embedding_diffs, labels in tqdm(train_loader):\n",
    "        optimizer.zero_grad()\n",
    "        outputs = model(embedding_diffs)\n",
    "        loss = criterion(outputs.reshape(-1), labels.float())\n",
    "        \n",
    "        # metrics\n",
    "        lossi.append(loss.item())\n",
    "        total_loss += loss.item()\n",
    "        \n",
    "        loss.backward()\n",
    "        optimizer.step()\n",
    "\n",
    "    print(f\"Epoch {epoch+1}: Loss = {total_loss:.4f}\")"
   ]
  },
  {
   "cell_type": "code",
   "execution_count": 89,
   "id": "f8c58b4b",
   "metadata": {},
   "outputs": [
    {
     "data": {
      "text/plain": [
       "Text(0.5, 1.0, 'Training Loss')"
      ]
     },
     "execution_count": 89,
     "metadata": {},
     "output_type": "execute_result"
    },
    {
     "data": {
      "image/png": "[encoded data removed]",
      "text/plain": [
       "<Figure size 640x480 with 1 Axes>"
      ]
     },
     "metadata": {},
     "output_type": "display_data"
    }
   ],
   "source": [
    "average_lossi = torch.tensor(lossi).view(-1, 337).mean(1)\n",
    "plt.plot(average_lossi)\n",
    "plt.title('Training Loss')"
   ]
  },
  {
   "cell_type": "markdown",
   "id": "e06f9ac7",
   "metadata": {},
   "source": [
    "### Save Model"
   ]
  },
  {
   "cell_type": "code",
   "execution_count": 90,
   "id": "d7c4fc5c",
   "metadata": {},
   "outputs": [],
   "source": [
    "model_path = 'embd_concat_model.pth'"
   ]
  },
  {
   "cell_type": "code",
   "execution_count": 91,
   "id": "fe85a135",
   "metadata": {},
   "outputs": [],
   "source": [
    "torch.save(model.state_dict(), model_path)"
   ]
  },
  {
   "cell_type": "markdown",
   "id": "4ea5aa3e",
   "metadata": {},
   "source": [
    "### Load Model (Skip here after training is done)"
   ]
  },
  {
   "cell_type": "code",
   "execution_count": null,
   "id": "8e29fba0",
   "metadata": {},
   "outputs": [],
   "source": [
    "model = EmbeddingConcatenateModel()\n",
    "model.load_state_dict(torch.load(model_path))\n",
    "model.eval()"
   ]
  },
  {
   "cell_type": "markdown",
   "id": "06acd1e6",
   "metadata": {},
   "source": [
    "### Model Evaluation"
   ]
  },
  {
   "cell_type": "markdown",
   "id": "e76597e5",
   "metadata": {},
   "source": [
    "#### Training Accuracy"
   ]
  },
  {
   "cell_type": "code",
   "execution_count": 92,
   "id": "a90f1dd0",
   "metadata": {},
   "outputs": [
    {
     "data": {
      "application/vnd.jupyter.widget-view+json": {
       "model_id": "4ed64ebc328649d88105743b31169557",
       "version_major": 2,
       "version_minor": 0
      },
      "text/plain": [
       "  0%|          | 0/2022 [00:00<?, ?it/s]"
      ]
     },
     "metadata": {},
     "output_type": "display_data"
    },
    {
     "name": "stdout",
     "output_type": "stream",
     "text": [
      "Train Accuracy: 86.81%\n"
     ]
    }
   ],
   "source": [
    "model.eval()\n",
    "threshold = 0.5\n",
    "\n",
    "with torch.no_grad():\n",
    "    true_labels_train = []\n",
    "    predicted_scores_train = []\n",
    "    for concat_embeddings, labels in tqdm(train_loader):\n",
    "        outputs = model(concat_embeddings)\n",
    "        predicted = (outputs > threshold).float().view(-1)\n",
    "\n",
    "        true_labels_train.extend(labels.cpu().numpy())\n",
    "        predicted_scores_train.extend(outputs.cpu().numpy())\n",
    "\n",
    "true_labels_train = np.array(true_labels_train)\n",
    "predicted_scores_train = np.array(predicted_scores_train)\n",
    "\n",
    "accuracy = accuracy_score(true_labels_train, (predicted_scores_train > threshold)) * 100\n",
    "print(f\"Train Accuracy: {accuracy:.2f}%\")"
   ]
  },
  {
   "cell_type": "markdown",
   "id": "0203b85f",
   "metadata": {},
   "source": [
    "#### Validation Accuracy"
   ]
  },
  {
   "cell_type": "code",
   "execution_count": 93,
   "id": "e8965379",
   "metadata": {},
   "outputs": [
    {
     "data": {
      "application/vnd.jupyter.widget-view+json": {
       "model_id": "e623b3fa383242b2a55a51cf3a803d58",
       "version_major": 2,
       "version_minor": 0
      },
      "text/plain": [
       "  0%|          | 0/506 [00:00<?, ?it/s]"
      ]
     },
     "metadata": {},
     "output_type": "display_data"
    },
    {
     "name": "stdout",
     "output_type": "stream",
     "text": [
      "Validation Accuracy: 75.98%\n"
     ]
    }
   ],
   "source": [
    "model.eval()\n",
    "threshold = 0.5\n",
    "\n",
    "with torch.no_grad():\n",
    "    true_labels_val = []\n",
    "    predicted_scores_val = []\n",
    "    for concat_embeddings, labels in tqdm(val_loader):\n",
    "        outputs = model(concat_embeddings)\n",
    "        predicted = (outputs > threshold).float().view(-1)\n",
    "        \n",
    "        true_labels_val.extend(labels.cpu().numpy())\n",
    "        predicted_scores_val.extend(outputs.cpu().numpy())\n",
    "\n",
    "true_labels_val = np.array(true_labels_val)\n",
    "predicted_scores_val = np.array(predicted_scores_val)\n",
    "\n",
    "accuracy = accuracy_score(true_labels_val, (predicted_scores_val > threshold)) * 100\n",
    "print(f\"Validation Accuracy: {accuracy:.2f}%\")"
   ]
  },
  {
   "cell_type": "markdown",
   "id": "27bfc89f",
   "metadata": {},
   "source": [
    "#### Test Accuracy"
   ]
  },
  {
   "cell_type": "code",
   "execution_count": 94,
   "id": "b6886d2b",
   "metadata": {},
   "outputs": [
    {
     "data": {
      "application/vnd.jupyter.widget-view+json": {
       "model_id": "dc0dc0d0375449cead7cd174b361ce00",
       "version_major": 2,
       "version_minor": 0
      },
      "text/plain": [
       "  0%|          | 0/632 [00:00<?, ?it/s]"
      ]
     },
     "metadata": {},
     "output_type": "display_data"
    },
    {
     "name": "stdout",
     "output_type": "stream",
     "text": [
      "Test Accuracy: 75.62%\n"
     ]
    }
   ],
   "source": [
    "model.eval()\n",
    "threshold = 0.5\n",
    "\n",
    "with torch.no_grad():\n",
    "    true_labels_test = []\n",
    "    predicted_scores_test = []\n",
    "    for concat_embeddings, labels in tqdm(test_loader):\n",
    "        outputs = model(concat_embeddings)\n",
    "        predicted = (outputs > threshold).float().view(-1)\n",
    "        \n",
    "        true_labels_test.extend(labels.cpu().numpy())\n",
    "        predicted_scores_test.extend(outputs.cpu().numpy())\n",
    "\n",
    "true_labels_test = np.array(true_labels_test)\n",
    "predicted_scores_test = np.array(predicted_scores_test)\n",
    "\n",
    "accuracy = accuracy_score(true_labels_test, (predicted_scores_test > threshold)) * 100\n",
    "print(f\"Test Accuracy: {accuracy:.2f}%\")"
   ]
  },
  {
   "cell_type": "markdown",
   "id": "01bc3465",
   "metadata": {},
   "source": [
    "### Other Classification Metrics"
   ]
  },
  {
   "cell_type": "code",
   "execution_count": 95,
   "id": "b6840936",
   "metadata": {},
   "outputs": [],
   "source": [
    "def print_classification_metrics(dataset='test'):\n",
    "    labels = {\n",
    "        'train': (true_labels_train, predicted_scores_train),\n",
    "        'val': (true_labels_val, predicted_scores_val),\n",
    "        'test': (true_labels_test, predicted_scores_test)\n",
    "    }\n",
    "    true, predicted = labels[dataset]\n",
    "\n",
    "    print(classification_report(true, (predicted > threshold)))\n",
    "\n",
    "    fpr, tpr, _ = roc_curve(true, predicted)\n",
    "    roc_auc = auc(fpr, tpr)\n",
    "\n",
    "    # Plot the ROC curve\n",
    "    plt.figure()\n",
    "    plt.plot(fpr, tpr, color='darkorange', lw=2, label=f'AUC = {roc_auc:.2f}')\n",
    "    plt.plot([0, 1], [0, 1], color='navy', lw=2, linestyle='--')\n",
    "    plt.xlim([0.0, 1.0])\n",
    "    plt.ylim([0.0, 1.05]) \n",
    "    plt.xlabel('False Positive Rate')\n",
    "    plt.ylabel('True Positive Rate')\n",
    "    plt.title(f'{dataset.capitalize()} Receiver Operating Characteristic')\n",
    "    plt.legend(loc='lower right')\n",
    "    plt.show()\n",
    "\n",
    "    print(f\"AUC-ROC: {roc_auc:.2f}\")"
   ]
  },
  {
   "cell_type": "code",
   "execution_count": 96,
   "id": "e395eae2",
   "metadata": {},
   "outputs": [
    {
     "name": "stdout",
     "output_type": "stream",
     "text": [
      "              precision    recall  f1-score   support\n",
      "\n",
      "           0       0.89      0.90      0.90    163265\n",
      "           1       0.82      0.82      0.82     95478\n",
      "\n",
      "    accuracy                           0.87    258743\n",
      "   macro avg       0.86      0.86      0.86    258743\n",
      "weighted avg       0.87      0.87      0.87    258743\n",
      "\n"
     ]
    },
    {
     "data": {
      "image/png": "[encoded data removed]",
      "text/plain": [
       "<Figure size 640x480 with 1 Axes>"
      ]
     },
     "metadata": {},
     "output_type": "display_data"
    },
    {
     "name": "stdout",
     "output_type": "stream",
     "text": [
      "AUC-ROC: 0.95\n"
     ]
    }
   ],
   "source": [
    "print_classification_metrics(dataset='train')"
   ]
  },
  {
   "cell_type": "code",
   "execution_count": 97,
   "id": "2f7ca0ac",
   "metadata": {},
   "outputs": [
    {
     "name": "stdout",
     "output_type": "stream",
     "text": [
      "              precision    recall  f1-score   support\n",
      "\n",
      "           0       0.80      0.82      0.81     40733\n",
      "           1       0.68      0.66      0.67     23953\n",
      "\n",
      "    accuracy                           0.76     64686\n",
      "   macro avg       0.74      0.74      0.74     64686\n",
      "weighted avg       0.76      0.76      0.76     64686\n",
      "\n"
     ]
    },
    {
     "data": {
      "image/png": "[encoded data removed]",
      "text/plain": [
       "<Figure size 640x480 with 1 Axes>"
      ]
     },
     "metadata": {},
     "output_type": "display_data"
    },
    {
     "name": "stdout",
     "output_type": "stream",
     "text": [
      "AUC-ROC: 0.82\n"
     ]
    }
   ],
   "source": [
    "print_classification_metrics(dataset='val')"
   ]
  },
  {
   "cell_type": "code",
   "execution_count": 98,
   "id": "cc030053",
   "metadata": {},
   "outputs": [
    {
     "name": "stdout",
     "output_type": "stream",
     "text": [
      "              precision    recall  f1-score   support\n",
      "\n",
      "           0       0.80      0.81      0.81     51026\n",
      "           1       0.67      0.66      0.67     29832\n",
      "\n",
      "    accuracy                           0.76     80858\n",
      "   macro avg       0.74      0.74      0.74     80858\n",
      "weighted avg       0.75      0.76      0.76     80858\n",
      "\n"
     ]
    },
    {
     "data": {
      "image/png": "[encoded data removed]",
      "text/plain": [
       "<Figure size 640x480 with 1 Axes>"
      ]
     },
     "metadata": {},
     "output_type": "display_data"
    },
    {
     "name": "stdout",
     "output_type": "stream",
     "text": [
      "AUC-ROC: 0.82\n"
     ]
    }
   ],
   "source": [
    "print_classification_metrics(dataset='test')"
   ]
  },
  {
   "cell_type": "code",
   "execution_count": null,
   "id": "26323e23",
   "metadata": {},
   "outputs": [],
   "source": []
  }
 ],
 "metadata": {
  "kernelspec": {
   "display_name": "Python 3 (ipykernel)",
   "language": "python",
   "name": "python3"
  },
  "language_info": {
   "codemirror_mode": {
    "name": "ipython",
    "version": 3
   },
   "file_extension": ".py",
   "mimetype": "text/x-python",
   "name": "python",
   "nbconvert_exporter": "python",
   "pygments_lexer": "ipython3",
   "version": "3.11.3"
  }
 },
 "nbformat": 4,
 "nbformat_minor": 5
}
