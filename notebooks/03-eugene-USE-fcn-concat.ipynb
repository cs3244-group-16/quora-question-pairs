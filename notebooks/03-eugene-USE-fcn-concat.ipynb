{
 "cells": [
  {
   "cell_type": "code",
   "execution_count": 1,
   "id": "4c6ff3f5",
   "metadata": {},
   "outputs": [],
   "source": [
    "from os.path import join\n",
    "\n",
    "import numpy as np\n",
    "import pandas as pd\n",
    "\n",
    "import tensorflow as tf\n",
    "import tensorflow_hub as hub\n",
    "\n",
    "import torch\n",
    "import torch.nn as nn\n",
    "\n",
    "from sklearn.metrics.pairwise import cosine_similarity\n",
    "\n",
    "from sklearn.model_selection import train_test_split\n",
    "\n",
    "from torch.utils.data import DataLoader, Dataset\n",
    "\n",
    "from tqdm.notebook import tqdm\n",
    "\n",
    "import matplotlib.pyplot as plt\n",
    "\n",
    "from sklearn.metrics import accuracy_score, roc_curve, auc, classification_report"
   ]
  },
  {
   "cell_type": "code",
   "execution_count": 2,
   "id": "e70cdc32",
   "metadata": {},
   "outputs": [
    {
     "name": "stdout",
     "output_type": "stream",
     "text": [
      "module https://tfhub.dev/google/universal-sentence-encoder/4 loaded\n"
     ]
    }
   ],
   "source": [
    "module_url = \"https://tfhub.dev/google/universal-sentence-encoder/4\"\n",
    "USE_model = hub.load(module_url)\n",
    "print (\"module %s loaded\" % module_url)"
   ]
  },
  {
   "cell_type": "code",
   "execution_count": 3,
   "id": "9e41de7a",
   "metadata": {},
   "outputs": [
    {
     "name": "stdout",
     "output_type": "stream",
     "text": [
      "No GPU available, using CPU.\n"
     ]
    }
   ],
   "source": [
    "torch.manual_seed(42)\n",
    "\n",
    "if torch.cuda.is_available():\n",
    "    device = torch.device(\"cuda\")\n",
    "    print(f\"Using {torch.cuda.get_device_name(0)}\")\n",
    "else:\n",
    "    device = torch.device(\"cpu\")\n",
    "    print(\"No GPU available, using CPU.\")"
   ]
  },
  {
   "cell_type": "code",
   "execution_count": 4,
   "id": "54d99dd4",
   "metadata": {},
   "outputs": [],
   "source": [
    "def embed(input):\n",
    "    return USE_model(input)"
   ]
  },
  {
   "cell_type": "markdown",
   "id": "3fe6d33f",
   "metadata": {},
   "source": [
    "### Importing Dataset"
   ]
  },
  {
   "cell_type": "code",
   "execution_count": 5,
   "id": "66e2660b",
   "metadata": {},
   "outputs": [],
   "source": [
    "DATA_DIR = join('..', 'data', 'glue')"
   ]
  },
  {
   "cell_type": "markdown",
   "id": "32638358",
   "metadata": {
    "id": "F0OnJ7MoClsK",
    "tags": []
   },
   "source": [
    "#### Train Dataset"
   ]
  },
  {
   "cell_type": "code",
   "execution_count": 6,
   "id": "2edb49eb",
   "metadata": {},
   "outputs": [
    {
     "data": {
      "text/html": [
       "<div>\n",
       "<style scoped>\n",
       "    .dataframe tbody tr th:only-of-type {\n",
       "        vertical-align: middle;\n",
       "    }\n",
       "\n",
       "    .dataframe tbody tr th {\n",
       "        vertical-align: top;\n",
       "    }\n",
       "\n",
       "    .dataframe thead th {\n",
       "        text-align: right;\n",
       "    }\n",
       "</style>\n",
       "<table border=\"1\" class=\"dataframe\">\n",
       "  <thead>\n",
       "    <tr style=\"text-align: right;\">\n",
       "      <th></th>\n",
       "      <th>id</th>\n",
       "      <th>qid1</th>\n",
       "      <th>qid2</th>\n",
       "      <th>question1</th>\n",
       "      <th>question2</th>\n",
       "      <th>is_duplicate</th>\n",
       "    </tr>\n",
       "  </thead>\n",
       "  <tbody>\n",
       "    <tr>\n",
       "      <th>0</th>\n",
       "      <td>133273</td>\n",
       "      <td>213221</td>\n",
       "      <td>213222</td>\n",
       "      <td>How is the life of a math student? Could you d...</td>\n",
       "      <td>Which level of prepration is enough for the ex...</td>\n",
       "      <td>0</td>\n",
       "    </tr>\n",
       "    <tr>\n",
       "      <th>1</th>\n",
       "      <td>402555</td>\n",
       "      <td>536040</td>\n",
       "      <td>536041</td>\n",
       "      <td>How do I control my horny emotions?</td>\n",
       "      <td>How do you control your horniness?</td>\n",
       "      <td>1</td>\n",
       "    </tr>\n",
       "    <tr>\n",
       "      <th>2</th>\n",
       "      <td>360472</td>\n",
       "      <td>364011</td>\n",
       "      <td>490273</td>\n",
       "      <td>What causes stool color to change to yellow?</td>\n",
       "      <td>What can cause stool to come out as little balls?</td>\n",
       "      <td>0</td>\n",
       "    </tr>\n",
       "    <tr>\n",
       "      <th>3</th>\n",
       "      <td>150662</td>\n",
       "      <td>155721</td>\n",
       "      <td>7256</td>\n",
       "      <td>What can one do after MBBS?</td>\n",
       "      <td>What do i do after my MBBS ?</td>\n",
       "      <td>1</td>\n",
       "    </tr>\n",
       "    <tr>\n",
       "      <th>4</th>\n",
       "      <td>183004</td>\n",
       "      <td>279958</td>\n",
       "      <td>279959</td>\n",
       "      <td>Where can I find a power outlet for my laptop ...</td>\n",
       "      <td>Would a second airport in Sydney, Australia be...</td>\n",
       "      <td>0</td>\n",
       "    </tr>\n",
       "  </tbody>\n",
       "</table>\n",
       "</div>"
      ],
      "text/plain": [
       "       id    qid1    qid2                                          question1  \\\n",
       "0  133273  213221  213222  How is the life of a math student? Could you d...   \n",
       "1  402555  536040  536041                How do I control my horny emotions?   \n",
       "2  360472  364011  490273       What causes stool color to change to yellow?   \n",
       "3  150662  155721    7256                        What can one do after MBBS?   \n",
       "4  183004  279958  279959  Where can I find a power outlet for my laptop ...   \n",
       "\n",
       "                                           question2  is_duplicate  \n",
       "0  Which level of prepration is enough for the ex...             0  \n",
       "1                 How do you control your horniness?             1  \n",
       "2  What can cause stool to come out as little balls?             0  \n",
       "3                       What do i do after my MBBS ?             1  \n",
       "4  Would a second airport in Sydney, Australia be...             0  "
      ]
     },
     "execution_count": 6,
     "metadata": {},
     "output_type": "execute_result"
    }
   ],
   "source": [
    "train_full_df = pd.read_csv(join(DATA_DIR, 'train.tsv'), sep='\\t')\n",
    "train_full_df.head()"
   ]
  },
  {
   "cell_type": "code",
   "execution_count": 9,
   "id": "d7acd122",
   "metadata": {},
   "outputs": [],
   "source": [
    "def remove_nulls(df):\n",
    "    print(f\"Initial dataframe has {len(df)} rows.\")\n",
    "    null_rows = df[df.isnull().values.any(1)]\n",
    "    print(f\"Dataframe has {len(null_rows)} null rows.\")\n",
    "    df = df.dropna(how='any')\n",
    "    print(f\"Dataframe has {len(df)} rows after removing null values.\")\n",
    "    return df"
   ]
  },
  {
   "cell_type": "code",
   "execution_count": 10,
   "id": "2b191829",
   "metadata": {},
   "outputs": [
    {
     "name": "stdout",
     "output_type": "stream",
     "text": [
      "Initial dataframe has 363846 rows.\n",
      "Dataframe has 0 null rows.\n",
      "Dataframe has 363846 rows after removing null values.\n"
     ]
    }
   ],
   "source": [
    "train_full_df = remove_nulls(train_full_df)"
   ]
  },
  {
   "cell_type": "code",
   "execution_count": 11,
   "id": "1333ac9b",
   "metadata": {
    "scrolled": true
   },
   "outputs": [
    {
     "data": {
      "text/plain": [
       "(363846, 6)"
      ]
     },
     "execution_count": 11,
     "metadata": {},
     "output_type": "execute_result"
    }
   ],
   "source": [
    "train_full_df.shape"
   ]
  },
  {
   "cell_type": "markdown",
   "id": "be74831f",
   "metadata": {},
   "source": [
    "#### Test Dataset"
   ]
  },
  {
   "cell_type": "code",
   "execution_count": 12,
   "id": "f173aafc",
   "metadata": {},
   "outputs": [
    {
     "data": {
      "text/html": [
       "<div>\n",
       "<style scoped>\n",
       "    .dataframe tbody tr th:only-of-type {\n",
       "        vertical-align: middle;\n",
       "    }\n",
       "\n",
       "    .dataframe tbody tr th {\n",
       "        vertical-align: top;\n",
       "    }\n",
       "\n",
       "    .dataframe thead th {\n",
       "        text-align: right;\n",
       "    }\n",
       "</style>\n",
       "<table border=\"1\" class=\"dataframe\">\n",
       "  <thead>\n",
       "    <tr style=\"text-align: right;\">\n",
       "      <th></th>\n",
       "      <th>id</th>\n",
       "      <th>qid1</th>\n",
       "      <th>qid2</th>\n",
       "      <th>question1</th>\n",
       "      <th>question2</th>\n",
       "      <th>is_duplicate</th>\n",
       "    </tr>\n",
       "  </thead>\n",
       "  <tbody>\n",
       "    <tr>\n",
       "      <th>0</th>\n",
       "      <td>201359</td>\n",
       "      <td>303345</td>\n",
       "      <td>303346</td>\n",
       "      <td>Why are African-Americans so beautiful?</td>\n",
       "      <td>Why are hispanics so beautiful?</td>\n",
       "      <td>0</td>\n",
       "    </tr>\n",
       "    <tr>\n",
       "      <th>1</th>\n",
       "      <td>263843</td>\n",
       "      <td>69383</td>\n",
       "      <td>380476</td>\n",
       "      <td>I want to pursue PhD in Computer Science about...</td>\n",
       "      <td>I handle social media for a non-profit. Should...</td>\n",
       "      <td>0</td>\n",
       "    </tr>\n",
       "    <tr>\n",
       "      <th>2</th>\n",
       "      <td>172974</td>\n",
       "      <td>266948</td>\n",
       "      <td>175089</td>\n",
       "      <td>Is there a reason why we should travel alone?</td>\n",
       "      <td>What are some reasons to travel alone?</td>\n",
       "      <td>1</td>\n",
       "    </tr>\n",
       "    <tr>\n",
       "      <th>3</th>\n",
       "      <td>15329</td>\n",
       "      <td>29298</td>\n",
       "      <td>29299</td>\n",
       "      <td>Why are people so obsessed with having a girlf...</td>\n",
       "      <td>How can a single male have a child?</td>\n",
       "      <td>0</td>\n",
       "    </tr>\n",
       "    <tr>\n",
       "      <th>4</th>\n",
       "      <td>209794</td>\n",
       "      <td>314169</td>\n",
       "      <td>314170</td>\n",
       "      <td>What are some good baby girl names starting wi...</td>\n",
       "      <td>What are some good baby girl names starting wi...</td>\n",
       "      <td>0</td>\n",
       "    </tr>\n",
       "  </tbody>\n",
       "</table>\n",
       "</div>"
      ],
      "text/plain": [
       "       id    qid1    qid2                                          question1  \\\n",
       "0  201359  303345  303346            Why are African-Americans so beautiful?   \n",
       "1  263843   69383  380476  I want to pursue PhD in Computer Science about...   \n",
       "2  172974  266948  175089      Is there a reason why we should travel alone?   \n",
       "3   15329   29298   29299  Why are people so obsessed with having a girlf...   \n",
       "4  209794  314169  314170  What are some good baby girl names starting wi...   \n",
       "\n",
       "                                           question2  is_duplicate  \n",
       "0                    Why are hispanics so beautiful?             0  \n",
       "1  I handle social media for a non-profit. Should...             0  \n",
       "2             What are some reasons to travel alone?             1  \n",
       "3                How can a single male have a child?             0  \n",
       "4  What are some good baby girl names starting wi...             0  "
      ]
     },
     "execution_count": 12,
     "metadata": {},
     "output_type": "execute_result"
    }
   ],
   "source": [
    "test_df = pd.read_csv(join(DATA_DIR, 'dev.tsv'), sep='\\t')\n",
    "test_df.head()"
   ]
  },
  {
   "cell_type": "code",
   "execution_count": 13,
   "id": "68d63367",
   "metadata": {},
   "outputs": [
    {
     "data": {
      "text/plain": [
       "(40430, 6)"
      ]
     },
     "execution_count": 13,
     "metadata": {},
     "output_type": "execute_result"
    }
   ],
   "source": [
    "test_df.shape"
   ]
  },
  {
   "cell_type": "markdown",
   "id": "43bc3819",
   "metadata": {},
   "source": [
    "#### Train and Dev Dataset"
   ]
  },
  {
   "cell_type": "code",
   "execution_count": 14,
   "id": "85c76d01",
   "metadata": {},
   "outputs": [],
   "source": [
    "train_df, dev_df = train_test_split(train_full_df, test_size=0.1, random_state=42)"
   ]
  },
  {
   "cell_type": "code",
   "execution_count": 15,
   "id": "8cec1eac",
   "metadata": {},
   "outputs": [
    {
     "data": {
      "text/plain": [
       "(327461, 36385)"
      ]
     },
     "execution_count": 15,
     "metadata": {},
     "output_type": "execute_result"
    }
   ],
   "source": [
    "len(train_df), len(dev_df)"
   ]
  },
  {
   "cell_type": "code",
   "execution_count": 16,
   "id": "3c1bebe8",
   "metadata": {},
   "outputs": [
    {
     "data": {
      "text/html": [
       "<div>\n",
       "<style scoped>\n",
       "    .dataframe tbody tr th:only-of-type {\n",
       "        vertical-align: middle;\n",
       "    }\n",
       "\n",
       "    .dataframe tbody tr th {\n",
       "        vertical-align: top;\n",
       "    }\n",
       "\n",
       "    .dataframe thead th {\n",
       "        text-align: right;\n",
       "    }\n",
       "</style>\n",
       "<table border=\"1\" class=\"dataframe\">\n",
       "  <thead>\n",
       "    <tr style=\"text-align: right;\">\n",
       "      <th></th>\n",
       "      <th>id</th>\n",
       "      <th>qid1</th>\n",
       "      <th>qid2</th>\n",
       "      <th>question1</th>\n",
       "      <th>question2</th>\n",
       "      <th>is_duplicate</th>\n",
       "    </tr>\n",
       "  </thead>\n",
       "  <tbody>\n",
       "    <tr>\n",
       "      <th>80519</th>\n",
       "      <td>51432</td>\n",
       "      <td>91228</td>\n",
       "      <td>91229</td>\n",
       "      <td>Which topic is the most followed in Quora?</td>\n",
       "      <td>What topic on Quora has the most followers?</td>\n",
       "      <td>1</td>\n",
       "    </tr>\n",
       "    <tr>\n",
       "      <th>349125</th>\n",
       "      <td>52249</td>\n",
       "      <td>92541</td>\n",
       "      <td>92542</td>\n",
       "      <td>What does it feel like to have sex with a rela...</td>\n",
       "      <td>Is it possible to eat more than you weigh?</td>\n",
       "      <td>0</td>\n",
       "    </tr>\n",
       "    <tr>\n",
       "      <th>126605</th>\n",
       "      <td>135176</td>\n",
       "      <td>215925</td>\n",
       "      <td>215926</td>\n",
       "      <td>Can I get back my best friend?</td>\n",
       "      <td>How do I get back to my best friend as my lover?</td>\n",
       "      <td>0</td>\n",
       "    </tr>\n",
       "    <tr>\n",
       "      <th>6008</th>\n",
       "      <td>184003</td>\n",
       "      <td>281230</td>\n",
       "      <td>281231</td>\n",
       "      <td>Are there solar systems that act like a double...</td>\n",
       "      <td>As a Navy SEAL do you feel as if people are af...</td>\n",
       "      <td>0</td>\n",
       "    </tr>\n",
       "    <tr>\n",
       "      <th>292788</th>\n",
       "      <td>5971</td>\n",
       "      <td>11714</td>\n",
       "      <td>11715</td>\n",
       "      <td>Why are there only few magnets?</td>\n",
       "      <td>Why is there only few magnets?</td>\n",
       "      <td>1</td>\n",
       "    </tr>\n",
       "  </tbody>\n",
       "</table>\n",
       "</div>"
      ],
      "text/plain": [
       "            id    qid1    qid2  \\\n",
       "80519    51432   91228   91229   \n",
       "349125   52249   92541   92542   \n",
       "126605  135176  215925  215926   \n",
       "6008    184003  281230  281231   \n",
       "292788    5971   11714   11715   \n",
       "\n",
       "                                                question1  \\\n",
       "80519          Which topic is the most followed in Quora?   \n",
       "349125  What does it feel like to have sex with a rela...   \n",
       "126605                     Can I get back my best friend?   \n",
       "6008    Are there solar systems that act like a double...   \n",
       "292788                    Why are there only few magnets?   \n",
       "\n",
       "                                                question2  is_duplicate  \n",
       "80519         What topic on Quora has the most followers?             1  \n",
       "349125         Is it possible to eat more than you weigh?             0  \n",
       "126605   How do I get back to my best friend as my lover?             0  \n",
       "6008    As a Navy SEAL do you feel as if people are af...             0  \n",
       "292788                     Why is there only few magnets?             1  "
      ]
     },
     "execution_count": 16,
     "metadata": {},
     "output_type": "execute_result"
    }
   ],
   "source": [
    "train_df.head()"
   ]
  },
  {
   "cell_type": "code",
   "execution_count": 17,
   "id": "7a1632cd",
   "metadata": {},
   "outputs": [
    {
     "data": {
      "text/html": [
       "<div>\n",
       "<style scoped>\n",
       "    .dataframe tbody tr th:only-of-type {\n",
       "        vertical-align: middle;\n",
       "    }\n",
       "\n",
       "    .dataframe tbody tr th {\n",
       "        vertical-align: top;\n",
       "    }\n",
       "\n",
       "    .dataframe thead th {\n",
       "        text-align: right;\n",
       "    }\n",
       "</style>\n",
       "<table border=\"1\" class=\"dataframe\">\n",
       "  <thead>\n",
       "    <tr style=\"text-align: right;\">\n",
       "      <th></th>\n",
       "      <th>id</th>\n",
       "      <th>qid1</th>\n",
       "      <th>qid2</th>\n",
       "      <th>question1</th>\n",
       "      <th>question2</th>\n",
       "      <th>is_duplicate</th>\n",
       "    </tr>\n",
       "  </thead>\n",
       "  <tbody>\n",
       "    <tr>\n",
       "      <th>215130</th>\n",
       "      <td>328831</td>\n",
       "      <td>455423</td>\n",
       "      <td>455424</td>\n",
       "      <td>Why do some people think that having a baby is...</td>\n",
       "      <td>Why is having a baby a blessing?</td>\n",
       "      <td>1</td>\n",
       "    </tr>\n",
       "    <tr>\n",
       "      <th>234600</th>\n",
       "      <td>41794</td>\n",
       "      <td>75402</td>\n",
       "      <td>75403</td>\n",
       "      <td>How vulnerable are paratroopers on their desce...</td>\n",
       "      <td>Are conventional paratroopers obsolete?</td>\n",
       "      <td>0</td>\n",
       "    </tr>\n",
       "    <tr>\n",
       "      <th>118406</th>\n",
       "      <td>184181</td>\n",
       "      <td>56834</td>\n",
       "      <td>281459</td>\n",
       "      <td>Examples of sole proprietorship? The</td>\n",
       "      <td>How are sole proprietorships started?</td>\n",
       "      <td>0</td>\n",
       "    </tr>\n",
       "    <tr>\n",
       "      <th>284746</th>\n",
       "      <td>61939</td>\n",
       "      <td>50127</td>\n",
       "      <td>69389</td>\n",
       "      <td>Why don't I get answers for some of my questio...</td>\n",
       "      <td>Why do some questions get more answers here in...</td>\n",
       "      <td>1</td>\n",
       "    </tr>\n",
       "    <tr>\n",
       "      <th>300683</th>\n",
       "      <td>352765</td>\n",
       "      <td>481723</td>\n",
       "      <td>13812</td>\n",
       "      <td>Do Kashmiris wants to join Pakistan?</td>\n",
       "      <td>Do the people of Kashmir want to join Pakistan...</td>\n",
       "      <td>0</td>\n",
       "    </tr>\n",
       "  </tbody>\n",
       "</table>\n",
       "</div>"
      ],
      "text/plain": [
       "            id    qid1    qid2  \\\n",
       "215130  328831  455423  455424   \n",
       "234600   41794   75402   75403   \n",
       "118406  184181   56834  281459   \n",
       "284746   61939   50127   69389   \n",
       "300683  352765  481723   13812   \n",
       "\n",
       "                                                question1  \\\n",
       "215130  Why do some people think that having a baby is...   \n",
       "234600  How vulnerable are paratroopers on their desce...   \n",
       "118406               Examples of sole proprietorship? The   \n",
       "284746  Why don't I get answers for some of my questio...   \n",
       "300683               Do Kashmiris wants to join Pakistan?   \n",
       "\n",
       "                                                question2  is_duplicate  \n",
       "215130                   Why is having a baby a blessing?             1  \n",
       "234600            Are conventional paratroopers obsolete?             0  \n",
       "118406              How are sole proprietorships started?             0  \n",
       "284746  Why do some questions get more answers here in...             1  \n",
       "300683  Do the people of Kashmir want to join Pakistan...             0  "
      ]
     },
     "execution_count": 17,
     "metadata": {},
     "output_type": "execute_result"
    }
   ],
   "source": [
    "dev_df.head()"
   ]
  },
  {
   "cell_type": "markdown",
   "id": "b31be4cc",
   "metadata": {},
   "source": [
    "### Splitting Into X and y"
   ]
  },
  {
   "cell_type": "code",
   "execution_count": 18,
   "id": "c1a6769f",
   "metadata": {},
   "outputs": [],
   "source": [
    "X_train = train_df.iloc[:,:-1]\n",
    "y_train = train_df.iloc[:, -1]"
   ]
  },
  {
   "cell_type": "code",
   "execution_count": 19,
   "id": "dad56726",
   "metadata": {},
   "outputs": [],
   "source": [
    "X_test = test_df.iloc[:,:-1]\n",
    "y_test = test_df.iloc[:,-1]"
   ]
  },
  {
   "cell_type": "code",
   "execution_count": 20,
   "id": "f71ae3c7",
   "metadata": {},
   "outputs": [],
   "source": [
    "X_dev = dev_df.iloc[:,:-1]\n",
    "y_dev = dev_df.iloc[:,-1]"
   ]
  },
  {
   "cell_type": "markdown",
   "id": "fbd2210c",
   "metadata": {},
   "source": [
    "### Model Definition"
   ]
  },
  {
   "cell_type": "code",
   "execution_count": 21,
   "id": "69bcee58",
   "metadata": {},
   "outputs": [],
   "source": [
    "class EmbeddingConcatenateModel(nn.Module):\n",
    "    \n",
    "    def __init__(self, input_dim, num_layers, hidden_size=256, use_batchnorm=False):\n",
    "        super(EmbeddingConcatenateModel, self).__init__()\n",
    "        \n",
    "        layers = []\n",
    "        \n",
    "        # input layer\n",
    "        layers.append(nn.Linear(input_dim, hidden_size))\n",
    "        \n",
    "        if use_batchnorm:\n",
    "            layers.append(nn.BatchNorm1d(hidden_size))\n",
    "        \n",
    "        # hidden layers\n",
    "        for _ in range(num_layers - 2):\n",
    "            layers.extend([nn.ReLU(), nn.Linear(hidden_size, hidden_size)])\n",
    "            if use_batchnorm:\n",
    "                layers.append(nn.BatchNorm1d(hidden_size))\n",
    "        \n",
    "        # output layer\n",
    "        layers.append(nn.Linear(hidden_size, 1))\n",
    "        \n",
    "        self.fc = nn.Sequential(*layers)\n",
    "        \n",
    "        self.sigmoid = nn.Sigmoid()\n",
    "        \n",
    "    def forward(self, x):\n",
    "        x = self.fc(x)\n",
    "        x = self.sigmoid(x)\n",
    "        return x"
   ]
  },
  {
   "cell_type": "markdown",
   "id": "a047133f",
   "metadata": {},
   "source": [
    "### Dataset Preparation"
   ]
  },
  {
   "cell_type": "code",
   "execution_count": 22,
   "id": "803f1bc4",
   "metadata": {
    "scrolled": true
   },
   "outputs": [],
   "source": [
    "def get_question_embeddings(df):\n",
    "    df['q1_embeddings'] = df['question1'].apply(lambda x: embed([x]))\n",
    "    df['q2_embeddings'] = df['question2'].apply(lambda x: embed([x]))\n",
    "    \n",
    "    df['q1_embeddings'] = df['q1_embeddings'].apply(lambda x: np.array(x).reshape(-1))\n",
    "    df['q2_embeddings'] = df['q2_embeddings'].apply(lambda x: np.array(x).reshape(-1))\n",
    "    \n",
    "    return df[['q1_embeddings', 'q2_embeddings']] "
   ]
  },
  {
   "cell_type": "code",
   "execution_count": 23,
   "id": "485dca19",
   "metadata": {},
   "outputs": [
    {
     "data": {
      "text/html": [
       "<div>\n",
       "<style scoped>\n",
       "    .dataframe tbody tr th:only-of-type {\n",
       "        vertical-align: middle;\n",
       "    }\n",
       "\n",
       "    .dataframe tbody tr th {\n",
       "        vertical-align: top;\n",
       "    }\n",
       "\n",
       "    .dataframe thead th {\n",
       "        text-align: right;\n",
       "    }\n",
       "</style>\n",
       "<table border=\"1\" class=\"dataframe\">\n",
       "  <thead>\n",
       "    <tr style=\"text-align: right;\">\n",
       "      <th></th>\n",
       "      <th>q1_embeddings</th>\n",
       "      <th>q2_embeddings</th>\n",
       "    </tr>\n",
       "  </thead>\n",
       "  <tbody>\n",
       "    <tr>\n",
       "      <th>80519</th>\n",
       "      <td>[-0.07053549, 0.019891663, 0.058807094, -0.031...</td>\n",
       "      <td>[-0.049306873, 0.043122586, 0.031648055, -0.05...</td>\n",
       "    </tr>\n",
       "    <tr>\n",
       "      <th>349125</th>\n",
       "      <td>[-0.018824844, 0.004940543, -0.011443868, 0.00...</td>\n",
       "      <td>[-0.04775595, -0.0010672337, 0.04243763, 0.053...</td>\n",
       "    </tr>\n",
       "    <tr>\n",
       "      <th>126605</th>\n",
       "      <td>[-0.040229164, -0.05839186, -0.020360488, 0.00...</td>\n",
       "      <td>[-0.011274554, 0.0008139867, -0.0019748777, -0...</td>\n",
       "    </tr>\n",
       "    <tr>\n",
       "      <th>6008</th>\n",
       "      <td>[-0.051296253, -0.031798534, -0.026910208, 0.0...</td>\n",
       "      <td>[0.024865713, 0.017299637, -0.0067391163, -0.0...</td>\n",
       "    </tr>\n",
       "    <tr>\n",
       "      <th>292788</th>\n",
       "      <td>[-0.05238449, -0.028794004, 0.065796725, 0.001...</td>\n",
       "      <td>[-0.05432893, -0.026234463, 0.06770816, -0.001...</td>\n",
       "    </tr>\n",
       "  </tbody>\n",
       "</table>\n",
       "</div>"
      ],
      "text/plain": [
       "                                            q1_embeddings  \\\n",
       "80519   [-0.07053549, 0.019891663, 0.058807094, -0.031...   \n",
       "349125  [-0.018824844, 0.004940543, -0.011443868, 0.00...   \n",
       "126605  [-0.040229164, -0.05839186, -0.020360488, 0.00...   \n",
       "6008    [-0.051296253, -0.031798534, -0.026910208, 0.0...   \n",
       "292788  [-0.05238449, -0.028794004, 0.065796725, 0.001...   \n",
       "\n",
       "                                            q2_embeddings  \n",
       "80519   [-0.049306873, 0.043122586, 0.031648055, -0.05...  \n",
       "349125  [-0.04775595, -0.0010672337, 0.04243763, 0.053...  \n",
       "126605  [-0.011274554, 0.0008139867, -0.0019748777, -0...  \n",
       "6008    [0.024865713, 0.017299637, -0.0067391163, -0.0...  \n",
       "292788  [-0.05432893, -0.026234463, 0.06770816, -0.001...  "
      ]
     },
     "execution_count": 23,
     "metadata": {},
     "output_type": "execute_result"
    }
   ],
   "source": [
    "X_train = X_train[['question1', 'question2']]\n",
    "X_train = get_question_embeddings(X_train)\n",
    "X_train.head()"
   ]
  },
  {
   "cell_type": "code",
   "execution_count": 24,
   "id": "d3a811fd",
   "metadata": {},
   "outputs": [
    {
     "data": {
      "text/html": [
       "<div>\n",
       "<style scoped>\n",
       "    .dataframe tbody tr th:only-of-type {\n",
       "        vertical-align: middle;\n",
       "    }\n",
       "\n",
       "    .dataframe tbody tr th {\n",
       "        vertical-align: top;\n",
       "    }\n",
       "\n",
       "    .dataframe thead th {\n",
       "        text-align: right;\n",
       "    }\n",
       "</style>\n",
       "<table border=\"1\" class=\"dataframe\">\n",
       "  <thead>\n",
       "    <tr style=\"text-align: right;\">\n",
       "      <th></th>\n",
       "      <th>q1_embeddings</th>\n",
       "      <th>q2_embeddings</th>\n",
       "    </tr>\n",
       "  </thead>\n",
       "  <tbody>\n",
       "    <tr>\n",
       "      <th>0</th>\n",
       "      <td>[0.008276562, -0.029414328, 0.025880737, -0.00...</td>\n",
       "      <td>[0.019892484, -0.020316174, -0.02125712, -0.00...</td>\n",
       "    </tr>\n",
       "    <tr>\n",
       "      <th>1</th>\n",
       "      <td>[0.07904035, -0.060866363, -0.02071482, 0.0086...</td>\n",
       "      <td>[0.0117558865, -0.042856693, -0.0092335995, -0...</td>\n",
       "    </tr>\n",
       "    <tr>\n",
       "      <th>2</th>\n",
       "      <td>[0.041346375, -0.044022333, 0.050806224, 0.005...</td>\n",
       "      <td>[0.03366801, -0.07050657, 0.048292905, -0.0267...</td>\n",
       "    </tr>\n",
       "    <tr>\n",
       "      <th>3</th>\n",
       "      <td>[0.06213628, -0.056327634, -0.026500866, -0.02...</td>\n",
       "      <td>[-0.022136766, -0.04619302, -0.003909536, 0.05...</td>\n",
       "    </tr>\n",
       "    <tr>\n",
       "      <th>4</th>\n",
       "      <td>[-0.08302937, -0.06837943, -0.02438911, 0.0843...</td>\n",
       "      <td>[-0.08153154, -0.06526433, -0.029430525, 0.083...</td>\n",
       "    </tr>\n",
       "  </tbody>\n",
       "</table>\n",
       "</div>"
      ],
      "text/plain": [
       "                                       q1_embeddings  \\\n",
       "0  [0.008276562, -0.029414328, 0.025880737, -0.00...   \n",
       "1  [0.07904035, -0.060866363, -0.02071482, 0.0086...   \n",
       "2  [0.041346375, -0.044022333, 0.050806224, 0.005...   \n",
       "3  [0.06213628, -0.056327634, -0.026500866, -0.02...   \n",
       "4  [-0.08302937, -0.06837943, -0.02438911, 0.0843...   \n",
       "\n",
       "                                       q2_embeddings  \n",
       "0  [0.019892484, -0.020316174, -0.02125712, -0.00...  \n",
       "1  [0.0117558865, -0.042856693, -0.0092335995, -0...  \n",
       "2  [0.03366801, -0.07050657, 0.048292905, -0.0267...  \n",
       "3  [-0.022136766, -0.04619302, -0.003909536, 0.05...  \n",
       "4  [-0.08153154, -0.06526433, -0.029430525, 0.083...  "
      ]
     },
     "execution_count": 24,
     "metadata": {},
     "output_type": "execute_result"
    }
   ],
   "source": [
    "X_test = X_test[['question1', 'question2']]\n",
    "X_test = get_question_embeddings(X_test)\n",
    "X_test.head()"
   ]
  },
  {
   "cell_type": "code",
   "execution_count": 25,
   "id": "726c2a70",
   "metadata": {},
   "outputs": [
    {
     "data": {
      "text/html": [
       "<div>\n",
       "<style scoped>\n",
       "    .dataframe tbody tr th:only-of-type {\n",
       "        vertical-align: middle;\n",
       "    }\n",
       "\n",
       "    .dataframe tbody tr th {\n",
       "        vertical-align: top;\n",
       "    }\n",
       "\n",
       "    .dataframe thead th {\n",
       "        text-align: right;\n",
       "    }\n",
       "</style>\n",
       "<table border=\"1\" class=\"dataframe\">\n",
       "  <thead>\n",
       "    <tr style=\"text-align: right;\">\n",
       "      <th></th>\n",
       "      <th>q1_embeddings</th>\n",
       "      <th>q2_embeddings</th>\n",
       "    </tr>\n",
       "  </thead>\n",
       "  <tbody>\n",
       "    <tr>\n",
       "      <th>215130</th>\n",
       "      <td>[0.023980305, -0.07504892, 0.0064894054, -0.04...</td>\n",
       "      <td>[-0.044340335, -0.06813163, 0.035747238, 0.010...</td>\n",
       "    </tr>\n",
       "    <tr>\n",
       "      <th>234600</th>\n",
       "      <td>[-0.00073044695, 0.044113394, -0.030121082, 0....</td>\n",
       "      <td>[-0.06418873, -0.033711176, -0.028587522, -0.0...</td>\n",
       "    </tr>\n",
       "    <tr>\n",
       "      <th>118406</th>\n",
       "      <td>[-0.042499803, 0.007981877, -0.080264464, 0.03...</td>\n",
       "      <td>[-0.06065388, -0.025537169, -0.003298814, 0.05...</td>\n",
       "    </tr>\n",
       "    <tr>\n",
       "      <th>284746</th>\n",
       "      <td>[0.02171729, 0.058587454, 0.058274187, -0.0559...</td>\n",
       "      <td>[-0.010653373, 0.05201364, 0.06448192, -0.0426...</td>\n",
       "    </tr>\n",
       "    <tr>\n",
       "      <th>300683</th>\n",
       "      <td>[0.059680253, -0.07468135, 0.0011123063, 0.004...</td>\n",
       "      <td>[0.022851152, -0.06449918, 0.008423221, -0.023...</td>\n",
       "    </tr>\n",
       "  </tbody>\n",
       "</table>\n",
       "</div>"
      ],
      "text/plain": [
       "                                            q1_embeddings  \\\n",
       "215130  [0.023980305, -0.07504892, 0.0064894054, -0.04...   \n",
       "234600  [-0.00073044695, 0.044113394, -0.030121082, 0....   \n",
       "118406  [-0.042499803, 0.007981877, -0.080264464, 0.03...   \n",
       "284746  [0.02171729, 0.058587454, 0.058274187, -0.0559...   \n",
       "300683  [0.059680253, -0.07468135, 0.0011123063, 0.004...   \n",
       "\n",
       "                                            q2_embeddings  \n",
       "215130  [-0.044340335, -0.06813163, 0.035747238, 0.010...  \n",
       "234600  [-0.06418873, -0.033711176, -0.028587522, -0.0...  \n",
       "118406  [-0.06065388, -0.025537169, -0.003298814, 0.05...  \n",
       "284746  [-0.010653373, 0.05201364, 0.06448192, -0.0426...  \n",
       "300683  [0.022851152, -0.06449918, 0.008423221, -0.023...  "
      ]
     },
     "execution_count": 25,
     "metadata": {},
     "output_type": "execute_result"
    }
   ],
   "source": [
    "X_dev = X_dev[['question1', 'question2']]\n",
    "X_dev = get_question_embeddings(X_dev)\n",
    "X_dev.head()"
   ]
  },
  {
   "cell_type": "code",
   "execution_count": 26,
   "id": "04015a27",
   "metadata": {},
   "outputs": [],
   "source": [
    "class DuplicateQuestionDataset(Dataset):\n",
    "\n",
    "    def __init__(self, question_embeddings, labels):\n",
    "        self.question_embeddings = question_embeddings\n",
    "        self.labels = labels\n",
    "\n",
    "    def __len__(self):\n",
    "        return len(self.question_embeddings)\n",
    "\n",
    "    def __getitem__(self, idx):\n",
    "        q1_embeddings, q2_embeddings = self.question_embeddings.iloc[idx]\n",
    "        \n",
    "        # convert to numpy array\n",
    "        q1_embeddings = np.array(q1_embeddings)\n",
    "        q2_embeddings = np.array(q1_embeddings)\n",
    "\n",
    "        # concatenate vectors to get a 1024-dimensional vector\n",
    "        result = torch.cat((torch.from_numpy(q1_embeddings), torch.from_numpy(q2_embeddings)), 0).to(device)\n",
    "\n",
    "        label = torch.tensor(self.labels.iloc[idx]).to(device)\n",
    "        return result, label"
   ]
  },
  {
   "cell_type": "code",
   "execution_count": 27,
   "id": "0321ee79",
   "metadata": {},
   "outputs": [],
   "source": [
    "# batch size\n",
    "batch_size = 128\n",
    "\n",
    "train_dataset = DuplicateQuestionDataset(X_train, y_train)\n",
    "train_loader = DataLoader(train_dataset, batch_size=batch_size, shuffle=True)\n",
    "\n",
    "val_dataset = DuplicateQuestionDataset(X_dev, y_dev)\n",
    "val_loader = DataLoader(val_dataset, batch_size=batch_size, shuffle=True)\n",
    "\n",
    "test_dataset = DuplicateQuestionDataset(X_test, y_test)\n",
    "test_loader = DataLoader(test_dataset, batch_size=batch_size, shuffle=True)"
   ]
  },
  {
   "cell_type": "markdown",
   "id": "acb75a5c",
   "metadata": {},
   "source": [
    "### Model Initialisation & Hyperparameter Setting"
   ]
  },
  {
   "cell_type": "code",
   "execution_count": 28,
   "id": "424009db",
   "metadata": {},
   "outputs": [
    {
     "data": {
      "text/plain": [
       "328449"
      ]
     },
     "execution_count": 28,
     "metadata": {},
     "output_type": "execute_result"
    }
   ],
   "source": [
    "# hyperparameters\n",
    "num_layers = 3\n",
    "hidden_size = 256\n",
    "learning_rate = 0.0015\n",
    "\n",
    "# constant\n",
    "input_dim = 1024\n",
    "\n",
    "# initialise model\n",
    "model = EmbeddingConcatenateModel(input_dim, num_layers=num_layers, hidden_size=hidden_size, use_batchnorm=False).to(device)\n",
    "\n",
    "# training mode\n",
    "model.train()\n",
    "\n",
    "criterion = nn.BCELoss()\n",
    "optimizer = torch.optim.Adam(model.parameters(), lr=learning_rate)\n",
    "\n",
    "total_params = sum(p.numel() for p in model.parameters())\n",
    "total_params"
   ]
  },
  {
   "cell_type": "markdown",
   "id": "3480cc39",
   "metadata": {},
   "source": [
    "### Model Training"
   ]
  },
  {
   "cell_type": "code",
   "execution_count": 29,
   "id": "4ecc4242",
   "metadata": {
    "scrolled": true
   },
   "outputs": [
    {
     "data": {
      "application/vnd.jupyter.widget-view+json": {
       "model_id": "64db9fb0e2114afb9cacd132c2489441",
       "version_major": 2,
       "version_minor": 0
      },
      "text/plain": [
       "  0%|          | 0/2559 [00:00<?, ?it/s]"
      ]
     },
     "metadata": {},
     "output_type": "display_data"
    },
    {
     "name": "stdout",
     "output_type": "stream",
     "text": [
      "Epoch 1: Loss = 0.5330\n"
     ]
    },
    {
     "data": {
      "application/vnd.jupyter.widget-view+json": {
       "model_id": "8e7ced1432b34ccdb98e50b530cf723f",
       "version_major": 2,
       "version_minor": 0
      },
      "text/plain": [
       "  0%|          | 0/2559 [00:00<?, ?it/s]"
      ]
     },
     "metadata": {},
     "output_type": "display_data"
    },
    {
     "name": "stdout",
     "output_type": "stream",
     "text": [
      "Epoch 2: Loss = 0.4984\n"
     ]
    },
    {
     "data": {
      "application/vnd.jupyter.widget-view+json": {
       "model_id": "2c82f4ba00fa4068861ac660c1f076fa",
       "version_major": 2,
       "version_minor": 0
      },
      "text/plain": [
       "  0%|          | 0/2559 [00:00<?, ?it/s]"
      ]
     },
     "metadata": {},
     "output_type": "display_data"
    },
    {
     "name": "stdout",
     "output_type": "stream",
     "text": [
      "Epoch 3: Loss = 0.4756\n"
     ]
    },
    {
     "data": {
      "application/vnd.jupyter.widget-view+json": {
       "model_id": "67dd5fba6e9d488891ad0f5838063fde",
       "version_major": 2,
       "version_minor": 0
      },
      "text/plain": [
       "  0%|          | 0/2559 [00:00<?, ?it/s]"
      ]
     },
     "metadata": {},
     "output_type": "display_data"
    },
    {
     "name": "stdout",
     "output_type": "stream",
     "text": [
      "Epoch 4: Loss = 0.4543\n"
     ]
    },
    {
     "data": {
      "application/vnd.jupyter.widget-view+json": {
       "model_id": "762a095b631d45a3a1b708dff4fc577d",
       "version_major": 2,
       "version_minor": 0
      },
      "text/plain": [
       "  0%|          | 0/2559 [00:00<?, ?it/s]"
      ]
     },
     "metadata": {},
     "output_type": "display_data"
    },
    {
     "name": "stdout",
     "output_type": "stream",
     "text": [
      "Epoch 5: Loss = 0.4358\n"
     ]
    },
    {
     "data": {
      "application/vnd.jupyter.widget-view+json": {
       "model_id": "97876902101f46b8a56bcb3c972efb5c",
       "version_major": 2,
       "version_minor": 0
      },
      "text/plain": [
       "  0%|          | 0/2559 [00:00<?, ?it/s]"
      ]
     },
     "metadata": {},
     "output_type": "display_data"
    },
    {
     "name": "stdout",
     "output_type": "stream",
     "text": [
      "Epoch 6: Loss = 0.4191\n"
     ]
    },
    {
     "data": {
      "application/vnd.jupyter.widget-view+json": {
       "model_id": "afe00fbedd4f4485b0a7c01f6597ddf2",
       "version_major": 2,
       "version_minor": 0
      },
      "text/plain": [
       "  0%|          | 0/2559 [00:00<?, ?it/s]"
      ]
     },
     "metadata": {},
     "output_type": "display_data"
    },
    {
     "name": "stdout",
     "output_type": "stream",
     "text": [
      "Epoch 7: Loss = 0.4035\n"
     ]
    },
    {
     "data": {
      "application/vnd.jupyter.widget-view+json": {
       "model_id": "cd33c823f66144859cc12381c1ea506c",
       "version_major": 2,
       "version_minor": 0
      },
      "text/plain": [
       "  0%|          | 0/2559 [00:00<?, ?it/s]"
      ]
     },
     "metadata": {},
     "output_type": "display_data"
    },
    {
     "name": "stdout",
     "output_type": "stream",
     "text": [
      "Epoch 8: Loss = 0.3901\n"
     ]
    },
    {
     "data": {
      "application/vnd.jupyter.widget-view+json": {
       "model_id": "df28f5353f67400d845e797634043f9f",
       "version_major": 2,
       "version_minor": 0
      },
      "text/plain": [
       "  0%|          | 0/2559 [00:00<?, ?it/s]"
      ]
     },
     "metadata": {},
     "output_type": "display_data"
    },
    {
     "name": "stdout",
     "output_type": "stream",
     "text": [
      "Epoch 9: Loss = 0.3781\n"
     ]
    },
    {
     "data": {
      "application/vnd.jupyter.widget-view+json": {
       "model_id": "6c1a2347bb604ecdafe3e0b46e7bf617",
       "version_major": 2,
       "version_minor": 0
      },
      "text/plain": [
       "  0%|          | 0/2559 [00:00<?, ?it/s]"
      ]
     },
     "metadata": {},
     "output_type": "display_data"
    },
    {
     "name": "stdout",
     "output_type": "stream",
     "text": [
      "Epoch 10: Loss = 0.3669\n"
     ]
    }
   ],
   "source": [
    "num_epochs = 10\n",
    "lossi = []\n",
    "\n",
    "# training loop\n",
    "for epoch in range(num_epochs):\n",
    "    total_loss = 0\n",
    "    for embedding_diffs, labels in tqdm(train_loader):\n",
    "        optimizer.zero_grad()\n",
    "        outputs = model(embedding_diffs)\n",
    "        loss = criterion(outputs.reshape(-1), labels.float())\n",
    "        \n",
    "        # metrics\n",
    "        lossi.append(loss.item())\n",
    "        total_loss += loss.item()\n",
    "        \n",
    "        loss.backward()\n",
    "        optimizer.step()\n",
    "\n",
    "    print(f\"Epoch {epoch+1}: Loss = {total_loss/len(train_loader):.4f}\")"
   ]
  },
  {
   "cell_type": "code",
   "execution_count": 33,
   "id": "f8c58b4b",
   "metadata": {},
   "outputs": [
    {
     "data": {
      "text/plain": [
       "Text(0.5, 1.0, 'Training Loss')"
      ]
     },
     "execution_count": 33,
     "metadata": {},
     "output_type": "execute_result"
    },
    {
     "data": {
      "image/png": "[encoded data removed]",
      "text/plain": [
       "<Figure size 640x480 with 1 Axes>"
      ]
     },
     "metadata": {},
     "output_type": "display_data"
    }
   ],
   "source": [
    "average_lossi = torch.tensor(lossi).view(-1, 853).mean(1)\n",
    "plt.plot(average_lossi)\n",
    "plt.title('Training Loss')"
   ]
  },
  {
   "cell_type": "markdown",
   "id": "e06f9ac7",
   "metadata": {},
   "source": [
    "### Save Model"
   ]
  },
  {
   "cell_type": "code",
   "execution_count": 30,
   "id": "d7c4fc5c",
   "metadata": {},
   "outputs": [],
   "source": [
    "model_path = 'embd_concat_model.pth'"
   ]
  },
  {
   "cell_type": "code",
   "execution_count": 31,
   "id": "fe85a135",
   "metadata": {},
   "outputs": [],
   "source": [
    "torch.save(model.state_dict(), model_path)"
   ]
  },
  {
   "cell_type": "markdown",
   "id": "4ea5aa3e",
   "metadata": {},
   "source": [
    "### Load Model"
   ]
  },
  {
   "cell_type": "code",
   "execution_count": null,
   "id": "8e29fba0",
   "metadata": {},
   "outputs": [],
   "source": [
    "model = EmbeddingConcatenateModel()\n",
    "model.load_state_dict(torch.load(model_path))\n",
    "model.eval()"
   ]
  },
  {
   "cell_type": "markdown",
   "id": "06acd1e6",
   "metadata": {},
   "source": [
    "### Model Evaluation"
   ]
  },
  {
   "cell_type": "markdown",
   "id": "e76597e5",
   "metadata": {},
   "source": [
    "#### Training Accuracy"
   ]
  },
  {
   "cell_type": "code",
   "execution_count": 34,
   "id": "a90f1dd0",
   "metadata": {},
   "outputs": [
    {
     "data": {
      "application/vnd.jupyter.widget-view+json": {
       "model_id": "93338a6b17e3493295b5e3874e609594",
       "version_major": 2,
       "version_minor": 0
      },
      "text/plain": [
       "  0%|          | 0/2559 [00:00<?, ?it/s]"
      ]
     },
     "metadata": {},
     "output_type": "display_data"
    },
    {
     "name": "stdout",
     "output_type": "stream",
     "text": [
      "Train Accuracy: 85.33%\n"
     ]
    }
   ],
   "source": [
    "model.eval()\n",
    "threshold = 0.5\n",
    "\n",
    "with torch.no_grad():\n",
    "    true_labels_train = []\n",
    "    predicted_scores_train = []\n",
    "    for concat_embeddings, labels in tqdm(train_loader):\n",
    "        outputs = model(concat_embeddings)\n",
    "        predicted = (outputs > threshold).float().view(-1)\n",
    "\n",
    "        true_labels_train.extend(labels.cpu().numpy())\n",
    "        predicted_scores_train.extend(outputs.cpu().numpy())\n",
    "\n",
    "true_labels_train = np.array(true_labels_train)\n",
    "predicted_scores_train = np.array(predicted_scores_train)\n",
    "\n",
    "accuracy = accuracy_score(true_labels_train, (predicted_scores_train > threshold)) * 100\n",
    "print(f\"Train Accuracy: {accuracy:.2f}%\")"
   ]
  },
  {
   "cell_type": "markdown",
   "id": "0203b85f",
   "metadata": {},
   "source": [
    "#### Validation Accuracy"
   ]
  },
  {
   "cell_type": "code",
   "execution_count": 35,
   "id": "e8965379",
   "metadata": {},
   "outputs": [
    {
     "data": {
      "application/vnd.jupyter.widget-view+json": {
       "model_id": "aa5687d7ba7b4a05aec25a55f0d4c620",
       "version_major": 2,
       "version_minor": 0
      },
      "text/plain": [
       "  0%|          | 0/285 [00:00<?, ?it/s]"
      ]
     },
     "metadata": {},
     "output_type": "display_data"
    },
    {
     "name": "stdout",
     "output_type": "stream",
     "text": [
      "Validation Accuracy: 76.52%\n"
     ]
    }
   ],
   "source": [
    "model.eval()\n",
    "threshold = 0.5\n",
    "\n",
    "with torch.no_grad():\n",
    "    true_labels_val = []\n",
    "    predicted_scores_val = []\n",
    "    for concat_embeddings, labels in tqdm(val_loader):\n",
    "        outputs = model(concat_embeddings)\n",
    "        predicted = (outputs > threshold).float().view(-1)\n",
    "        \n",
    "        true_labels_val.extend(labels.cpu().numpy())\n",
    "        predicted_scores_val.extend(outputs.cpu().numpy())\n",
    "\n",
    "true_labels_val = np.array(true_labels_val)\n",
    "predicted_scores_val = np.array(predicted_scores_val)\n",
    "\n",
    "accuracy = accuracy_score(true_labels_val, (predicted_scores_val > threshold)) * 100\n",
    "print(f\"Validation Accuracy: {accuracy:.2f}%\")"
   ]
  },
  {
   "cell_type": "markdown",
   "id": "27bfc89f",
   "metadata": {},
   "source": [
    "#### Test Accuracy"
   ]
  },
  {
   "cell_type": "code",
   "execution_count": 36,
   "id": "b6886d2b",
   "metadata": {},
   "outputs": [
    {
     "data": {
      "application/vnd.jupyter.widget-view+json": {
       "model_id": "622bf55cee774ebbaf9ad353f135b168",
       "version_major": 2,
       "version_minor": 0
      },
      "text/plain": [
       "  0%|          | 0/316 [00:00<?, ?it/s]"
      ]
     },
     "metadata": {},
     "output_type": "display_data"
    },
    {
     "name": "stdout",
     "output_type": "stream",
     "text": [
      "Test Accuracy: 76.13%\n"
     ]
    }
   ],
   "source": [
    "model.eval()\n",
    "threshold = 0.5\n",
    "\n",
    "with torch.no_grad():\n",
    "    true_labels_test = []\n",
    "    predicted_scores_test = []\n",
    "    for concat_embeddings, labels in tqdm(test_loader):\n",
    "        outputs = model(concat_embeddings)\n",
    "        predicted = (outputs > threshold).float().view(-1)\n",
    "        \n",
    "        true_labels_test.extend(labels.cpu().numpy())\n",
    "        predicted_scores_test.extend(outputs.cpu().numpy())\n",
    "\n",
    "true_labels_test = np.array(true_labels_test)\n",
    "predicted_scores_test = np.array(predicted_scores_test)\n",
    "\n",
    "accuracy = accuracy_score(true_labels_test, (predicted_scores_test > threshold)) * 100\n",
    "print(f\"Test Accuracy: {accuracy:.2f}%\")"
   ]
  },
  {
   "cell_type": "markdown",
   "id": "01bc3465",
   "metadata": {},
   "source": [
    "### Other Classification Metrics"
   ]
  },
  {
   "cell_type": "code",
   "execution_count": 37,
   "id": "b6840936",
   "metadata": {},
   "outputs": [],
   "source": [
    "def print_classification_metrics(dataset='test'):\n",
    "    labels = {\n",
    "        'train': (true_labels_train, predicted_scores_train),\n",
    "        'val': (true_labels_val, predicted_scores_val),\n",
    "        'test': (true_labels_test, predicted_scores_test)\n",
    "    }\n",
    "    true, predicted = labels[dataset]\n",
    "\n",
    "    print(classification_report(true, (predicted > threshold)))\n",
    "\n",
    "    fpr, tpr, _ = roc_curve(true, predicted)\n",
    "    roc_auc = auc(fpr, tpr)\n",
    "\n",
    "    # Plot the ROC curve\n",
    "    plt.figure()\n",
    "    plt.plot(fpr, tpr, color='darkorange', lw=2, label=f'AUC = {roc_auc:.2f}')\n",
    "    plt.plot([0, 1], [0, 1], color='navy', lw=2, linestyle='--')\n",
    "    plt.xlim([0.0, 1.0])\n",
    "    plt.ylim([0.0, 1.05]) \n",
    "    plt.xlabel('False Positive Rate')\n",
    "    plt.ylabel('True Positive Rate')\n",
    "    plt.title(f'{dataset.capitalize()} Receiver Operating Characteristic')\n",
    "    plt.legend(loc='lower right')\n",
    "    plt.show()\n",
    "\n",
    "    print(f\"AUC-ROC: {roc_auc:.2f}\")"
   ]
  },
  {
   "cell_type": "code",
   "execution_count": 38,
   "id": "e395eae2",
   "metadata": {},
   "outputs": [
    {
     "name": "stdout",
     "output_type": "stream",
     "text": [
      "              precision    recall  f1-score   support\n",
      "\n",
      "           0       0.87      0.90      0.89    206401\n",
      "           1       0.81      0.78      0.80    121060\n",
      "\n",
      "    accuracy                           0.85    327461\n",
      "   macro avg       0.84      0.84      0.84    327461\n",
      "weighted avg       0.85      0.85      0.85    327461\n",
      "\n"
     ]
    },
    {
     "data": {
      "image/png": "[encoded data removed]",
      "text/plain": [
       "<Figure size 640x480 with 1 Axes>"
      ]
     },
     "metadata": {},
     "output_type": "display_data"
    },
    {
     "name": "stdout",
     "output_type": "stream",
     "text": [
      "AUC-ROC: 0.93\n"
     ]
    }
   ],
   "source": [
    "print_classification_metrics(dataset='train')"
   ]
  },
  {
   "cell_type": "code",
   "execution_count": 57,
   "id": "2f7ca0ac",
   "metadata": {},
   "outputs": [
    {
     "name": "stdout",
     "output_type": "stream",
     "text": [
      "              precision    recall  f1-score   support\n",
      "\n",
      "           0       0.80      0.82      0.81     40733\n",
      "           1       0.68      0.65      0.66     23953\n",
      "\n",
      "    accuracy                           0.76     64686\n",
      "   macro avg       0.74      0.73      0.74     64686\n",
      "weighted avg       0.75      0.76      0.76     64686\n",
      "\n"
     ]
    },
    {
     "data": {
      "image/png": "[encoded data removed]",
      "text/plain": [
       "<Figure size 640x480 with 1 Axes>"
      ]
     },
     "metadata": {},
     "output_type": "display_data"
    },
    {
     "name": "stdout",
     "output_type": "stream",
     "text": [
      "AUC-ROC: 0.81\n"
     ]
    }
   ],
   "source": [
    "print_classification_metrics(dataset='val')"
   ]
  },
  {
   "cell_type": "code",
   "execution_count": 39,
   "id": "cc030053",
   "metadata": {},
   "outputs": [
    {
     "name": "stdout",
     "output_type": "stream",
     "text": [
      "              precision    recall  f1-score   support\n",
      "\n",
      "           0       0.80      0.82      0.81     25545\n",
      "           1       0.68      0.65      0.67     14885\n",
      "\n",
      "    accuracy                           0.76     40430\n",
      "   macro avg       0.74      0.74      0.74     40430\n",
      "weighted avg       0.76      0.76      0.76     40430\n",
      "\n"
     ]
    },
    {
     "data": {
      "image/png": "[encoded data removed]",
      "text/plain": [
       "<Figure size 640x480 with 1 Axes>"
      ]
     },
     "metadata": {},
     "output_type": "display_data"
    },
    {
     "name": "stdout",
     "output_type": "stream",
     "text": [
      "AUC-ROC: 0.81\n"
     ]
    }
   ],
   "source": [
    "print_classification_metrics(dataset='test')"
   ]
  }
 ],
 "metadata": {
  "kernelspec": {
   "display_name": "Python 3 (ipykernel)",
   "language": "python",
   "name": "python3"
  },
  "language_info": {
   "codemirror_mode": {
    "name": "ipython",
    "version": 3
   },
   "file_extension": ".py",
   "mimetype": "text/x-python",
   "name": "python",
   "nbconvert_exporter": "python",
   "pygments_lexer": "ipython3",
   "version": "3.11.3"
  }
 },
 "nbformat": 4,
 "nbformat_minor": 5
}
